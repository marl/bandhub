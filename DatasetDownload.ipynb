{
 "cells": [
  {
   "cell_type": "code",
   "execution_count": 1,
   "metadata": {},
   "outputs": [],
   "source": [
    "import pandas as pd\n",
    "import os\n",
    "import urllib\n",
    "import requests\n",
    "import soundfile as sf\n",
    "import numpy as np\n",
    "import random\n",
    "import soundfile as sf\n",
    "import ffmpy"
   ]
  },
  {
   "cell_type": "code",
   "execution_count": 6,
   "metadata": {},
   "outputs": [],
   "source": [
    "filename = 'BandhubDatasetTemp.h5'\n",
    "data = pd.read_hdf(filename, 'bandhub')"
   ]
  },
  {
   "cell_type": "code",
   "execution_count": 7,
   "metadata": {},
   "outputs": [
    {
     "name": "stdout",
     "output_type": "stream",
     "text": [
      "(568340, 32)\n"
     ]
    }
   ],
   "source": [
    "shape = data.shape\n",
    "print(shape)"
   ]
  },
  {
   "cell_type": "code",
   "execution_count": 28,
   "metadata": {},
   "outputs": [
    {
     "data": {
      "text/plain": [
       "trackId                                               5433e22ebf0cce224410f6aa\n",
       "songId                                                542fcd68e4251e5e66ec1cb2\n",
       "masterOwner                                                             Brandx\n",
       "trackOwner                                                              Brandx\n",
       "artist                                                             Iron Maiden\n",
       "title                                                      back in the village\n",
       "views                                                                      800\n",
       "instrument                                                                 NaN\n",
       "contentTags                                                               null\n",
       "audioURL                     http://bandhubwebmedia7.blob.core.windows.net/...\n",
       "cleanProcessedAudioURL                                                     NaN\n",
       "processedAudioURL                                                          NaN\n",
       "startTime                                                                    0\n",
       "trackDuration                                                          300.605\n",
       "audioSampleRate                                                              0\n",
       "trackVolume                                                                  0\n",
       "compressorValue                                                              0\n",
       "panValue                                                                     0\n",
       "echoValue                                                                    0\n",
       "noiseGateValue                                                               0\n",
       "reverbValue                                                                  0\n",
       "solo                                                                     False\n",
       "trackVideo                   http://bandhubmediastream.blob.core.windows.ne...\n",
       "fromYouTube                                                               True\n",
       "isFinished                                                                True\n",
       "isPublished                                                               True\n",
       "hasPublishedTracks                                                        True\n",
       "mixedAudio                   http://bandhubwebmedia2.blob.core.windows.net/...\n",
       "mixedVideo                   http://bandhubmediastream.blob.core.windows.ne...\n",
       "musicBrainzID                                         54e84af6e4b0b9f15058dd8e\n",
       "newMusicBrainzID                                      55ad795b5a11481a90f76e70\n",
       "publicSongCollectionIndex                                                20001\n",
       "Name: 0, dtype: object"
      ]
     },
     "execution_count": 28,
     "metadata": {},
     "output_type": "execute_result"
    }
   ],
   "source": [
    "data.iloc[1]"
   ]
  },
  {
   "cell_type": "code",
   "execution_count": 11,
   "metadata": {},
   "outputs": [],
   "source": [
    "# random selection of 1000 indices\n",
    "indices = []\n",
    "for i in range(1000):\n",
    "    currIdx = None\n",
    "    while currIdx is None:\n",
    "        currIdx = random.randint(0,len(data)-1)\n",
    "        if np.bool(data.iloc[currIdx].isPublished):\n",
    "            indices.append(currIdx)\n",
    "        else:\n",
    "            currIdx = None\n",
    "if len(pd.unique(indices)) < 1000:\n",
    "    newIndices = pd.unique(indices)\n",
    "    remaining = 1000 - len(newIndices)\n",
    "    for i in range(remaining):\n",
    "        currIdx = None\n",
    "        while currIdx is None:\n",
    "            currIdx = random.randint(0,len(data)-1)\n",
    "            if np.bool(data.iloc[currIdx].isPublished):\n",
    "                indices.append(currIdx)\n",
    "            else:\n",
    "                currIdx = None\n",
    "finalIdx = pd.unique(indices)"
   ]
  },
  {
   "cell_type": "code",
   "execution_count": 17,
   "metadata": {},
   "outputs": [
    {
     "name": "stdout",
     "output_type": "stream",
     "text": [
      "1000\n"
     ]
    }
   ],
   "source": [
    "print(len(pd.unique(indices)))"
   ]
  },
  {
   "cell_type": "code",
   "execution_count": 15,
   "metadata": {},
   "outputs": [
    {
     "name": "stdout",
     "output_type": "stream",
     "text": [
      "/scratch/gjr286/DatasetSizeEstimation/trackVideo\n"
     ]
    }
   ],
   "source": [
    "individualDirectory = ['/trackAudio','/trackVideo','/processedAudio','/mixedVideo','/mixedAudio']\n",
    "path = '/scratch/gjr286/DatasetSizeEstimation' + individualDirectory[1]\n",
    "print(path)"
   ]
  },
  {
   "cell_type": "code",
   "execution_count": null,
   "metadata": {},
   "outputs": [
    {
     "name": "stdout",
     "output_type": "stream",
     "text": [
      "182.98\n",
      "15.22\n",
      "100.27\n",
      "450.34\n",
      "532.06\n",
      "9.95\n",
      "59.64\n",
      "113.0\n",
      "58.21\n",
      "65.74\n",
      "313.52\n",
      "453.32\n",
      "113.76\n",
      "355.65\n",
      "94.33\n",
      "299.01\n",
      "558.83\n",
      "411.38\n",
      "18.01\n",
      "129.97\n",
      "529.28\n"
     ]
    }
   ],
   "source": [
    "## CURRENT DOWNLOAD FUNCTION\n",
    "\n",
    "path = '/scratch/gjr286/DatasetSizeEstimation'\n",
    "os.mkdir(path)\n",
    "os.chdir(path)\n",
    "individualDirectory = ['/trackAudio','/trackVideo','/processedAudio','/mixedVideo','/mixedAudio']\n",
    "\n",
    "os.mkdir(path + individualDirectory[0])\n",
    "os.mkdir(path + individualDirectory[1])\n",
    "os.mkdir(path + individualDirectory[2])\n",
    "os.mkdir(path + individualDirectory[3])\n",
    "os.mkdir(path + individualDirectory[4])\n",
    "\n",
    "for i in finalIdx:\n",
    "    if (i%10 == 0):\n",
    "        percent = i / 1000\n",
    "        print(percent)\n",
    "        # this print statement doesnt work as intended\n",
    "    trackAudio = data.audioURL.iloc[i]\n",
    "    trackVideo = data.trackVideo.iloc[i]\n",
    "    processedAudio1 = data.cleanProcessedAudioURL.iloc[i]\n",
    "    processedAudio2 = data.processedAudioURL.iloc[i]\n",
    "    mixedVideo = data.mixedVideo.iloc[i]\n",
    "    mixedAudio = data.mixedAudio.iloc[i]\n",
    "    \n",
    "    if pd.notnull(trackAudio):\n",
    "        filename = trackAudio.rpartition('/')[2]\n",
    "        os.chdir(path + individualDirectory[0])\n",
    "        \n",
    "        #filename = individualDirectory[0] + '/' + filename\n",
    "        r = requests.get(trackAudio)\n",
    "        with open(filename, 'wb') as fd:\n",
    "            for chunk in r.iter_content(chunk_size=128):\n",
    "                fd.write(chunk)\n",
    "    \n",
    "    if pd.notnull(trackVideo):\n",
    "        filename = trackVideo.rpartition('/')[2]\n",
    "        os.chdir(path + individualDirectory[1])\n",
    "\n",
    "        #filename = individualDirectory[1] + '/' + filename\n",
    "        r = requests.get(trackVideo)\n",
    "        with open(filename, 'wb') as fd:\n",
    "            for chunk in r.iter_content(chunk_size=128):\n",
    "                fd.write(chunk)\n",
    "    \n",
    "    if pd.notnull(processedAudio1):\n",
    "        filename = processedAudio1.rpartition('/')[2]\n",
    "        os.chdir(path + individualDirectory[2])\n",
    "\n",
    "        #filename = individualDirectory[2] + '/' + filename\n",
    "        r = requests.get(processedAudio1)\n",
    "        with open(filename, 'wb') as fd:\n",
    "            for chunk in r.iter_content(chunk_size=128):\n",
    "                fd.write(chunk)\n",
    "    \n",
    "    if pd.notnull(processedAudio2):\n",
    "        filename = processedAudio2.rpartition('/')[2]\n",
    "        os.chdir(path + individualDirectory[2])\n",
    "\n",
    "        #filename = individualDirectory[2] + '/' + filename\n",
    "        r = requests.get(processedAudio2)\n",
    "        with open(filename, 'wb') as fd:\n",
    "            for chunk in r.iter_content(chunk_size=128):\n",
    "                fd.write(chunk)\n",
    "                \n",
    "    if pd.notnull(mixedVideo):\n",
    "        filename = mixedVideo.rpartition('/')[2]\n",
    "        os.chdir(path + individualDirectory[3])\n",
    "\n",
    "        #filename = individualDirectory[3] + '/' + filename\n",
    "        r = requests.get(mixedVideo)\n",
    "        with open(filename, 'wb') as fd:\n",
    "            for chunk in r.iter_content(chunk_size=128):\n",
    "                fd.write(chunk)\n",
    "                \n",
    "    if pd.notnull(mixedAudio):\n",
    "        filename = mixedAudio.rpartition('/')[2]\n",
    "        os.chdir(path + individualDirectory[4])\n",
    "\n",
    "        #filename = individualDirectory[4] + '/' + filename\n",
    "        r = requests.get(mixedAudio)\n",
    "        with open(filename, 'wb') as fd:\n",
    "            for chunk in r.iter_content(chunk_size=128):\n",
    "                fd.write(chunk)\n",
    "    \n",
    "    "
   ]
  },
  {
   "cell_type": "code",
   "execution_count": null,
   "metadata": {
    "collapsed": true
   },
   "outputs": [
    {
     "name": "stdout",
     "output_type": "stream",
     "text": [
      "0.016666666666666666\n",
      "0.03333333333333333\n",
      "0.05\n",
      "0.06666666666666667\n",
      "0.08333333333333333\n",
      "0.1\n",
      "0.11666666666666667\n",
      "0.13333333333333333\n",
      "0.15\n",
      "0.16666666666666666\n",
      "0.18333333333333332\n",
      "0.2\n",
      "0.21666666666666667\n",
      "0.23333333333333334\n",
      "0.25\n",
      "0.26666666666666666\n",
      "0.2833333333333333\n",
      "0.3\n",
      "0.31666666666666665\n",
      "0.3333333333333333\n",
      "0.35\n",
      "0.36666666666666664\n",
      "0.38333333333333336\n",
      "0.4\n",
      "0.4166666666666667\n",
      "0.43333333333333335\n",
      "0.45\n",
      "0.4666666666666667\n",
      "0.48333333333333334\n",
      "0.5\n",
      "0.5166666666666667\n",
      "0.5333333333333333\n",
      "0.55\n",
      "0.5666666666666667\n",
      "0.5833333333333334\n",
      "0.6\n",
      "0.6166666666666667\n",
      "0.6333333333333333\n",
      "0.65\n",
      "0.6666666666666666\n",
      "0.6833333333333333\n",
      "0.7\n",
      "0.7166666666666667\n",
      "0.7333333333333333\n",
      "0.75\n",
      "0.7666666666666667\n",
      "0.7833333333333333\n",
      "0.8\n",
      "0.8166666666666667\n",
      "0.8333333333333334\n",
      "0.85\n",
      "0.8666666666666667\n",
      "0.8833333333333333\n",
      "0.9\n",
      "0.9166666666666666\n",
      "0.9333333333333333\n",
      "0.95\n",
      "0.9666666666666667\n",
      "0.9833333333333333\n",
      "1.0\n",
      "audioURLs done\n",
      "0.016666666666666666\n",
      "0.03333333333333333\n",
      "0.05\n",
      "0.06666666666666667\n",
      "0.08333333333333333\n",
      "0.1\n",
      "0.11666666666666667\n",
      "0.13333333333333333\n",
      "0.15\n",
      "0.16666666666666666\n",
      "0.18333333333333332\n",
      "0.2\n",
      "0.21666666666666667\n",
      "0.23333333333333334\n",
      "0.25\n",
      "0.26666666666666666\n",
      "0.2833333333333333\n",
      "0.3\n",
      "0.31666666666666665\n",
      "0.3333333333333333\n",
      "0.35\n",
      "0.36666666666666664\n",
      "0.38333333333333336\n",
      "0.4\n",
      "0.4166666666666667\n",
      "0.43333333333333335\n",
      "0.45\n",
      "0.4666666666666667\n",
      "0.48333333333333334\n",
      "0.5\n",
      "0.5166666666666667\n",
      "0.5333333333333333\n",
      "0.55\n",
      "0.5666666666666667\n",
      "0.5833333333333334\n",
      "0.6\n",
      "0.6166666666666667\n",
      "0.6333333333333333\n",
      "0.65\n",
      "0.6666666666666666\n",
      "0.6833333333333333\n",
      "0.7\n",
      "0.7166666666666667\n",
      "0.7333333333333333\n",
      "0.75\n",
      "0.7666666666666667\n",
      "0.7833333333333333\n",
      "0.8\n",
      "0.8166666666666667\n",
      "0.8333333333333334\n",
      "0.85\n",
      "0.8666666666666667\n",
      "0.8833333333333333\n",
      "0.9\n",
      "0.9166666666666666\n",
      "0.9333333333333333\n",
      "0.95\n",
      "0.9666666666666667\n",
      "0.9833333333333333\n",
      "1.0\n",
      "trackVideos done\n",
      "0.016666666666666666\n",
      "0.03333333333333333\n",
      "0.05\n",
      "0.06666666666666667\n",
      "0.08333333333333333\n",
      "0.1\n",
      "0.11666666666666667\n",
      "0.13333333333333333\n",
      "0.15\n",
      "0.16666666666666666\n",
      "0.18333333333333332\n",
      "0.2\n",
      "0.21666666666666667\n",
      "0.23333333333333334\n",
      "0.25\n",
      "0.26666666666666666\n",
      "0.2833333333333333\n",
      "0.3\n",
      "0.31666666666666665\n",
      "0.3333333333333333\n",
      "0.35\n",
      "0.36666666666666664\n",
      "0.38333333333333336\n",
      "0.4\n",
      "0.4166666666666667\n",
      "0.43333333333333335\n",
      "0.45\n",
      "0.4666666666666667\n",
      "0.48333333333333334\n",
      "0.5\n",
      "0.5166666666666667\n",
      "0.5333333333333333\n",
      "0.55\n",
      "0.5666666666666667\n",
      "0.5833333333333334\n",
      "0.6\n",
      "0.6166666666666667\n",
      "0.6333333333333333\n",
      "0.65\n",
      "0.6666666666666666\n",
      "0.6833333333333333\n",
      "0.7\n",
      "0.7166666666666667\n",
      "0.7333333333333333\n",
      "0.75\n",
      "0.7666666666666667\n",
      "0.7833333333333333\n",
      "0.8\n",
      "0.8166666666666667\n",
      "0.8333333333333334\n",
      "0.85\n",
      "0.8666666666666667\n",
      "0.8833333333333333\n",
      "0.9\n",
      "0.9166666666666666\n",
      "0.9333333333333333\n",
      "0.95\n",
      "0.9666666666666667\n",
      "0.9833333333333333\n",
      "1.0\n",
      "processed audio done\n",
      "0.016666666666666666\n",
      "0.03333333333333333\n",
      "0.05\n",
      "0.06666666666666667\n",
      "0.08333333333333333\n",
      "0.1\n",
      "0.11666666666666667\n",
      "0.13333333333333333\n",
      "0.15\n",
      "0.16666666666666666\n",
      "0.18333333333333332\n",
      "0.2\n",
      "0.21666666666666667\n",
      "0.23333333333333334\n",
      "0.25\n",
      "0.26666666666666666\n",
      "0.2833333333333333\n",
      "0.3\n",
      "0.31666666666666665\n",
      "0.3333333333333333\n",
      "0.35\n",
      "0.36666666666666664\n",
      "0.38333333333333336\n",
      "0.4\n",
      "0.4166666666666667\n",
      "0.43333333333333335\n",
      "0.45\n",
      "0.4666666666666667\n",
      "0.48333333333333334\n",
      "0.5\n",
      "0.5166666666666667\n",
      "0.5333333333333333\n",
      "0.55\n",
      "0.5666666666666667\n",
      "0.5833333333333334\n",
      "0.6\n"
     ]
    }
   ],
   "source": [
    "## OLD DOWNLOAD FUNCTION\n",
    "\n",
    "startIndex = 0\n",
    "endIndex = 600\n",
    "audioURLs = data.audioURL\n",
    "trackVideo = data.trackVideo\n",
    "processedAudioURL = data.processedAudioURL\n",
    "mixedVideo = pd.unique(data.mixedVideo)\n",
    "mixedAudio = pd.unique(data.mixedAudio)\n",
    "path = '/scratch/gjr286/dataset5'\n",
    "os.mkdir(path)\n",
    "os.chdir(path)\n",
    "\n",
    "i = 0\n",
    "for url in audioURLs[startIndex:endIndex]:\n",
    "    i=i+1\n",
    "    if (i%10 == 0):\n",
    "        percent = i / endIndex\n",
    "        print(percent)\n",
    "    if pd.notnull(url):\n",
    "        filename = url.rpartition('/')[2]\n",
    "        r = requests.get(url)\n",
    "        with open(filename, 'wb') as fd:\n",
    "            for chunk in r.iter_content(chunk_size=128):\n",
    "                fd.write(chunk)\n",
    "print('audioURLs done')\n",
    "\n",
    "i = 0;            \n",
    "for url in trackVideo[startIndex:endIndex]:\n",
    "    i=i+1\n",
    "    if (i%10 == 0):\n",
    "        percent = i / endIndex\n",
    "        print(percent)\n",
    "    if pd.notnull(url):\n",
    "        filename = url.rpartition('/')[2]\n",
    "        r = requests.get(url)\n",
    "        with open(filename, 'wb') as fd:\n",
    "            for chunk in r.iter_content(chunk_size=128):\n",
    "                fd.write(chunk)\n",
    "print('trackVideos done')\n",
    "\n",
    "i = 0\n",
    "for url in processedAudioURL[startIndex:endIndex]:\n",
    "    i=i+1\n",
    "    if (i%10 == 0):\n",
    "        percent = i / endIndex\n",
    "        print(percent)\n",
    "    if pd.notnull(url):\n",
    "        filename = url.rpartition('/')[2]\n",
    "        r = requests.get(url)\n",
    "        with open(filename, 'wb') as fd:\n",
    "            for chunk in r.iter_content(chunk_size=128):\n",
    "                fd.write(chunk)\n",
    "print('processed audio done')\n",
    "\n",
    "i = 0                \n",
    "for url in mixedVideo[startIndex:endIndex]:\n",
    "    i=i+1\n",
    "    if (i%10 == 0):\n",
    "        percent = i / endIndex\n",
    "        print(percent)\n",
    "    if pd.notnull(url):\n",
    "        filename = url.rpartition('/')[2]\n",
    "        r = requests.get(url)\n",
    "        with open(filename, 'wb') as fd:\n",
    "            for chunk in r.iter_content(chunk_size=128):\n",
    "                fd.write(chunk)\n",
    "print('mixedVideo done')\n",
    "\n",
    "i = 0\n",
    "for url in mixedAudio[startIndx:endIndex]:\n",
    "    i=i+1\n",
    "    if (i%10 == 0):\n",
    "        percent = i / endIndex\n",
    "        print(percent)\n",
    "    if pd.notnull(url):\n",
    "        filename = url.rpartition('/')[2]\n",
    "        r = requests.get(url)\n",
    "        with open(filename, 'wb') as fd:\n",
    "            for chunk in r.iter_content(chunk_size=128):\n",
    "                fd.write(chunk)\n",
    "print('mixedAudio done')\n",
    "    "
   ]
  },
  {
   "cell_type": "code",
   "execution_count": 85,
   "metadata": {},
   "outputs": [
    {
     "name": "stdout",
     "output_type": "stream",
     "text": [
      "29232.59693877552\n",
      "123\n"
     ]
    }
   ],
   "source": [
    "path = '/scratch/gjr286/DatasetSizeEstimation/uncompressedProcessedAudio'\n",
    "#os.chdir(path)\n",
    "count = 0\n",
    "totalDuration = 0\n",
    "for filename in os.listdir(path):\n",
    "    fullpath = path + '/' + filename\n",
    "    audioData, samplerate = sf.read(fullpath)\n",
    "    duration = len(audioData) / samplerate\n",
    "    totalDuration = totalDuration + duration\n",
    "    count = count+1\n",
    "print(totalDuration)\n",
    "print(count)"
   ]
  },
  {
   "cell_type": "code",
   "execution_count": null,
   "metadata": {},
   "outputs": [],
   "source": [
    "data, samplerate = sf.read('existing_file.wav')\n"
   ]
  },
  {
   "cell_type": "code",
   "execution_count": 28,
   "metadata": {},
   "outputs": [
    {
     "data": {
      "text/plain": [
       "119015999.87567055"
      ]
     },
     "execution_count": 28,
     "metadata": {},
     "output_type": "execute_result"
    }
   ],
   "source": [
    "sum(data.trackDuration)"
   ]
  },
  {
   "cell_type": "code",
   "execution_count": 29,
   "metadata": {},
   "outputs": [],
   "source": [
    "publishedData = data.isPublished"
   ]
  },
  {
   "cell_type": "code",
   "execution_count": 7,
   "metadata": {},
   "outputs": [],
   "source": [
    "publishedDataset = data.loc[data.isPublished == True]"
   ]
  },
  {
   "cell_type": "code",
   "execution_count": 8,
   "metadata": {},
   "outputs": [
    {
     "data": {
      "text/plain": [
       "271052"
      ]
     },
     "execution_count": 8,
     "metadata": {},
     "output_type": "execute_result"
    }
   ],
   "source": [
    "len(publishedDataset)"
   ]
  },
  {
   "cell_type": "code",
   "execution_count": 56,
   "metadata": {},
   "outputs": [
    {
     "data": {
      "text/plain": [
       "59365116.73433992"
      ]
     },
     "execution_count": 56,
     "metadata": {},
     "output_type": "execute_result"
    }
   ],
   "source": [
    "sum(publishedDataset.trackDuration)"
   ]
  },
  {
   "cell_type": "code",
   "execution_count": 84,
   "metadata": {
    "collapsed": true
   },
   "outputs": [
    {
     "name": "stdout",
     "output_type": "stream",
     "text": [
      "44100\n",
      "44100\n",
      "44100\n",
      "44100\n",
      "44100\n",
      "44100\n",
      "44100\n",
      "44100\n",
      "44100\n",
      "44100\n",
      "44100\n",
      "44100\n",
      "44100\n",
      "44100\n",
      "44100\n",
      "44100\n",
      "44100\n",
      "44100\n",
      "44100\n",
      "44100\n",
      "44100\n",
      "44100\n",
      "44100\n",
      "44100\n",
      "44100\n",
      "44100\n",
      "44100\n",
      "44100\n",
      "44100\n",
      "44100\n",
      "44100\n",
      "44100\n",
      "44100\n",
      "44100\n",
      "44100\n",
      "44100\n",
      "44100\n",
      "44100\n",
      "44100\n",
      "44100\n",
      "44100\n",
      "44100\n",
      "44100\n",
      "44100\n",
      "44100\n",
      "44100\n",
      "44100\n",
      "44100\n",
      "44100\n",
      "44100\n",
      "44100\n",
      "44100\n",
      "44100\n",
      "44100\n",
      "44100\n",
      "44100\n",
      "44100\n",
      "44100\n",
      "44100\n",
      "44100\n",
      "44100\n",
      "44100\n",
      "44100\n",
      "44100\n",
      "44100\n",
      "44100\n",
      "44100\n",
      "44100\n",
      "44100\n",
      "44100\n",
      "44100\n",
      "44100\n",
      "44100\n",
      "44100\n",
      "44100\n",
      "44100\n",
      "44100\n",
      "44100\n",
      "44100\n",
      "44100\n",
      "44100\n",
      "44100\n",
      "44100\n",
      "44100\n",
      "44100\n",
      "44100\n",
      "44100\n",
      "44100\n",
      "44100\n",
      "44100\n",
      "44100\n",
      "44100\n",
      "44100\n",
      "44100\n",
      "44100\n",
      "44100\n",
      "44100\n",
      "44100\n",
      "44100\n",
      "44100\n",
      "44100\n",
      "44100\n",
      "44100\n",
      "44100\n",
      "44100\n",
      "44100\n",
      "44100\n",
      "44100\n",
      "44100\n",
      "44100\n",
      "44100\n",
      "44100\n",
      "44100\n",
      "44100\n",
      "44100\n",
      "44100\n",
      "44100\n",
      "44100\n",
      "44100\n",
      "44100\n",
      "44100\n",
      "44100\n",
      "44100\n",
      "29232.596938775518\n"
     ]
    }
   ],
   "source": [
    "path = '/scratch/gjr286/DatasetSizeEstimation/processedAudio'\n",
    "outpath = '/scratch/gjr286/DatasetSizeEstimation/uncompressedProcessedAudio'\n",
    "#os.listdir(path)\n",
    "totalDuration = 0\n",
    "count = 0\n",
    "for filename in os.listdir(path):\n",
    "    fullpath = path + '/' + filename\n",
    "    #print(filename)\n",
    "    outfilename = filename[:-4] + '.flac'\n",
    "    #print(outfilename)\n",
    "    outFN = outpath + '/' + outfilename\n",
    "    #print(outFN)\n",
    "    audioData, samplerate = sf.read(fullpath)\n",
    "    sf.write(outFN, audioData, samplerate)\n",
    "    duration = len(audioData) / samplerate\n",
    "    totalDuration = totalDuration + duration\n",
    "    print(samplerate)\n",
    "    #count = count+1\n",
    "print(totalDuration)\n",
    "#print(count)"
   ]
  },
  {
   "cell_type": "code",
   "execution_count": 6,
   "metadata": {},
   "outputs": [],
   "source": [
    "processedAudio = data.loc[data.cleanProcessedAudioURL.notnull()]\n",
    "publishedProcessedAudio = processedAudio.loc[processedAudio.isPublished == True]"
   ]
  },
  {
   "cell_type": "code",
   "execution_count": 39,
   "metadata": {},
   "outputs": [],
   "source": [
    "processedAudio = data.loc[data[\"cleanProcessedAudioURL\"].notnull()]\n",
    "publishedProcessedAudio = processedAudio.loc[processedAudio.isPublished == True]"
   ]
  },
  {
   "cell_type": "code",
   "execution_count": 40,
   "metadata": {},
   "outputs": [
    {
     "data": {
      "text/plain": [
       "146099"
      ]
     },
     "execution_count": 40,
     "metadata": {},
     "output_type": "execute_result"
    }
   ],
   "source": [
    "len(processedAudio)"
   ]
  },
  {
   "cell_type": "code",
   "execution_count": 42,
   "metadata": {},
   "outputs": [
    {
     "name": "stdout",
     "output_type": "stream",
     "text": [
      "0    http://bandhubwebmedia5.blob.core.windows.net/...\n",
      "0    http://bandhubwebmedia6.blob.core.windows.net/...\n",
      "0    http://bandhubwebmedia5.blob.core.windows.net/...\n",
      "0    http://bandhubwebmedia7.blob.core.windows.net/...\n",
      "0    http://bandhubwebmedia3.blob.core.windows.net/...\n",
      "0    http://bandhubwebmedia3.blob.core.windows.net/...\n",
      "0    http://bandhubwebmedia11.blob.core.windows.net...\n",
      "0    http://bandhubwebmedia14.blob.core.windows.net...\n",
      "0    http://bandhubwebmedia2.blob.core.windows.net/...\n",
      "0    http://bandhubwebmedia1.blob.core.windows.net/...\n",
      "0    http://bandhubwebmedia10.blob.core.windows.net...\n",
      "0    http://bandhubwebmedia3.blob.core.windows.net/...\n",
      "0    http://bandhubwebmedia4.blob.core.windows.net/...\n",
      "0    http://bandhubwebmedia17.blob.core.windows.net...\n",
      "0    http://bandhubwebmedia0.blob.core.windows.net/...\n",
      "0    http://bandhubwebmedia15.blob.core.windows.net...\n",
      "0    http://bandhubwebmedia9.blob.core.windows.net/...\n",
      "0    http://bandhubwebmedia18.blob.core.windows.net...\n",
      "0    http://bandhubwebmedia7.blob.core.windows.net/...\n",
      "0    http://bandhubwebmedia9.blob.core.windows.net/...\n",
      "0    http://bandhubwebmedia8.blob.core.windows.net/...\n",
      "0    http://bandhubwebmedia2.blob.core.windows.net/...\n",
      "0    http://bandhubwebmedia9.blob.core.windows.net/...\n",
      "0    http://bandhubwebmedia1.blob.core.windows.net/...\n",
      "0    http://bandhubwebmedia0.blob.core.windows.net/...\n",
      "0    http://bandhubwebmedia16.blob.core.windows.net...\n",
      "0    http://bandhubwebmedia0.blob.core.windows.net/...\n",
      "0    http://bandhubwebmedia6.blob.core.windows.net/...\n",
      "0    http://bandhubwebmedia2.blob.core.windows.net/...\n",
      "0    http://bandhubwebmedia4.blob.core.windows.net/...\n",
      "                           ...                        \n",
      "0    http://bandhubwebmedia1.blob.core.windows.net/...\n",
      "0    http://bandhubwebmedia6.blob.core.windows.net/...\n",
      "0    http://bandhubwebmedia4.blob.core.windows.net/...\n",
      "0    http://bandhubwebmedia4.blob.core.windows.net/...\n",
      "0    http://bandhubwebmedia8.blob.core.windows.net/...\n",
      "0    http://bandhubwebmedia16.blob.core.windows.net...\n",
      "0    http://bandhubwebmedia10.blob.core.windows.net...\n",
      "0    http://bandhubwebmedia17.blob.core.windows.net...\n",
      "0    http://bandhubwebmedia1.blob.core.windows.net/...\n",
      "0    http://bandhubwebmedia4.blob.core.windows.net/...\n",
      "0    http://bandhubwebmedia2.blob.core.windows.net/...\n",
      "0    http://bandhubwebmedia15.blob.core.windows.net...\n",
      "0    http://bandhubwebmedia17.blob.core.windows.net...\n",
      "0    http://bandhubwebmedia14.blob.core.windows.net...\n",
      "0    http://bandhubwebmedia9.blob.core.windows.net/...\n",
      "0    http://bandhubwebmedia19.blob.core.windows.net...\n",
      "0    http://bandhubwebmedia13.blob.core.windows.net...\n",
      "0    http://bandhubwebmedia16.blob.core.windows.net...\n",
      "0    http://bandhubwebmedia9.blob.core.windows.net/...\n",
      "0    http://bandhubwebmedia7.blob.core.windows.net/...\n",
      "0    http://bandhubwebmedia5.blob.core.windows.net/...\n",
      "0    http://bandhubwebmedia18.blob.core.windows.net...\n",
      "0    http://bandhubwebmedia9.blob.core.windows.net/...\n",
      "0    http://bandhubwebmedia1.blob.core.windows.net/...\n",
      "0    http://bandhubwebmedia12.blob.core.windows.net...\n",
      "0    http://bandhubwebmedia17.blob.core.windows.net...\n",
      "0    http://bandhubwebmedia16.blob.core.windows.net...\n",
      "0    http://bandhubwebmedia3.blob.core.windows.net/...\n",
      "0    http://bandhubwebmedia5.blob.core.windows.net/...\n",
      "0    http://bandhubwebmedia2.blob.core.windows.net/...\n",
      "Name: cleanProcessedAudioURL, Length: 131305, dtype: object\n"
     ]
    }
   ],
   "source": [
    "print(publishedProcessedAudio[\"cleanProcessedAudioURL\"])"
   ]
  },
  {
   "cell_type": "code",
   "execution_count": 132,
   "metadata": {},
   "outputs": [
    {
     "data": {
      "text/plain": [
       "131305"
      ]
     },
     "execution_count": 132,
     "metadata": {},
     "output_type": "execute_result"
    }
   ],
   "source": [
    "len(publishedProcessedAudio)"
   ]
  },
  {
   "cell_type": "code",
   "execution_count": 157,
   "metadata": {},
   "outputs": [
    {
     "data": {
      "text/plain": [
       "34601518.9380791"
      ]
     },
     "execution_count": 157,
     "metadata": {},
     "output_type": "execute_result"
    }
   ],
   "source": [
    "sum(processedAudio.trackDuration + (processedAudio.startTime / 44100))"
   ]
  },
  {
   "cell_type": "code",
   "execution_count": 155,
   "metadata": {},
   "outputs": [
    {
     "data": {
      "text/plain": [
       "31076246.05746064"
      ]
     },
     "execution_count": 155,
     "metadata": {},
     "output_type": "execute_result"
    }
   ],
   "source": [
    "sum(publishedProcessedAudio.trackDuration + (publishedProcessedAudio.startTime / 44100))"
   ]
  },
  {
   "cell_type": "code",
   "execution_count": null,
   "metadata": {},
   "outputs": [],
   "source": [
    "path = '/scratch/gjr286/DatasetSizeEstimation/trackVideo'\n",
    "#os.chdir(path)\n",
    "count = 0\n",
    "totalDuration = 0\n",
    "for filename in os.listdir(path):\n",
    "    fullpath = path + '/' + filename\n",
    "    audioData, samplerate = sf.read(fullpath)\n",
    "    duration = len(audioData) / samplerate\n",
    "    totalDuration = totalDuration + duration\n",
    "    count = count+1\n",
    "print(totalDuration)\n",
    "print(count)"
   ]
  },
  {
   "cell_type": "code",
   "execution_count": 4,
   "metadata": {},
   "outputs": [
    {
     "data": {
      "text/plain": [
       "568340"
      ]
     },
     "execution_count": 4,
     "metadata": {},
     "output_type": "execute_result"
    }
   ],
   "source": [
    "len(data)len(publishedDataset)"
   ]
  },
  {
   "cell_type": "code",
   "execution_count": 18,
   "metadata": {},
   "outputs": [],
   "source": [
    "out = publishedDataset.groupby('songId')['trackDuration'].max() "
   ]
  },
  {
   "cell_type": "code",
   "execution_count": 20,
   "metadata": {},
   "outputs": [
    {
     "data": {
      "text/plain": [
       "28603917.79129072"
      ]
     },
     "execution_count": 20,
     "metadata": {},
     "output_type": "execute_result"
    }
   ],
   "source": [
    "sum(out)"
   ]
  },
  {
   "cell_type": "code",
   "execution_count": 21,
   "metadata": {},
   "outputs": [],
   "source": [
    "out2 = data.groupby('songId')['trackDuration'].max()\n"
   ]
  },
  {
   "cell_type": "code",
   "execution_count": 22,
   "metadata": {},
   "outputs": [
    {
     "data": {
      "text/plain": [
       "55656625.606122725"
      ]
     },
     "execution_count": 22,
     "metadata": {},
     "output_type": "execute_result"
    }
   ],
   "source": [
    "sum(out2)"
   ]
  },
  {
   "cell_type": "code",
   "execution_count": 23,
   "metadata": {},
   "outputs": [
    {
     "name": "stdout",
     "output_type": "stream",
     "text": [
      "115365\n",
      "224693\n"
     ]
    }
   ],
   "source": [
    "print(len(out))\n",
    "print(len(out2))"
   ]
  },
  {
   "cell_type": "code",
   "execution_count": 5,
   "metadata": {
    "scrolled": true
   },
   "outputs": [
    {
     "data": {
      "text/plain": [
       "0                                                  NaN\n",
       "0                                                  NaN\n",
       "0    http://bandhubwebmedia5.blob.core.windows.net/...\n",
       "0    http://bandhubwebmedia6.blob.core.windows.net/...\n",
       "0                                                  NaN\n",
       "0                                                  NaN\n",
       "0                                                  NaN\n",
       "0                                                  NaN\n",
       "0                                                  NaN\n",
       "0                                                  NaN\n",
       "0                                                  NaN\n",
       "0                                                  NaN\n",
       "0                                                  NaN\n",
       "0                                                  NaN\n",
       "0                                                  NaN\n",
       "0                                                  NaN\n",
       "0    http://bandhubwebmedia6.blob.core.windows.net/...\n",
       "0                                                  NaN\n",
       "0                                                  NaN\n",
       "0                                                  NaN\n",
       "0                                                  NaN\n",
       "0                                                  NaN\n",
       "0                                                  NaN\n",
       "0                                                  NaN\n",
       "0                                                  NaN\n",
       "0                                                  NaN\n",
       "0                                                  NaN\n",
       "0                                                  NaN\n",
       "0                                                  NaN\n",
       "0                                                  NaN\n",
       "                           ...                        \n",
       "0    http://bandhubwebmedia15.blob.core.windows.net...\n",
       "0    http://bandhubwebmedia17.blob.core.windows.net...\n",
       "0    http://bandhubwebmedia14.blob.core.windows.net...\n",
       "0    http://bandhubwebmedia9.blob.core.windows.net/...\n",
       "0                                                  NaN\n",
       "0    http://bandhubwebmedia19.blob.core.windows.net...\n",
       "0    http://bandhubwebmedia13.blob.core.windows.net...\n",
       "0    http://bandhubwebmedia16.blob.core.windows.net...\n",
       "0    http://bandhubwebmedia9.blob.core.windows.net/...\n",
       "0    http://bandhubwebmedia7.blob.core.windows.net/...\n",
       "0                                                  NaN\n",
       "0    http://bandhubwebmedia5.blob.core.windows.net/...\n",
       "0                                                  NaN\n",
       "0    http://bandhubwebmedia18.blob.core.windows.net...\n",
       "0                                                  NaN\n",
       "0                                                  NaN\n",
       "0                                                  NaN\n",
       "0                                                  NaN\n",
       "0                                                  NaN\n",
       "0                                                  NaN\n",
       "0                                                  NaN\n",
       "0                                                  NaN\n",
       "0    http://bandhubwebmedia9.blob.core.windows.net/...\n",
       "0    http://bandhubwebmedia1.blob.core.windows.net/...\n",
       "0    http://bandhubwebmedia12.blob.core.windows.net...\n",
       "0    http://bandhubwebmedia17.blob.core.windows.net...\n",
       "0    http://bandhubwebmedia16.blob.core.windows.net...\n",
       "0    http://bandhubwebmedia3.blob.core.windows.net/...\n",
       "0    http://bandhubwebmedia5.blob.core.windows.net/...\n",
       "0    http://bandhubwebmedia2.blob.core.windows.net/...\n",
       "Name: cleanProcessedAudioURL, Length: 568340, dtype: object"
      ]
     },
     "execution_count": 5,
     "metadata": {},
     "output_type": "execute_result"
    }
   ],
   "source": [
    "data.cleanProcessedAudioURL"
   ]
  },
  {
   "cell_type": "code",
   "execution_count": 6,
   "metadata": {},
   "outputs": [],
   "source": [
    "processedAudio = data.loc[data.cleanProcessedAudioURL.notnull()]\n",
    "publishedProcessedAudio = processedAudio.loc[processedAudio.isPublished == True]"
   ]
  },
  {
   "cell_type": "code",
   "execution_count": 7,
   "metadata": {},
   "outputs": [
    {
     "data": {
      "text/plain": [
       "146099"
      ]
     },
     "execution_count": 7,
     "metadata": {},
     "output_type": "execute_result"
    }
   ],
   "source": [
    "len(processedAudio)"
   ]
  },
  {
   "cell_type": "code",
   "execution_count": 45,
   "metadata": {},
   "outputs": [
    {
     "ename": "TypeError",
     "evalue": "Argument 'obj' has incorrect type (expected list, got DataFrame)",
     "output_type": "error",
     "traceback": [
      "\u001b[0;31m---------------------------------------------------------------------------\u001b[0m",
      "\u001b[0;31mTypeError\u001b[0m                                 Traceback (most recent call last)",
      "\u001b[0;32m<ipython-input-45-b725270c16eb>\u001b[0m in \u001b[0;36m<module>\u001b[0;34m()\u001b[0m\n\u001b[1;32m      1\u001b[0m \u001b[0mdataClean\u001b[0m\u001b[0;34m=\u001b[0m \u001b[0mdata\u001b[0m\u001b[0;34m.\u001b[0m\u001b[0mloc\u001b[0m\u001b[0;34m[\u001b[0m\u001b[0mdata\u001b[0m\u001b[0;34m[\u001b[0m\u001b[0;34m\"audioURL\"\u001b[0m\u001b[0;34m]\u001b[0m\u001b[0;34m.\u001b[0m\u001b[0mnotnull\u001b[0m\u001b[0;34m(\u001b[0m\u001b[0;34m)\u001b[0m\u001b[0;34m]\u001b[0m \u001b[0;31m#grab unique URLs that are not null\u001b[0m\u001b[0;34m\u001b[0m\u001b[0m\n\u001b[0;32m----> 2\u001b[0;31m \u001b[0mpd\u001b[0m\u001b[0;34m.\u001b[0m\u001b[0munique\u001b[0m\u001b[0;34m(\u001b[0m\u001b[0mdataClean\u001b[0m\u001b[0;34m)\u001b[0m\u001b[0;34m\u001b[0m\u001b[0m\n\u001b[0m",
      "\u001b[0;32m~/miniconda2/envs/bandhub/lib/python3.6/site-packages/pandas/core/algorithms.py\u001b[0m in \u001b[0;36munique\u001b[0;34m(values)\u001b[0m\n\u001b[1;32m    349\u001b[0m     \"\"\"\n\u001b[1;32m    350\u001b[0m \u001b[0;34m\u001b[0m\u001b[0m\n\u001b[0;32m--> 351\u001b[0;31m     \u001b[0mvalues\u001b[0m \u001b[0;34m=\u001b[0m \u001b[0m_ensure_arraylike\u001b[0m\u001b[0;34m(\u001b[0m\u001b[0mvalues\u001b[0m\u001b[0;34m)\u001b[0m\u001b[0;34m\u001b[0m\u001b[0m\n\u001b[0m\u001b[1;32m    352\u001b[0m \u001b[0;34m\u001b[0m\u001b[0m\n\u001b[1;32m    353\u001b[0m     \u001b[0;31m# categorical is a fast-path\u001b[0m\u001b[0;34m\u001b[0m\u001b[0;34m\u001b[0m\u001b[0m\n",
      "\u001b[0;32m~/miniconda2/envs/bandhub/lib/python3.6/site-packages/pandas/core/algorithms.py\u001b[0m in \u001b[0;36m_ensure_arraylike\u001b[0;34m(values)\u001b[0m\n\u001b[1;32m    172\u001b[0m             \u001b[0;32mif\u001b[0m \u001b[0misinstance\u001b[0m\u001b[0;34m(\u001b[0m\u001b[0mvalues\u001b[0m\u001b[0;34m,\u001b[0m \u001b[0mtuple\u001b[0m\u001b[0;34m)\u001b[0m\u001b[0;34m:\u001b[0m\u001b[0;34m\u001b[0m\u001b[0m\n\u001b[1;32m    173\u001b[0m                 \u001b[0mvalues\u001b[0m \u001b[0;34m=\u001b[0m \u001b[0mlist\u001b[0m\u001b[0;34m(\u001b[0m\u001b[0mvalues\u001b[0m\u001b[0;34m)\u001b[0m\u001b[0;34m\u001b[0m\u001b[0m\n\u001b[0;32m--> 174\u001b[0;31m             \u001b[0mvalues\u001b[0m \u001b[0;34m=\u001b[0m \u001b[0mlib\u001b[0m\u001b[0;34m.\u001b[0m\u001b[0mlist_to_object_array\u001b[0m\u001b[0;34m(\u001b[0m\u001b[0mvalues\u001b[0m\u001b[0;34m)\u001b[0m\u001b[0;34m\u001b[0m\u001b[0m\n\u001b[0m\u001b[1;32m    175\u001b[0m         \u001b[0;32melse\u001b[0m\u001b[0;34m:\u001b[0m\u001b[0;34m\u001b[0m\u001b[0m\n\u001b[1;32m    176\u001b[0m             \u001b[0mvalues\u001b[0m \u001b[0;34m=\u001b[0m \u001b[0mnp\u001b[0m\u001b[0;34m.\u001b[0m\u001b[0masarray\u001b[0m\u001b[0;34m(\u001b[0m\u001b[0mvalues\u001b[0m\u001b[0;34m)\u001b[0m\u001b[0;34m\u001b[0m\u001b[0m\n",
      "\u001b[0;31mTypeError\u001b[0m: Argument 'obj' has incorrect type (expected list, got DataFrame)"
     ]
    }
   ],
   "source": [
    "dataClean= data.loc[data[\"audioURL\"].notnull()] #grab unique URLs that are not null\n",
    "pd.unique(dataClean)"
   ]
  },
  {
   "cell_type": "code",
   "execution_count": 12,
   "metadata": {
    "collapsed": true
   },
   "outputs": [
    {
     "name": "stdout",
     "output_type": "stream",
     "text": [
      "0    http://bandhubwebmedia5.blob.core.windows.net/...\n",
      "0    http://bandhubwebmedia6.blob.core.windows.net/...\n",
      "0    http://bandhubwebmedia6.blob.core.windows.net/...\n",
      "0    http://bandhubwebmedia11.blob.core.windows.net...\n",
      "0    http://bandhubwebmedia5.blob.core.windows.net/...\n",
      "0    http://bandhubwebmedia7.blob.core.windows.net/...\n",
      "0    http://bandhubwebmedia3.blob.core.windows.net/...\n",
      "0    http://bandhubwebmedia3.blob.core.windows.net/...\n",
      "0    http://bandhubwebmedia11.blob.core.windows.net...\n",
      "0    http://bandhubwebmedia14.blob.core.windows.net...\n",
      "0    http://bandhubwebmedia2.blob.core.windows.net/...\n",
      "0    http://bandhubwebmedia1.blob.core.windows.net/...\n",
      "0    http://bandhubwebmedia10.blob.core.windows.net...\n",
      "0    http://bandhubwebmedia3.blob.core.windows.net/...\n",
      "0    http://bandhubwebmedia4.blob.core.windows.net/...\n",
      "0    http://bandhubwebmedia17.blob.core.windows.net...\n",
      "0    http://bandhubwebmedia0.blob.core.windows.net/...\n",
      "0    http://bandhubwebmedia15.blob.core.windows.net...\n",
      "0    http://bandhubwebmedia9.blob.core.windows.net/...\n",
      "0    http://bandhubwebmedia18.blob.core.windows.net...\n",
      "0    http://bandhubwebmedia2.blob.core.windows.net/...\n",
      "0    http://bandhubwebmedia18.blob.core.windows.net...\n",
      "0    http://bandhubwebmedia7.blob.core.windows.net/...\n",
      "0    http://bandhubwebmedia7.blob.core.windows.net/...\n",
      "0    http://bandhubwebmedia9.blob.core.windows.net/...\n",
      "0    http://bandhubwebmedia8.blob.core.windows.net/...\n",
      "0    http://bandhubwebmedia1.blob.core.windows.net/...\n",
      "0    http://bandhubwebmedia13.blob.core.windows.net...\n",
      "0    http://bandhubwebmedia2.blob.core.windows.net/...\n",
      "0    http://bandhubwebmedia9.blob.core.windows.net/...\n",
      "                           ...                        \n",
      "0    http://bandhubwebmedia1.blob.core.windows.net/...\n",
      "0    http://bandhubwebmedia6.blob.core.windows.net/...\n",
      "0    http://bandhubwebmedia4.blob.core.windows.net/...\n",
      "0    http://bandhubwebmedia4.blob.core.windows.net/...\n",
      "0    http://bandhubwebmedia8.blob.core.windows.net/...\n",
      "0    http://bandhubwebmedia16.blob.core.windows.net...\n",
      "0    http://bandhubwebmedia10.blob.core.windows.net...\n",
      "0    http://bandhubwebmedia17.blob.core.windows.net...\n",
      "0    http://bandhubwebmedia1.blob.core.windows.net/...\n",
      "0    http://bandhubwebmedia4.blob.core.windows.net/...\n",
      "0    http://bandhubwebmedia2.blob.core.windows.net/...\n",
      "0    http://bandhubwebmedia15.blob.core.windows.net...\n",
      "0    http://bandhubwebmedia17.blob.core.windows.net...\n",
      "0    http://bandhubwebmedia14.blob.core.windows.net...\n",
      "0    http://bandhubwebmedia9.blob.core.windows.net/...\n",
      "0    http://bandhubwebmedia19.blob.core.windows.net...\n",
      "0    http://bandhubwebmedia13.blob.core.windows.net...\n",
      "0    http://bandhubwebmedia16.blob.core.windows.net...\n",
      "0    http://bandhubwebmedia9.blob.core.windows.net/...\n",
      "0    http://bandhubwebmedia7.blob.core.windows.net/...\n",
      "0    http://bandhubwebmedia5.blob.core.windows.net/...\n",
      "0    http://bandhubwebmedia18.blob.core.windows.net...\n",
      "0    http://bandhubwebmedia9.blob.core.windows.net/...\n",
      "0    http://bandhubwebmedia1.blob.core.windows.net/...\n",
      "0    http://bandhubwebmedia12.blob.core.windows.net...\n",
      "0    http://bandhubwebmedia17.blob.core.windows.net...\n",
      "0    http://bandhubwebmedia16.blob.core.windows.net...\n",
      "0    http://bandhubwebmedia3.blob.core.windows.net/...\n",
      "0    http://bandhubwebmedia5.blob.core.windows.net/...\n",
      "0    http://bandhubwebmedia2.blob.core.windows.net/...\n",
      "Name: cleanProcessedAudioURL, Length: 146099, dtype: object\n"
     ]
    }
   ],
   "source": [
    "print(processedAudio.cleanProcessedAudioURL)"
   ]
  },
  {
   "cell_type": "code",
   "execution_count": 10,
   "metadata": {},
   "outputs": [
    {
     "data": {
      "text/plain": [
       "131305"
      ]
     },
     "execution_count": 10,
     "metadata": {},
     "output_type": "execute_result"
    }
   ],
   "source": [
    "len(publishedProcessedAudio)"
   ]
  },
  {
   "cell_type": "code",
   "execution_count": 8,
   "metadata": {},
   "outputs": [],
   "source": [
    "processedAudio2 = data.loc[data.processedAudioURL.notnull()]\n",
    "publishedProcessedAudio2 = processedAudio2.loc[processedAudio2.isPublished == True]"
   ]
  },
  {
   "cell_type": "code",
   "execution_count": 9,
   "metadata": {},
   "outputs": [
    {
     "data": {
      "text/plain": [
       "1"
      ]
     },
     "execution_count": 9,
     "metadata": {},
     "output_type": "execute_result"
    }
   ],
   "source": [
    "len(processedAudio2)"
   ]
  },
  {
   "cell_type": "code",
   "execution_count": 4,
   "metadata": {
    "collapsed": true
   },
   "outputs": [
    {
     "data": {
      "text/plain": [
       "Index(['trackId', 'songId', 'masterOwner', 'trackOwner', 'artist', 'title',\n",
       "       'views', 'instrument', 'contentTags', 'audioURL',\n",
       "       'cleanProcessedAudioURL', 'processedAudioURL', 'startTime',\n",
       "       'trackDuration', 'audioSampleRate', 'trackVolume', 'compressorValue',\n",
       "       'panValue', 'echoValue', 'noiseGateValue', 'reverbValue', 'solo',\n",
       "       'trackVideo', 'fromYouTube', 'isFinished', 'isPublished',\n",
       "       'hasPublishedTracks', 'mixedAudio', 'mixedVideo', 'musicBrainzID',\n",
       "       'newMusicBrainzID', 'publicSongCollectionIndex'],\n",
       "      dtype='object')"
      ]
     },
     "execution_count": 4,
     "metadata": {},
     "output_type": "execute_result"
    }
   ],
   "source": [
    "data.columns"
   ]
  },
  {
   "cell_type": "code",
   "execution_count": 6,
   "metadata": {},
   "outputs": [],
   "source": [
    "idx = data.columns"
   ]
  },
  {
   "cell_type": "code",
   "execution_count": 8,
   "metadata": {},
   "outputs": [
    {
     "data": {
      "text/plain": [
       "'songId'"
      ]
     },
     "execution_count": 8,
     "metadata": {},
     "output_type": "execute_result"
    }
   ],
   "source": [
    "idx[1]"
   ]
  },
  {
   "cell_type": "code",
   "execution_count": 18,
   "metadata": {},
   "outputs": [
    {
     "name": "stdout",
     "output_type": "stream",
     "text": [
      "audioURL\n"
     ]
    }
   ],
   "source": [
    "for i in idx:\n",
    "    if i == \"audioURL\":\n",
    "        print(i)\n",
    "        out = i"
   ]
  },
  {
   "cell_type": "code",
   "execution_count": 21,
   "metadata": {},
   "outputs": [
    {
     "ename": "TypeError",
     "evalue": "'DataFrame' object is not callable",
     "output_type": "error",
     "traceback": [
      "\u001b[0;31m---------------------------------------------------------------------------\u001b[0m",
      "\u001b[0;31mTypeError\u001b[0m                                 Traceback (most recent call last)",
      "\u001b[0;32m<ipython-input-21-146c218be395>\u001b[0m in \u001b[0;36m<module>\u001b[0;34m()\u001b[0m\n\u001b[0;32m----> 1\u001b[0;31m \u001b[0mdata\u001b[0m\u001b[0;34m(\u001b[0m\u001b[0;34m\"audioURL\"\u001b[0m\u001b[0;34m)\u001b[0m\u001b[0;34m\u001b[0m\u001b[0m\n\u001b[0m",
      "\u001b[0;31mTypeError\u001b[0m: 'DataFrame' object is not callable"
     ]
    }
   ],
   "source": [
    "data(\"audioURL\")"
   ]
  },
  {
   "cell_type": "code",
   "execution_count": 37,
   "metadata": {},
   "outputs": [
    {
     "name": "stdout",
     "output_type": "stream",
     "text": [
      "http://bandhubwebmedia9.blob.core.windows.net/files/019a14b5-73b8-4f5b-b9c6-f1b03e44d644-0-0.ogg\n"
     ]
    }
   ],
   "source": [
    "urls = data[\"audioURL\"]\n",
    "for i in urls[568339:568340]:\n",
    "    print(i)\n",
    "    #out = urls.iloc[i]\n",
    "    #print(out)"
   ]
  },
  {
   "cell_type": "code",
   "execution_count": 34,
   "metadata": {},
   "outputs": [
    {
     "data": {
      "text/plain": [
       "568340"
      ]
     },
     "execution_count": 34,
     "metadata": {},
     "output_type": "execute_result"
    }
   ],
   "source": [
    "len(urls)"
   ]
  },
  {
   "cell_type": "code",
   "execution_count": 10,
   "metadata": {},
   "outputs": [
    {
     "data": {
      "text/plain": [
       "trackId                                               54301c6e48668321233705fa\n",
       "songId                                                54301b941303854f365e4f33\n",
       "masterOwner                                                        lucy.savage\n",
       "trackOwner                                                         lucy.savage\n",
       "artist                                                            Lana Del Rey\n",
       "title                                   \"Born To Die,\" by Lana Del Rey (Cover)\n",
       "views                                                                       10\n",
       "instrument                                                                 NaN\n",
       "contentTags                                                               null\n",
       "audioURL                     http://bandhubwebmedia1.blob.core.windows.net/...\n",
       "cleanProcessedAudioURL                                                     NaN\n",
       "processedAudioURL                                                          NaN\n",
       "startTime                                                                    0\n",
       "trackDuration                                                           291.85\n",
       "audioSampleRate                                                              0\n",
       "trackVolume                                                                0.5\n",
       "compressorValue                                                              0\n",
       "panValue                                                                     0\n",
       "echoValue                                                                    0\n",
       "noiseGateValue                                                               0\n",
       "reverbValue                                                                  0\n",
       "solo                                                                     False\n",
       "trackVideo                   http://bandhubmediastream.blob.core.windows.ne...\n",
       "fromYouTube                                                               True\n",
       "isFinished                                                               False\n",
       "isPublished                                                               True\n",
       "hasPublishedTracks                                                        True\n",
       "mixedAudio                                                                 NaN\n",
       "mixedVideo                   http://bandhubmediastream.blob.core.windows.ne...\n",
       "musicBrainzID                                         544327d4e4b014e1a64ed3cc\n",
       "newMusicBrainzID                                      544327d4e4b014e1a64ed3cc\n",
       "publicSongCollectionIndex                                                20000\n",
       "Name: 0, dtype: object"
      ]
     },
     "execution_count": 10,
     "metadata": {},
     "output_type": "execute_result"
    }
   ],
   "source": [
    "publishedDataset.iloc[0]"
   ]
  },
  {
   "cell_type": "code",
   "execution_count": 13,
   "metadata": {},
   "outputs": [],
   "source": [
    "startTimes = publishedDataset.loc[publishedDataset.startTime > 0]"
   ]
  },
  {
   "cell_type": "code",
   "execution_count": 14,
   "metadata": {},
   "outputs": [
    {
     "data": {
      "text/plain": [
       "50668"
      ]
     },
     "execution_count": 14,
     "metadata": {},
     "output_type": "execute_result"
    }
   ],
   "source": [
    "len(startTimes)"
   ]
  },
  {
   "cell_type": "code",
   "execution_count": 66,
   "metadata": {},
   "outputs": [],
   "source": [
    "procAud = startTimes.loc[startTimes.cleanProcessedAudioURL.notnull()]"
   ]
  },
  {
   "cell_type": "code",
   "execution_count": 25,
   "metadata": {},
   "outputs": [
    {
     "data": {
      "text/plain": [
       "12346"
      ]
     },
     "execution_count": 25,
     "metadata": {},
     "output_type": "execute_result"
    }
   ],
   "source": [
    "len(procAud)"
   ]
  },
  {
   "cell_type": "code",
   "execution_count": 26,
   "metadata": {},
   "outputs": [],
   "source": [
    "procAud = startTimes.loc[startTimes.processedAudioURL.isnull()]"
   ]
  },
  {
   "cell_type": "code",
   "execution_count": 27,
   "metadata": {},
   "outputs": [
    {
     "data": {
      "text/plain": [
       "50668"
      ]
     },
     "execution_count": 27,
     "metadata": {},
     "output_type": "execute_result"
    }
   ],
   "source": [
    "len(procAud)"
   ]
  },
  {
   "cell_type": "code",
   "execution_count": 29,
   "metadata": {
    "collapsed": true
   },
   "outputs": [
    {
     "data": {
      "text/plain": [
       "0      577536\n",
       "0     4541440\n",
       "0     9284417\n",
       "0     7212202\n",
       "0     4926366\n",
       "0     5258175\n",
       "0     3331005\n",
       "0     7624757\n",
       "0     3990245\n",
       "0     3710662\n",
       "0    10339377\n",
       "0        5821\n",
       "0     6714341\n",
       "0     2475509\n",
       "0     2238560\n",
       "0      147029\n",
       "0     2201295\n",
       "0       48510\n",
       "0      958469\n",
       "0      662778\n",
       "0     1331687\n",
       "0     1720208\n",
       "0     2893401\n",
       "0        2910\n",
       "0     8183901\n",
       "0        7761\n",
       "0         512\n",
       "0     6216027\n",
       "0     3387409\n",
       "0     3687597\n",
       "       ...   \n",
       "0     3195265\n",
       "0     3135818\n",
       "0     3003430\n",
       "0     2973530\n",
       "0     2103261\n",
       "0     5616090\n",
       "0     3660079\n",
       "0     1047639\n",
       "0     3661005\n",
       "0     9852204\n",
       "0       94947\n",
       "0     2944689\n",
       "0      286826\n",
       "0       62930\n",
       "0     5769735\n",
       "0       11730\n",
       "0     8678791\n",
       "0     5281812\n",
       "0     6667875\n",
       "0       90316\n",
       "0      315535\n",
       "0         132\n",
       "0        2116\n",
       "0     5336849\n",
       "0    11064337\n",
       "0     8907847\n",
       "0         512\n",
       "0      110867\n",
       "0     5160229\n",
       "0     2039184\n",
       "Name: startTime, Length: 50668, dtype: int64"
      ]
     },
     "execution_count": 29,
     "metadata": {},
     "output_type": "execute_result"
    }
   ],
   "source": [
    "startTimes.startTime"
   ]
  },
  {
   "cell_type": "code",
   "execution_count": 31,
   "metadata": {},
   "outputs": [],
   "source": [
    "songGroups = data.groupby(\"songId\")"
   ]
  },
  {
   "cell_type": "code",
   "execution_count": 105,
   "metadata": {},
   "outputs": [
    {
     "ename": "AttributeError",
     "evalue": "Cannot access callable attribute 'loc' of 'DataFrameGroupBy' objects, try using the 'apply' method",
     "output_type": "error",
     "traceback": [
      "\u001b[0;31m---------------------------------------------------------------------------\u001b[0m",
      "\u001b[0;31mAttributeError\u001b[0m                            Traceback (most recent call last)",
      "\u001b[0;32m<ipython-input-105-ab7150aa7dd1>\u001b[0m in \u001b[0;36m<module>\u001b[0;34m()\u001b[0m\n\u001b[1;32m      5\u001b[0m     \u001b[0;31m#for row in group.groups:\u001b[0m\u001b[0;34m\u001b[0m\u001b[0;34m\u001b[0m\u001b[0m\n\u001b[1;32m      6\u001b[0m     \u001b[0;31m#    print(row)\u001b[0m\u001b[0;34m\u001b[0m\u001b[0;34m\u001b[0m\u001b[0m\n\u001b[0;32m----> 7\u001b[0;31m     \u001b[0mprint\u001b[0m\u001b[0;34m(\u001b[0m\u001b[0msongGroups\u001b[0m\u001b[0;34m.\u001b[0m\u001b[0mloc\u001b[0m\u001b[0;34m[\u001b[0m\u001b[0mname\u001b[0m\u001b[0;34m]\u001b[0m\u001b[0;34m)\u001b[0m\u001b[0;34m\u001b[0m\u001b[0m\n\u001b[0m",
      "\u001b[0;32m~/miniconda2/envs/bandhub/lib/python3.6/site-packages/pandas/core/groupby.py\u001b[0m in \u001b[0;36m__getattr__\u001b[0;34m(self, attr)\u001b[0m\n\u001b[1;32m    671\u001b[0m             \u001b[0;32mreturn\u001b[0m \u001b[0mself\u001b[0m\u001b[0;34m[\u001b[0m\u001b[0mattr\u001b[0m\u001b[0;34m]\u001b[0m\u001b[0;34m\u001b[0m\u001b[0m\n\u001b[1;32m    672\u001b[0m         \u001b[0;32mif\u001b[0m \u001b[0mhasattr\u001b[0m\u001b[0;34m(\u001b[0m\u001b[0mself\u001b[0m\u001b[0;34m.\u001b[0m\u001b[0mobj\u001b[0m\u001b[0;34m,\u001b[0m \u001b[0mattr\u001b[0m\u001b[0;34m)\u001b[0m\u001b[0;34m:\u001b[0m\u001b[0;34m\u001b[0m\u001b[0m\n\u001b[0;32m--> 673\u001b[0;31m             \u001b[0;32mreturn\u001b[0m \u001b[0mself\u001b[0m\u001b[0;34m.\u001b[0m\u001b[0m_make_wrapper\u001b[0m\u001b[0;34m(\u001b[0m\u001b[0mattr\u001b[0m\u001b[0;34m)\u001b[0m\u001b[0;34m\u001b[0m\u001b[0m\n\u001b[0m\u001b[1;32m    674\u001b[0m \u001b[0;34m\u001b[0m\u001b[0m\n\u001b[1;32m    675\u001b[0m         raise AttributeError(\"%r object has no attribute %r\" %\n",
      "\u001b[0;32m~/miniconda2/envs/bandhub/lib/python3.6/site-packages/pandas/core/groupby.py\u001b[0m in \u001b[0;36m_make_wrapper\u001b[0;34m(self, name)\u001b[0m\n\u001b[1;32m    685\u001b[0m                    \"using the 'apply' method\".format(kind, name,\n\u001b[1;32m    686\u001b[0m                                                      type(self).__name__))\n\u001b[0;32m--> 687\u001b[0;31m             \u001b[0;32mraise\u001b[0m \u001b[0mAttributeError\u001b[0m\u001b[0;34m(\u001b[0m\u001b[0mmsg\u001b[0m\u001b[0;34m)\u001b[0m\u001b[0;34m\u001b[0m\u001b[0m\n\u001b[0m\u001b[1;32m    688\u001b[0m \u001b[0;34m\u001b[0m\u001b[0m\n\u001b[1;32m    689\u001b[0m         \u001b[0;31m# need to setup the selection\u001b[0m\u001b[0;34m\u001b[0m\u001b[0;34m\u001b[0m\u001b[0m\n",
      "\u001b[0;31mAttributeError\u001b[0m: Cannot access callable attribute 'loc' of 'DataFrameGroupBy' objects, try using the 'apply' method"
     ]
    }
   ],
   "source": [
    "testProcAud = []\n",
    "for name,group in songGroups:\n",
    "    #print(name)\n",
    "    currGroup = group.cleanProcessedAudioURL\n",
    "    #for row in group.groups:\n",
    "    #    print(row)\n",
    "    print(songGroups.loc[name])"
   ]
  },
  {
   "cell_type": "code",
   "execution_count": 88,
   "metadata": {
    "collapsed": true
   },
   "outputs": [
    {
     "name": "stdout",
     "output_type": "stream",
     "text": [
      "0    http://bandhubwebmedia3.blob.core.windows.net/...\n",
      "0    http://bandhubwebmedia0.blob.core.windows.net/...\n",
      "0    http://bandhubwebmedia15.blob.core.windows.net...\n",
      "0    http://bandhubwebmedia9.blob.core.windows.net/...\n",
      "0    http://bandhubwebmedia9.blob.core.windows.net/...\n",
      "0    http://bandhubwebmedia8.blob.core.windows.net/...\n",
      "0    http://bandhubwebmedia1.blob.core.windows.net/...\n",
      "0    http://bandhubwebmedia2.blob.core.windows.net/...\n",
      "0    http://bandhubwebmedia12.blob.core.windows.net...\n",
      "0    http://bandhubwebmedia13.blob.core.windows.net...\n",
      "Name: cleanProcessedAudioURL, dtype: object\n",
      "0    http://bandhubwebmedia4.blob.core.windows.net/...\n",
      "0    http://bandhubwebmedia2.blob.core.windows.net/...\n",
      "0    http://bandhubwebmedia7.blob.core.windows.net/...\n",
      "0    http://bandhubwebmedia4.blob.core.windows.net/...\n",
      "0    http://bandhubwebmedia6.blob.core.windows.net/...\n",
      "0    http://bandhubwebmedia0.blob.core.windows.net/...\n",
      "0    http://bandhubwebmedia4.blob.core.windows.net/...\n",
      "0    http://bandhubwebmedia8.blob.core.windows.net/...\n",
      "0    http://bandhubwebmedia0.blob.core.windows.net/...\n",
      "0    http://bandhubwebmedia5.blob.core.windows.net/...\n",
      "Name: audioURL, dtype: object\n",
      "http://bandhubwebmedia4.blob.core.windows.net/files/0f4be7e3-38cf-40e1-acf8-eca73076e791-0-0.ogg\n",
      "(13007936, 2)\n",
      "(10018816,)\n",
      "44100\n",
      "44100\n",
      "1720208\n",
      "http://bandhubwebmedia2.blob.core.windows.net/files/76a7964e-d2ac-44cf-b6a3-28026d228e8d-0-1.ogg\n",
      "(9685440, 2)\n",
      "(6344960,)\n",
      "44100\n",
      "44100\n",
      "2893401\n",
      "http://bandhubwebmedia7.blob.core.windows.net/files/45db354e-233b-4155-9fc3-b26e391c9a32-0-0.ogg\n",
      "(11910976, 2)\n",
      "(11790784,)\n",
      "44100\n",
      "44100\n",
      "2910\n",
      "http://bandhubwebmedia4.blob.core.windows.net/files/b5c7e64a-6c2d-4487-b113-53a1fcbc8c8c-0-1.ogg\n",
      "(11624896, 2)\n",
      "(3368192,)\n",
      "44100\n",
      "44100\n",
      "8183901\n",
      "http://bandhubwebmedia6.blob.core.windows.net/files/2da5e8e7-5418-4ade-9c8d-7ad994db9081-0.ogg\n",
      "(11887680, 2)\n",
      "(10646464,)\n",
      "44100\n",
      "44100\n",
      "1181757\n",
      "http://bandhubwebmedia0.blob.core.windows.net/files/6287cd7c-5e76-4b91-8d83-cd207d419492-0.ogg\n",
      "(11887680, 2)\n",
      "(9033920,)\n",
      "44100\n",
      "44100\n",
      "2848139\n",
      "http://bandhubwebmedia4.blob.core.windows.net/files/9657125d-8004-4776-b880-72c24afe6ee8-0-0.ogg\n",
      "(9601088, 2)\n",
      "(6336128,)\n",
      "44100\n",
      "44100\n",
      "2683881\n",
      "http://bandhubwebmedia8.blob.core.windows.net/files/78885a7f-9107-4c25-ae0d-4d052567855d-0.ogg\n",
      "(6757952, 2)\n",
      "(2614976,)\n",
      "44100\n",
      "44100\n",
      "4120626\n",
      "http://bandhubwebmedia0.blob.core.windows.net/files/f46cdac8-1fd0-4ad9-af86-a2ce433b54f5-0-0.ogg\n",
      "(7559872, 2)\n",
      "(1712064,)\n",
      "44100\n",
      "44100\n",
      "5795401\n",
      "http://bandhubwebmedia5.blob.core.windows.net/files/376ad3da-de1b-4ba2-a0d9-7173381fe208-0-0.ogg\n",
      "(10808768, 2)\n",
      "(9322496,)\n",
      "44100\n",
      "44100\n",
      "1484185\n"
     ]
    }
   ],
   "source": [
    "path = '/scratch/gjr286/EffectsAudioStartTimes'\n",
    "os.mkdir(path)\n",
    "os.chdir(path)\n",
    "\n",
    "tracks = procAud.cleanProcessedAudioURL.iloc[0:10]\n",
    "rawTracks = procAud.audioURL.iloc[0:10]\n",
    "print(tracks)\n",
    "print(rawTracks)\n",
    "count = 0\n",
    "for audio in tracks:\n",
    "    if pd.notnull(audio):\n",
    "        filename = audio.rpartition('/')[2]\n",
    "        rawAudio = rawTracks.iloc[count]\n",
    "        print(rawAudio)\n",
    "        rawFN = rawAudio.rpartition('/')[2]\n",
    "        #filename = individualDirectory[0] + '/' + filename\n",
    "        r = requests.get(audio)\n",
    "        with open(filename, 'wb') as fd:\n",
    "            for chunk in r.iter_content(chunk_size=128):\n",
    "                fd.write(chunk)\n",
    "        \n",
    "        r = requests.get(rawAudio)\n",
    "        with open(rawFN, 'wb') as fd:\n",
    "            for chunk in r.iter_content(chunk_size=128):\n",
    "                fd.write(chunk)\n",
    "        \n",
    "        st = procAud.startTime.iloc[count]\n",
    "\n",
    "        data, samplerate = sf.read(filename)\n",
    "        data2, samplerate2 = sf.read(rawFN)\n",
    "        print(data.shape)\n",
    "        print(data2.shape)\n",
    "        print(samplerate)\n",
    "        print(samplerate2)\n",
    "        print(st)\n",
    "        \n",
    "        #print(data.shape)\n",
    "        #data[0:st]\n",
    "        #print(data[st-100:st+100])\n",
    "        count += 1\n"
   ]
  },
  {
   "cell_type": "code",
   "execution_count": 107,
   "metadata": {},
   "outputs": [
    {
     "data": {
      "text/plain": [
       "0                                                  NaN\n",
       "0    http://bandhubwebmedia5.blob.core.windows.net/...\n",
       "0    http://bandhubwebmedia6.blob.core.windows.net/...\n",
       "0                                                  NaN\n",
       "0                                                  NaN\n",
       "0                                                  NaN\n",
       "Name: cleanProcessedAudioURL, dtype: object"
      ]
     },
     "execution_count": 107,
     "metadata": {},
     "output_type": "execute_result"
    }
   ],
   "source": [
    "currGroup"
   ]
  },
  {
   "cell_type": "code",
   "execution_count": null,
   "metadata": {},
   "outputs": [],
   "source": [
    "path = '/scratch/gjr286/EffectsAudioStartTimes'\n",
    "os.mkdir(path)\n",
    "os.chdir(path)\n",
    "\n",
    "#tracks = procAud.cleanProcessedAudioURL.iloc[0:10]\n",
    "#rawTracks = procAud.audioURL.iloc[0:10]\n",
    "#print(tracks)\n",
    "#print(rawTracks)\n",
    "count = 0\n",
    "\n",
    "for audio in currGroup:\n",
    "    if pd.notnull(audio):\n",
    "        filename = audio.rpartition('/')[2]\n",
    "        #rawAudio = rawTracks.iloc[count]\n",
    "        #print(rawAudio)\n",
    "        #rawFN = rawAudio.rpartition('/')[2]\n",
    "        #filename = individualDirectory[0] + '/' + filename\n",
    "        r = requests.get(audio)\n",
    "        with open(filename, 'wb') as fd:\n",
    "            for chunk in r.iter_content(chunk_size=128):\n",
    "                fd.write(chunk)\n",
    "        \n",
    "        #r = requests.get(rawAudio)\n",
    "        #with open(rawFN, 'wb') as fd:\n",
    "        #    for chunk in r.iter_content(chunk_size=128):\n",
    "        #        fd.write(chunk)\n",
    "        \n",
    "        #st = procAud.startTime.iloc[count]\n",
    "\n",
    "        data, samplerate = sf.read(filename)\n",
    "        #data2, samplerate2 = sf.read(rawFN)\n",
    "        print(data.shape)\n",
    "        #print(data2.shape)\n",
    "        print(samplerate)\n",
    "        #print(samplerate2)\n",
    "        #print(st)\n",
    "        "
   ]
  },
  {
   "cell_type": "code",
   "execution_count": 66,
   "metadata": {},
   "outputs": [],
   "source": [
    "a = np.ones(10)"
   ]
  },
  {
   "cell_type": "code",
   "execution_count": 17,
   "metadata": {},
   "outputs": [
    {
     "name": "stdout",
     "output_type": "stream",
     "text": [
      "[1. 1. 1. 1. 1. 1. 1. 1. 1. 1.]\n"
     ]
    }
   ],
   "source": [
    "print(a)"
   ]
  },
  {
   "cell_type": "code",
   "execution_count": 18,
   "metadata": {},
   "outputs": [
    {
     "data": {
      "text/plain": [
       "array([1., 1., 1., 1., 1., 1., 1., 1., 1., 1.])"
      ]
     },
     "execution_count": 18,
     "metadata": {},
     "output_type": "execute_result"
    }
   ],
   "source": [
    "a[:]"
   ]
  },
  {
   "cell_type": "code",
   "execution_count": 19,
   "metadata": {},
   "outputs": [
    {
     "data": {
      "text/plain": [
       "array([1., 1., 1., 1., 1., 1., 1., 1., 1.])"
      ]
     },
     "execution_count": 19,
     "metadata": {},
     "output_type": "execute_result"
    }
   ],
   "source": [
    "a[1:]"
   ]
  },
  {
   "cell_type": "code",
   "execution_count": 68,
   "metadata": {},
   "outputs": [
    {
     "data": {
      "text/plain": [
       "1"
      ]
     },
     "execution_count": 68,
     "metadata": {},
     "output_type": "execute_result"
    }
   ],
   "source": [
    "a.ndim"
   ]
  },
  {
   "cell_type": "code",
   "execution_count": 21,
   "metadata": {},
   "outputs": [
    {
     "data": {
      "text/plain": [
       "array([1., 1., 1., 1., 1., 1., 1., 1., 1., 1., 0., 0.])"
      ]
     },
     "execution_count": 21,
     "metadata": {},
     "output_type": "execute_result"
    }
   ],
   "source": [
    "np.pad(a, (0,2),'constant')"
   ]
  },
  {
   "cell_type": "code",
   "execution_count": 27,
   "metadata": {},
   "outputs": [
    {
     "name": "stdout",
     "output_type": "stream",
     "text": [
      "hello 1\n"
     ]
    }
   ],
   "source": [
    "print(\"hello\", 1)"
   ]
  },
  {
   "cell_type": "code",
   "execution_count": 60,
   "metadata": {},
   "outputs": [],
   "source": [
    "a = np.ones([10,2])"
   ]
  },
  {
   "cell_type": "code",
   "execution_count": 51,
   "metadata": {},
   "outputs": [
    {
     "name": "stdout",
     "output_type": "stream",
     "text": [
      "[[1. 1.]\n",
      " [1. 1.]\n",
      " [1. 1.]\n",
      " [1. 1.]\n",
      " [1. 1.]\n",
      " [1. 1.]\n",
      " [1. 1.]\n",
      " [1. 1.]\n",
      " [1. 1.]\n",
      " [1. 1.]]\n"
     ]
    }
   ],
   "source": [
    "print(a)"
   ]
  },
  {
   "cell_type": "code",
   "execution_count": 29,
   "metadata": {},
   "outputs": [],
   "source": [
    "test = np.pad(a, ((0,2),),'constant')"
   ]
  },
  {
   "cell_type": "code",
   "execution_count": 35,
   "metadata": {},
   "outputs": [
    {
     "data": {
      "text/plain": [
       "12"
      ]
     },
     "execution_count": 35,
     "metadata": {},
     "output_type": "execute_result"
    }
   ],
   "source": [
    "test.shape[1]"
   ]
  },
  {
   "cell_type": "code",
   "execution_count": 32,
   "metadata": {},
   "outputs": [
    {
     "data": {
      "text/plain": [
       "array([[0., 0., 0., 0., 0., 0., 0., 0., 0., 0.]])"
      ]
     },
     "execution_count": 32,
     "metadata": {},
     "output_type": "execute_result"
    }
   ],
   "source": [
    "np.zeros([2, ])"
   ]
  },
  {
   "cell_type": "code",
   "execution_count": 37,
   "metadata": {},
   "outputs": [
    {
     "data": {
      "text/plain": [
       "array([1., 1., 1., 1., 1., 1., 1., 1., 1., 1.])"
      ]
     },
     "execution_count": 37,
     "metadata": {},
     "output_type": "execute_result"
    }
   ],
   "source": [
    "a[:,1]"
   ]
  },
  {
   "cell_type": "code",
   "execution_count": 52,
   "metadata": {},
   "outputs": [],
   "source": [
    "ch1 = a[:,0]"
   ]
  },
  {
   "cell_type": "code",
   "execution_count": 53,
   "metadata": {},
   "outputs": [],
   "source": [
    "ch2 = a[:,1]"
   ]
  },
  {
   "cell_type": "code",
   "execution_count": 40,
   "metadata": {},
   "outputs": [],
   "source": [
    "ab = [ch1,ch2]"
   ]
  },
  {
   "cell_type": "code",
   "execution_count": 41,
   "metadata": {},
   "outputs": [
    {
     "name": "stdout",
     "output_type": "stream",
     "text": [
      "[array([1., 1., 1., 1., 1., 1., 1., 1., 1., 1.]), array([1., 1., 1., 1., 1., 1., 1., 1., 1., 1.])]\n"
     ]
    }
   ],
   "source": [
    "print(ab)"
   ]
  },
  {
   "cell_type": "code",
   "execution_count": 45,
   "metadata": {},
   "outputs": [
    {
     "data": {
      "text/plain": [
       "array([1., 1., 1., 1., 1., 1., 1., 1., 1., 1., 1., 1., 1., 1., 1., 1., 1.,\n",
       "       1., 1., 1.])"
      ]
     },
     "execution_count": 45,
     "metadata": {},
     "output_type": "execute_result"
    }
   ],
   "source": [
    "np.concatenate((ch1,ch2), axis = 0)"
   ]
  },
  {
   "cell_type": "code",
   "execution_count": 62,
   "metadata": {},
   "outputs": [],
   "source": [
    "remade = np.stack((ch1,ch2), axis = 1)"
   ]
  },
  {
   "cell_type": "code",
   "execution_count": 63,
   "metadata": {},
   "outputs": [
    {
     "data": {
      "text/plain": [
       "(10, 2)"
      ]
     },
     "execution_count": 63,
     "metadata": {},
     "output_type": "execute_result"
    }
   ],
   "source": [
    "remade.shape"
   ]
  },
  {
   "cell_type": "code",
   "execution_count": 64,
   "metadata": {},
   "outputs": [
    {
     "data": {
      "text/plain": [
       "array([1., 1., 1., 1., 1., 1., 1., 1., 1., 1.])"
      ]
     },
     "execution_count": 64,
     "metadata": {},
     "output_type": "execute_result"
    }
   ],
   "source": [
    "a[:,0]"
   ]
  },
  {
   "cell_type": "code",
   "execution_count": 65,
   "metadata": {},
   "outputs": [
    {
     "data": {
      "text/plain": [
       "2"
      ]
     },
     "execution_count": 65,
     "metadata": {},
     "output_type": "execute_result"
    }
   ],
   "source": [
    "a.ndim"
   ]
  },
  {
   "cell_type": "code",
   "execution_count": null,
   "metadata": {},
   "outputs": [],
   "source": []
  }
 ],
 "metadata": {
  "kernelspec": {
   "display_name": "Python 3",
   "language": "python",
   "name": "python3"
  },
  "language_info": {
   "codemirror_mode": {
    "name": "ipython",
    "version": 3
   },
   "file_extension": ".py",
   "mimetype": "text/x-python",
   "name": "python",
   "nbconvert_exporter": "python",
   "pygments_lexer": "ipython3",
   "version": "3.6.4"
  }
 },
 "nbformat": 4,
 "nbformat_minor": 2
}
