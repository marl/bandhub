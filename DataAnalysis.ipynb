{
 "cells": [
  {
   "cell_type": "code",
   "execution_count": 2,
   "metadata": {},
   "outputs": [],
   "source": [
    "import pymongo\n",
    "import pandas as pd\n",
    "#from pandas import Series\n",
    "import numpy as np\n",
    "#import matplotlib.pyplot as plt\n",
    "#from collections import Counter\n",
    "#from bson.objectid import ObjectId\n",
    "import pprint"
   ]
  },
  {
   "cell_type": "code",
   "execution_count": 3,
   "metadata": {},
   "outputs": [],
   "source": [
    "client = pymongo.MongoClient('localhost',27017)\n",
    "#client = pymongo.MongoClient('localhost',32768)\n",
    "db = client.bandhub"
   ]
  },
  {
   "cell_type": "code",
   "execution_count": 4,
   "metadata": {},
   "outputs": [
    {
     "data": {
      "text/plain": [
       "[425706, 198169, 350000, 494867]"
      ]
     },
     "execution_count": 4,
     "metadata": {},
     "output_type": "execute_result"
    }
   ],
   "source": [
    "songCol = db.get_collection('songsStream')\n",
    "vidCol = db.get_collection('mergedVideos')\n",
    "trackCol = db.get_collection('tracksStream')\n",
    "postCol = db.get_collection('posts')\n",
    "[songCol.count(), vidCol.count(), trackCol.count(), postCol.count()]"
   ]
  },
  {
   "cell_type": "code",
   "execution_count": 5,
   "metadata": {},
   "outputs": [],
   "source": [
    "songId = []\n",
    "postId = []\n",
    "vidId = []"
   ]
  },
  {
   "cell_type": "code",
   "execution_count": 6,
   "metadata": {},
   "outputs": [
    {
     "name": "stdout",
     "output_type": "stream",
     "text": [
      "418465\n"
     ]
    }
   ],
   "source": [
    "cursor = songCol.find({'access' : 1})\n",
    "i = 0\n",
    "for docs in cursor:\n",
    "    i = i+1\n",
    "    songId.append(docs['_id'])\n",
    "print(i)"
   ]
  },
  {
   "cell_type": "code",
   "execution_count": 21,
   "metadata": {},
   "outputs": [
    {
     "name": "stdout",
     "output_type": "stream",
     "text": [
      "418465\n"
     ]
    }
   ],
   "source": [
    "cursor = songCol.find({'access' : 1}).skip(250000).limit(250000)\n",
    "for docs in cursor:\n",
    "    i = i+1\n",
    "    songId.append(docs['_id'])\n",
    "#try:\n",
    "#    cursor.next\n",
    "#except StopException:\n",
    "#    print('done')\n",
    "print(i)"
   ]
  },
  {
   "cell_type": "code",
   "execution_count": 22,
   "metadata": {},
   "outputs": [
    {
     "data": {
      "text/plain": [
       "418465"
      ]
     },
     "execution_count": 22,
     "metadata": {},
     "output_type": "execute_result"
    }
   ],
   "source": [
    "len(songId)\n",
    "#len(postId)\n",
    "#len(vidId)"
   ]
  },
  {
   "cell_type": "code",
   "execution_count": 4,
   "metadata": {},
   "outputs": [
    {
     "ename": "NameError",
     "evalue": "name 'songId' is not defined",
     "output_type": "error",
     "traceback": [
      "\u001b[0;31m\u001b[0m",
      "\u001b[0;31mNameError\u001b[0mTraceback (most recent call last)",
      "\u001b[0;32m<ipython-input-4-7f2fccb3a5b2>\u001b[0m in \u001b[0;36m<module>\u001b[0;34m()\u001b[0m\n\u001b[1;32m      1\u001b[0m \u001b[0mpubTrackDur\u001b[0m \u001b[0;34m=\u001b[0m \u001b[0;34m[\u001b[0m\u001b[0;34m]\u001b[0m\u001b[0;34m\u001b[0m\u001b[0m\n\u001b[0;32m----> 2\u001b[0;31m \u001b[0;32mfor\u001b[0m \u001b[0mId\u001b[0m \u001b[0;32min\u001b[0m \u001b[0msongId\u001b[0m\u001b[0;34m:\u001b[0m\u001b[0;34m\u001b[0m\u001b[0m\n\u001b[0m\u001b[1;32m      3\u001b[0m     \u001b[0mpointer\u001b[0m \u001b[0;34m=\u001b[0m \u001b[0mtrackCol\u001b[0m\u001b[0;34m.\u001b[0m\u001b[0mfind\u001b[0m\u001b[0;34m(\u001b[0m\u001b[0;34m{\u001b[0m\u001b[0;34m'objectId'\u001b[0m \u001b[0;34m:\u001b[0m \u001b[0mId\u001b[0m\u001b[0;34m}\u001b[0m\u001b[0;34m)\u001b[0m\u001b[0;34m\u001b[0m\u001b[0m\n\u001b[1;32m      4\u001b[0m     \u001b[0;32mfor\u001b[0m \u001b[0mdocs\u001b[0m \u001b[0;32min\u001b[0m \u001b[0mpointer\u001b[0m\u001b[0;34m:\u001b[0m\u001b[0;34m\u001b[0m\u001b[0m\n\u001b[1;32m      5\u001b[0m         \u001b[0mpubTrackDur\u001b[0m\u001b[0;34m.\u001b[0m\u001b[0mappend\u001b[0m\u001b[0;34m(\u001b[0m\u001b[0mdocs\u001b[0m\u001b[0;34m[\u001b[0m\u001b[0;34m'durationInSeconds'\u001b[0m\u001b[0;34m]\u001b[0m\u001b[0;34m)\u001b[0m\u001b[0;34m\u001b[0m\u001b[0m\n",
      "\u001b[0;31mNameError\u001b[0m: name 'songId' is not defined"
     ]
    }
   ],
   "source": [
    "pubTrackDur = []\n",
    "for Id in songId:\n",
    "    pointer = trackCol.find({'objectId' : Id})\n",
    "    for docs in pointer:\n",
    "        pubTrackDur.append(docs['durationInSeconds'])\n",
    "    pointer = trackCol.find({'objectId' : Id})\n",
    "    for docs in pointer:\n",
    "        pubTrackDur.append(docs['durationInSeconds'])\n",
    "        \n",
    "df = pd.DataFrame(pubTrackDur)\n",
    "ax = df[(df<1000) & (df >= 0)].plot(kind='hist',grid=True,figsize=(10,10),bins = 1000)\n",
    "ax.set(xlabel=\"Duration in seconds\", ylabel=\"Number of mixes\")"
   ]
  },
  {
   "cell_type": "code",
   "execution_count": 32,
   "metadata": {},
   "outputs": [
    {
     "ename": "AutoReconnect",
     "evalue": "connection closed",
     "output_type": "error",
     "traceback": [
      "\u001b[0;31m\u001b[0m",
      "\u001b[0;31mAutoReconnect\u001b[0mTraceback (most recent call last)",
      "\u001b[0;32m<ipython-input-32-14d64904c08f>\u001b[0m in \u001b[0;36m<module>\u001b[0;34m()\u001b[0m\n\u001b[0;32m----> 1\u001b[0;31m \u001b[0mpprint\u001b[0m\u001b[0;34m.\u001b[0m\u001b[0mpprint\u001b[0m\u001b[0;34m(\u001b[0m\u001b[0mpostId\u001b[0m\u001b[0;34m.\u001b[0m\u001b[0mcount\u001b[0m\u001b[0;34m(\u001b[0m\u001b[0;34m)\u001b[0m\u001b[0;34m)\u001b[0m\u001b[0;34m\u001b[0m\u001b[0m\n\u001b[0m",
      "\u001b[0;32m/home/rrs432/miniconda2/envs/bandhub/lib/python2.7/site-packages/pymongo/cursor.pyc\u001b[0m in \u001b[0;36mcount\u001b[0;34m(self, with_limit_and_skip)\u001b[0m\n\u001b[1;32m    709\u001b[0m                 \u001b[0mcmd\u001b[0m\u001b[0;34m[\u001b[0m\u001b[0;34m\"skip\"\u001b[0m\u001b[0;34m]\u001b[0m \u001b[0;34m=\u001b[0m \u001b[0mself\u001b[0m\u001b[0;34m.\u001b[0m\u001b[0m__skip\u001b[0m\u001b[0;34m\u001b[0m\u001b[0m\n\u001b[1;32m    710\u001b[0m \u001b[0;34m\u001b[0m\u001b[0m\n\u001b[0;32m--> 711\u001b[0;31m         \u001b[0;32mreturn\u001b[0m \u001b[0mself\u001b[0m\u001b[0;34m.\u001b[0m\u001b[0m__collection\u001b[0m\u001b[0;34m.\u001b[0m\u001b[0m_count\u001b[0m\u001b[0;34m(\u001b[0m\u001b[0mcmd\u001b[0m\u001b[0;34m,\u001b[0m \u001b[0mself\u001b[0m\u001b[0;34m.\u001b[0m\u001b[0m__collation\u001b[0m\u001b[0;34m)\u001b[0m\u001b[0;34m\u001b[0m\u001b[0m\n\u001b[0m\u001b[1;32m    712\u001b[0m \u001b[0;34m\u001b[0m\u001b[0m\n\u001b[1;32m    713\u001b[0m     \u001b[0;32mdef\u001b[0m \u001b[0mdistinct\u001b[0m\u001b[0;34m(\u001b[0m\u001b[0mself\u001b[0m\u001b[0;34m,\u001b[0m \u001b[0mkey\u001b[0m\u001b[0;34m)\u001b[0m\u001b[0;34m:\u001b[0m\u001b[0;34m\u001b[0m\u001b[0m\n",
      "\u001b[0;32m/home/rrs432/miniconda2/envs/bandhub/lib/python2.7/site-packages/pymongo/collection.pyc\u001b[0m in \u001b[0;36m_count\u001b[0;34m(self, cmd, collation)\u001b[0m\n\u001b[1;32m   1308\u001b[0m                 \u001b[0mcodec_options\u001b[0m\u001b[0;34m=\u001b[0m\u001b[0mself\u001b[0m\u001b[0;34m.\u001b[0m\u001b[0m__write_response_codec_options\u001b[0m\u001b[0;34m,\u001b[0m\u001b[0;34m\u001b[0m\u001b[0m\n\u001b[1;32m   1309\u001b[0m                 \u001b[0mread_concern\u001b[0m\u001b[0;34m=\u001b[0m\u001b[0mself\u001b[0m\u001b[0;34m.\u001b[0m\u001b[0mread_concern\u001b[0m\u001b[0;34m,\u001b[0m\u001b[0;34m\u001b[0m\u001b[0m\n\u001b[0;32m-> 1310\u001b[0;31m                 collation=collation)\n\u001b[0m\u001b[1;32m   1311\u001b[0m         \u001b[0;32mif\u001b[0m \u001b[0mres\u001b[0m\u001b[0;34m.\u001b[0m\u001b[0mget\u001b[0m\u001b[0;34m(\u001b[0m\u001b[0;34m\"errmsg\"\u001b[0m\u001b[0;34m,\u001b[0m \u001b[0;34m\"\"\u001b[0m\u001b[0;34m)\u001b[0m \u001b[0;34m==\u001b[0m \u001b[0;34m\"ns missing\"\u001b[0m\u001b[0;34m:\u001b[0m\u001b[0;34m\u001b[0m\u001b[0m\n\u001b[1;32m   1312\u001b[0m             \u001b[0;32mreturn\u001b[0m \u001b[0;36m0\u001b[0m\u001b[0;34m\u001b[0m\u001b[0m\n",
      "\u001b[0;32m/home/rrs432/miniconda2/envs/bandhub/lib/python2.7/site-packages/pymongo/collection.pyc\u001b[0m in \u001b[0;36m_command\u001b[0;34m(self, sock_info, command, slave_ok, read_preference, codec_options, check, allowable_errors, read_concern, write_concern, parse_write_concern_error, collation)\u001b[0m\n\u001b[1;32m    230\u001b[0m             \u001b[0mwrite_concern\u001b[0m\u001b[0;34m=\u001b[0m\u001b[0mwrite_concern\u001b[0m\u001b[0;34m,\u001b[0m\u001b[0;34m\u001b[0m\u001b[0m\n\u001b[1;32m    231\u001b[0m             \u001b[0mparse_write_concern_error\u001b[0m\u001b[0;34m=\u001b[0m\u001b[0mparse_write_concern_error\u001b[0m\u001b[0;34m,\u001b[0m\u001b[0;34m\u001b[0m\u001b[0m\n\u001b[0;32m--> 232\u001b[0;31m             collation=collation)\n\u001b[0m\u001b[1;32m    233\u001b[0m \u001b[0;34m\u001b[0m\u001b[0m\n\u001b[1;32m    234\u001b[0m     \u001b[0;32mdef\u001b[0m \u001b[0m__create\u001b[0m\u001b[0;34m(\u001b[0m\u001b[0mself\u001b[0m\u001b[0;34m,\u001b[0m \u001b[0moptions\u001b[0m\u001b[0;34m,\u001b[0m \u001b[0mcollation\u001b[0m\u001b[0;34m)\u001b[0m\u001b[0;34m:\u001b[0m\u001b[0;34m\u001b[0m\u001b[0m\n",
      "\u001b[0;32m/home/rrs432/miniconda2/envs/bandhub/lib/python2.7/site-packages/pymongo/pool.pyc\u001b[0m in \u001b[0;36mcommand\u001b[0;34m(self, dbname, spec, slave_ok, read_preference, codec_options, check, allowable_errors, check_keys, read_concern, write_concern, parse_write_concern_error, collation)\u001b[0m\n\u001b[1;32m    422\u001b[0m         \u001b[0;31m# Catch socket.error, KeyboardInterrupt, etc. and close ourselves.\u001b[0m\u001b[0;34m\u001b[0m\u001b[0;34m\u001b[0m\u001b[0m\n\u001b[1;32m    423\u001b[0m         \u001b[0;32mexcept\u001b[0m \u001b[0mBaseException\u001b[0m \u001b[0;32mas\u001b[0m \u001b[0merror\u001b[0m\u001b[0;34m:\u001b[0m\u001b[0;34m\u001b[0m\u001b[0m\n\u001b[0;32m--> 424\u001b[0;31m             \u001b[0mself\u001b[0m\u001b[0;34m.\u001b[0m\u001b[0m_raise_connection_failure\u001b[0m\u001b[0;34m(\u001b[0m\u001b[0merror\u001b[0m\u001b[0;34m)\u001b[0m\u001b[0;34m\u001b[0m\u001b[0m\n\u001b[0m\u001b[1;32m    425\u001b[0m \u001b[0;34m\u001b[0m\u001b[0m\n\u001b[1;32m    426\u001b[0m     \u001b[0;32mdef\u001b[0m \u001b[0msend_message\u001b[0m\u001b[0;34m(\u001b[0m\u001b[0mself\u001b[0m\u001b[0;34m,\u001b[0m \u001b[0mmessage\u001b[0m\u001b[0;34m,\u001b[0m \u001b[0mmax_doc_size\u001b[0m\u001b[0;34m)\u001b[0m\u001b[0;34m:\u001b[0m\u001b[0;34m\u001b[0m\u001b[0m\n",
      "\u001b[0;32m/home/rrs432/miniconda2/envs/bandhub/lib/python2.7/site-packages/pymongo/pool.pyc\u001b[0m in \u001b[0;36m_raise_connection_failure\u001b[0;34m(self, error)\u001b[0m\n\u001b[1;32m    550\u001b[0m             \u001b[0m_raise_connection_failure\u001b[0m\u001b[0;34m(\u001b[0m\u001b[0mself\u001b[0m\u001b[0;34m.\u001b[0m\u001b[0maddress\u001b[0m\u001b[0;34m,\u001b[0m \u001b[0merror\u001b[0m\u001b[0;34m)\u001b[0m\u001b[0;34m\u001b[0m\u001b[0m\n\u001b[1;32m    551\u001b[0m         \u001b[0;32melse\u001b[0m\u001b[0;34m:\u001b[0m\u001b[0;34m\u001b[0m\u001b[0m\n\u001b[0;32m--> 552\u001b[0;31m             \u001b[0;32mraise\u001b[0m \u001b[0merror\u001b[0m\u001b[0;34m\u001b[0m\u001b[0m\n\u001b[0m\u001b[1;32m    553\u001b[0m \u001b[0;34m\u001b[0m\u001b[0m\n\u001b[1;32m    554\u001b[0m     \u001b[0;32mdef\u001b[0m \u001b[0m__eq__\u001b[0m\u001b[0;34m(\u001b[0m\u001b[0mself\u001b[0m\u001b[0;34m,\u001b[0m \u001b[0mother\u001b[0m\u001b[0;34m)\u001b[0m\u001b[0;34m:\u001b[0m\u001b[0;34m\u001b[0m\u001b[0m\n",
      "\u001b[0;31mAutoReconnect\u001b[0m: connection closed"
     ]
    }
   ],
   "source": [
    "pprint.pprint(postId.count())"
   ]
  },
  {
   "cell_type": "code",
   "execution_count": 7,
   "metadata": {},
   "outputs": [
    {
     "name": "stdout",
     "output_type": "stream",
     "text": [
      "408353\n"
     ]
    }
   ],
   "source": [
    "pointer = postCol.find({'songAccess':{'$exists': True}}, {'songAccess':1 ,'hasRecordedTracks':1, '_id':0})\n",
    "count = 0\n",
    "for docs in pointer:\n",
    "    if(docs['songAccess'] == 1):\n",
    "        count = count + 1\n",
    "pprint.pprint(count)"
   ]
  },
  {
   "cell_type": "code",
   "execution_count": 6,
   "metadata": {},
   "outputs": [
    {
     "name": "stdout",
     "output_type": "stream",
     "text": [
      "{u'_id': ObjectId('52ea66f7e4b0a865287a1350'),\n",
      " u'mp4MergedVideoUrl': u'https://bandhubmediastream.blob.core.windows.net/files/f-52da0a1a9cec8fdf0b000009.mp4',\n",
      " u'oggMergedVideoUrl': u'https://bandhubmediastream.blob.core.windows.net/files/f-52da0a1a9cec8fdf0b000009.ogg',\n",
      " u'songId': ObjectId('52da0a1a9cec8fdf0b000009'),\n",
      " u'trackIds': [ObjectId('52e9c8de852f85f52900001f')]}\n"
     ]
    }
   ],
   "source": [
    "pointer = vidCol.find()[1:2]\n",
    "for docs in pointer:\n",
    "    pprint.pprint(docs)"
   ]
  },
  {
   "cell_type": "code",
   "execution_count": 8,
   "metadata": {},
   "outputs": [
    {
     "data": {
      "text/plain": [
       "[Text(0,0.5,u'Number of mixes'), Text(0.5,0,u'Duration in seconds')]"
      ]
     },
     "execution_count": 8,
     "metadata": {},
     "output_type": "execute_result"
    },
    {
     "data": {
      "image/png": "[encoded data removed]",
      "text/plain": [
       "<matplotlib.figure.Figure at 0x2b7d9f4521d0>"
      ]
     },
     "metadata": {},
     "output_type": "display_data"
    }
   ],
   "source": [
    "trackDurList = []\n",
    "pointer = trackCol.find({'durationInSeconds':{'$exists': True}}, {'durationInSeconds':1 , '_id':0})\n",
    "for docs in pointer:\n",
    "    myList.append(docs['durationInSeconds']) \n",
    "\n",
    "#pointer.next\n",
    "\n",
    "\n",
    "df = pd.DataFrame(myList)\n",
    "ax = df[(df<1000) & (df >= 0)].plot(kind='hist',grid=True,figsize=(10,10),bins = 1000)\n",
    "ax.set(xlabel=\"Duration in seconds\", ylabel=\"Number of mixes\")\n"
   ]
  },
  {
   "cell_type": "code",
   "execution_count": 22,
   "metadata": {},
   "outputs": [],
   "source": [
    "ytList = []\n",
    "#pointer = trackCol.find({'sourceVideoURL':{'$exists': True}}, {'sourceVideoURL':1 , '_id':0})\n",
    "pointer = trackCol.find({'sourceVideoURL':1 , '_id':0})"
   ]
  },
  {
   "cell_type": "code",
   "execution_count": 23,
   "metadata": {},
   "outputs": [
    {
     "name": "stdout",
     "output_type": "stream",
     "text": [
      "0\n",
      "0\n"
     ]
    }
   ],
   "source": [
    "count1 = 0\n",
    "count0 = 0\n",
    "for docs in pointer:\n",
    "    if docs.get('sourceVideoURL') is None:\n",
    "        ytList.append(0)\n",
    "        count0 = count0 + 1\n",
    "    else:\n",
    "        ytList.append(1)\n",
    "        count1 = count1 + 1\n",
    "print(count0)\n",
    "print(count1)"
   ]
  },
  {
   "cell_type": "code",
   "execution_count": null,
   "metadata": {},
   "outputs": [],
   "source": [
    "df = pd.DataFrame(ytList)\n",
    "ax = df.plot(kind='bar',grid=True,figsize=(10,10),xticks=range(2)).set(ylabel=\"Number of published tracks\", xlabel=\"0 - Not YouTube, 1 - From YouTube\")"
   ]
  },
  {
   "cell_type": "code",
   "execution_count": null,
   "metadata": {},
   "outputs": [],
   "source": [
    "pubTracks = []\n",
    "ytList = []\n",
    "for Id in songId:\n",
    "    pointer = trackCol.find({'objectId' : Id}).skip(250000).limit(250000)\n",
    "    for docs in pointer:\n",
    "        pubTracks.append(docs['durationInSeconds'])\n",
    "        if docs['sourceVideoURL'] == None:\n",
    "            ytList.append(0)\n",
    "        else:\n",
    "            ytList.append(1)\n",
    "        \n",
    "df = pd.DataFrame(pubTracks)\n",
    "ax = df[(df<1000) & (df >= 0)].plot(kind='hist',grid=True,figsize=(10,10),bins = 1000)\n",
    "ax.set(xlabel=\"Duration in seconds\", ylabel=\"Number of mixes\")"
   ]
  },
  {
   "cell_type": "code",
   "execution_count": 40,
   "metadata": {},
   "outputs": [
    {
     "data": {
      "text/plain": [
       "[(0, 244396),\n",
       " (1, 130482),\n",
       " (2, 8014),\n",
       " (3, 3908),\n",
       " (4, 3571),\n",
       " (6, 3165),\n",
       " (5, 3136),\n",
       " (7, 2661),\n",
       " (8, 2144),\n",
       " (9, 1891),\n",
       " (10, 1271),\n",
       " (11, 1020),\n",
       " (12, 758),\n",
       " (13, 484),\n",
       " (14, 372),\n",
       " (15, 292),\n",
       " (16, 185),\n",
       " (17, 141),\n",
       " (18, 121),\n",
       " (19, 78),\n",
       " (20, 52),\n",
       " (21, 38),\n",
       " (22, 32),\n",
       " (23, 27),\n",
       " (24, 20),\n",
       " (25, 18),\n",
       " (27, 17),\n",
       " (26, 14),\n",
       " (28, 8),\n",
       " (30, 8),\n",
       " (29, 5),\n",
       " (31, 5),\n",
       " (33, 5),\n",
       " (40, 4),\n",
       " (35, 2),\n",
       " (36, 2),\n",
       " (32, 1),\n",
       " (34, 1),\n",
       " (42, 1),\n",
       " (47, 1),\n",
       " (57, 1),\n",
       " (65, 1)]"
      ]
     },
     "execution_count": 40,
     "metadata": {},
     "output_type": "execute_result"
    }
   ],
   "source": [
    "TracksPerMix = []\n",
    "#zeroTrackMixes = 0\n",
    "pubTracks = postCol.find({'songAccess':{'$exists': True}}, {'participantsInfo':1 ,'songAccess':1, '_id':0})\n",
    "for docs in pubTracks:\n",
    "    if(docs['songAccess'] == 1):\n",
    "        TracksPerMix.append(len(docs['participantsInfo']['publishedTracks']))\n",
    "TracksPerMixList = sorted(list(set(TracksPerMix)))\n",
    "sorted(zip(TracksPerMixList, np.bincount([TracksPerMixList.index(i) for i in TracksPerMix])), key=lambda x:-x[1])"
   ]
  },
  {
   "cell_type": "code",
   "execution_count": 12,
   "metadata": {},
   "outputs": [],
   "source": []
  },
  {
   "cell_type": "code",
   "execution_count": null,
   "metadata": {},
   "outputs": [],
   "source": []
  },
  {
   "cell_type": "code",
   "execution_count": 45,
   "metadata": {},
   "outputs": [
    {
     "ename": "TypeError",
     "evalue": "'Cursor' object is not callable",
     "output_type": "error",
     "traceback": [
      "\u001b[0;31m\u001b[0m",
      "\u001b[0;31mTypeError\u001b[0mTraceback (most recent call last)",
      "\u001b[0;32m<ipython-input-45-c118b880973b>\u001b[0m in \u001b[0;36m<module>\u001b[0;34m()\u001b[0m\n\u001b[0;32m----> 1\u001b[0;31m \u001b[0mpointer\u001b[0m \u001b[0;34m=\u001b[0m \u001b[0mpostCol\u001b[0m\u001b[0;34m.\u001b[0m\u001b[0mfind\u001b[0m\u001b[0;34m(\u001b[0m\u001b[0;34m)\u001b[0m\u001b[0;34m(\u001b[0m\u001b[0;34m{\u001b[0m\u001b[0;34m'collabSettings'\u001b[0m\u001b[0;34m:\u001b[0m\u001b[0;34m{\u001b[0m\u001b[0;34m'$exists'\u001b[0m\u001b[0;34m:\u001b[0m \u001b[0mTrue\u001b[0m\u001b[0;34m}\u001b[0m\u001b[0;34m}\u001b[0m\u001b[0;34m,\u001b[0m \u001b[0;34m{\u001b[0m\u001b[0;34m'collabSettings'\u001b[0m\u001b[0;34m:\u001b[0m\u001b[0;36m1\u001b[0m\u001b[0;34m,\u001b[0m \u001b[0;34m'_id'\u001b[0m\u001b[0;34m:\u001b[0m\u001b[0;36m0\u001b[0m\u001b[0;34m}\u001b[0m\u001b[0;34m)\u001b[0m\u001b[0;34m\u001b[0m\u001b[0m\n\u001b[0m\u001b[1;32m      2\u001b[0m \u001b[0;32mfor\u001b[0m \u001b[0mdocs\u001b[0m \u001b[0;32min\u001b[0m \u001b[0mpointer\u001b[0m\u001b[0;34m:\u001b[0m\u001b[0;34m\u001b[0m\u001b[0m\n\u001b[1;32m      3\u001b[0m     \u001b[0mpprint\u001b[0m\u001b[0;34m.\u001b[0m\u001b[0mpprint\u001b[0m\u001b[0;34m(\u001b[0m\u001b[0mdocs\u001b[0m\u001b[0;34m)\u001b[0m\u001b[0;34m\u001b[0m\u001b[0m\n",
      "\u001b[0;31mTypeError\u001b[0m: 'Cursor' object is not callable"
     ]
    }
   ],
   "source": [
    "pointer = postCol.find()({'collabSettings':{'$exists': True}}, {'collabSettings':1, '_id':0})\n",
    "for docs in pointer:\n",
    "    pprint.pprint(docs)"
   ]
  },
  {
   "cell_type": "code",
   "execution_count": 16,
   "metadata": {},
   "outputs": [
    {
     "name": "stdout",
     "output_type": "stream",
     "text": [
      "{u'_id': ObjectId('546f05de4e5d9e60267e62dd'),\n",
      " u'activities': [{u'timestamp': datetime.datetime(2014, 3, 30, 16, 36, 55),\n",
      "                  u'type': u'newcomment',\n",
      "                  u'userId': ObjectId('533841bf228ae7d71500004d'),\n",
      "                  u'username': u'Sietesoles'},\n",
      "                 {u'timestamp': datetime.datetime(2014, 3, 30, 16, 36, 55),\n",
      "                  u'type': u'newcomment',\n",
      "                  u'userId': ObjectId('533841bf228ae7d71500004d'),\n",
      "                  u'username': u'Sietesoles'},\n",
      "                 {u'timestamp': datetime.datetime(2014, 3, 30, 16, 36, 55),\n",
      "                  u'type': u'newcomment',\n",
      "                  u'userId': ObjectId('533841bf228ae7d71500004d'),\n",
      "                  u'username': u'Sietesoles'},\n",
      "                 {u'timestamp': datetime.datetime(2014, 3, 30, 16, 36, 55),\n",
      "                  u'type': u'newcomment',\n",
      "                  u'userId': ObjectId('533841bf228ae7d71500004d'),\n",
      "                  u'username': u'Sietesoles'},\n",
      "                 {u'timestamp': datetime.datetime(2014, 8, 5, 16, 55, 43),\n",
      "                  u'type': u'newcomment',\n",
      "                  u'userId': ObjectId('53dbb3c2921ab15a61000644'),\n",
      "                  u'username': u'Aerofreak'},\n",
      "                 {u'timestamp': datetime.datetime(2014, 11, 1, 3, 31, 44),\n",
      "                  u'type': u'newcomment',\n",
      "                  u'userId': ObjectId('5452a59daa85b34c1db33bc6'),\n",
      "                  u'username': u'Muoio'},\n",
      "                 {u'timestamp': datetime.datetime(2015, 7, 10, 4, 10, 19, 882000),\n",
      "                  u'type': u'playPostYoutubeVideo',\n",
      "                  u'userId': ObjectId('516a57f1c364c4b810000001'),\n",
      "                  u'username': u'osi'},\n",
      "                 {u'timestamp': datetime.datetime(2015, 7, 10, 19, 53, 59, 930000),\n",
      "                  u'type': u'playPostYoutubeVideo',\n",
      "                  u'userId': ObjectId('559e92a9fde437d35caa2468'),\n",
      "                  u'username': u'songbird'},\n",
      "                 {u'timestamp': datetime.datetime(2015, 7, 18, 17, 32, 17, 150000),\n",
      "                  u'type': u'playPostYoutubeVideo',\n",
      "                  u'userId': ObjectId('55a2a70b1e6f5ab773e3739e'),\n",
      "                  u'username': u'miguelrech'},\n",
      "                 {u'timestamp': datetime.datetime(2015, 7, 28, 22, 52, 52, 819000),\n",
      "                  u'type': u'playPostYoutubeVideo',\n",
      "                  u'userId': ObjectId('55b685e9aa92201a38f4c493'),\n",
      "                  u'username': u'FranckCascal\\xe8s'},\n",
      "                 {u'timestamp': datetime.datetime(2015, 8, 9, 18, 11, 12, 651000),\n",
      "                  u'type': u'playPostYoutubeVideo',\n",
      "                  u'userId': ObjectId('55a2a70b1e6f5ab773e3739e'),\n",
      "                  u'username': u'miguelrech'},\n",
      "                 {u'timestamp': datetime.datetime(2015, 8, 18, 23, 47, 18, 185000),\n",
      "                  u'type': u'playPostYoutubeVideo',\n",
      "                  u'userId': ObjectId('55d3a98e376f10a0601f5107'),\n",
      "                  u'username': u'laurapetersen'},\n",
      "                 {u'timestamp': datetime.datetime(2015, 8, 25, 1, 25, 54, 182000),\n",
      "                  u'type': u'playPostYoutubeVideo',\n",
      "                  u'userId': ObjectId('518e691058b2e99a6200001f'),\n",
      "                  u'username': u'kobra'},\n",
      "                 {u'timestamp': datetime.datetime(2015, 8, 26, 2, 5, 55, 125000),\n",
      "                  u'type': u'playPostYoutubeVideo',\n",
      "                  u'userId': ObjectId('53f609044050269f5d6234e3'),\n",
      "                  u'username': u'DrummerGuy992'},\n",
      "                 {u'timestamp': datetime.datetime(2015, 9, 11, 15, 13, 22, 207000),\n",
      "                  u'type': u'playPostYoutubeVideo',\n",
      "                  u'userId': ObjectId('55ef242ea23ea3185e3c70ff'),\n",
      "                  u'username': u'JuanchoKarrancho'},\n",
      "                 {u'timestamp': datetime.datetime(2015, 10, 14, 21, 51, 46, 691000),\n",
      "                  u'type': u'playPostYoutubeVideo',\n",
      "                  u'userId': ObjectId('546f7b46239ebb296a9b5435'),\n",
      "                  u'username': u'elgatolosabe'}],\n",
      " u'commentsInfo': {u'commenters': [{u'_id': ObjectId('5452a59daa85b34c1db33bc6'),\n",
      "                                    u'username': u'Muoio'},\n",
      "                                   {u'_id': ObjectId('53dbb3c2921ab15a61000644'),\n",
      "                                    u'username': u'Aerofreak'},\n",
      "                                   {u'_id': ObjectId('533841bf228ae7d71500004d'),\n",
      "                                    u'username': u'Sietesoles'},\n",
      "                                   {u'_id': ObjectId('518e691058b2e99a6200001f'),\n",
      "                                    u'username': u'kobra'}],\n",
      "                   u'count': 4,\n",
      "                   u'latestComments': [{u'_id': ObjectId('53384827228ae7d715000053'),\n",
      "                                        u'comment': u\"The guy with the clicks made me laugh (not that it didn' add to the song though) :D well done all of you\",\n",
      "                                        u'date': datetime.datetime(2014, 3, 30, 16, 36, 55, 805000),\n",
      "                                        u'songId': ObjectId('520c0cef3004aac9f04d434b'),\n",
      "                                        u'userId': ObjectId('533841bf228ae7d71500004d'),\n",
      "                                        u'username': u'Sietesoles'},\n",
      "                                       {u'_id': ObjectId('53e10c8f44cdde0c5b0003c4'),\n",
      "                                        u'comment': u'Great ! :-)',\n",
      "                                        u'date': datetime.datetime(2014, 8, 5, 16, 55, 43, 195000),\n",
      "                                        u'songId': ObjectId('520c0cef3004aac9f04d434b'),\n",
      "                                        u'userId': ObjectId('53dbb3c2921ab15a61000644'),\n",
      "                                        u'username': u'Aerofreak'},\n",
      "                                       {u'_id': ObjectId('54545420f25c24c21da864e9'),\n",
      "                                        u'comment': u'awsome',\n",
      "                                        u'date': datetime.datetime(2014, 11, 1, 3, 31, 44, 236000),\n",
      "                                        u'songId': ObjectId('520c0cef3004aac9f04d434b'),\n",
      "                                        u'userId': ObjectId('5452a59daa85b34c1db33bc6'),\n",
      "                                        u'username': u'Muoio'}]},\n",
      " u'dateCreated': None,\n",
      " u'dateLastModified': datetime.datetime(2013, 12, 30, 2, 29, 49, 204000),\n",
      " u'hasRecordedTracks': True,\n",
      " u'isFeatured': False,\n",
      " u'mb_artist': u'\\xa0',\n",
      " u'numberOfViews': 2915,\n",
      " u'objectId': ObjectId('520c0cef3004aac9f04d434b'),\n",
      " u'owner': u'kobra',\n",
      " u'ownerId': ObjectId('518e691058b2e99a6200001f'),\n",
      " u'ownerIsAlive': False,\n",
      " u'participantsInfo': {u'allCollaborators': [u'kobra',\n",
      "                                             u'osi',\n",
      "                                             u'kari',\n",
      "                                             u'eichelbaum',\n",
      "                                             u'Marina'],\n",
      "                       u'draftCollaborators': [],\n",
      "                       u'draftTracks': [],\n",
      "                       u'publishedCollaborators': [u'kobra',\n",
      "                                                   u'osi',\n",
      "                                                   u'kari',\n",
      "                                                   u'eichelbaum',\n",
      "                                                   u'Marina'],\n",
      "                       u'publishedTracks': [{u'_id': ObjectId('520c0cfa3004aac9f04d434c'),\n",
      "                                             u'fromBulkImport': None,\n",
      "                                             u'imagePreview320': u'http://bandhubmediastream.blob.core.windows.net/files/73C9B7C7-2534-490D-9BC7-BAC86241241B-320x240.jpg',\n",
      "                                             u'imagePreview80': u'http://bandhubmediastream.blob.core.windows.net/files/73C9B7C7-2534-490D-9BC7-BAC86241241B-80x60.jpg',\n",
      "                                             u'isDraft': False,\n",
      "                                             u'owner': u'kobra',\n",
      "                                             u'sourceVideoURL': None},\n",
      "                                            {u'_id': ObjectId('520c0d043004aac9f04d434d'),\n",
      "                                             u'fromBulkImport': None,\n",
      "                                             u'imagePreview320': u'http://bandhubmediastream.blob.core.windows.net/files/51A44279-969E-4226-9D4E-A67353BD190E-320x240.jpg',\n",
      "                                             u'imagePreview80': u'http://bandhubmediastream.blob.core.windows.net/files/51A44279-969E-4226-9D4E-A67353BD190E-80x60.jpg',\n",
      "                                             u'isDraft': False,\n",
      "                                             u'owner': u'kobra',\n",
      "                                             u'sourceVideoURL': None},\n",
      "                                            {u'_id': ObjectId('520c0d0f3004aac9f04d434e'),\n",
      "                                             u'fromBulkImport': None,\n",
      "                                             u'imagePreview320': u'http://bandhubmediastream.blob.core.windows.net/files/9F31340A-5B1C-40E8-8B6D-D4860850A544-320x240.jpg',\n",
      "                                             u'imagePreview80': u'http://bandhubmediastream.blob.core.windows.net/files/9F31340A-5B1C-40E8-8B6D-D4860850A544-80x60.jpg',\n",
      "                                             u'isDraft': False,\n",
      "                                             u'owner': u'kobra',\n",
      "                                             u'sourceVideoURL': None},\n",
      "                                            {u'_id': ObjectId('520c0d193004aac9f04d434f'),\n",
      "                                             u'fromBulkImport': None,\n",
      "                                             u'imagePreview320': u'http://bandhubmediastream.blob.core.windows.net/files/124C558F-F165-4FFE-A579-1FC23AAD2A03-320x240.jpg',\n",
      "                                             u'imagePreview80': u'http://bandhubmediastream.blob.core.windows.net/files/124C558F-F165-4FFE-A579-1FC23AAD2A03-80x60.jpg',\n",
      "                                             u'isDraft': False,\n",
      "                                             u'owner': u'osi',\n",
      "                                             u'sourceVideoURL': None},\n",
      "                                            {u'_id': ObjectId('520c0d233004aac9f04d4350'),\n",
      "                                             u'fromBulkImport': None,\n",
      "                                             u'imagePreview320': u'http://bandhubmediastream.blob.core.windows.net/files/803E19CC-BFAD-4AA4-8F4C-E298BAC20563-320x240.jpg',\n",
      "                                             u'imagePreview80': u'http://bandhubmediastream.blob.core.windows.net/files/803E19CC-BFAD-4AA4-8F4C-E298BAC20563-80x60.jpg',\n",
      "                                             u'isDraft': False,\n",
      "                                             u'owner': u'kari',\n",
      "                                             u'sourceVideoURL': None},\n",
      "                                            {u'_id': ObjectId('527feba37a41aa1c1400000b'),\n",
      "                                             u'fromBulkImport': None,\n",
      "                                             u'imagePreview320': u'http://bandhubmediastream.blob.core.windows.net/files/4D3839E9-2BBC-4385-9B01-6B0B2B0B5F78-320x240.png',\n",
      "                                             u'imagePreview80': u'http://bandhubmediastream.blob.core.windows.net/files/4D3839E9-2BBC-4385-9B01-6B0B2B0B5F78-80x60.png',\n",
      "                                             u'isDraft': False,\n",
      "                                             u'isReviewing': False,\n",
      "                                             u'owner': u'eichelbaum',\n",
      "                                             u'sourceVideoURL': None},\n",
      "                                            {u'_id': ObjectId('5323ba065bd317f37f000030'),\n",
      "                                             u'fromBulkImport': None,\n",
      "                                             u'imagePreview320': u'http://bandhubmediastream.blob.core.windows.net/files/095961da-7d0b-42b9-959d-3ef4b97540d8-320x240.png',\n",
      "                                             u'imagePreview80': u'http://bandhubmediastream.blob.core.windows.net/files/095961da-7d0b-42b9-959d-3ef4b97540d8-80x60.png',\n",
      "                                             u'isDraft': False,\n",
      "                                             u'isReviewing': False,\n",
      "                                             u'owner': u'Marina',\n",
      "                                             u'sourceVideoURL': None}],\n",
      "                       u'usernamesAndIds': [{u'_id': ObjectId('53189393c9fd6af27700000c'),\n",
      "                                             u'username': u'Marina'},\n",
      "                                            {u'_id': ObjectId('527fe9b57a41aa1c14000006'),\n",
      "                                             u'username': u'eichelbaum'},\n",
      "                                            {u'_id': ObjectId('5194563158b2e99a62000068'),\n",
      "                                             u'username': u'kari'},\n",
      "                                            {u'_id': ObjectId('518e691058b2e99a6200001f'),\n",
      "                                             u'username': u'kobra'},\n",
      "                                            {u'_id': ObjectId('516a57f1c364c4b810000001'),\n",
      "                                             u'username': u'osi'}]},\n",
      " u'relevantProUsers': [u'osi', u'kari'],\n",
      " u'relevantUsers': [u'kobra',\n",
      "                    u'osi',\n",
      "                    u'kari',\n",
      "                    u'eichelbaum',\n",
      "                    u'Marina',\n",
      "                    u'Muoio',\n",
      "                    u'Aerofreak',\n",
      "                    u'Sietesoles'],\n",
      " u'score': 143,\n",
      " u'songAccess': 1,\n",
      " u'songInvitedUserIds': [],\n",
      " u'subTitle': u'voice harmonization of this classic song',\n",
      " u'title': u'Good Night Sweet Heart',\n",
      " u'type': u'collab',\n",
      " u'youtubeID': u'cRj1t0t-StU'}\n"
     ]
    }
   ],
   "source": [
    "pointer = postCol.find()[5:6]\n",
    "for docs in pointer:\n",
    "    pprint.pprint(docs)"
   ]
  },
  {
   "cell_type": "code",
   "execution_count": 4,
   "metadata": {},
   "outputs": [
    {
     "name": "stdout",
     "output_type": "stream",
     "text": [
      "u'masterSongId'\n",
      "u'audioFileUrl'\n",
      "u'timeScale'\n",
      "u'sourceVideoURL'\n",
      "u'imagePreview80'\n",
      "u'isDraft'\n",
      "u'startTimeValue'\n",
      "u'songIds'\n",
      "u'audioChannels'\n",
      "u'durationInSeconds'\n",
      "u'isUploading'\n",
      "u'owner'\n",
      "u'_id'\n",
      "u'imagePreview320'\n"
     ]
    }
   ],
   "source": [
    "pointer = trackCol.find()[5]\n",
    "for docs in pointer:\n",
    "    pprint.pprint(docs)"
   ]
  },
  {
   "cell_type": "code",
   "execution_count": 7,
   "metadata": {},
   "outputs": [
    {
     "name": "stdout",
     "output_type": "stream",
     "text": [
      "{u'_id': ObjectId('520bfed03004aac9f04d42fc'),\n",
      " u'access': 2,\n",
      " u'dateLastModified': datetime.datetime(2013, 10, 9, 3, 8, 31, 699000),\n",
      " u'description': u'',\n",
      " u'fbImage': u'http://bandhubmediastream.blob.core.windows.net/files/ct-520bfed03004aac9f04d42fc.png',\n",
      " u'fbImageTracks': [u'520bff6d3004aac9f04d42fd'],\n",
      " u'hasRecordedTracks': False,\n",
      " u'isFeatured': False,\n",
      " u'masterSongId': ObjectId('522a1c836310675e3200002c'),\n",
      " u'migratedToAzure': True,\n",
      " u'mp4MergedMobileVideoUrl': u'http://bandhubmediastream.blob.core.windows.net/files/m-f-96ad19ba-96a8-4fdf-9584-e8df11cdd754.mp4',\n",
      " u'mp4MergedVideoUrl': None,\n",
      " u'newSearchIndexChecked': True,\n",
      " u'numberOfViews': 2,\n",
      " u'oggMergedVideoUrl': None,\n",
      " u'oldSettings': [{u'mute': False, u'solo': False, u'volume': 1},\n",
      "                  {u'mute': True, u'solo': False, u'volume': 1},\n",
      "                  {u'mute': False, u'solo': False, u'volume': 1}],\n",
      " u'owner': u'kobra',\n",
      " u'parentVersionsOption': 2,\n",
      " u'publishedTracksState': [{u'imagePreview320': u'http://img.youtube.com/vi/JUsa0BTepkQ/2.jpg',\n",
      "                            u'imagePreview80': u'http://img.youtube.com/vi/JUsa0BTepkQ/2.jpg',\n",
      "                            u'owner': u''}],\n",
      " u'searchIndexChecked': True,\n",
      " u'settings': {u'520bff6d3004aac9f04d42fd': {u'audioFileUrl': u'http://bandhubwebmedia0.blob.core.windows.net/files/520bfed03004aac9f04d42fc-520bff6d3004aac9f04d42fd.m4a',\n",
      "                                             u'mute': False,\n",
      "                                             u'solo': False,\n",
      "                                             u'volume': 1},\n",
      "               u'520bff753004aac9f04d42fe': {u'audioFileUrl': u'http://bandhubwebmedia1.blob.core.windows.net/files/520bfed03004aac9f04d42fc-520bff753004aac9f04d42fe.m4a',\n",
      "                                             u'mute': True,\n",
      "                                             u'solo': False,\n",
      "                                             u'volume': 1},\n",
      "               u'520bff903004aac9f04d42ff': {u'audioFileUrl': u'http://bandhubwebmedia2.blob.core.windows.net/files/520bfed03004aac9f04d42fc-520bff903004aac9f04d42ff.m4a',\n",
      "                                             u'mute': False,\n",
      "                                             u'solo': False,\n",
      "                                             u'volume': 1}},\n",
      " u'songId': u'520bfed03004aac9f04d42fc',\n",
      " u'subTitle': u'',\n",
      " u'title': u'rasgu\\xf1a las piedras',\n",
      " u'trackIDs': [ObjectId('520bff6d3004aac9f04d42fd'),\n",
      "               ObjectId('520bff753004aac9f04d42fe'),\n",
      "               ObjectId('520bff903004aac9f04d42ff')],\n",
      " u'trackSubmissionsOption': 1,\n",
      " u'versionsOption': 2}\n"
     ]
    }
   ],
   "source": [
    "pointer = songCol.find()[5:6]\n",
    "for docs in pointer:\n",
    "    pprint.pprint(docs)"
   ]
  },
  {
   "cell_type": "code",
   "execution_count": 6,
   "metadata": {},
   "outputs": [
    {
     "name": "stdout",
     "output_type": "stream",
     "text": [
      "u'mp4MergedVideoUrl'\n",
      "u'oggMergedVideoUrl'\n",
      "u'songId'\n",
      "u'_id'\n",
      "u'trackIds'\n"
     ]
    }
   ],
   "source": [
    "pointer = vidCol.find()[5]\n",
    "for docs in pointer:\n",
    "    pprint.pprint(docs)"
   ]
  },
  {
   "cell_type": "code",
   "execution_count": 27,
   "metadata": {
    "scrolled": false
   },
   "outputs": [],
   "source": [
    "#pointer = songCol.find()[15:16]\n",
    "genreList = []\n",
    "genre = songCol.find({'channels':{'$exists': True}}, {'channels':1 , '_id':0})\n",
    "count = 0\n",
    "for docs in genre:\n",
    "    count = count + 1\n",
    "    if len(docs['channels'])>0:\n",
    "        genreList.append(docs['channels']) \n",
    "#pprint.pprint(genreList)"
   ]
  },
  {
   "cell_type": "code",
   "execution_count": 12,
   "metadata": {
    "scrolled": false
   },
   "outputs": [],
   "source": [
    "#pointer = songCol.find()[15:16]\n",
    "genre_set = set()\n",
    "for g in genreList:\n",
    "    for _g in g:\n",
    "        genre_set.add(_g)"
   ]
  },
  {
   "cell_type": "code",
   "execution_count": 13,
   "metadata": {},
   "outputs": [
    {
     "data": {
      "text/plain": [
       "46"
      ]
     },
     "execution_count": 13,
     "metadata": {},
     "output_type": "execute_result"
    }
   ],
   "source": [
    "len(genre_set)"
   ]
  },
  {
   "cell_type": "code",
   "execution_count": 15,
   "metadata": {},
   "outputs": [
    {
     "data": {
      "text/plain": [
       "1199"
      ]
     },
     "execution_count": 15,
     "metadata": {},
     "output_type": "execute_result"
    }
   ],
   "source": [
    "genre.count()"
   ]
  },
  {
   "cell_type": "code",
   "execution_count": 19,
   "metadata": {},
   "outputs": [],
   "source": [
    "cursor = trackCol.find({'instrumentAssignedBySongOwner' : {'$exists' : True}})\n",
    "myList = []\n",
    "for doc in cursor:\n",
    "    myList.append(doc['instrumentAssignedBySongOwner'])"
   ]
  },
  {
   "cell_type": "code",
   "execution_count": 21,
   "metadata": {},
   "outputs": [
    {
     "data": {
      "text/plain": [
       "23"
      ]
     },
     "execution_count": 21,
     "metadata": {},
     "output_type": "execute_result"
    }
   ],
   "source": [
    "len(set(myList))"
   ]
  },
  {
   "cell_type": "code",
   "execution_count": 25,
   "metadata": {},
   "outputs": [],
   "source": [
    "instrument_set = list(set(myList))"
   ]
  },
  {
   "cell_type": "code",
   "execution_count": 29,
   "metadata": {},
   "outputs": [
    {
     "data": {
      "text/plain": [
       "[(u'lead-vocals', 450),\n",
       " (u'rhythm-guitar', 358),\n",
       " (u'bass', 316),\n",
       " (u'lead-guitar', 276),\n",
       " (u'backing-vocals', 234),\n",
       " (u'drums', 228),\n",
       " (u'keys-piano', 143),\n",
       " (u'percussion', 133),\n",
       " (u'mixing', 35),\n",
       " (u'synth-effects', 24),\n",
       " (u'sax', 20),\n",
       " (u'trumpet', 12),\n",
       " (u'harmonica', 9),\n",
       " (u'flute', 8),\n",
       " (u'harp', 6),\n",
       " (u'ukulele', 4),\n",
       " (u'turntable', 3),\n",
       " (u'violin', 2),\n",
       " (u'clarinet', 2),\n",
       " (u'banjo', 2),\n",
       " (u'cello', 2),\n",
       " (u'accordion', 1),\n",
       " (u'pedal-steel-guitar', 1)]"
      ]
     },
     "execution_count": 29,
     "metadata": {},
     "output_type": "execute_result"
    }
   ],
   "source": [
    "sorted(zip(instrument_set, np.bincount([instrument_set.index(i) for i in myList])), key=lambda x:-x[1])"
   ]
  },
  {
   "cell_type": "code",
   "execution_count": 25,
   "metadata": {},
   "outputs": [
    {
     "name": "stdout",
     "output_type": "stream",
     "text": [
      "{u'durationInSeconds': 175.5675354003906}\n",
      "{u'durationInSeconds': 215.087890625}\n",
      "{u'durationInSeconds': 9.707391738891602}\n",
      "{u'durationInSeconds': 9.150113105773926}\n",
      "{u'durationInSeconds': 9.126893043518066}\n",
      "{u'durationInSeconds': 190.9159240722656}\n",
      "{u'durationInSeconds': 8.825034141540527}\n",
      "{u'durationInSeconds': 138.3227233886719}\n",
      "{u'durationInSeconds': 127.3164596557617}\n"
     ]
    }
   ],
   "source": [
    "cursor = trackCol.find({'durationInSeconds':{'$exists': True}}, {'durationInSeconds':1 , '_id':0})\n",
    "for doc in cursor[1:10]:\n",
    "    pprint.pprint(doc)"
   ]
  },
  {
   "cell_type": "code",
   "execution_count": null,
   "metadata": {},
   "outputs": [],
   "source": [
    "pointer = trackCol.find({'durationInSeconds':{'$exists': True}}, {'durationInSeconds':1 , '_id':0})\n",
    "for docs in "
   ]
  }
 ],
 "metadata": {
  "kernelspec": {
   "display_name": "Python 2",
   "language": "python",
   "name": "python2"
  },
  "language_info": {
   "codemirror_mode": {
    "name": "ipython",
    "version": 2
   },
   "file_extension": ".py",
   "mimetype": "text/x-python",
   "name": "python",
   "nbconvert_exporter": "python",
   "pygments_lexer": "ipython2",
   "version": "2.7.14"
  }
 },
 "nbformat": 4,
 "nbformat_minor": 2
}
