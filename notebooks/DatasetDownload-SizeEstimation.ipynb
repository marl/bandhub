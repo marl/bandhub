{
 "cells": [
  {
   "cell_type": "code",
   "execution_count": 1,
   "metadata": {},
   "outputs": [],
   "source": [
    "import pandas as pd\n",
    "import os\n",
    "import urllib\n",
    "import requests\n",
    "import soundfile as sf\n",
    "import numpy as np\n",
    "import random\n",
    "import soundfile as sf\n",
    "import ffmpy"
   ]
  },
  {
   "cell_type": "code",
   "execution_count": 2,
   "metadata": {},
   "outputs": [],
   "source": [
    "filename = 'BandhubDataset.h5'\n",
    "data = pd.read_hdf(filename, 'bandhub')"
   ]
  },
  {
   "cell_type": "code",
   "execution_count": 3,
   "metadata": {},
   "outputs": [
    {
     "name": "stdout",
     "output_type": "stream",
     "text": [
      "(568340, 32)\n"
     ]
    }
   ],
   "source": [
    "shape = data.shape\n",
    "print(shape)"
   ]
  },
  {
   "cell_type": "code",
   "execution_count": 24,
   "metadata": {
    "collapsed": true
   },
   "outputs": [
    {
     "data": {
      "text/plain": [
       "trackId                                               54301c6e48668321233705fa\n",
       "songId                                                54301b941303854f365e4f33\n",
       "masterOwner                                                        lucy.savage\n",
       "trackOwner                                                         lucy.savage\n",
       "artist                                                            Lana Del Rey\n",
       "title                                   \"Born To Die,\" by Lana Del Rey (Cover)\n",
       "views                                                                       10\n",
       "instrument                                                                 NaN\n",
       "contentTags                                                               null\n",
       "audioURL                     http://bandhubwebmedia1.blob.core.windows.net/...\n",
       "cleanProcessedAudioURL                                                     NaN\n",
       "processedAudioURL                                                          NaN\n",
       "startTime                                                                    0\n",
       "trackDuration                                                           291.85\n",
       "audioSampleRate                                                              0\n",
       "trackVolume                                                                0.5\n",
       "compressorValue                                                              0\n",
       "panValue                                                                     0\n",
       "echoValue                                                                    0\n",
       "noiseGateValue                                                               0\n",
       "reverbValue                                                                  0\n",
       "solo                                                                     False\n",
       "trackVideo                   http://bandhubmediastream.blob.core.windows.ne...\n",
       "fromYouTube                                                               True\n",
       "isFinished                                                               False\n",
       "isPublished                                                               True\n",
       "hasPublishedTracks                                                        True\n",
       "mixedAudio                                                                 NaN\n",
       "mixedVideo                   http://bandhubmediastream.blob.core.windows.ne...\n",
       "musicBrainzID                                         544327d4e4b014e1a64ed3cc\n",
       "newMusicBrainzID                                      544327d4e4b014e1a64ed3cc\n",
       "publicSongCollectionIndex                                                20000\n",
       "Name: 0, dtype: object"
      ]
     },
     "execution_count": 24,
     "metadata": {},
     "output_type": "execute_result"
    }
   ],
   "source": [
    "data.iloc[0]"
   ]
  },
  {
   "cell_type": "code",
   "execution_count": 11,
   "metadata": {},
   "outputs": [],
   "source": [
    "# random selection of 1000 indices\n",
    "indices = []\n",
    "for i in range(1000):\n",
    "    currIdx = None\n",
    "    while currIdx is None:\n",
    "        currIdx = random.randint(0,len(data)-1)\n",
    "        if np.bool(data.iloc[currIdx].isPublished):\n",
    "            indices.append(currIdx)\n",
    "        else:\n",
    "            currIdx = None\n",
    "if len(pd.unique(indices)) < 1000:\n",
    "    newIndices = pd.unique(indices)\n",
    "    remaining = 1000 - len(newIndices)\n",
    "    for i in range(remaining):\n",
    "        currIdx = None\n",
    "        while currIdx is None:\n",
    "            currIdx = random.randint(0,len(data)-1)\n",
    "            if np.bool(data.iloc[currIdx].isPublished):\n",
    "                indices.append(currIdx)\n",
    "            else:\n",
    "                currIdx = None\n",
    "finalIdx = pd.unique(indices)"
   ]
  },
  {
   "cell_type": "code",
   "execution_count": 17,
   "metadata": {},
   "outputs": [
    {
     "name": "stdout",
     "output_type": "stream",
     "text": [
      "1000\n"
     ]
    }
   ],
   "source": [
    "print(len(pd.unique(indices)))"
   ]
  },
  {
   "cell_type": "code",
   "execution_count": 15,
   "metadata": {},
   "outputs": [
    {
     "name": "stdout",
     "output_type": "stream",
     "text": [
      "/scratch/gjr286/DatasetSizeEstimation/trackVideo\n"
     ]
    }
   ],
   "source": [
    "individualDirectory = ['/trackAudio','/trackVideo','/processedAudio','/mixedVideo','/mixedAudio']\n",
    "path = '/scratch/gjr286/DatasetSizeEstimation' + individualDirectory[1]\n",
    "print(path)"
   ]
  },
  {
   "cell_type": "code",
   "execution_count": null,
   "metadata": {},
   "outputs": [
    {
     "name": "stdout",
     "output_type": "stream",
     "text": [
      "182.98\n",
      "15.22\n",
      "100.27\n",
      "450.34\n",
      "532.06\n",
      "9.95\n",
      "59.64\n",
      "113.0\n",
      "58.21\n",
      "65.74\n",
      "313.52\n",
      "453.32\n",
      "113.76\n",
      "355.65\n",
      "94.33\n",
      "299.01\n",
      "558.83\n",
      "411.38\n",
      "18.01\n",
      "129.97\n",
      "529.28\n"
     ]
    }
   ],
   "source": [
    "## CURRENT DOWNLOAD FUNCTION\n",
    "\n",
    "path = '/scratch/gjr286/DatasetSizeEstimation'\n",
    "os.mkdir(path)\n",
    "os.chdir(path)\n",
    "individualDirectory = ['/trackAudio','/trackVideo','/processedAudio','/mixedVideo','/mixedAudio']\n",
    "\n",
    "os.mkdir(path + individualDirectory[0])\n",
    "os.mkdir(path + individualDirectory[1])\n",
    "os.mkdir(path + individualDirectory[2])\n",
    "os.mkdir(path + individualDirectory[3])\n",
    "os.mkdir(path + individualDirectory[4])\n",
    "\n",
    "for i in finalIdx:\n",
    "    if (i%10 == 0):\n",
    "        percent = i / 1000\n",
    "        print(percent)\n",
    "        # this print statement doesnt work as intended\n",
    "    trackAudio = data.audioURL.iloc[i]\n",
    "    trackVideo = data.trackVideo.iloc[i]\n",
    "    processedAudio1 = data.cleanProcessedAudioURL.iloc[i]\n",
    "    processedAudio2 = data.processedAudioURL.iloc[i]\n",
    "    mixedVideo = data.mixedVideo.iloc[i]\n",
    "    mixedAudio = data.mixedAudio.iloc[i]\n",
    "    \n",
    "    if pd.notnull(trackAudio):\n",
    "        filename = trackAudio.rpartition('/')[2]\n",
    "        os.chdir(path + individualDirectory[0])\n",
    "        \n",
    "        #filename = individualDirectory[0] + '/' + filename\n",
    "        r = requests.get(trackAudio)\n",
    "        with open(filename, 'wb') as fd:\n",
    "            for chunk in r.iter_content(chunk_size=128):\n",
    "                fd.write(chunk)\n",
    "    \n",
    "    if pd.notnull(trackVideo):\n",
    "        filename = trackVideo.rpartition('/')[2]\n",
    "        os.chdir(path + individualDirectory[1])\n",
    "\n",
    "        #filename = individualDirectory[1] + '/' + filename\n",
    "        r = requests.get(trackVideo)\n",
    "        with open(filename, 'wb') as fd:\n",
    "            for chunk in r.iter_content(chunk_size=128):\n",
    "                fd.write(chunk)\n",
    "    \n",
    "    if pd.notnull(processedAudio1):\n",
    "        filename = processedAudio1.rpartition('/')[2]\n",
    "        os.chdir(path + individualDirectory[2])\n",
    "\n",
    "        #filename = individualDirectory[2] + '/' + filename\n",
    "        r = requests.get(processedAudio1)\n",
    "        with open(filename, 'wb') as fd:\n",
    "            for chunk in r.iter_content(chunk_size=128):\n",
    "                fd.write(chunk)\n",
    "    \n",
    "    if pd.notnull(processedAudio2):\n",
    "        filename = processedAudio2.rpartition('/')[2]\n",
    "        os.chdir(path + individualDirectory[2])\n",
    "\n",
    "        #filename = individualDirectory[2] + '/' + filename\n",
    "        r = requests.get(processedAudio2)\n",
    "        with open(filename, 'wb') as fd:\n",
    "            for chunk in r.iter_content(chunk_size=128):\n",
    "                fd.write(chunk)\n",
    "                \n",
    "    if pd.notnull(mixedVideo):\n",
    "        filename = mixedVideo.rpartition('/')[2]\n",
    "        os.chdir(path + individualDirectory[3])\n",
    "\n",
    "        #filename = individualDirectory[3] + '/' + filename\n",
    "        r = requests.get(mixedVideo)\n",
    "        with open(filename, 'wb') as fd:\n",
    "            for chunk in r.iter_content(chunk_size=128):\n",
    "                fd.write(chunk)\n",
    "                \n",
    "    if pd.notnull(mixedAudio):\n",
    "        filename = mixedAudio.rpartition('/')[2]\n",
    "        os.chdir(path + individualDirectory[4])\n",
    "\n",
    "        #filename = individualDirectory[4] + '/' + filename\n",
    "        r = requests.get(mixedAudio)\n",
    "        with open(filename, 'wb') as fd:\n",
    "            for chunk in r.iter_content(chunk_size=128):\n",
    "                fd.write(chunk)\n",
    "    \n",
    "    "
   ]
  },
  {
   "cell_type": "code",
   "execution_count": null,
   "metadata": {
    "collapsed": true
   },
   "outputs": [
    {
     "name": "stdout",
     "output_type": "stream",
     "text": [
      "0.016666666666666666\n",
      "0.03333333333333333\n",
      "0.05\n",
      "0.06666666666666667\n",
      "0.08333333333333333\n",
      "0.1\n",
      "0.11666666666666667\n",
      "0.13333333333333333\n",
      "0.15\n",
      "0.16666666666666666\n",
      "0.18333333333333332\n",
      "0.2\n",
      "0.21666666666666667\n",
      "0.23333333333333334\n",
      "0.25\n",
      "0.26666666666666666\n",
      "0.2833333333333333\n",
      "0.3\n",
      "0.31666666666666665\n",
      "0.3333333333333333\n",
      "0.35\n",
      "0.36666666666666664\n",
      "0.38333333333333336\n",
      "0.4\n",
      "0.4166666666666667\n",
      "0.43333333333333335\n",
      "0.45\n",
      "0.4666666666666667\n",
      "0.48333333333333334\n",
      "0.5\n",
      "0.5166666666666667\n",
      "0.5333333333333333\n",
      "0.55\n",
      "0.5666666666666667\n",
      "0.5833333333333334\n",
      "0.6\n",
      "0.6166666666666667\n",
      "0.6333333333333333\n",
      "0.65\n",
      "0.6666666666666666\n",
      "0.6833333333333333\n",
      "0.7\n",
      "0.7166666666666667\n",
      "0.7333333333333333\n",
      "0.75\n",
      "0.7666666666666667\n",
      "0.7833333333333333\n",
      "0.8\n",
      "0.8166666666666667\n",
      "0.8333333333333334\n",
      "0.85\n",
      "0.8666666666666667\n",
      "0.8833333333333333\n",
      "0.9\n",
      "0.9166666666666666\n",
      "0.9333333333333333\n",
      "0.95\n",
      "0.9666666666666667\n",
      "0.9833333333333333\n",
      "1.0\n",
      "audioURLs done\n",
      "0.016666666666666666\n",
      "0.03333333333333333\n",
      "0.05\n",
      "0.06666666666666667\n",
      "0.08333333333333333\n",
      "0.1\n",
      "0.11666666666666667\n",
      "0.13333333333333333\n",
      "0.15\n",
      "0.16666666666666666\n",
      "0.18333333333333332\n",
      "0.2\n",
      "0.21666666666666667\n",
      "0.23333333333333334\n",
      "0.25\n",
      "0.26666666666666666\n",
      "0.2833333333333333\n",
      "0.3\n",
      "0.31666666666666665\n",
      "0.3333333333333333\n",
      "0.35\n",
      "0.36666666666666664\n",
      "0.38333333333333336\n",
      "0.4\n",
      "0.4166666666666667\n",
      "0.43333333333333335\n",
      "0.45\n",
      "0.4666666666666667\n",
      "0.48333333333333334\n",
      "0.5\n",
      "0.5166666666666667\n",
      "0.5333333333333333\n",
      "0.55\n",
      "0.5666666666666667\n",
      "0.5833333333333334\n",
      "0.6\n",
      "0.6166666666666667\n",
      "0.6333333333333333\n",
      "0.65\n",
      "0.6666666666666666\n",
      "0.6833333333333333\n",
      "0.7\n",
      "0.7166666666666667\n",
      "0.7333333333333333\n",
      "0.75\n",
      "0.7666666666666667\n",
      "0.7833333333333333\n",
      "0.8\n",
      "0.8166666666666667\n",
      "0.8333333333333334\n",
      "0.85\n",
      "0.8666666666666667\n",
      "0.8833333333333333\n",
      "0.9\n",
      "0.9166666666666666\n",
      "0.9333333333333333\n",
      "0.95\n",
      "0.9666666666666667\n",
      "0.9833333333333333\n",
      "1.0\n",
      "trackVideos done\n",
      "0.016666666666666666\n",
      "0.03333333333333333\n",
      "0.05\n",
      "0.06666666666666667\n",
      "0.08333333333333333\n",
      "0.1\n",
      "0.11666666666666667\n",
      "0.13333333333333333\n",
      "0.15\n",
      "0.16666666666666666\n",
      "0.18333333333333332\n",
      "0.2\n",
      "0.21666666666666667\n",
      "0.23333333333333334\n",
      "0.25\n",
      "0.26666666666666666\n",
      "0.2833333333333333\n",
      "0.3\n",
      "0.31666666666666665\n",
      "0.3333333333333333\n",
      "0.35\n",
      "0.36666666666666664\n",
      "0.38333333333333336\n",
      "0.4\n",
      "0.4166666666666667\n",
      "0.43333333333333335\n",
      "0.45\n",
      "0.4666666666666667\n",
      "0.48333333333333334\n",
      "0.5\n",
      "0.5166666666666667\n",
      "0.5333333333333333\n",
      "0.55\n",
      "0.5666666666666667\n",
      "0.5833333333333334\n",
      "0.6\n",
      "0.6166666666666667\n",
      "0.6333333333333333\n",
      "0.65\n",
      "0.6666666666666666\n",
      "0.6833333333333333\n",
      "0.7\n",
      "0.7166666666666667\n",
      "0.7333333333333333\n",
      "0.75\n",
      "0.7666666666666667\n",
      "0.7833333333333333\n",
      "0.8\n",
      "0.8166666666666667\n",
      "0.8333333333333334\n",
      "0.85\n",
      "0.8666666666666667\n",
      "0.8833333333333333\n",
      "0.9\n",
      "0.9166666666666666\n",
      "0.9333333333333333\n",
      "0.95\n",
      "0.9666666666666667\n",
      "0.9833333333333333\n",
      "1.0\n",
      "processed audio done\n",
      "0.016666666666666666\n",
      "0.03333333333333333\n",
      "0.05\n",
      "0.06666666666666667\n",
      "0.08333333333333333\n",
      "0.1\n",
      "0.11666666666666667\n",
      "0.13333333333333333\n",
      "0.15\n",
      "0.16666666666666666\n",
      "0.18333333333333332\n",
      "0.2\n",
      "0.21666666666666667\n",
      "0.23333333333333334\n",
      "0.25\n",
      "0.26666666666666666\n",
      "0.2833333333333333\n",
      "0.3\n",
      "0.31666666666666665\n",
      "0.3333333333333333\n",
      "0.35\n",
      "0.36666666666666664\n",
      "0.38333333333333336\n",
      "0.4\n",
      "0.4166666666666667\n",
      "0.43333333333333335\n",
      "0.45\n",
      "0.4666666666666667\n",
      "0.48333333333333334\n",
      "0.5\n",
      "0.5166666666666667\n",
      "0.5333333333333333\n",
      "0.55\n",
      "0.5666666666666667\n",
      "0.5833333333333334\n",
      "0.6\n"
     ]
    }
   ],
   "source": [
    "## OLD DOWNLOAD FUNCTION\n",
    "\n",
    "startIndex = 0\n",
    "endIndex = 600\n",
    "audioURLs = data.audioURL\n",
    "trackVideo = data.trackVideo\n",
    "processedAudioURL = data.processedAudioURL\n",
    "mixedVideo = pd.unique(data.mixedVideo)\n",
    "mixedAudio = pd.unique(data.mixedAudio)\n",
    "path = '/scratch/gjr286/dataset5'\n",
    "os.mkdir(path)\n",
    "os.chdir(path)\n",
    "\n",
    "i = 0\n",
    "for url in audioURLs[startIndex:endIndex]:\n",
    "    i=i+1\n",
    "    if (i%10 == 0):\n",
    "        percent = i / endIndex\n",
    "        print(percent)\n",
    "    if pd.notnull(url):\n",
    "        filename = url.rpartition('/')[2]\n",
    "        r = requests.get(url)\n",
    "        with open(filename, 'wb') as fd:\n",
    "            for chunk in r.iter_content(chunk_size=128):\n",
    "                fd.write(chunk)\n",
    "print('audioURLs done')\n",
    "\n",
    "i = 0;            \n",
    "for url in trackVideo[startIndex:endIndex]:\n",
    "    i=i+1\n",
    "    if (i%10 == 0):\n",
    "        percent = i / endIndex\n",
    "        print(percent)\n",
    "    if pd.notnull(url):\n",
    "        filename = url.rpartition('/')[2]\n",
    "        r = requests.get(url)\n",
    "        with open(filename, 'wb') as fd:\n",
    "            for chunk in r.iter_content(chunk_size=128):\n",
    "                fd.write(chunk)\n",
    "print('trackVideos done')\n",
    "\n",
    "i = 0\n",
    "for url in processedAudioURL[startIndex:endIndex]:\n",
    "    i=i+1\n",
    "    if (i%10 == 0):\n",
    "        percent = i / endIndex\n",
    "        print(percent)\n",
    "    if pd.notnull(url):\n",
    "        filename = url.rpartition('/')[2]\n",
    "        r = requests.get(url)\n",
    "        with open(filename, 'wb') as fd:\n",
    "            for chunk in r.iter_content(chunk_size=128):\n",
    "                fd.write(chunk)\n",
    "print('processed audio done')\n",
    "\n",
    "i = 0                \n",
    "for url in mixedVideo[startIndex:endIndex]:\n",
    "    i=i+1\n",
    "    if (i%10 == 0):\n",
    "        percent = i / endIndex\n",
    "        print(percent)\n",
    "    if pd.notnull(url):\n",
    "        filename = url.rpartition('/')[2]\n",
    "        r = requests.get(url)\n",
    "        with open(filename, 'wb') as fd:\n",
    "            for chunk in r.iter_content(chunk_size=128):\n",
    "                fd.write(chunk)\n",
    "print('mixedVideo done')\n",
    "\n",
    "i = 0\n",
    "for url in mixedAudio[startIndx:endIndex]:\n",
    "    i=i+1\n",
    "    if (i%10 == 0):\n",
    "        percent = i / endIndex\n",
    "        print(percent)\n",
    "    if pd.notnull(url):\n",
    "        filename = url.rpartition('/')[2]\n",
    "        r = requests.get(url)\n",
    "        with open(filename, 'wb') as fd:\n",
    "            for chunk in r.iter_content(chunk_size=128):\n",
    "                fd.write(chunk)\n",
    "print('mixedAudio done')\n",
    "    "
   ]
  },
  {
   "cell_type": "code",
   "execution_count": 85,
   "metadata": {},
   "outputs": [
    {
     "name": "stdout",
     "output_type": "stream",
     "text": [
      "29232.59693877552\n",
      "123\n"
     ]
    }
   ],
   "source": [
    "path = '/scratch/gjr286/DatasetSizeEstimation/uncompressedProcessedAudio'\n",
    "#os.chdir(path)\n",
    "count = 0\n",
    "totalDuration = 0\n",
    "for filename in os.listdir(path):\n",
    "    fullpath = path + '/' + filename\n",
    "    audioData, samplerate = sf.read(fullpath)\n",
    "    duration = len(audioData) / samplerate\n",
    "    totalDuration = totalDuration + duration\n",
    "    count = count+1\n",
    "print(totalDuration)\n",
    "print(count)"
   ]
  },
  {
   "cell_type": "code",
   "execution_count": null,
   "metadata": {},
   "outputs": [],
   "source": [
    "data, samplerate = sf.read('existing_file.wav')\n"
   ]
  },
  {
   "cell_type": "code",
   "execution_count": 28,
   "metadata": {},
   "outputs": [
    {
     "data": {
      "text/plain": [
       "119015999.87567055"
      ]
     },
     "execution_count": 28,
     "metadata": {},
     "output_type": "execute_result"
    }
   ],
   "source": [
    "sum(data.trackDuration)"
   ]
  },
  {
   "cell_type": "code",
   "execution_count": 29,
   "metadata": {},
   "outputs": [],
   "source": [
    "publishedData = data.isPublished"
   ]
  },
  {
   "cell_type": "code",
   "execution_count": 5,
   "metadata": {},
   "outputs": [],
   "source": [
    "publishedDataset = data.loc[data.isPublished == True]"
   ]
  },
  {
   "cell_type": "code",
   "execution_count": 6,
   "metadata": {},
   "outputs": [
    {
     "data": {
      "text/plain": [
       "271052"
      ]
     },
     "execution_count": 6,
     "metadata": {},
     "output_type": "execute_result"
    }
   ],
   "source": [
    "len(publishedDataset)"
   ]
  },
  {
   "cell_type": "code",
   "execution_count": 56,
   "metadata": {},
   "outputs": [
    {
     "data": {
      "text/plain": [
       "59365116.73433992"
      ]
     },
     "execution_count": 56,
     "metadata": {},
     "output_type": "execute_result"
    }
   ],
   "source": [
    "sum(publishedDataset.trackDuration)"
   ]
  },
  {
   "cell_type": "code",
   "execution_count": 84,
   "metadata": {
    "collapsed": true
   },
   "outputs": [
    {
     "name": "stdout",
     "output_type": "stream",
     "text": [
      "44100\n",
      "44100\n",
      "44100\n",
      "44100\n",
      "44100\n",
      "44100\n",
      "44100\n",
      "44100\n",
      "44100\n",
      "44100\n",
      "44100\n",
      "44100\n",
      "44100\n",
      "44100\n",
      "44100\n",
      "44100\n",
      "44100\n",
      "44100\n",
      "44100\n",
      "44100\n",
      "44100\n",
      "44100\n",
      "44100\n",
      "44100\n",
      "44100\n",
      "44100\n",
      "44100\n",
      "44100\n",
      "44100\n",
      "44100\n",
      "44100\n",
      "44100\n",
      "44100\n",
      "44100\n",
      "44100\n",
      "44100\n",
      "44100\n",
      "44100\n",
      "44100\n",
      "44100\n",
      "44100\n",
      "44100\n",
      "44100\n",
      "44100\n",
      "44100\n",
      "44100\n",
      "44100\n",
      "44100\n",
      "44100\n",
      "44100\n",
      "44100\n",
      "44100\n",
      "44100\n",
      "44100\n",
      "44100\n",
      "44100\n",
      "44100\n",
      "44100\n",
      "44100\n",
      "44100\n",
      "44100\n",
      "44100\n",
      "44100\n",
      "44100\n",
      "44100\n",
      "44100\n",
      "44100\n",
      "44100\n",
      "44100\n",
      "44100\n",
      "44100\n",
      "44100\n",
      "44100\n",
      "44100\n",
      "44100\n",
      "44100\n",
      "44100\n",
      "44100\n",
      "44100\n",
      "44100\n",
      "44100\n",
      "44100\n",
      "44100\n",
      "44100\n",
      "44100\n",
      "44100\n",
      "44100\n",
      "44100\n",
      "44100\n",
      "44100\n",
      "44100\n",
      "44100\n",
      "44100\n",
      "44100\n",
      "44100\n",
      "44100\n",
      "44100\n",
      "44100\n",
      "44100\n",
      "44100\n",
      "44100\n",
      "44100\n",
      "44100\n",
      "44100\n",
      "44100\n",
      "44100\n",
      "44100\n",
      "44100\n",
      "44100\n",
      "44100\n",
      "44100\n",
      "44100\n",
      "44100\n",
      "44100\n",
      "44100\n",
      "44100\n",
      "44100\n",
      "44100\n",
      "44100\n",
      "44100\n",
      "44100\n",
      "44100\n",
      "44100\n",
      "29232.596938775518\n"
     ]
    }
   ],
   "source": [
    "path = '/scratch/gjr286/DatasetSizeEstimation/processedAudio'\n",
    "outpath = '/scratch/gjr286/DatasetSizeEstimation/uncompressedProcessedAudio'\n",
    "#os.listdir(path)\n",
    "totalDuration = 0\n",
    "count = 0\n",
    "for filename in os.listdir(path):\n",
    "    fullpath = path + '/' + filename\n",
    "    #print(filename)\n",
    "    outfilename = filename[:-4] + '.flac'\n",
    "    #print(outfilename)\n",
    "    outFN = outpath + '/' + outfilename\n",
    "    #print(outFN)\n",
    "    audioData, samplerate = sf.read(fullpath)\n",
    "    sf.write(outFN, audioData, samplerate)\n",
    "    duration = len(audioData) / samplerate\n",
    "    totalDuration = totalDuration + duration\n",
    "    print(samplerate)\n",
    "    #count = count+1\n",
    "print(totalDuration)\n",
    "#print(count)"
   ]
  },
  {
   "cell_type": "code",
   "execution_count": 130,
   "metadata": {},
   "outputs": [],
   "source": [
    "processedAudio = data.loc[data.cleanProcessedAudioURL.notnull()]\n",
    "publishedProcessedAudio = processedAudio.loc[processedAudio.isPublished == True]"
   ]
  },
  {
   "cell_type": "code",
   "execution_count": 131,
   "metadata": {},
   "outputs": [
    {
     "data": {
      "text/plain": [
       "146099"
      ]
     },
     "execution_count": 131,
     "metadata": {},
     "output_type": "execute_result"
    }
   ],
   "source": [
    "len(processedAudio)"
   ]
  },
  {
   "cell_type": "code",
   "execution_count": 132,
   "metadata": {},
   "outputs": [
    {
     "data": {
      "text/plain": [
       "131305"
      ]
     },
     "execution_count": 132,
     "metadata": {},
     "output_type": "execute_result"
    }
   ],
   "source": [
    "len(publishedProcessedAudio)"
   ]
  },
  {
   "cell_type": "code",
   "execution_count": 157,
   "metadata": {},
   "outputs": [
    {
     "data": {
      "text/plain": [
       "34601518.9380791"
      ]
     },
     "execution_count": 157,
     "metadata": {},
     "output_type": "execute_result"
    }
   ],
   "source": [
    "sum(processedAudio.trackDuration + (processedAudio.startTime / 44100))"
   ]
  },
  {
   "cell_type": "code",
   "execution_count": 155,
   "metadata": {},
   "outputs": [
    {
     "data": {
      "text/plain": [
       "31076246.05746064"
      ]
     },
     "execution_count": 155,
     "metadata": {},
     "output_type": "execute_result"
    }
   ],
   "source": [
    "sum(publishedProcessedAudio.trackDuration + (publishedProcessedAudio.startTime / 44100))"
   ]
  },
  {
   "cell_type": "code",
   "execution_count": null,
   "metadata": {},
   "outputs": [],
   "source": [
    "path = '/scratch/gjr286/DatasetSizeEstimation/trackVideo'\n",
    "#os.chdir(path)\n",
    "count = 0\n",
    "totalDuration = 0\n",
    "for filename in os.listdir(path):\n",
    "    fullpath = path + '/' + filename\n",
    "    audioData, samplerate = sf.read(fullpath)\n",
    "    duration = len(audioData) / samplerate\n",
    "    totalDuration = totalDuration + duration\n",
    "    count = count+1\n",
    "print(totalDuration)\n",
    "print(count)"
   ]
  },
  {
   "cell_type": "code",
   "execution_count": 4,
   "metadata": {},
   "outputs": [
    {
     "data": {
      "text/plain": [
       "568340"
      ]
     },
     "execution_count": 4,
     "metadata": {},
     "output_type": "execute_result"
    }
   ],
   "source": [
    "len(data)len(publishedDataset)"
   ]
  },
  {
   "cell_type": "code",
   "execution_count": 18,
   "metadata": {},
   "outputs": [],
   "source": [
    "out = publishedDataset.groupby('songId')['trackDuration'].max() "
   ]
  },
  {
   "cell_type": "code",
   "execution_count": 20,
   "metadata": {},
   "outputs": [
    {
     "data": {
      "text/plain": [
       "28603917.79129072"
      ]
     },
     "execution_count": 20,
     "metadata": {},
     "output_type": "execute_result"
    }
   ],
   "source": [
    "sum(out)"
   ]
  },
  {
   "cell_type": "code",
   "execution_count": 21,
   "metadata": {},
   "outputs": [],
   "source": [
    "out2 = data.groupby('songId')['trackDuration'].max()\n"
   ]
  },
  {
   "cell_type": "code",
   "execution_count": 22,
   "metadata": {},
   "outputs": [
    {
     "data": {
      "text/plain": [
       "55656625.606122725"
      ]
     },
     "execution_count": 22,
     "metadata": {},
     "output_type": "execute_result"
    }
   ],
   "source": [
    "sum(out2)"
   ]
  },
  {
   "cell_type": "code",
   "execution_count": 23,
   "metadata": {},
   "outputs": [
    {
     "name": "stdout",
     "output_type": "stream",
     "text": [
      "115365\n",
      "224693\n"
     ]
    }
   ],
   "source": [
    "print(len(out))\n",
    "print(len(out2))"
   ]
  }
 ],
 "metadata": {
  "kernelspec": {
   "display_name": "Python 3",
   "language": "python",
   "name": "python3"
  },
  "language_info": {
   "codemirror_mode": {
    "name": "ipython",
    "version": 3
   },
   "file_extension": ".py",
   "mimetype": "text/x-python",
   "name": "python",
   "nbconvert_exporter": "python",
   "pygments_lexer": "ipython3",
   "version": "3.6.4"
  }
 },
 "nbformat": 4,
 "nbformat_minor": 2
}
