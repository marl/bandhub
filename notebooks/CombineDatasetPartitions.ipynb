{
 "cells": [
  {
   "cell_type": "code",
   "execution_count": null,
   "metadata": {},
   "outputs": [],
   "source": [
    "import pandas as pd\n",
    "import numpy as np\n",
    "import pprint"
   ]
  },
  {
   "cell_type": "code",
   "execution_count": null,
   "metadata": {},
   "outputs": [],
   "source": [
    "BandhubPieceFns = ['run-6331321/BandhubNewAudioEffects1.h5', 'run-6331322/BandhubNewAudioEffects2.h5',\\\n",
    "                  'run-6331323/BandhubNewAudioEffects3.h5', 'run-6331324/BandhubNewAudioEffects4.h5',\\\n",
    "                  'run-6331325/BandhubNewAudioEffects5.h5', 'run-6331326/BandhubNewAudioEffects6.h5',\\\n",
    "                  'run-6331327/BandhubNewAudioEffects7.h5', 'run-6331328/BandhubNewAudioEffects8.h5',\\\n",
    "                  'run-6331329/BandhubNewAudioEffects9.h5', 'run-6331330/BandhubNewAudioEffects10.h5']\n",
    "#array to store all bandhub filenames"
   ]
  },
  {
   "cell_type": "code",
   "execution_count": null,
   "metadata": {},
   "outputs": [],
   "source": [
    "BandhubPieceFns = ['run-5136010/bandhub.h5', 'run-5136016/bandhub.h5', \\\n",
    "                  'run-5136017/bandhub.h5', 'run-5170779/bandhub.h5', \\\n",
    "                  'run-5136018/bandhub.h5', 'run-5151166/bandhub.h5', \\\n",
    "                  'run-5170781/bandhub.h5', 'run-5170783/bandhub.h5', \\\n",
    "                  'run-5136019/bandhub.h5', \\\n",
    "                  'run-5151167/bandhub.h5', 'run-5170784/bandhub.h5', \\\n",
    "                  'run-5187360/bandhub.h5', 'run-5170802/bandhub.h5', \\\n",
    "                  'run-5136020/bandhub.h5', 'run-5136021/bandhub.h5', \\\n",
    "                  'run-5151168/bandhub.h5', 'run-5136022/bandhub.h5', \\\n",
    "                  'run-5151169/bandhub.h5', 'run-5170786/bandhub.h5', \\\n",
    "                  'run-5136023/bandhub.h5', 'run-5136060/bandhub.h5', \\\n",
    "                  'run-5136026/bandhub.h5', 'run-5151170/bandhub.h5', \\\n",
    "                  'run-5170788/bandhub.h5', 'run-5151194/bandhub.h5', \\\n",
    "                  'run-5136027/bandhub.h5', 'run-5136028/bandhub.h5', \\\n",
    "                  'run-5136046/bandhub.h5', 'run-5136030/bandhub.h5', \\\n",
    "                  'run-5170789/bandhub.h5', 'run-5151187/bandhub.h5', \\\n",
    "                  'run-5170790/bandhub.h5']"
   ]
  },
  {
   "cell_type": "code",
   "execution_count": null,
   "metadata": {},
   "outputs": [],
   "source": [
    "data = []\n",
    "prependPath = '/scratch/gjr286/BandhubPieces/'\n",
    "data = pd.read_hdf(prependPath + BandhubPieceFns[0])\n",
    "for fn in BandhubPieceFns[1:]:\n",
    "    dummyData = pd.read_hdf(prependPath + fn, 'bandhub')\n",
    "    data = data.append(dummyData)\n",
    "# iterate through array, grab the data and put into one large table  "
   ]
  },
  {
   "cell_type": "code",
   "execution_count": null,
   "metadata": {},
   "outputs": [],
   "source": [
    "data = data.drop_duplicates('trackId')\n",
    "data.index = range(597370)\n",
    "outputFileName = '/scratch/gjr286/BandhubDataset.h5'\n",
    "hdf = pd.HDFStore(outputFileName)\n",
    "print('HDF opened')\n",
    "\n",
    "#do in 10000 chunks, catch last one\n",
    "for i in range(0,60):\n",
    "    startIdx = i*10000\n",
    "    endIdx = (i+1)*10000\n",
    "    row = pd.DataFrame(data.iloc[startIdx:endIdx], columns = data.columns)\n",
    "    hdf.append('bandhub', row, format = 'table', min_itemsize = 500, data_columns = True, compression = 'zlib')\n",
    "    print(i)\n",
    "hdf.close()"
   ]
  }
 ],
 "metadata": {
  "kernelspec": {
   "display_name": "Python 3",
   "language": "python",
   "name": "python3"
  },
  "language_info": {
   "codemirror_mode": {
    "name": "ipython",
    "version": 3
   },
   "file_extension": ".py",
   "mimetype": "text/x-python",
   "name": "python",
   "nbconvert_exporter": "python",
   "pygments_lexer": "ipython3",
   "version": "3.6.4"
  }
 },
 "nbformat": 4,
 "nbformat_minor": 2
}
