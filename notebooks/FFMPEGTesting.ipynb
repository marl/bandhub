{
 "cells": [
  {
   "cell_type": "code",
   "execution_count": 1,
   "metadata": {},
   "outputs": [],
   "source": [
    "import pandas as pd\n",
    "import os\n",
    "import urllib\n",
    "import requests\n",
    "import soundfile as sf\n",
    "import numpy as np\n",
    "import random\n",
    "import soundfile as sf\n",
    "import ffmpy\n",
    "import subprocess"
   ]
  },
  {
   "cell_type": "code",
   "execution_count": 2,
   "metadata": {},
   "outputs": [],
   "source": [
    "filename = 'BandhubDataset.h5'\n",
    "data = pd.read_hdf(filename, 'bandhub')"
   ]
  },
  {
   "cell_type": "code",
   "execution_count": 3,
   "metadata": {},
   "outputs": [
    {
     "name": "stdout",
     "output_type": "stream",
     "text": [
      "(568340, 32)\n"
     ]
    }
   ],
   "source": [
    "shape = data.shape\n",
    "print(shape)"
   ]
  },
  {
   "cell_type": "code",
   "execution_count": 4,
   "metadata": {},
   "outputs": [
    {
     "data": {
      "text/plain": [
       "trackId                                               54301c6e48668321233705fa\n",
       "songId                                                54301b941303854f365e4f33\n",
       "masterOwner                                                        lucy.savage\n",
       "trackOwner                                                         lucy.savage\n",
       "artist                                                            Lana Del Rey\n",
       "title                                   \"Born To Die,\" by Lana Del Rey (Cover)\n",
       "views                                                                       10\n",
       "instrument                                                                 NaN\n",
       "contentTags                                                               null\n",
       "audioURL                     http://bandhubwebmedia1.blob.core.windows.net/...\n",
       "cleanProcessedAudioURL                                                     NaN\n",
       "processedAudioURL                                                          NaN\n",
       "startTime                                                                    0\n",
       "trackDuration                                                           291.85\n",
       "audioSampleRate                                                              0\n",
       "trackVolume                                                                0.5\n",
       "compressorValue                                                              0\n",
       "panValue                                                                     0\n",
       "echoValue                                                                    0\n",
       "noiseGateValue                                                               0\n",
       "reverbValue                                                                  0\n",
       "solo                                                                     False\n",
       "trackVideo                   http://bandhubmediastream.blob.core.windows.ne...\n",
       "fromYouTube                                                               True\n",
       "isFinished                                                               False\n",
       "isPublished                                                               True\n",
       "hasPublishedTracks                                                        True\n",
       "mixedAudio                                                                 NaN\n",
       "mixedVideo                   http://bandhubmediastream.blob.core.windows.ne...\n",
       "musicBrainzID                                         544327d4e4b014e1a64ed3cc\n",
       "newMusicBrainzID                                      544327d4e4b014e1a64ed3cc\n",
       "publicSongCollectionIndex                                                20000\n",
       "Name: 0, dtype: object"
      ]
     },
     "execution_count": 4,
     "metadata": {},
     "output_type": "execute_result"
    }
   ],
   "source": [
    "data.iloc[0]"
   ]
  },
  {
   "cell_type": "code",
   "execution_count": 7,
   "metadata": {},
   "outputs": [
    {
     "data": {
      "text/plain": [
       "0"
      ]
     },
     "execution_count": 7,
     "metadata": {},
     "output_type": "execute_result"
    }
   ],
   "source": [
    "subprocess.call([\"ls\", \"-l\"])"
   ]
  },
  {
   "cell_type": "code",
   "execution_count": 6,
   "metadata": {},
   "outputs": [],
   "source": [
    "path = '/scratch/gjr286/TestDownload'\n",
    "files = []\n",
    "for file in os.listdir(path):\n",
    "    files.append(file)"
   ]
  },
  {
   "cell_type": "code",
   "execution_count": 16,
   "metadata": {},
   "outputs": [],
   "source": [
    "pathPrepend = '/scratch/gjr286/TestDownload/'\n",
    "os.chdir(pathPrepend)\n",
    "out = subprocess.call('ffmpeg -i ' + files[0] + ' -codec:a libvorbis -async 1 -b:a 128k testoutput.wav', shell=True)\n"
   ]
  },
  {
   "cell_type": "code",
   "execution_count": 19,
   "metadata": {},
   "outputs": [
    {
     "name": "stdout",
     "output_type": "stream",
     "text": [
      "/scratch/gjr286/TestDownload/4c593cd8-a012-9532-e337-8ceadaaab542.ogg\n"
     ]
    }
   ],
   "source": [
    "pathPrepend = '/scratch/gjr286/TestDownload/'\n",
    "FN = pathPrepend + files[1]\n",
    "print(FN)"
   ]
  },
  {
   "cell_type": "code",
   "execution_count": 18,
   "metadata": {},
   "outputs": [
    {
     "ename": "RuntimeError",
     "evalue": "Error opening 'output.wav': Error in WAV/W64/RF64 file. Malformed 'fmt ' chunk.",
     "output_type": "error",
     "traceback": [
      "\u001b[0;31m---------------------------------------------------------------------------\u001b[0m",
      "\u001b[0;31mRuntimeError\u001b[0m                              Traceback (most recent call last)",
      "\u001b[0;32m<ipython-input-18-6e779014d21d>\u001b[0m in \u001b[0;36m<module>\u001b[0;34m()\u001b[0m\n\u001b[0;32m----> 1\u001b[0;31m \u001b[0maudioData\u001b[0m\u001b[0;34m,\u001b[0m \u001b[0msamplerate\u001b[0m \u001b[0;34m=\u001b[0m \u001b[0msf\u001b[0m\u001b[0;34m.\u001b[0m\u001b[0mread\u001b[0m\u001b[0;34m(\u001b[0m\u001b[0;34m'output.wav'\u001b[0m\u001b[0;34m)\u001b[0m\u001b[0;34m\u001b[0m\u001b[0m\n\u001b[0m",
      "\u001b[0;32m~/miniconda2/envs/bandhub/lib/python3.6/site-packages/soundfile.py\u001b[0m in \u001b[0;36mread\u001b[0;34m(file, frames, start, stop, dtype, always_2d, fill_value, out, samplerate, channels, format, subtype, endian, closefd)\u001b[0m\n\u001b[1;32m    371\u001b[0m     \"\"\"\n\u001b[1;32m    372\u001b[0m     with SoundFile(file, 'r', samplerate, channels,\n\u001b[0;32m--> 373\u001b[0;31m                    subtype, endian, format, closefd) as f:\n\u001b[0m\u001b[1;32m    374\u001b[0m         \u001b[0mframes\u001b[0m \u001b[0;34m=\u001b[0m \u001b[0mf\u001b[0m\u001b[0;34m.\u001b[0m\u001b[0m_prepare_read\u001b[0m\u001b[0;34m(\u001b[0m\u001b[0mstart\u001b[0m\u001b[0;34m,\u001b[0m \u001b[0mstop\u001b[0m\u001b[0;34m,\u001b[0m \u001b[0mframes\u001b[0m\u001b[0;34m)\u001b[0m\u001b[0;34m\u001b[0m\u001b[0m\n\u001b[1;32m    375\u001b[0m         \u001b[0mdata\u001b[0m \u001b[0;34m=\u001b[0m \u001b[0mf\u001b[0m\u001b[0;34m.\u001b[0m\u001b[0mread\u001b[0m\u001b[0;34m(\u001b[0m\u001b[0mframes\u001b[0m\u001b[0;34m,\u001b[0m \u001b[0mdtype\u001b[0m\u001b[0;34m,\u001b[0m \u001b[0malways_2d\u001b[0m\u001b[0;34m,\u001b[0m \u001b[0mfill_value\u001b[0m\u001b[0;34m,\u001b[0m \u001b[0mout\u001b[0m\u001b[0;34m)\u001b[0m\u001b[0;34m\u001b[0m\u001b[0m\n",
      "\u001b[0;32m~/miniconda2/envs/bandhub/lib/python3.6/site-packages/soundfile.py\u001b[0m in \u001b[0;36m__init__\u001b[0;34m(self, file, mode, samplerate, channels, subtype, endian, format, closefd)\u001b[0m\n\u001b[1;32m    738\u001b[0m         self._info = _create_info_struct(file, mode, samplerate, channels,\n\u001b[1;32m    739\u001b[0m                                          format, subtype, endian)\n\u001b[0;32m--> 740\u001b[0;31m         \u001b[0mself\u001b[0m\u001b[0;34m.\u001b[0m\u001b[0m_file\u001b[0m \u001b[0;34m=\u001b[0m \u001b[0mself\u001b[0m\u001b[0;34m.\u001b[0m\u001b[0m_open\u001b[0m\u001b[0;34m(\u001b[0m\u001b[0mfile\u001b[0m\u001b[0;34m,\u001b[0m \u001b[0mmode_int\u001b[0m\u001b[0;34m,\u001b[0m \u001b[0mclosefd\u001b[0m\u001b[0;34m)\u001b[0m\u001b[0;34m\u001b[0m\u001b[0m\n\u001b[0m\u001b[1;32m    741\u001b[0m         \u001b[0;32mif\u001b[0m \u001b[0mset\u001b[0m\u001b[0;34m(\u001b[0m\u001b[0mmode\u001b[0m\u001b[0;34m)\u001b[0m\u001b[0;34m.\u001b[0m\u001b[0missuperset\u001b[0m\u001b[0;34m(\u001b[0m\u001b[0;34m'r+'\u001b[0m\u001b[0;34m)\u001b[0m \u001b[0;32mand\u001b[0m \u001b[0mself\u001b[0m\u001b[0;34m.\u001b[0m\u001b[0mseekable\u001b[0m\u001b[0;34m(\u001b[0m\u001b[0;34m)\u001b[0m\u001b[0;34m:\u001b[0m\u001b[0;34m\u001b[0m\u001b[0m\n\u001b[1;32m    742\u001b[0m             \u001b[0;31m# Move write position to 0 (like in Python file objects)\u001b[0m\u001b[0;34m\u001b[0m\u001b[0;34m\u001b[0m\u001b[0m\n",
      "\u001b[0;32m~/miniconda2/envs/bandhub/lib/python3.6/site-packages/soundfile.py\u001b[0m in \u001b[0;36m_open\u001b[0;34m(self, file, mode_int, closefd)\u001b[0m\n\u001b[1;32m   1263\u001b[0m             \u001b[0;32mraise\u001b[0m \u001b[0mTypeError\u001b[0m\u001b[0;34m(\u001b[0m\u001b[0;34m\"Invalid file: {0!r}\"\u001b[0m\u001b[0;34m.\u001b[0m\u001b[0mformat\u001b[0m\u001b[0;34m(\u001b[0m\u001b[0mself\u001b[0m\u001b[0;34m.\u001b[0m\u001b[0mname\u001b[0m\u001b[0;34m)\u001b[0m\u001b[0;34m)\u001b[0m\u001b[0;34m\u001b[0m\u001b[0m\n\u001b[1;32m   1264\u001b[0m         _error_check(_snd.sf_error(file_ptr),\n\u001b[0;32m-> 1265\u001b[0;31m                      \"Error opening {0!r}: \".format(self.name))\n\u001b[0m\u001b[1;32m   1266\u001b[0m         \u001b[0;32mif\u001b[0m \u001b[0mmode_int\u001b[0m \u001b[0;34m==\u001b[0m \u001b[0m_snd\u001b[0m\u001b[0;34m.\u001b[0m\u001b[0mSFM_WRITE\u001b[0m\u001b[0;34m:\u001b[0m\u001b[0;34m\u001b[0m\u001b[0m\n\u001b[1;32m   1267\u001b[0m             \u001b[0;31m# Due to a bug in libsndfile version <= 1.0.25, frames != 0\u001b[0m\u001b[0;34m\u001b[0m\u001b[0;34m\u001b[0m\u001b[0m\n",
      "\u001b[0;32m~/miniconda2/envs/bandhub/lib/python3.6/site-packages/soundfile.py\u001b[0m in \u001b[0;36m_error_check\u001b[0;34m(err, prefix)\u001b[0m\n\u001b[1;32m   1453\u001b[0m     \u001b[0;32mif\u001b[0m \u001b[0merr\u001b[0m \u001b[0;34m!=\u001b[0m \u001b[0;36m0\u001b[0m\u001b[0;34m:\u001b[0m\u001b[0;34m\u001b[0m\u001b[0m\n\u001b[1;32m   1454\u001b[0m         \u001b[0merr_str\u001b[0m \u001b[0;34m=\u001b[0m \u001b[0m_snd\u001b[0m\u001b[0;34m.\u001b[0m\u001b[0msf_error_number\u001b[0m\u001b[0;34m(\u001b[0m\u001b[0merr\u001b[0m\u001b[0;34m)\u001b[0m\u001b[0;34m\u001b[0m\u001b[0m\n\u001b[0;32m-> 1455\u001b[0;31m         \u001b[0;32mraise\u001b[0m \u001b[0mRuntimeError\u001b[0m\u001b[0;34m(\u001b[0m\u001b[0mprefix\u001b[0m \u001b[0;34m+\u001b[0m \u001b[0m_ffi\u001b[0m\u001b[0;34m.\u001b[0m\u001b[0mstring\u001b[0m\u001b[0;34m(\u001b[0m\u001b[0merr_str\u001b[0m\u001b[0;34m)\u001b[0m\u001b[0;34m.\u001b[0m\u001b[0mdecode\u001b[0m\u001b[0;34m(\u001b[0m\u001b[0;34m'utf-8'\u001b[0m\u001b[0;34m,\u001b[0m \u001b[0;34m'replace'\u001b[0m\u001b[0;34m)\u001b[0m\u001b[0;34m)\u001b[0m\u001b[0;34m\u001b[0m\u001b[0m\n\u001b[0m\u001b[1;32m   1456\u001b[0m \u001b[0;34m\u001b[0m\u001b[0m\n\u001b[1;32m   1457\u001b[0m \u001b[0;34m\u001b[0m\u001b[0m\n",
      "\u001b[0;31mRuntimeError\u001b[0m: Error opening 'output.wav': Error in WAV/W64/RF64 file. Malformed 'fmt ' chunk."
     ]
    }
   ],
   "source": [
    "audioData, samplerate = sf.read('output.wav')\n"
   ]
  },
  {
   "cell_type": "code",
   "execution_count": 23,
   "metadata": {},
   "outputs": [],
   "source": [
    "pathPrepend = '/scratch/gjr286/TestDownload/'\n",
    "os.chdir(pathPrepend)\n",
    "out = subprocess.call('ffmpeg -i ' + files[0] + ' audiooutput.wav -f ffmetadata', shell=True)\n",
    "#ffmpeg -i audio.ogg audio.wav"
   ]
  },
  {
   "cell_type": "code",
   "execution_count": 24,
   "metadata": {},
   "outputs": [],
   "source": [
    "audioData, samplerate = sf.read('audiooutput.wav')\n"
   ]
  },
  {
   "cell_type": "code",
   "execution_count": 26,
   "metadata": {},
   "outputs": [
    {
     "name": "stdout",
     "output_type": "stream",
     "text": [
      "44100\n",
      "1\n"
     ]
    }
   ],
   "source": [
    "print(samplerate)\n",
    "print(out)"
   ]
  },
  {
   "cell_type": "code",
   "execution_count": 33,
   "metadata": {},
   "outputs": [],
   "source": [
    "try:\n",
    "    subprocess.check_output('ffmpeg -i ' + files[1] + ' -f ffmetadata', stderr=subprocess.STDOUT, shell=True) \n",
    "except subprocess.CalledProcessError as exc:\n",
    "    result = exc.output"
   ]
  },
  {
   "cell_type": "code",
   "execution_count": 32,
   "metadata": {},
   "outputs": [
    {
     "name": "stdout",
     "output_type": "stream",
     "text": [
      "1\n"
     ]
    }
   ],
   "source": [
    "print(out)"
   ]
  },
  {
   "cell_type": "code",
   "execution_count": 34,
   "metadata": {},
   "outputs": [
    {
     "name": "stdout",
     "output_type": "stream",
     "text": [
      "b\"ffmpeg version 3.2.2 Copyright (c) 2000-2016 the FFmpeg developers\\n  built with gcc 4.8.5 (GCC) 20150623 (Red Hat 4.8.5-4)\\n  configuration: --prefix=/share/apps/ffmpeg/3.2.2/intel --extra-cflags=-I/share/apps/ffmpeg/3.2.2/intel/include --extra-ldflags=-L/share/apps/ffmpeg/3.2.2/intel/lib --extra-libs=-ldl --enable-gpl --enable-nonfree --enable-libfdk_aac --enable-libfreetype --enable-libmp3lame --enable-libopus --enable-libvorbis --enable-libvpx --enable-libx264 --enable-libx265 --enable-shared\\n  libavutil      55. 34.100 / 55. 34.100\\n  libavcodec     57. 64.101 / 57. 64.101\\n  libavformat    57. 56.100 / 57. 56.100\\n  libavdevice    57.  1.100 / 57.  1.100\\n  libavfilter     6. 65.100 /  6. 65.100\\n  libswscale      4.  2.100 /  4.  2.100\\n  libswresample   2.  3.100 /  2.  3.100\\n  libpostproc    54.  1.100 / 54.  1.100\\nTrailing options were found on the commandline.\\nInput #0, ogg, from '4c593cd8-a012-9532-e337-8ceadaaab542.ogg':\\n  Duration: 00:04:33.11, start: 0.000000, bitrate: 58 kb/s\\n    Stream #0:0(und): Audio: vorbis, 44100 Hz, mono, fltp, 96 kb/s\\n    Metadata:\\n      CREATION_TIME   : 2014-06-18 22:56:11\\n      LANGUAGE        : und\\n      HANDLER_NAME    : IsoMedia File Produced by Google, 5-11-2011\\n      ENCODER         : Lavc55.65.100 libvorbis\\n      MAJOR_BRAND     : mp42\\n      MINOR_VERSION   : 0\\n      COMPATIBLE_BRANDS: isommp42\\nAt least one output file must be specified\\n\"\n"
     ]
    }
   ],
   "source": [
    "print(result)"
   ]
  },
  {
   "cell_type": "code",
   "execution_count": null,
   "metadata": {},
   "outputs": [],
   "source": []
  }
 ],
 "metadata": {
  "kernelspec": {
   "display_name": "Python 3",
   "language": "python",
   "name": "python3"
  },
  "language_info": {
   "codemirror_mode": {
    "name": "ipython",
    "version": 3
   },
   "file_extension": ".py",
   "mimetype": "text/x-python",
   "name": "python",
   "nbconvert_exporter": "python",
   "pygments_lexer": "ipython3",
   "version": "3.6.4"
  }
 },
 "nbformat": 4,
 "nbformat_minor": 2
}
