{
 "cells": [
  {
   "cell_type": "code",
   "execution_count": 117,
   "metadata": {},
   "outputs": [],
   "source": [
    "import pandas as pd\n",
    "import numpy as np\n",
    "from scipy import stats\n",
    "from matplotlib import pyplot\n",
    "import pprint\n",
    "from collections import Counter, OrderedDict"
   ]
  },
  {
   "cell_type": "code",
   "execution_count": 76,
   "metadata": {},
   "outputs": [],
   "source": [
    "data = pd.read_hdf('/scratch/gjr286/BandhubDataset.h5', 'bandhub')"
   ]
  },
  {
   "cell_type": "code",
   "execution_count": 77,
   "metadata": {},
   "outputs": [
    {
     "data": {
      "text/plain": [
       "Index(['trackId', 'songId', 'masterOwner', 'trackOwner', 'artist', 'title',\n",
       "       'subTitle', 'views', 'instrument', 'contentTags', 'audioURL',\n",
       "       'processedAudioURL', 'trackVideoURL', 'startTime', 'trackDuration',\n",
       "       'audioSampleRate', 'fromYouTube', 'isFinished', 'isPublished',\n",
       "       'hasPublishedTracks', 'mixedAudioURL', 'mixedVideoURL', 'musicBrainzID',\n",
       "       'newMusicBrainzID', 'publicSongCollectionIndex', 'volume1', 'volume2',\n",
       "       'mute1', 'mute2', 'solo1', 'solo2', 'compressorValue1',\n",
       "       'compressorValue2', 'panValue1', 'panValue2', 'echoValue1',\n",
       "       'echoValue2', 'noiseGateValue1', 'noiseGateValue2', 'reverbValue1',\n",
       "       'reverbValue2', 'eqValue1', 'eqValue2'],\n",
       "      dtype='object')"
      ]
     },
     "execution_count": 77,
     "metadata": {},
     "output_type": "execute_result"
    }
   ],
   "source": [
    "data.columns"
   ]
  },
  {
   "cell_type": "code",
   "execution_count": 78,
   "metadata": {},
   "outputs": [],
   "source": [
    "# distribution of multitracks\n",
    "def multiTrackLens(dummyData):\n",
    "    groupedData = dummyData.groupby(\"songId\")\n",
    "    groupedData = pubData.groupby(\"songId\") # number of multitrack distributions\n",
    "    multiTrackLens = []\n",
    "    for name,group in groupedData:\n",
    "        multiTrackLens.append(len(group))\n",
    "    return multiTrackLens"
   ]
  },
  {
   "cell_type": "code",
   "execution_count": 79,
   "metadata": {},
   "outputs": [],
   "source": [
    "# info for published tracks (currently downloaded)"
   ]
  },
  {
   "cell_type": "code",
   "execution_count": 101,
   "metadata": {},
   "outputs": [
    {
     "name": "stdout",
     "output_type": "stream",
     "text": [
      "median 1.0\n"
     ]
    },
    {
     "data": {
      "text/plain": [
       "DescribeResult(nobs=130379, minmax=(1, 65), mean=2.2290092729657385, variance=8.333539716269533, skewness=3.3506788101598612, kurtosis=16.826845389271856)"
      ]
     },
     "execution_count": 101,
     "metadata": {},
     "output_type": "execute_result"
    }
   ],
   "source": [
    "#grab published tracks\n",
    "pubData = data.loc[data.isPublished == True] #grab published tracks\n",
    "multiTracks = multiTrackLens(pubData)\n",
    "print('median', np.median(nonYouTubeMultiTracks))\n",
    "stats.describe(multiTracks)"
   ]
  },
  {
   "cell_type": "code",
   "execution_count": 61,
   "metadata": {
    "scrolled": true
   },
   "outputs": [
    {
     "data": {
      "text/plain": [
       "Text(0,0.5,'Frequency')"
      ]
     },
     "execution_count": 61,
     "metadata": {},
     "output_type": "execute_result"
    },
    {
     "data": {
      "image/png": "[encoded data removed]",
      "text/plain": [
       "<Figure size 432x288 with 1 Axes>"
      ]
     },
     "metadata": {},
     "output_type": "display_data"
    }
   ],
   "source": [
    "pyplot.hist(multiTracks,10, (0.5, 10.5))\n",
    "pyplot.title(\"Multitrack Distribution\")\n",
    "pyplot.xlabel(\"Number of Tracks\")\n",
    "pyplot.ylabel(\"Frequency\")"
   ]
  },
  {
   "cell_type": "code",
   "execution_count": 128,
   "metadata": {},
   "outputs": [
    {
     "name": "stdout",
     "output_type": "stream",
     "text": [
      "['[\"Pop\", \"British\"]' '[\"American\", \"ClassicRock\"]' '[\"American\", \"Pop\"]'\n",
      " '[\"60s\", \"Beatles\", \"ClassicRock\", \"British\"]'\n",
      " '[\"British\", \"Pop\", \"90s\"]' '[\"RnB\", \"American\", \"60s\"]'\n",
      " '[\"70s\", \"British\", \"ClassicRock\"]'\n",
      " '[\"70s\", \"British\", \"ClassicRock\", \"HardRock\"]' '[]'\n",
      " '[\"ClassicRock\", \"American\", \"70s\"]'\n",
      " '[\"AlternativeRock\", \"American\", \"90s\"]'\n",
      " '[\"Jazz\", \"OriginalMusic\", \"American\"]' '[\"Latin\", \"WorldMusic\"]'\n",
      " '[\"OriginalMusic\", \"RnB\"]' '[\"OriginalMusic\", \"British\"]'\n",
      " '[\"Argentinos\"]' '[\"Indie\", \"American\"]' '[\"HardRock\", \"British\"]'\n",
      " '[\"OriginalMusic\"]' '[\"Suomi\", \"Metal\", \"British\"]'\n",
      " '[\"OriginalMusic\", \"RnB\", \"Canadians\"]' '[\"Punk\", \"British\", \"80s\"]'\n",
      " '[\"American\", \"Canadians\", \"AlternativeRock\"]'\n",
      " '[\"AlternativeRock\", \"Funk\", \"American\", \"Canadians\"]'\n",
      " '[\"Funk\", \"AlternativeRock\", \"Canadians\", \"American\"]'\n",
      " '[\"RnB\", \"American\"]' '[\"AlternativeRock\", \"American\"]'\n",
      " '[\"90s\", \"AlternativeRock\", \"American\"]'\n",
      " '[\"British\", \"Canadians\", \"Beatles\", \"ClassicRock\", \"70s\"]'\n",
      " '[\"70s\", \"Beatles\", \"British\", \"ClassicRock\"]'\n",
      " '[\"AlternativeRock\", \"Canadians\", \"Australians\"]'\n",
      " '[\"Funk\", \"AlternativeRock\", \"American\", \"Canadians\"]'\n",
      " '[\"80s\", \"Canadians\", \"British\", \"AlternativeRock\"]'\n",
      " '[\"American\", \"AlternativeRock\", \"90s\", \"Canadians\"]'\n",
      " '[\"Pop\", \"Canadians\", \"AlternativeRock\", \"American\"]'\n",
      " '[\"Jazz\", \"American\"]' '[\"Punk\", \"American\"]' '[\"Pop\", \"American\"]'\n",
      " '[\"Country\", \"American\"]' '[\"Funk\", \"Canadians\", \"Fran\\\\u00e7ais\"]'\n",
      " '[\"Electronic\", \"Fran\\\\u00e7ais\", \"Belgen\"]' '[\"Christian\"]'\n",
      " '[\"RnB\", \"Australians\"]' '[\"Canadians\", \"Country\", \"Australians\"]'\n",
      " '[\"AlternativeRock\", \"British\"]'\n",
      " '[\"British\", \"AlternativeRock\", \"Fran\\\\u00e7ais\"]'\n",
      " '[\"Fran\\\\u00e7ais\", \"Punk\"]' '[\"Christian\", \"American\"]'\n",
      " '[\"American\", \"AlternativeRock\", \"Canadians\"]'\n",
      " '[\"Funk\", \"70s\", \"Canadians\", \"American\"]'\n",
      " '[\"90s\", \"AlternativeRock\", \"Irish\"]' '[\"Punk\", \"80s\", \"American\"]'\n",
      " '[\"British\", \"Pop\"]' '[\"AlternativeRock\", \"90s\", \"American\"]'\n",
      " '[\"American\", \"HardRock\", \"70s\"]' '[\"RnB\", \"Christian\", \"American\"]'\n",
      " '[\"ClassicRock\", \"90s\", \"British\"]'\n",
      " '[\"80s\", \"AlternativeRock\", \"American\"]'\n",
      " '[\"American\", \"AlternativeRock\"]'\n",
      " '[\"Pop\", \"American\", \"70s\", \"Canadians\"]'\n",
      " '[\"Australians\", \"Canadians\", \"Christian\"]'\n",
      " '[\"Australians\", \"Christian\", \"Canadians\"]'\n",
      " '[\"60s\", \"ClassicRock\", \"American\"]'\n",
      " '[\"AlternativeRock\", \"Belgen\", \"Italians\"]' '[\"Pop\", \"Jazz\", \"American\"]'\n",
      " '[\"Pop\", \"Indie\", \"Belgen\", \"Australians\"]'\n",
      " '[\"AlternativeRock\", \"Canadians\"]' '[\"British\", \"70s\", \"HardRock\"]'\n",
      " '[\"Punk\", \"American\", \"Canadians\"]'\n",
      " '[\"Canadians\", \"AlternativeRock\", \"American\"]'\n",
      " '[\"British\", \"80s\", \"AlternativeRock\", \"Canadians\"]'\n",
      " '[\"60s\", \"Beatles\", \"British\", \"ClassicRock\"]'\n",
      " '[\"Australians\", \"90s\", \"Pop\"]' '[\"80s\", \"AlternativeRock\", \"Irish\"]'\n",
      " '[\"80s\", \"ClassicRock\"]' '[\"Pop\", \"British\", \"70s\"]'\n",
      " '[\"AlternativeRock\", \"American\", \"Canadians\"]'\n",
      " '[\"OriginalMusic\", \"American\"]' '[\"OriginalMusic\", \"Metal\"]'\n",
      " '[\"British\", \"Beatles\", \"60s\", \"ClassicRock\"]' '[\"Pop\", \"Canadians\"]'\n",
      " '[\"WorldMusic\", \"Movies\"]' '[\"ClassicRock\", \"American\"]'\n",
      " '[\"Canadians\", \"OriginalMusic\"]' '[\"AlternativeRock\", \"90s\", \"British\"]'\n",
      " '[\"American\", \"Pop\", \"70s\"]' '[\"HipHop\", \"Deutschen\"]' '[\"HipHop\"]'\n",
      " '[\"American\", \"Jazz\"]' '[\"ClassicRock\", \"70s\", \"American\"]'\n",
      " '[\"American\", \"Country\"]' '[\"British\", \"Metal\"]' '[\"Latin\", \"Canadians\"]'\n",
      " '[\"RnB\", \"WorldMusic\"]' '[\"Pop\", \"80s\", \"British\"]'\n",
      " '[\"60s\", \"Pop\", \"American\"]' '[\"WorldMusic\", \"RnB\"]'\n",
      " '[\"70s\", \"Beatles\", \"British\"]' '[\"Jazz\", \"British\"]' '[\"Jazz\"]'\n",
      " '[\"Movies\"]' '[\"\\\\u65e5\\\\u672c\\\\u4eba\", \"Movies\"]' '[\"Metal\", \"Swiss\"]'\n",
      " '[\"WorldMusic\"]' '[\"Swiss\", \"Metal\"]' '[\"Deutschen\", \"Metal\"]'\n",
      " '[\"OriginalMusic\", \"RnB\", \"British\"]' '[\"WorldMusic\", \"Deutschen\"]'\n",
      " '[\"Espa\\\\u00f1ol\", \"WorldMusic\"]'\n",
      " '[\"Australians\", \"Country\", \"Canadians\"]' '[\"Irish\", \"AlternativeRock\"]'\n",
      " '[\"Metal\", \"P\\\\u0443\\\\u0441\\\\u0441\\\\u043a\\\\u0438\\\\u0435\", \"WorldMusic\"]'\n",
      " '[\"HardRock\", \"American\"]' '[\"60s\", \"Beatles\", \"ClassicRock\"]'\n",
      " '[\"AlternativeRock\"]' '[\"RnB\"]' '[\"Pop\", \"80s\", \"American\"]'\n",
      " '[\"Svensk\", \"WorldMusic\"]' '[\"70s\", \"British\", \"Beatles\", \"ClassicRock\"]'\n",
      " '[\"60s\", \"British\", \"ClassicRock\", \"Beatles\"]'\n",
      " '[\"Metal\", \"Fran\\\\u00e7ais\", \"Punk\"]' '[\"80s\", \"British\", \"ClassicRock\"]'\n",
      " '[\"American\", \"Indie\"]' '[\"American\", \"Metal\"]'\n",
      " '[\"70s\", \"British\", \"HardRock\"]' '[\"British\", \"ClassicRock\", \"70s\"]'\n",
      " '[\"British\", \"ClassicRock\", \"80s\"]' '[\"American\", \"ClassicRock\", \"70s\"]'\n",
      " '[\"AlternativeRock\", \"Irish\"]'\n",
      " '[\"Irish\", \"80s\", \"WorldMusic\", \"ClassicRock\"]' '[\"Australians\", \"Pop\"]'\n",
      " '[\"80s\", \"Pop\", \"Canadians\"]' '[\"American\", \"ClassicRock\", \"80s\"]'\n",
      " '[\"British\", \"Movies\", \"90s\", \"ClassicRock\"]'\n",
      " '[\"British\", \"ClassicRock\"]' '[\"British\", \"AlternativeRock\", \"80s\"]'\n",
      " '[\"Metal\", \"Canadians\"]' '[\"Metal\", \"Hollantilainen\", \"British\"]'\n",
      " '[\"Brasileiros\", \"Argentinos\", \"Espa\\\\u00f1ol\", \"BossaNova\"]'\n",
      " '[\"Argentinos\", \"Espa\\\\u00f1ol\"]' '[\"90s\", \"British\", \"Pop\"]'\n",
      " '[\"ClassicRock\", \"British\", \"70s\"]' '[\"Movies\", \"British\"]'\n",
      " '[\"American\", \"Country\", \"Canadians\"]' '[\"Children\", \"American\"]'\n",
      " '[\"Electronic\", \"OriginalMusic\"]' '[\"Metal\"]' '[\"British\", \"WorldMusic\"]'\n",
      " '[\"RnB\", \"British\"]' '[\"Espa\\\\u00f1ol\", \"Movies\"]'\n",
      " '[\"60s\", \"Beatles\", \"British\", \"Canadians\", \"ClassicRock\"]'\n",
      " '[\"Espa\\\\u00f1ol\"]' '[\"70s\", \"HardRock\", \"Metal\", \"British\"]'\n",
      " '[\"Deutschen\", \"HipHop\"]' '[\"90s\", \"AlternativeRock\"]'\n",
      " '[\"OriginalMusic\", \"Chilenos\", \"Espa\\\\u00f1ol\"]'\n",
      " '[\"British\", \"70s\", \"HardRock\", \"Metal\"]' '[\"Punk\", \"American\", \"90s\"]'\n",
      " '[\"80s\", \"Pop\", \"British\"]' '[\"80s\", \"American\", \"HardRock\"]'\n",
      " '[\"Country\", \"British\"]' '[\"British\", \"70s\", \"ClassicRock\"]'\n",
      " '[\"Metal\", \"Suomi\", \"WorldMusic\"]' '[\"American\", \"Punk\"]'\n",
      " '[\"60s\", \"British\", \"ClassicRock\"]'\n",
      " '[\"HardRock\", \"American\", \"90s\", \"Pop\"]' '[\"Metal\", \"Suomi\"]'\n",
      " '[\"Country\"]' '[\"70s\", \"ClassicRock\", \"American\", \"Canadians\"]'\n",
      " '[\"60s\", \"American\", \"ClassicRock\"]' '[\"Argentinos\", \"Pop\", \"British\"]'\n",
      " '[\"American\", \"HardRock\"]' '[\"Irish\", \"ClassicRock\"]'\n",
      " '[\"Metal\", \"Suomi\", \"American\"]' '[\"ClassicRock\", \"80s\", \"British\"]'\n",
      " '[\"Pop\"]' '[\"Brasileiros\", \"BossaNova\"]' '[\"WorldMusic\", \"British\"]'\n",
      " '[\"British\", \"70s\", \"Christian\"]' '[\"ClassicRock\", \"British\"]'\n",
      " '[\"70s\", \"American\", \"Espa\\\\u00f1ol\", \"ClassicRock\"]'\n",
      " '[\"Australians\", \"Christian\"]' '[\"80s\", \"Punk\", \"American\"]'\n",
      " '[\"HipHop\", \"Pop\", \"American\"]' '[\"ClassicRock\"]' '[\"Pop\", \"WorldMusic\"]'\n",
      " '[\"Canadians\", \"American\", \"Pop\"]' '[\"Pop\", \"Svensk\"]'\n",
      " '[\"Argentinos\", \"Metal\", \"British\"]'\n",
      " '[\"Italians\", \"70s\", \"British\", \"ClassicRock\"]' '[\"Suomi\", \"Metal\"]'\n",
      " '[\"60s\", \"Beatles\", \"Canadians\", \"British\", \"ClassicRock\"]'\n",
      " '[\"WorldMusic\", \"Svensk\"]' '[\"Funk\", \"80s\", \"American\"]'\n",
      " '[\"60s\", \"American\", \"Canadians\", \"ClassicRock\"]'\n",
      " '[\"70s\", \"American\", \"ClassicRock\"]'\n",
      " '[\"80s\", \"Australians\", \"ClassicRock\"]'\n",
      " '[\"American\", \"Chilenos\", \"Movies\"]' '[\"90s\", \"American\", \"Punk\"]'\n",
      " '[\"Metal\", \"WorldMusic\", \"P\\\\u0443\\\\u0441\\\\u0441\\\\u043a\\\\u0438\\\\u0435\"]'\n",
      " '[\"AlternativeRock\", \"Australians\", \"80s\"]'\n",
      " '[\"Australians\", \"ClassicRock\", \"90s\"]'\n",
      " '[\"OriginalMusic\", \"Metal\", \"Suomi\"]'\n",
      " '[\"Canadians\", \"60s\", \"Beatles\", \"British\", \"ClassicRock\"]'\n",
      " '[\"Metal\", \"Hollantilainen\"]' '[\"Argentinos\", \"HardRock\"]'\n",
      " '[\"Canadians\", \"British\", \"Pop\"]'\n",
      " '[\"HardRock\", \"80s\", \"British\", \"Deutschen\"]' '[\"Reggae\", \"WorldMusic\"]'\n",
      " '[\"Beatles\", \"60s\", \"British\", \"ClassicRock\"]' '[\"WorldMusic\", \"Reggae\"]'\n",
      " '[\"Movies\", \"WorldMusic\"]' '[\"OriginalMusic\", \"Chilenos\"]'\n",
      " '[\"70s\", \"ClassicRock\", \"American\"]' '[\"American\", \"OriginalMusic\"]'\n",
      " '[\"Metal\", \"OriginalMusic\"]'\n",
      " '[\"90s\", \"AlternativeRock\", \"Irish\", \"Espa\\\\u00f1ol\"]'\n",
      " '[\"WorldMusic\", \"Italians\"]' '[\"Irish\", \"WorldMusic\"]'\n",
      " '[\"RnB\", \"60s\", \"American\"]' '[\"Indie\", \"British\"]'\n",
      " '[\"Beatles\", \"British\", \"60s\", \"ClassicRock\"]'\n",
      " '[\"AlternativeRock\", \"Fran\\\\u00e7ais\", \"Belgen\"]'\n",
      " '[\"Country\", \"American\", \"Movies\"]' '[\"Canadians\", \"ClassicRock\", \"70s\"]'\n",
      " '[\"Pop\", \"Swiss\"]' '[\"Funk\", \"OriginalMusic\"]'\n",
      " '[\"Latin\", \"WorldMusic\", \"Espa\\\\u00f1ol\"]'\n",
      " '[\"\\\\u65e5\\\\u672c\\\\u4eba\", \"Pop\"]'\n",
      " '[\"60s\", \"British\", \"Beatles\", \"Canadians\", \"ClassicRock\"]'\n",
      " '[\"Fran\\\\u00e7ais\", \"Canadians\", \"Pop\"]' '[\"Indie\", \"Irish\"]'\n",
      " '[\"American\", \"Movies\"]' '[\"70s\", \"American\", \"Pop\"]'\n",
      " '[\"Metal\", \"Swiss\", \"Deutschen\"]' '[\"American\", \"Country\", \"Christian\"]'\n",
      " '[\"Deutschen\", \"WorldMusic\"]' '[\"ClassicRock\", \"American\", \"British\"]'\n",
      " '[\"Espa\\\\u00f1ol\", \"Mexicanos\", \"WorldMusic\"]' '[\"Canadians\", \"Punk\"]'\n",
      " '[\"HipHop\", \"American\"]' '[\"British\", \"Argentinos\", \"Metal\"]'\n",
      " '[\"Pop\", \"American\", \"British\"]'\n",
      " '[\"80s\", \"Pop\", \"Espa\\\\u00f1ol\", \"British\"]' '[\"WorldMusic\", \"Irish\"]'\n",
      " '[\"OriginalMusic\", \"HipHop\"]' '[\"Belgen\", \"WorldMusic\"]'\n",
      " '[\"OriginalMusic\", \"Espa\\\\u00f1ol\"]' '[\"Canadians\", \"Pop\"]'\n",
      " '[\"80s\", \"American\"]' '[\"60s\", \"British\", \"Beatles\", \"ClassicRock\"]'\n",
      " '[\"American\", \"Canadians\", \"HardRock\"]'\n",
      " '[\"ClassicRock\", \"70s\", \"British\"]' '[\"Pop\", \"American\", \"Canadians\"]'\n",
      " '[\"Punk\", \"American\", \"Chilenos\"]' '[\"WorldMusic\", \"American\"]'\n",
      " '[\"60s\", \"ClassicRock\", \"British\", \"Beatles\"]' '[\"Chilenos\", \"Movies\"]'\n",
      " '[\"60s\", \"ClassicRock\", \"British\"]' '[\"Movies\", \"\\\\u65e5\\\\u672c\\\\u4eba\"]'\n",
      " '[\"Movies\", \"American\"]' '[\"Metal\", \"American\"]'\n",
      " '[\"American\", \"British\", \"RnB\"]'\n",
      " '[\"American\", \"ClassicRock\", \"60s\", \"Canadians\"]'\n",
      " '[\"RnB\", \"90s\", \"American\", \"Movies\"]'\n",
      " '[\"Beatles\", \"70s\", \"British\", \"ClassicRock\"]' '[\"Metal\", \"Irish\"]'\n",
      " '[\"Irish\", \"Movies\"]'\n",
      " '[\"70s\", \"Espa\\\\u00f1ol\", \"Beatles\", \"British\", \"ClassicRock\"]'\n",
      " '[\"Metal\", \"Suomi\", \"Svensk\"]' '[\"Deutschen\", \"Movies\", \"Pop\"]'\n",
      " '[\"OriginalMusic\", \"Pop\", \"American\"]'\n",
      " '[\"American\", \"Pop\", \"OriginalMusic\"]'\n",
      " '[\"American\", \"ClassicRock\", \"British\", \"60s\"]'\n",
      " '[\"70s\", \"British\", \"ClassicRock\", \"Beatles\"]'\n",
      " '[\"Espa\\\\u00f1ol\", \"AlternativeRock\", \"Irish\"]'\n",
      " '[\"Irish\", \"British\", \"WorldMusic\"]' '[\"Metal\", \"Deutschen\"]'\n",
      " '[\"70s\", \"Beatles\", \"ClassicRock\", \"British\"]' '[\"Argentinos\", \"Latin\"]'\n",
      " '[\"RnB\", \"American\", \"British\", \"Jazz\"]' '[\"Deutschen\", \"Pop\"]'\n",
      " '[\"American\", \"70s\", \"Christian\"]' '[\"70s\", \"ClassicRock\", \"British\"]'\n",
      " '[\"RnB\", \"American\", \"British\"]' '[\"British\"]'\n",
      " '[\"80s\", \"American\", \"AlternativeRock\"]'\n",
      " '[\"Espa\\\\u00f1ol\", \"WorldMusic\", \"Mexicanos\"]']\n"
     ]
    }
   ],
   "source": [
    "contentTagData = pubData.loc[pubData.contentTags != 'null']\n",
    "len(contentTagData)\n",
    "print(pd.unique(contentTagData.contentTags))\n",
    "#To Do: unpack each dictionary, count, sort and plot like below"
   ]
  },
  {
   "cell_type": "code",
   "execution_count": 130,
   "metadata": {},
   "outputs": [
    {
     "name": "stdout",
     "output_type": "stream",
     "text": [
      "Number of Tracks with Instrument Labels 47645\n"
     ]
    },
    {
     "data": {
      "text/plain": [
       "Text(0,0.5,'Frequency')"
      ]
     },
     "execution_count": 130,
     "metadata": {},
     "output_type": "execute_result"
    },
    {
     "data": {
      "image/png": "[encoded data removed]",
      "text/plain": [
       "<Figure size 432x288 with 1 Axes>"
      ]
     },
     "metadata": {},
     "output_type": "display_data"
    }
   ],
   "source": [
    "instrumentData = pubData.loc[pd.notnull(pubData.instrument)]\n",
    "print('Number of Tracks with Instrument Labels:', len(instrumentData))\n",
    "instrumentCounts = Counter(instrumentData.instrument)\n",
    "instrumentCounts = OrderedDict(instrumentCounts.most_common())\n",
    "df = pd.DataFrame.from_dict(instrumentCounts, orient='index')\n",
    "ax = df.plot(kind='bar', title = 'Instrument Label Distribution', legend = False)\n",
    "ax.set_xlabel(\"Instrument\")\n",
    "ax.set_ylabel(\"Frequency\")"
   ]
  },
  {
   "cell_type": "code",
   "execution_count": 131,
   "metadata": {},
   "outputs": [
    {
     "name": "stdout",
     "output_type": "stream",
     "text": [
      "Non-YouTube tracks: 167730\n",
      "YouTube tracks: 122886\n"
     ]
    }
   ],
   "source": [
    "nonYouTubeData = pubData.loc[pubData.fromYouTube == False] #grab published tracks\n",
    "youTubeData = pubData.loc[pubData.fromYouTube == True] #grab published tracks\n",
    "print('Non-YouTube Tracks:', len(nonYouTubeData))\n",
    "print('YouTube Tracks:', len(youTubeData))"
   ]
  },
  {
   "cell_type": "code",
   "execution_count": 132,
   "metadata": {},
   "outputs": [
    {
     "name": "stdout",
     "output_type": "stream",
     "text": [
      "median 1.0\n",
      "DescribeResult(nobs=130379, minmax=(1, 65), mean=2.2290092729657385, variance=8.333539716269533, skewness=3.3506788101598612, kurtosis=16.826845389271856)\n"
     ]
    }
   ],
   "source": [
    "nonYouTubeMultiTracks = multiTrackLens(nonYouTubeData)\n",
    "print('median', np.median(nonYouTubeMultiTracks))\n",
    "stats.describe(nonYouTubeMultiTracks)"
   ]
  },
  {
   "cell_type": "code",
   "execution_count": 67,
   "metadata": {},
   "outputs": [
    {
     "data": {
      "text/plain": [
       "Text(0,0.5,'Frequency')"
      ]
     },
     "execution_count": 67,
     "metadata": {},
     "output_type": "execute_result"
    },
    {
     "data": {
      "image/png": "[encoded data removed]",
      "text/plain": [
       "<Figure size 432x288 with 1 Axes>"
      ]
     },
     "metadata": {},
     "output_type": "display_data"
    }
   ],
   "source": [
    "pyplot.hist(nonYouTubeMultiTracks,20, (0.5, 20.5))\n",
    "pyplot.title(\"Non-YouTube Multitrack Distribution\")\n",
    "pyplot.xlabel(\"Number of Tracks\")\n",
    "pyplot.ylabel(\"Frequency\")"
   ]
  },
  {
   "cell_type": "code",
   "execution_count": null,
   "metadata": {},
   "outputs": [],
   "source": [
    "# To Do : content tags and duration\n",
    "# repeat for all tracks..."
   ]
  },
  {
   "cell_type": "code",
   "execution_count": null,
   "metadata": {},
   "outputs": [],
   "source": [
    "# info for all tracks"
   ]
  }
 ],
 "metadata": {
  "kernelspec": {
   "display_name": "Python 3",
   "language": "python",
   "name": "python3"
  },
  "language_info": {
   "codemirror_mode": {
    "name": "ipython",
    "version": 3
   },
   "file_extension": ".py",
   "mimetype": "text/x-python",
   "name": "python",
   "nbconvert_exporter": "python",
   "pygments_lexer": "ipython3",
   "version": "3.6.4"
  }
 },
 "nbformat": 4,
 "nbformat_minor": 2
}
