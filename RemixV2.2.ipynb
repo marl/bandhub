{
 "cells": [
  {
   "cell_type": "code",
   "execution_count": 1,
   "metadata": {},
   "outputs": [],
   "source": [
    "import pymongo\n",
    "import pandas as pd\n",
    "#from pandas import Series\n",
    "import numpy as np\n",
    "np.set_printoptions(threshold='nan')\n",
    "from numpy.linalg import inv\n",
    "from scipy import signal\n",
    "from scipy.io import wavfile\n",
    "import soundfile as sf\n",
    "import matplotlib.pyplot as plt\n",
    "%matplotlib inline\n",
    "#from collections import Counter\n",
    "from bson.objectid import ObjectId\n",
    "import json\n",
    "import pprint\n",
    "from pydub import AudioSegment\n",
    "import urllib\n",
    "import fnmatch\n",
    "import os\n",
    "import requests\n",
    "import ffmpy\n",
    "import subprocess\n",
    "import librosa\n",
    "import librosa.display"
   ]
  },
  {
   "cell_type": "code",
   "execution_count": 2,
   "metadata": {},
   "outputs": [],
   "source": [
    "client = pymongo.MongoClient('localhost',27017)\n",
    "#client = pymongo.MongoClient('localhost',32768)\n",
    "db = client.get_database('b=bandhub')"
   ]
  },
  {
   "cell_type": "code",
   "execution_count": 3,
   "metadata": {},
   "outputs": [
    {
     "data": {
      "text/plain": [
       "[425706, 198169, 915582, 494867]"
      ]
     },
     "execution_count": 3,
     "metadata": {},
     "output_type": "execute_result"
    }
   ],
   "source": [
    "songCol = db.get_collection('songsStream')\n",
    "vidCol = db.get_collection('mergedVideos')\n",
    "trackCol = db.get_collection('tracksStream')\n",
    "postCol = db.get_collection('posts')\n",
    "[songCol.count(), vidCol.count(), trackCol.count(), postCol.count()]"
   ]
  },
  {
   "cell_type": "markdown",
   "metadata": {},
   "source": [
    "Find mixes with \"NumTrack\" published tracks, where NumTrack > 3"
   ]
  },
  {
   "cell_type": "code",
   "execution_count": 4,
   "metadata": {},
   "outputs": [],
   "source": [
    "NumTrackMixes = []\n",
    "masterSongIDs = []\n",
    "NumTrack = 5\n",
    "#zeroTrackMixes = 0\n",
    "pubTracks = postCol.find({'songAccess':{'$exists': True}}, {'participantsInfo':1 ,'songAccess':1, 'objectId':1})\n",
    "for docs in pubTracks:\n",
    "    if(docs['songAccess'] == 1):\n",
    "        if(len(docs['participantsInfo']['publishedTracks']) == NumTrack):\n",
    "            #ThreeTrackMixes.append(docs['objectId'])\n",
    "            NumTrackMixes.append(docs['_id'])\n",
    "            masterSongIDs.append(docs['objectId'])\n",
    "countNumTrack = len(NumTrackMixes)\n",
    "#print(countNumTrack)"
   ]
  },
  {
   "cell_type": "markdown",
   "metadata": {},
   "source": [
    "Storing the indices of the mixes with \"NumTrack\" published tracks, which contain multiple mixing coefficients"
   ]
  },
  {
   "cell_type": "code",
   "execution_count": 5,
   "metadata": {},
   "outputs": [
    {
     "ename": "KeyError",
     "evalue": "'audioChannels'",
     "output_type": "error",
     "traceback": [
      "\u001b[0;31m\u001b[0m",
      "\u001b[0;31mKeyError\u001b[0mTraceback (most recent call last)",
      "\u001b[0;32m<ipython-input-5-aa976a84e031>\u001b[0m in \u001b[0;36m<module>\u001b[0;34m()\u001b[0m\n\u001b[1;32m     23\u001b[0m                     \u001b[0;31m#break\u001b[0m\u001b[0;34m\u001b[0m\u001b[0;34m\u001b[0m\u001b[0m\n\u001b[1;32m     24\u001b[0m                 \u001b[0;32melse\u001b[0m\u001b[0;34m:\u001b[0m\u001b[0;34m\u001b[0m\u001b[0m\n\u001b[0;32m---> 25\u001b[0;31m                     \u001b[0;32mif\u001b[0m \u001b[0;34m(\u001b[0m\u001b[0;34m'volume'\u001b[0m \u001b[0;32min\u001b[0m \u001b[0msongdocs\u001b[0m\u001b[0;34m[\u001b[0m\u001b[0;34m'settings'\u001b[0m\u001b[0;34m]\u001b[0m\u001b[0;34m[\u001b[0m\u001b[0mstr\u001b[0m\u001b[0;34m(\u001b[0m\u001b[0mpub_t\u001b[0m\u001b[0;34m[\u001b[0m\u001b[0mi\u001b[0m\u001b[0;34m]\u001b[0m\u001b[0;34m)\u001b[0m\u001b[0;34m]\u001b[0m\u001b[0;34m[\u001b[0m\u001b[0;34m'audioChannels'\u001b[0m\u001b[0;34m]\u001b[0m\u001b[0;34m[\u001b[0m\u001b[0;36m0\u001b[0m\u001b[0;34m]\u001b[0m \u001b[0;32mand\u001b[0m \u001b[0;34m'volume'\u001b[0m \u001b[0;32min\u001b[0m \u001b[0msongdocs\u001b[0m\u001b[0;34m[\u001b[0m\u001b[0;34m'settings'\u001b[0m\u001b[0;34m]\u001b[0m\u001b[0;34m[\u001b[0m\u001b[0mstr\u001b[0m\u001b[0;34m(\u001b[0m\u001b[0mpub_t\u001b[0m\u001b[0;34m[\u001b[0m\u001b[0mi\u001b[0m\u001b[0;34m]\u001b[0m\u001b[0;34m)\u001b[0m\u001b[0;34m]\u001b[0m\u001b[0;34m)\u001b[0m\u001b[0;34m:\u001b[0m\u001b[0;34m\u001b[0m\u001b[0m\n\u001b[0m\u001b[1;32m     26\u001b[0m                         \u001b[0;32mif\u001b[0m \u001b[0;34m(\u001b[0m\u001b[0msongdocs\u001b[0m\u001b[0;34m[\u001b[0m\u001b[0;34m'settings'\u001b[0m\u001b[0;34m]\u001b[0m\u001b[0;34m[\u001b[0m\u001b[0mstr\u001b[0m\u001b[0;34m(\u001b[0m\u001b[0mpub_t\u001b[0m\u001b[0;34m[\u001b[0m\u001b[0mi\u001b[0m\u001b[0;34m]\u001b[0m\u001b[0;34m)\u001b[0m\u001b[0;34m]\u001b[0m\u001b[0;34m[\u001b[0m\u001b[0;34m'audioChannels'\u001b[0m\u001b[0;34m]\u001b[0m\u001b[0;34m[\u001b[0m\u001b[0;36m0\u001b[0m\u001b[0;34m]\u001b[0m\u001b[0;34m[\u001b[0m\u001b[0;34m'volume'\u001b[0m\u001b[0;34m]\u001b[0m \u001b[0;34m!=\u001b[0m \u001b[0msongdocs\u001b[0m\u001b[0;34m[\u001b[0m\u001b[0;34m'settings'\u001b[0m\u001b[0;34m]\u001b[0m\u001b[0;34m[\u001b[0m\u001b[0mstr\u001b[0m\u001b[0;34m(\u001b[0m\u001b[0mpub_t\u001b[0m\u001b[0;34m[\u001b[0m\u001b[0mi\u001b[0m\u001b[0;34m]\u001b[0m\u001b[0;34m)\u001b[0m\u001b[0;34m]\u001b[0m\u001b[0;34m[\u001b[0m\u001b[0;34m'volume'\u001b[0m\u001b[0;34m]\u001b[0m\u001b[0;34m)\u001b[0m\u001b[0;34m:\u001b[0m\u001b[0;34m\u001b[0m\u001b[0m\n\u001b[1;32m     27\u001b[0m                             \u001b[0mindex_required\u001b[0m\u001b[0;34m.\u001b[0m\u001b[0mappend\u001b[0m\u001b[0;34m(\u001b[0m\u001b[0mj\u001b[0m\u001b[0;34m)\u001b[0m\u001b[0;34m\u001b[0m\u001b[0m\n",
      "\u001b[0;31mKeyError\u001b[0m: 'audioChannels'"
     ]
    }
   ],
   "source": [
    "index_required = []\n",
    "missing_SongID = []\n",
    "missing_pubtrack = []\n",
    "for j in range(countNumTrack):\n",
    "    remix_test = NumTrackMixes[j]\n",
    "    songID = masterSongIDs[j]\n",
    "    \n",
    "    pub_t = []\n",
    "    rmt1 = postCol.find({'_id': remix_test})\n",
    "    for docs in rmt1:\n",
    "        for i in range(NumTrack):\n",
    "            pub_t.append(docs['participantsInfo']['publishedTracks'][i]['_id'])\n",
    "    \n",
    "    songLookUp = songCol.find({'masterSongId' : songID})\n",
    "    if songLookUp is -1:\n",
    "        pprint.pprint('Error: SongID not found in Song Collection!')\n",
    "        missing_SongID.append(songID)\n",
    "    else:\n",
    "        for songdocs in songLookUp:\n",
    "            for i in range(NumTrack):\n",
    "                if(str(pub_t[i]) not in songdocs['settings']):\n",
    "                    missing_pubtrack.append(pub_t[i])   \n",
    "                    #break\n",
    "                else:\n",
    "                    if ('volume' in songdocs['settings'][str(pub_t[i])]['audioChannels'][0] and 'volume' in songdocs['settings'][str(pub_t[i])]):\n",
    "                        if (songdocs['settings'][str(pub_t[i])]['audioChannels'][0]['volume'] != songdocs['settings'][str(pub_t[i])]['volume']):\n",
    "                            index_required.append(j)\n",
    "                            #break"
   ]
  },
  {
   "cell_type": "code",
   "execution_count": null,
   "metadata": {},
   "outputs": [],
   "source": [
    "print(index_required)"
   ]
  },
  {
   "cell_type": "code",
   "execution_count": null,
   "metadata": {},
   "outputs": [],
   "source": [
    "print(missing_pubtrack)"
   ]
  },
  {
   "cell_type": "code",
   "execution_count": null,
   "metadata": {},
   "outputs": [],
   "source": [
    "def get_filename(file):\n",
    "    filePath = file.split('/')\n",
    "    return filePath[- 1]"
   ]
  },
  {
   "cell_type": "markdown",
   "metadata": {},
   "source": [
    "Storing the published tracks of each mix using the stored indices "
   ]
  },
  {
   "cell_type": "code",
   "execution_count": 37,
   "metadata": {},
   "outputs": [
    {
     "ename": "KeyError",
     "evalue": "'volume'",
     "output_type": "error",
     "traceback": [
      "\u001b[0;31m\u001b[0m",
      "\u001b[0;31mKeyError\u001b[0mTraceback (most recent call last)",
      "\u001b[0;32m<ipython-input-37-41d345fd6f91>\u001b[0m in \u001b[0;36m<module>\u001b[0;34m()\u001b[0m\n\u001b[1;32m     20\u001b[0m     \u001b[0;32mfor\u001b[0m \u001b[0mi\u001b[0m \u001b[0;32min\u001b[0m \u001b[0mrange\u001b[0m\u001b[0;34m(\u001b[0m\u001b[0mlen\u001b[0m\u001b[0;34m(\u001b[0m\u001b[0mpub_tracks\u001b[0m\u001b[0;34m)\u001b[0m\u001b[0;34m)\u001b[0m\u001b[0;34m:\u001b[0m\u001b[0;34m\u001b[0m\u001b[0m\n\u001b[1;32m     21\u001b[0m         \u001b[0mpub_t_vol\u001b[0m\u001b[0;34m.\u001b[0m\u001b[0mappend\u001b[0m\u001b[0;34m(\u001b[0m\u001b[0msdocs\u001b[0m\u001b[0;34m[\u001b[0m\u001b[0;34m'settings'\u001b[0m\u001b[0;34m]\u001b[0m\u001b[0;34m[\u001b[0m\u001b[0mstr\u001b[0m\u001b[0;34m(\u001b[0m\u001b[0mpub_tracks\u001b[0m\u001b[0;34m[\u001b[0m\u001b[0mi\u001b[0m\u001b[0;34m]\u001b[0m\u001b[0;34m)\u001b[0m\u001b[0;34m]\u001b[0m\u001b[0;34m[\u001b[0m\u001b[0;34m'volume'\u001b[0m\u001b[0;34m]\u001b[0m\u001b[0;34m)\u001b[0m\u001b[0;34m\u001b[0m\u001b[0m\n\u001b[0;32m---> 22\u001b[0;31m         \u001b[0mpub_t_vol_ch\u001b[0m\u001b[0;34m.\u001b[0m\u001b[0mappend\u001b[0m\u001b[0;34m(\u001b[0m\u001b[0msdocs\u001b[0m\u001b[0;34m[\u001b[0m\u001b[0;34m'settings'\u001b[0m\u001b[0;34m]\u001b[0m\u001b[0;34m[\u001b[0m\u001b[0mstr\u001b[0m\u001b[0;34m(\u001b[0m\u001b[0mpub_tracks\u001b[0m\u001b[0;34m[\u001b[0m\u001b[0mi\u001b[0m\u001b[0;34m]\u001b[0m\u001b[0;34m)\u001b[0m\u001b[0;34m]\u001b[0m\u001b[0;34m[\u001b[0m\u001b[0;34m'audioChannels'\u001b[0m\u001b[0;34m]\u001b[0m\u001b[0;34m[\u001b[0m\u001b[0;36m0\u001b[0m\u001b[0;34m]\u001b[0m\u001b[0;34m[\u001b[0m\u001b[0;34m'volume'\u001b[0m\u001b[0;34m]\u001b[0m\u001b[0;34m)\u001b[0m\u001b[0;34m\u001b[0m\u001b[0m\n\u001b[0m\u001b[1;32m     23\u001b[0m         \u001b[0mgettrack\u001b[0m \u001b[0;34m=\u001b[0m \u001b[0mtrackCol\u001b[0m\u001b[0;34m.\u001b[0m\u001b[0mfind\u001b[0m\u001b[0;34m(\u001b[0m\u001b[0;34m{\u001b[0m\u001b[0;34m'_id'\u001b[0m \u001b[0;34m:\u001b[0m \u001b[0mpub_tracks\u001b[0m\u001b[0;34m[\u001b[0m\u001b[0mi\u001b[0m\u001b[0;34m]\u001b[0m\u001b[0;34m}\u001b[0m\u001b[0;34m)\u001b[0m\u001b[0;34m\u001b[0m\u001b[0m\n\u001b[1;32m     24\u001b[0m         \u001b[0;32mfor\u001b[0m \u001b[0mtdocs\u001b[0m \u001b[0;32min\u001b[0m \u001b[0mgettrack\u001b[0m\u001b[0;34m:\u001b[0m\u001b[0;34m\u001b[0m\u001b[0m\n",
      "\u001b[0;31mKeyError\u001b[0m: 'volume'"
     ]
    }
   ],
   "source": [
    "#for k in range(len(index_required)):\n",
    "    #idx = index_required[k]\n",
    "idx = 29\n",
    "SongID = masterSongIDs[idx]\n",
    "postID = NumTrackMixes[idx]\n",
    "pub_tracks = []\n",
    "pub_t_vol = []\n",
    "pub_t_vol_ch = []\n",
    "ogg_paths = []\n",
    "start_times = []\n",
    "track_filenames = []\n",
    "songDoc = songCol.find({'masterSongId' : SongID})\n",
    "rmtDoc = postCol.find({'_id': postID})\n",
    "\n",
    "for rdocs in rmtDoc:\n",
    "    for i in range(NumTrack):\n",
    "        pub_tracks.append(rdocs['participantsInfo']['publishedTracks'][i]['_id'])\n",
    "        \n",
    "for sdocs in songDoc:\n",
    "    for i in range(len(pub_tracks)):\n",
    "        pub_t_vol.append(sdocs['settings'][str(pub_tracks[i])]['volume'])\n",
    "        pub_t_vol_ch.append(sdocs['settings'][str(pub_tracks[i])]['audioChannels'][0]['volume'])\n",
    "        gettrack = trackCol.find({'_id' : pub_tracks[i]})\n",
    "        for tdocs in gettrack:\n",
    "            ogg_paths.append(tdocs['audioChannels'][0]['fileUrl'])\n",
    "            start_times.append(tdocs['startTimeValue'])\n",
    "        for file in ogg_paths:\n",
    "            get_filename(file)\n",
    "    \n",
    "pprint.pprint(pub_t_vol)\n",
    "pprint.pprint('============')\n",
    "pprint.pprint(pub_t_vol_ch)\n",
    "pprint.pprint('============')\n",
    "pprint.pprint(track_filenames)\n",
    "pprint.pprint('============')\n",
    "pprint.pprint(start_times)"
   ]
  },
  {
   "cell_type": "code",
   "execution_count": null,
   "metadata": {},
   "outputs": [],
   "source": [
    "def get_filename(file):\n",
    "    filePath = file.split('/')\n",
    "    return filePath[- 1]"
   ]
  },
  {
   "cell_type": "code",
   "execution_count": null,
   "metadata": {},
   "outputs": [],
   "source": [
    "def download_track(ogg_path):\n",
    "    \n",
    "    path = '/scratch/rrs432/tracks'\n",
    "    #os.mkdir(path)\n",
    "    os.chdir(path)\n",
    "    \n",
    "\n",
    "    r = requests.get(ogg_path)\n",
    "    filename = get_filename(ogg_path)\n",
    "    with open(filename, 'wb') as fd:\n",
    "        for chunk in r.iter_content(chunk_size=128):\n",
    "            fd.write(chunk)\n",
    "            \n",
    "    print('Track download successful!')"
   ]
  },
  {
   "cell_type": "code",
   "execution_count": 6,
   "metadata": {},
   "outputs": [],
   "source": [
    "def clear_downloads():\n",
    "    ! rm -rf *.ogg *.wav"
   ]
  },
  {
   "cell_type": "code",
   "execution_count": 7,
   "metadata": {},
   "outputs": [],
   "source": [
    "clear_downloads()"
   ]
  },
  {
   "cell_type": "code",
   "execution_count": null,
   "metadata": {},
   "outputs": [],
   "source": [
    "for i in range(NumTrack):\n",
    "    download_track(ogg_paths[i])\n",
    "    \n",
    "pointer = vidCol.find({'songId': SongID})\n",
    "for songdocs in pointer:\n",
    "    premix = songdocs['oggMergedVideoUrl']\n",
    "\n",
    "download_track(premix)\n",
    "\n",
    "print('BandHub Mix Video downloaded successfully')\n",
    "print('============')\n",
    "!ls\n",
    "print('============')"
   ]
  }
 ],
 "metadata": {
  "kernelspec": {
   "display_name": "Python 2",
   "language": "python",
   "name": "python2"
  },
  "language_info": {
   "codemirror_mode": {
    "name": "ipython",
    "version": 2
   },
   "file_extension": ".py",
   "mimetype": "text/x-python",
   "name": "python",
   "nbconvert_exporter": "python",
   "pygments_lexer": "ipython2",
   "version": "2.7.14"
  }
 },
 "nbformat": 4,
 "nbformat_minor": 2
}
