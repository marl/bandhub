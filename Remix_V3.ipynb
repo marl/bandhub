{
 "cells": [
  {
   "cell_type": "code",
   "execution_count": 1,
   "metadata": {},
   "outputs": [],
   "source": [
    "import pymongo\n",
    "import pandas as pd\n",
    "import numpy as np\n",
    "from numpy.linalg import inv\n",
    "from scipy import signal\n",
    "from scipy.io import wavfile\n",
    "import soundfile as sf\n",
    "import matplotlib.pyplot as plt\n",
    "from bson.objectid import ObjectId\n",
    "import json\n",
    "import pprint\n",
    "from pydub import AudioSegment\n",
    "import urllib\n",
    "import fnmatch\n",
    "import os\n",
    "import requests\n",
    "import ffmpy\n",
    "import subprocess\n",
    "import librosa\n",
    "import librosa.display\n",
    "\n",
    "%matplotlib inline"
   ]
  },
  {
   "cell_type": "code",
   "execution_count": 2,
   "metadata": {},
   "outputs": [
    {
     "data": {
      "text/plain": [
       "[425706, 198169, 915582, 494867]"
      ]
     },
     "execution_count": 2,
     "metadata": {},
     "output_type": "execute_result"
    }
   ],
   "source": [
    "client = pymongo.MongoClient('localhost',27017)\n",
    "#client = pymongo.MongoClient('localhost',32768)\n",
    "db = client.get_database('b=bandhub')\n",
    "songCol = db.get_collection('songsStream')\n",
    "vidCol = db.get_collection('mergedVideos')\n",
    "trackCol = db.get_collection('tracksStream')\n",
    "postCol = db.get_collection('posts')\n",
    "[songCol.count(), vidCol.count(), trackCol.count(), postCol.count()]"
   ]
  },
  {
   "cell_type": "code",
   "execution_count": 32,
   "metadata": {},
   "outputs": [],
   "source": [
    "def get_published_tracks(num_track):\n",
    "    num_track_mixes = []\n",
    "    master_song_ids = []\n",
    "    pub_tracks = postCol.find({'songAccess': 1}, {'participantsInfo':1 , 'objectId':1})\n",
    "    for docs in pub_tracks:\n",
    "        #print docs['_id']\n",
    "        if(len(docs['participantsInfo']['publishedTracks']) == num_track):\n",
    "            yield docs\n",
    "            #ThreeTrackMixes.append(docs['objectId'])\n",
    "            #num_track_mixes.append(docs['_id'])\n",
    "            #master_song_ids.append(docs['objectId'])\n",
    "    #count_track_mixes = len(num_track_mixes)\n",
    "    #return num_track_mixes[idx],master_song_ids[idx],count_track_mixes"
   ]
  },
  {
   "cell_type": "code",
   "execution_count": 33,
   "metadata": {},
   "outputs": [
    {
     "name": "stdout",
     "output_type": "stream",
     "text": [
      "3908\n"
     ]
    }
   ],
   "source": [
    "#doc = [x for x in get_published_tracks(3)]\n",
    "# print x\n",
    "# doc = pub_track_generator\n",
    "print len(doc)"
   ]
  },
  {
   "cell_type": "code",
   "execution_count": 109,
   "metadata": {},
   "outputs": [],
   "source": [
    "def get_filename(file):\n",
    "    filePath = file.split('/')\n",
    "    return filePath[- 1]"
   ]
  },
  {
   "cell_type": "code",
   "execution_count": 145,
   "metadata": {},
   "outputs": [],
   "source": [
    "def get_processed_audio_ids(tracks_per_mix):\n",
    "    docs = [x for x in get_published_tracks(tracks_per_mix)]\n",
    "    count_mixes = len(docs)\n",
    "    missing_song_id = []\n",
    "    pub_songs = []\n",
    "    for j in range(450,600):\n",
    "    #for j in range(count_mixes):\n",
    "        remix_test = docs[j]['_id']\n",
    "        song_id = docs[j]['objectId']\n",
    "        #remix_test,song_id,count_track_mixes = get_published_tracks(tracks_per_mix, j)\n",
    "        pub_tracks = []\n",
    "        if docs[j]['_id'] == remix_test:\n",
    "            #for docs in rmt1:\n",
    "            for i in range(tracks_per_mix):\n",
    "                pub_tracks.append(docs[j]['participantsInfo']['publishedTracks'][i]['_id'])\n",
    "\n",
    "        songLookUp = songCol.find({'masterSongId' : song_id})\n",
    "        if songLookUp is -1:\n",
    "            missing_song_id.append(song_id)\n",
    "            pprint.pprint('Error: SongID not found in Song Collection!')\n",
    "        else:\n",
    "            for songdocs in songLookUp:\n",
    "                for i in range(tracks_per_mix):\n",
    "                    if(str(pub_tracks[i]) not in songdocs['settings']):\n",
    "                        continue\n",
    "                    elif ('effectsAudioUrl' in songdocs['settings'][str(pub_tracks[i])]): \n",
    "                        gettrack = trackCol.find({'_id' : pub_tracks[i]})\n",
    "                        for tdocs in gettrack:\n",
    "                            if tdocs['startTimeValue'] is not 0:\n",
    "                                pub_songs.append([remix_test,song_id])\n",
    "                            continue\n",
    "                            \n",
    "                    else:\n",
    "                        continue\n",
    "    pprint.pprint(pub_songs)\n",
    "    return pub_songs\n",
    "    #pprint.pprint(indexRequired)"
   ]
  },
  {
   "cell_type": "code",
   "execution_count": 122,
   "metadata": {},
   "outputs": [],
   "source": [
    "def get_mixing_coeff(req_idx):\n",
    "    #track_id, song_id, \n",
    "    #idx = indexRequired[req_idx]\n",
    "    NumTrack = 3\n",
    "    proc_id = get_processed_audio_ids(NumTrack)\n",
    "    track_id = proc_id[req_idx][0]\n",
    "    song_id = proc_id[req_idx][1]\n",
    "    \n",
    "    pub_tracks = []\n",
    "    pub_t_vol = []\n",
    "    ogg_paths = []\n",
    "    start_times = []\n",
    "    track_filenames = []\n",
    "    songDoc = songCol.find({'masterSongId' : song_id})\n",
    "    rmtDoc = postCol.find({'_id': track_id})\n",
    "    for docs in songDoc:\n",
    "        #pprint.pprint(docs)\n",
    "        #pprint.pprint('============')\n",
    "        for rdocs in rmtDoc:\n",
    "            for i in range(NumTrack):\n",
    "                pub_tracks.append(rdocs['participantsInfo']['publishedTracks'][i]['_id'])\n",
    "        #pprint.pprint(len(pub_tracks))\n",
    "        for i in range(NumTrack):\n",
    "            pub_t_vol.append(docs['settings'][str(pub_tracks[i])]['volume'])\n",
    "            if('effectsAudioUrl' in docs['settings'][str(pub_tracks[i])]): \n",
    "                ogg_paths.append(docs['settings'][str(pub_tracks[i])]['effectsAudioUrl'])\n",
    "                gettrack = trackCol.find({'_id' : pub_tracks[i]})\n",
    "                for tdocs in gettrack:\n",
    "                    start_times.append(tdocs['startTimeValue'])\n",
    "            else:\n",
    "                gettrack = trackCol.find({'_id' : pub_tracks[i]})\n",
    "                for tdocs in gettrack:\n",
    "                    #pprint.pprint(tdocs)\n",
    "                    ogg_paths.append(tdocs['audioChannels'][0]['fileUrl'])\n",
    "                    start_times.append(tdocs['startTimeValue'])\n",
    "    \n",
    "    return pub_t_vol, ogg_paths, start_times"
   ]
  },
  {
   "cell_type": "code",
   "execution_count": 116,
   "metadata": {},
   "outputs": [],
   "source": [
    "def download_track(ogg_path):\n",
    "    \n",
    "    path = '/scratch/rrs432/tracks'\n",
    "    #os.mkdir(path)\n",
    "    os.chdir(path)\n",
    "    \n",
    "\n",
    "    r = requests.get(ogg_path)\n",
    "    filename = get_filename(ogg_path)\n",
    "    with open(filename, 'wb') as fd:\n",
    "        for chunk in r.iter_content(chunk_size=128):\n",
    "            fd.write(chunk)\n",
    "            \n",
    "    print('Track download successful!')"
   ]
  },
  {
   "cell_type": "code",
   "execution_count": 130,
   "metadata": {},
   "outputs": [],
   "source": [
    "def download_mix_video(song_id):\n",
    "    pointer = vidCol.find({'songId': song_id})\n",
    "    for songdocs in pointer:\n",
    "        premix = songdocs['oggMergedVideoUrl']\n",
    "        \n",
    "    download_track(premix)"
   ]
  },
  {
   "cell_type": "code",
   "execution_count": 149,
   "metadata": {},
   "outputs": [
    {
     "name": "stdout",
     "output_type": "stream",
     "text": [
      "Track download successful!\n"
     ]
    }
   ],
   "source": [
    "s1 = '549a29940fa0cc4515916469'\n",
    "s = ObjectId(s1)\n",
    "download_mix_video(s)"
   ]
  },
  {
   "cell_type": "code",
   "execution_count": 138,
   "metadata": {},
   "outputs": [],
   "source": [
    "def pad_audio(filenames):\n",
    "    \n",
    "    oggTracks = []\n",
    "    trackLens = []\n",
    "    samRates = []\n",
    "    \n",
    "    for i in range(len(filenames)):\n",
    "        \n",
    "        oggTrack, samRate = sf.read('/scratch/rrs432/tracks/'+filenames[i])\n",
    "        samRates.append(samRate)\n",
    "        trackLens.append(oggTrack.shape[0])\n",
    "        \n",
    "        #Convert mono to stereo\n",
    "        if oggTrack.ndim is not 2:\n",
    "            oggTrack = np.stack((oggTrack, oggTrack), axis = 1)\n",
    "        oggTracks.append(oggTrack)\n",
    "\n",
    "        pprint.pprint(np.shape(oggTracks[i]))\n",
    "        \n",
    "    if (min(samRates) == max(samRates)):\n",
    "        mixsr = samRates[0] \n",
    "    else:\n",
    "        pprint.pprint('Warning: Sample rates unequal')\n",
    "    \n",
    "    masterLen = max(trackLens)\n",
    "    \n",
    "    for i in range(len(filenames)):\n",
    "        diff = np.zeros(((masterLen - trackLens[i]),2))\n",
    "        oggTracks[i] = np.vstack((oggTracks[i], diff))\n",
    "        pprint.pprint(np.shape(oggTracks[i]))\n",
    "        \n",
    "    return oggTracks"
   ]
  },
  {
   "cell_type": "code",
   "execution_count": 146,
   "metadata": {},
   "outputs": [
    {
     "name": "stdout",
     "output_type": "stream",
     "text": [
      "[[ObjectId('549a3182b76485d289844440'), ObjectId('549a29940fa0cc4515916469')],\n",
      " [ObjectId('549a3182b76485d289844440'), ObjectId('549a29940fa0cc4515916469')],\n",
      " [ObjectId('54c0dd70b76485d289898b46'), ObjectId('54c0b083c7d27f5d7f9b0edf')]]\n"
     ]
    }
   ],
   "source": [
    "a, b, c = get_mixing_coeff(1)"
   ]
  },
  {
   "cell_type": "code",
   "execution_count": 131,
   "metadata": {},
   "outputs": [
    {
     "name": "stdout",
     "output_type": "stream",
     "text": [
      "[u'http://bandhubwebmedia3.blob.core.windows.net/files/bee57119-d6b9-4657-58c4-9c5a1a67abca.ogg',\n",
      " u'http://bandhubwebmedia0.blob.core.windows.net/files/70523227-c979-438f-8d5e-b2e641716060.ogg',\n",
      " u'http://bandhubwebmedia9.blob.core.windows.net/files/469df6e0-2c08-4be1-9bf3-7ffdd2d22242.ogg']\n"
     ]
    }
   ],
   "source": [
    "pprint.pprint(b)"
   ]
  },
  {
   "cell_type": "code",
   "execution_count": 141,
   "metadata": {},
   "outputs": [
    {
     "name": "stdout",
     "output_type": "stream",
     "text": [
      "Track download successful!\n",
      "Track download successful!\n",
      "Track download successful!\n"
     ]
    }
   ],
   "source": [
    "download_track(b[0])\n",
    "download_track(b[1])\n",
    "download_track(b[2])"
   ]
  },
  {
   "cell_type": "code",
   "execution_count": 142,
   "metadata": {},
   "outputs": [
    {
     "name": "stdout",
     "output_type": "stream",
     "text": [
      "469df6e0-2c08-4be1-9bf3-7ffdd2d22242.ogg\r\n",
      "70523227-c979-438f-8d5e-b2e641716060.ogg\r\n",
      "bee57119-d6b9-4657-58c4-9c5a1a67abca.ogg\r\n"
     ]
    }
   ],
   "source": [
    "!ls"
   ]
  },
  {
   "cell_type": "code",
   "execution_count": 143,
   "metadata": {},
   "outputs": [
    {
     "name": "stdout",
     "output_type": "stream",
     "text": [
      "(9007104, 2)\n",
      "(9173248, 2)\n",
      "(9173248, 2)\n",
      "[9007104, 9173248, 9173248]\n",
      "9173248\n",
      "(9173248, 2)\n",
      "(9173248, 2)\n",
      "(9173248, 2)\n"
     ]
    }
   ],
   "source": [
    "b1 = []\n",
    "for i in range(0,3):\n",
    "    b1.append(get_filename(b[i]))\n",
    "#pprint.pprint(b1)\n",
    "pad_audio(b1)"
   ]
  },
  {
   "cell_type": "code",
   "execution_count": 151,
   "metadata": {},
   "outputs": [],
   "source": [
    "def rename_file(file, filename):\n",
    "    for file in os.listdir('.'):\n",
    "        if fnmatch.fnmatch(file, 'f-*'):\n",
    "            rename_cmd = ['mv', file, filename]\n",
    "            s = subprocess.call(rename_cmd)\n",
    "            if s is 0:\n",
    "                print('success')"
   ]
  },
  {
   "cell_type": "code",
   "execution_count": 152,
   "metadata": {},
   "outputs": [
    {
     "name": "stdout",
     "output_type": "stream",
     "text": [
      "success\n"
     ]
    }
   ],
   "source": [
    "rename_file(s1,'premix.ogg')"
   ]
  },
  {
   "cell_type": "code",
   "execution_count": 153,
   "metadata": {},
   "outputs": [
    {
     "name": "stdout",
     "output_type": "stream",
     "text": [
      "469df6e0-2c08-4be1-9bf3-7ffdd2d22242.ogg\r\n",
      "70523227-c979-438f-8d5e-b2e641716060.ogg\r\n",
      "bee57119-d6b9-4657-58c4-9c5a1a67abca.ogg\r\n",
      "premix.ogg\r\n"
     ]
    }
   ],
   "source": [
    "!ls"
   ]
  },
  {
   "cell_type": "code",
   "execution_count": 155,
   "metadata": {},
   "outputs": [],
   "source": [
    "def strip_audio_from_video():\n",
    "    convert_cmd = ['ffmpeg', '-i', 'premix.ogg', '-vsync', '1', '-async', '1', '-vn', 'premix.wav']\n",
    "    subprocess.call(convert_cmd)"
   ]
  },
  {
   "cell_type": "code",
   "execution_count": 157,
   "metadata": {},
   "outputs": [],
   "source": [
    "def compute_estimate_mix(track_filenames):\n",
    "    \n",
    "    ogg_tracks = pad_audio(track_filenames)\n",
    "    mixOgg = 0\n",
    "    for i in range(len(track_filenames)):\n",
    "        mixOgg += (pub_t_vol[i]*np.array(ogg_tracks[i]))\n",
    "    sf.write('estimix.wav', mixOgg / np.max(np.abs(mixOgg)), mixsr)\n",
    "    print('Estimate mix computation succesful!')"
   ]
  },
  {
   "cell_type": "code",
   "execution_count": null,
   "metadata": {},
   "outputs": [],
   "source": []
  }
 ],
 "metadata": {
  "kernelspec": {
   "display_name": "Python 2",
   "language": "python",
   "name": "python2"
  },
  "language_info": {
   "codemirror_mode": {
    "name": "ipython",
    "version": 2
   },
   "file_extension": ".py",
   "mimetype": "text/x-python",
   "name": "python",
   "nbconvert_exporter": "python",
   "pygments_lexer": "ipython2",
   "version": "2.7.14"
  }
 },
 "nbformat": 4,
 "nbformat_minor": 2
}
