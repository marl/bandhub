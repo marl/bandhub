{
 "cells": [
  {
   "cell_type": "code",
   "execution_count": 1,
   "metadata": {},
   "outputs": [
    {
     "name": "stderr",
     "output_type": "stream",
     "text": [
      "/home/rrs432/miniconda2/envs/bandhub/lib/python2.7/site-packages/pydub/utils.py:165: RuntimeWarning: Couldn't find ffmpeg or avconv - defaulting to ffmpeg, but may not work\n",
      "  warn(\"Couldn't find ffmpeg or avconv - defaulting to ffmpeg, but may not work\", RuntimeWarning)\n"
     ]
    }
   ],
   "source": [
    "import pymongo\n",
    "import pandas as pd\n",
    "#from pandas import Series\n",
    "import numpy as np\n",
    "import soundfile as sf\n",
    "#import matplotlib.pyplot as plt\n",
    "#from collections import Counter\n",
    "from bson.objectid import ObjectId\n",
    "import json\n",
    "import pprint\n",
    "from pydub import AudioSegment\n",
    "import urllib\n",
    "import os\n",
    "import requests\n",
    "import ffmpy\n",
    "import subprocess"
   ]
  },
  {
   "cell_type": "code",
   "execution_count": 2,
   "metadata": {},
   "outputs": [],
   "source": [
    "client = pymongo.MongoClient('localhost',27017)\n",
    "#client = pymongo.MongoClient('localhost',32768)\n",
    "db = client.bandhub"
   ]
  },
  {
   "cell_type": "code",
   "execution_count": 3,
   "metadata": {},
   "outputs": [
    {
     "data": {
      "text/plain": [
       "[425706, 198169, 350000, 494867]"
      ]
     },
     "execution_count": 3,
     "metadata": {},
     "output_type": "execute_result"
    }
   ],
   "source": [
    "songCol = db.get_collection('songsStream')\n",
    "vidCol = db.get_collection('mergedVideos')\n",
    "trackCol = db.get_collection('tracksStream')\n",
    "postCol = db.get_collection('posts')\n",
    "[songCol.count(), vidCol.count(), trackCol.count(), postCol.count()]"
   ]
  },
  {
   "cell_type": "code",
   "execution_count": 17,
   "metadata": {},
   "outputs": [
    {
     "name": "stdout",
     "output_type": "stream",
     "text": [
      "ObjectId('546f05de4e5d9e60267e62da')\n"
     ]
    }
   ],
   "source": [
    "TwoTrackMixes = []\n",
    "#zeroTrackMixes = 0\n",
    "pubTracks = postCol.find({'songAccess':{'$exists': True}}, {'participantsInfo':1 ,'songAccess':1, '_id':1})\n",
    "for docs in pubTracks:\n",
    "    if(docs['songAccess'] == 1):\n",
    "        if(len(docs['participantsInfo']['publishedTracks']) == 2):\n",
    "            TwoTrackMixes.append(docs['_id'])\n",
    "#pprint.pprint(len(TwoTrackMixes))\n",
    "\n",
    "remix_test1 = TwoTrackMixes[0]\n",
    "pprint.pprint(remix_test1)"
   ]
  },
  {
   "cell_type": "code",
   "execution_count": 4,
   "metadata": {},
   "outputs": [
    {
     "name": "stdout",
     "output_type": "stream",
     "text": [
      "ObjectId('5346e55daadff46b2c000126')\n"
     ]
    }
   ],
   "source": [
    "ThreeTrackMixes = []\n",
    "masterSongIDs = []\n",
    "#zeroTrackMixes = 0\n",
    "pubTracks = postCol.find({'songAccess':{'$exists': True}}, {'participantsInfo':1 ,'songAccess':1, 'objectId':1})\n",
    "for docs in pubTracks:\n",
    "    if(docs['songAccess'] == 1):\n",
    "        if(len(docs['participantsInfo']['publishedTracks']) == 3):\n",
    "            #ThreeTrackMixes.append(docs['objectId'])\n",
    "            ThreeTrackMixes.append(docs['_id'])\n",
    "            masterSongIDs.append(docs['objectId'])\n",
    "#pprint.pprint(len(TwoTrackMixes))\n",
    "\n",
    "remix_test = ThreeTrackMixes[5]\n",
    "songID = masterSongIDs[5]\n",
    "pprint.pprint(songID)"
   ]
  },
  {
   "cell_type": "code",
   "execution_count": 5,
   "metadata": {},
   "outputs": [
    {
     "name": "stdout",
     "output_type": "stream",
     "text": [
      "[ObjectId('5346e6c5aadff46b2c00012b'),\n",
      " ObjectId('535db15e9d193e5f03000066'),\n",
      " ObjectId('53a0e215b722525949000005')]\n"
     ]
    }
   ],
   "source": [
    "pub_t = []\n",
    "rmt1 = postCol.find({'_id': remix_test})\n",
    "count = 0\n",
    "for docs in rmt1:\n",
    "    if docs['songAccess'] == 1:\n",
    "        #pprint.pprint(docs)\n",
    "        #pprint.pprint(docs['participantsInfo']['publishedTracks'])\n",
    "        count = len(docs['participantsInfo']['publishedTracks'])\n",
    "        #pprint.pprint(docs['participantsInfo']['publishedTracks'])\n",
    "        for i in range(count):\n",
    "            pub_t.append(docs['participantsInfo']['publishedTracks'][i]['_id'])\n",
    "        #pprint.pprint(\"Not public\")\n",
    "pprint.pprint(pub_t)"
   ]
  },
  {
   "cell_type": "code",
   "execution_count": 6,
   "metadata": {},
   "outputs": [
    {
     "name": "stdout",
     "output_type": "stream",
     "text": [
      "[1, 1, 0.7]\n"
     ]
    }
   ],
   "source": [
    "songLookUp = songCol.find({'masterSongId' : songID})\n",
    "pub_t_vol = []\n",
    "#pprint.pprint(songLookUp.count())\n",
    "for docs in songLookUp:\n",
    "    #pprint.pprint(docs)\n",
    "    for i in range(count):\n",
    "        #pprint.pprint(docs['settings'][str(pub_t[i])]['volume'])\n",
    "        #pprint.pprint(str(pub_t[i]))\n",
    "        #pprint.pprint(docs['settings'][str(pub_t[i])]['volume'])\n",
    "        pub_t_vol.append(docs['settings'][str(pub_t[i])]['volume'])\n",
    "    #print('found')\n",
    "pprint.pprint(pub_t_vol)"
   ]
  },
  {
   "cell_type": "code",
   "execution_count": 7,
   "metadata": {},
   "outputs": [
    {
     "name": "stdout",
     "output_type": "stream",
     "text": [
      "[u'578feca1-696d-4d49-bb75-15dc63bb5822-0-0_surubi.ogg',\n",
      " u'136dd451-e101-49a9-a7db-edef3f1ef098-0-0.ogg',\n",
      " u'3258166c-a1ee-4f6a-9876-2d9325287a82-0.ogg']\n",
      "[0, 0, 0]\n"
     ]
    }
   ],
   "source": [
    "ogg_paths = []\n",
    "track_filenames = []\n",
    "start_times = []\n",
    "for i in range(count):\n",
    "    gettrack = trackCol.find({'_id' : pub_t[i]})\n",
    "    for docs in gettrack:\n",
    "        #trackVideo = docs['videoFileUrl']\n",
    "        #pprint.pprint(docs['audioChannels'][0]['fileUrl'])\n",
    "        ogg_paths.append(docs['audioChannels'][0]['fileUrl'])\n",
    "        start_times.append(docs['startTimeValue'])\n",
    "        #pprint.pprint(docs)\n",
    "#pprint.pprint(ogg_path)\n",
    "for file in ogg_paths:\n",
    "    filePath = file.split('/')\n",
    "    track_filenames.append(filePath[- 1])\n",
    "    #print fileName\n",
    "pprint.pprint(track_filenames)\n",
    "pprint.pprint(start_times)"
   ]
  },
  {
   "cell_type": "code",
   "execution_count": 8,
   "metadata": {},
   "outputs": [
    {
     "name": "stdout",
     "output_type": "stream",
     "text": [
      "Download successful\n"
     ]
    }
   ],
   "source": [
    "path = '/scratch/rrs432/tracks'\n",
    "#os.mkdir(path)\n",
    "os.chdir(path)\n",
    "\n",
    "for i in range(count):\n",
    "    r = requests.get(ogg_paths[i])\n",
    "    filename = ogg_paths[i].rpartition('/')[2]\n",
    "    with open(filename, 'wb') as fd:\n",
    "        for chunk in r.iter_content(chunk_size=128):\n",
    "            fd.write(chunk)\n",
    "print('Download successful')"
   ]
  },
  {
   "cell_type": "code",
   "execution_count": 9,
   "metadata": {},
   "outputs": [
    {
     "name": "stdout",
     "output_type": "stream",
     "text": [
      "u'http://bandhubmediastream.blob.core.windows.net/files/f-baede503-caf6-4029-a777-84b2a5421878.ogg'\n"
     ]
    }
   ],
   "source": [
    "pointer = vidCol.find({'songId': songID})\n",
    "for songdocs in pointer:\n",
    "    premix = songdocs['oggMergedVideoUrl']\n",
    "pprint.pprint(premix)"
   ]
  },
  {
   "cell_type": "code",
   "execution_count": 10,
   "metadata": {},
   "outputs": [
    {
     "name": "stdout",
     "output_type": "stream",
     "text": [
      "BandHub Mix Download successful\n"
     ]
    }
   ],
   "source": [
    "path = '/scratch/rrs432/tracks'\n",
    "#os.mkdir(path)\n",
    "os.chdir(path)\n",
    "\n",
    "pointer = vidCol.find({'songId': songID})\n",
    "for songdocs in pointer:\n",
    "    premix = songdocs['oggMergedVideoUrl']\n",
    "\n",
    "r = requests.get(premix)\n",
    "filename = premix.rpartition('/')[2]\n",
    "with open(filename, 'wb') as fd:\n",
    "    for chunk in r.iter_content(chunk_size=128):\n",
    "        fd.write(chunk)\n",
    "print('BandHub Mix Download successful')"
   ]
  },
  {
   "cell_type": "code",
   "execution_count": 11,
   "metadata": {},
   "outputs": [
    {
     "name": "stdout",
     "output_type": "stream",
     "text": [
      "\u001b[0m\u001b[38;5;45m136dd451-e101-49a9-a7db-edef3f1ef098-0-0.ogg\u001b[0m\r\n",
      "\u001b[38;5;45m3258166c-a1ee-4f6a-9876-2d9325287a82-0.ogg\u001b[0m\r\n",
      "\u001b[38;5;45m578feca1-696d-4d49-bb75-15dc63bb5822-0-0_surubi.ogg\u001b[0m\r\n",
      "\u001b[38;5;45mf-baede503-caf6-4029-a777-84b2a5421878.ogg\u001b[0m\r\n",
      "\u001b[38;5;27mgconcr\u001b[0m/\r\n",
      "\u001b[38;5;27mheyoh\u001b[0m/\r\n"
     ]
    }
   ],
   "source": [
    "ls"
   ]
  },
  {
   "cell_type": "code",
   "execution_count": 12,
   "metadata": {},
   "outputs": [
    {
     "name": "stdout",
     "output_type": "stream",
     "text": [
      "[11120205, 11210560, 10363456]\n"
     ]
    }
   ],
   "source": [
    "oggTracks = []\n",
    "trackLens = []\n",
    "samRates = []\n",
    "for i in range(count):\n",
    "    oggTrack, samRate = sf.read('/scratch/rrs432/tracks/'+track_filenames[i])\n",
    "    oggTracks.append(oggTrack)\n",
    "    samRates.append(samRate)\n",
    "    trackLens.append(len(oggTracks[i])) \n",
    "pprint.pprint(trackLens)\n",
    "#pprint.pprint(len(oggTracks[2]))\n",
    "#pprint.pprint(np.shape(samRates))"
   ]
  },
  {
   "cell_type": "code",
   "execution_count": 13,
   "metadata": {},
   "outputs": [
    {
     "name": "stdout",
     "output_type": "stream",
     "text": [
      "44100\n"
     ]
    }
   ],
   "source": [
    "if (min(samRates) == max(samRates)):\n",
    "    mixsr = samRates[0] \n",
    "else:\n",
    "    pprint.pprint('Warning: Sample rates unequal')\n",
    "pprint.pprint(mixsr)"
   ]
  },
  {
   "cell_type": "code",
   "execution_count": 14,
   "metadata": {},
   "outputs": [
    {
     "name": "stdout",
     "output_type": "stream",
     "text": [
      "11210560\n"
     ]
    }
   ],
   "source": [
    "masterLen = max(trackLens)\n",
    "pprint.pprint(masterLen)"
   ]
  },
  {
   "cell_type": "code",
   "execution_count": 15,
   "metadata": {},
   "outputs": [
    {
     "name": "stdout",
     "output_type": "stream",
     "text": [
      "11120205\n",
      "11210560\n",
      "'Successful'\n",
      "11210560\n",
      "'Equal'\n",
      "10363456\n",
      "11210560\n",
      "'Successful'\n"
     ]
    }
   ],
   "source": [
    "for i in range(count):\n",
    "    pprint.pprint(len(oggTracks[i]))\n",
    "    if(trackLens[i] != masterLen):\n",
    "        #pprint.pprint(start_times[i])\n",
    "        if(start_times[i] == 0):\n",
    "            diff = np.zeros(masterLen - trackLens[i])\n",
    "            #pprint.pprint(len(oggTracks[i]))\n",
    "            oggTracks[i] = np.concatenate((oggTracks[i], diff), axis=0)\n",
    "            #pprint.pprint(masterLen - trackLens[i])\n",
    "            pprint.pprint(len(oggTracks[i]))\n",
    "            #pprint.pprint(len(diff))\n",
    "            if(len(oggTracks[i]) == masterLen):\n",
    "                pprint.pprint('Successful')\n",
    "            else:\n",
    "                pprint.pprint('Try again')\n",
    "        else:\n",
    "            diff = np.zeros(start_times[i]-1)\n",
    "            #pprint.pprint(len(diff))\n",
    "            oggTracks[i] = np.concatenate((diff,oggTracks[i]), axis=0)\n",
    "            diff = np.zeros(masterLen - len(oggTracks[i]))\n",
    "            oggTracks[i] = np.concatenate((oggTracks[i], diff), axis=0)\n",
    "            pprint.pprint(len(oggTracks[i]))\n",
    "    else:\n",
    "        pprint.pprint('Equal')"
   ]
  },
  {
   "cell_type": "code",
   "execution_count": 16,
   "metadata": {},
   "outputs": [],
   "source": [
    "# path = '/scratch/rrs432/tracks'\n",
    "# #os.mkdir(path)\n",
    "# os.chdir(path)\n",
    "mixOgg = 0\n",
    "for i in range(count):\n",
    "    #pprint.pprint('lol')\n",
    "    #pprint.pprint(pub_t_vol[i])\n",
    "    #pprint.pprint(oggTracks[i])\n",
    "    mixOgg += (pub_t_vol[i]*np.array(oggTracks[i]))\n",
    "sf.write('mixed.wav', mixOgg / np.max(np.abs(mixOgg)), mixsr)"
   ]
  },
  {
   "cell_type": "code",
   "execution_count": 17,
   "metadata": {},
   "outputs": [],
   "source": [
    "path = '/scratch/rrs432/tracks'\n",
    "os.chdir(path)"
   ]
  },
  {
   "cell_type": "code",
   "execution_count": 84,
   "metadata": {},
   "outputs": [
    {
     "name": "stdout",
     "output_type": "stream",
     "text": [
      "which: no ffmpeg in (/home/rrs432/miniconda2/envs/bandhub/bin:/share/apps/mongodb/3.4.10/bin:/home/rrs432/miniconda2/envs/bandhub/bin:/home/rrs432/miniconda2/bin:/usr/lib64/qt-3.3/bin:/usr/local/bin:/usr/bin:/usr/local/sbin:/usr/sbin:/opt/ibutils/bin:/share/apps/local/bin:/share/apps/centos/7/bin:/opt/slurm/bin:/opt/dell/srvadmin/bin:/home/rrs432/.local/bin:/home/rrs432/bin)\r\n"
     ]
    }
   ],
   "source": [
    "!which ffmpeg"
   ]
  },
  {
   "cell_type": "code",
   "execution_count": 81,
   "metadata": {},
   "outputs": [
    {
     "ename": "OSError",
     "evalue": "[Errno 2] No such file or directory",
     "output_type": "error",
     "traceback": [
      "\u001b[0;31m\u001b[0m",
      "\u001b[0;31mOSError\u001b[0mTraceback (most recent call last)",
      "\u001b[0;32m<ipython-input-81-2548a9cae7db>\u001b[0m in \u001b[0;36m<module>\u001b[0;34m()\u001b[0m\n\u001b[0;32m----> 1\u001b[0;31m \u001b[0msubprocess\u001b[0m\u001b[0;34m.\u001b[0m\u001b[0mcall\u001b[0m\u001b[0;34m(\u001b[0m\u001b[0;34m[\u001b[0m\u001b[0;34m'ffmpeg'\u001b[0m\u001b[0;34m,\u001b[0m \u001b[0;34m'-i'\u001b[0m\u001b[0;34m,\u001b[0m \u001b[0;34m'mixed.wav'\u001b[0m\u001b[0;34m,\u001b[0m \u001b[0;34m'-codec:a'\u001b[0m\u001b[0;34m,\u001b[0m \u001b[0;34m'libvorbis'\u001b[0m\u001b[0;34m,\u001b[0m \u001b[0;34m'-b:a'\u001b[0m\u001b[0;34m,\u001b[0m \u001b[0;34m'232k'\u001b[0m\u001b[0;34m,\u001b[0m \u001b[0;34m'remixed.ogg'\u001b[0m\u001b[0;34m]\u001b[0m\u001b[0;34m)\u001b[0m\u001b[0;34m\u001b[0m\u001b[0m\n\u001b[0m",
      "\u001b[0;32m/home/rrs432/miniconda2/envs/bandhub/lib/python2.7/subprocess.pyc\u001b[0m in \u001b[0;36mcall\u001b[0;34m(*popenargs, **kwargs)\u001b[0m\n\u001b[1;32m    166\u001b[0m     \u001b[0mretcode\u001b[0m \u001b[0;34m=\u001b[0m \u001b[0mcall\u001b[0m\u001b[0;34m(\u001b[0m\u001b[0;34m[\u001b[0m\u001b[0;34m\"ls\"\u001b[0m\u001b[0;34m,\u001b[0m \u001b[0;34m\"-l\"\u001b[0m\u001b[0;34m]\u001b[0m\u001b[0;34m)\u001b[0m\u001b[0;34m\u001b[0m\u001b[0m\n\u001b[1;32m    167\u001b[0m     \"\"\"\n\u001b[0;32m--> 168\u001b[0;31m     \u001b[0;32mreturn\u001b[0m \u001b[0mPopen\u001b[0m\u001b[0;34m(\u001b[0m\u001b[0;34m*\u001b[0m\u001b[0mpopenargs\u001b[0m\u001b[0;34m,\u001b[0m \u001b[0;34m**\u001b[0m\u001b[0mkwargs\u001b[0m\u001b[0;34m)\u001b[0m\u001b[0;34m.\u001b[0m\u001b[0mwait\u001b[0m\u001b[0;34m(\u001b[0m\u001b[0;34m)\u001b[0m\u001b[0;34m\u001b[0m\u001b[0m\n\u001b[0m\u001b[1;32m    169\u001b[0m \u001b[0;34m\u001b[0m\u001b[0m\n\u001b[1;32m    170\u001b[0m \u001b[0;34m\u001b[0m\u001b[0m\n",
      "\u001b[0;32m/home/rrs432/miniconda2/envs/bandhub/lib/python2.7/subprocess.pyc\u001b[0m in \u001b[0;36m__init__\u001b[0;34m(self, args, bufsize, executable, stdin, stdout, stderr, preexec_fn, close_fds, shell, cwd, env, universal_newlines, startupinfo, creationflags)\u001b[0m\n\u001b[1;32m    388\u001b[0m                                 \u001b[0mp2cread\u001b[0m\u001b[0;34m,\u001b[0m \u001b[0mp2cwrite\u001b[0m\u001b[0;34m,\u001b[0m\u001b[0;34m\u001b[0m\u001b[0m\n\u001b[1;32m    389\u001b[0m                                 \u001b[0mc2pread\u001b[0m\u001b[0;34m,\u001b[0m \u001b[0mc2pwrite\u001b[0m\u001b[0;34m,\u001b[0m\u001b[0;34m\u001b[0m\u001b[0m\n\u001b[0;32m--> 390\u001b[0;31m                                 errread, errwrite)\n\u001b[0m\u001b[1;32m    391\u001b[0m         \u001b[0;32mexcept\u001b[0m \u001b[0mException\u001b[0m\u001b[0;34m:\u001b[0m\u001b[0;34m\u001b[0m\u001b[0m\n\u001b[1;32m    392\u001b[0m             \u001b[0;31m# Preserve original exception in case os.close raises.\u001b[0m\u001b[0;34m\u001b[0m\u001b[0;34m\u001b[0m\u001b[0m\n",
      "\u001b[0;32m/home/rrs432/miniconda2/envs/bandhub/lib/python2.7/subprocess.pyc\u001b[0m in \u001b[0;36m_execute_child\u001b[0;34m(self, args, executable, preexec_fn, close_fds, cwd, env, universal_newlines, startupinfo, creationflags, shell, to_close, p2cread, p2cwrite, c2pread, c2pwrite, errread, errwrite)\u001b[0m\n\u001b[1;32m   1023\u001b[0m                         \u001b[0;32mraise\u001b[0m\u001b[0;34m\u001b[0m\u001b[0m\n\u001b[1;32m   1024\u001b[0m                 \u001b[0mchild_exception\u001b[0m \u001b[0;34m=\u001b[0m \u001b[0mpickle\u001b[0m\u001b[0;34m.\u001b[0m\u001b[0mloads\u001b[0m\u001b[0;34m(\u001b[0m\u001b[0mdata\u001b[0m\u001b[0;34m)\u001b[0m\u001b[0;34m\u001b[0m\u001b[0m\n\u001b[0;32m-> 1025\u001b[0;31m                 \u001b[0;32mraise\u001b[0m \u001b[0mchild_exception\u001b[0m\u001b[0;34m\u001b[0m\u001b[0m\n\u001b[0m\u001b[1;32m   1026\u001b[0m \u001b[0;34m\u001b[0m\u001b[0m\n\u001b[1;32m   1027\u001b[0m \u001b[0;34m\u001b[0m\u001b[0m\n",
      "\u001b[0;31mOSError\u001b[0m: [Errno 2] No such file or directory"
     ]
    }
   ],
   "source": [
    "subprocess.call(['ffmpeg', '-i', 'mixed.wav', '-codec:a', 'libvorbis', '-b:a', '232k', 'remixed.ogg'])"
   ]
  },
  {
   "cell_type": "code",
   "execution_count": 28,
   "metadata": {},
   "outputs": [
    {
     "name": "stdout",
     "output_type": "stream",
     "text": [
      "which: no ffmpeg in (/home/rrs432/miniconda2/envs/bandhub/bin:/share/apps/mongodb/3.4.10/bin:/home/rrs432/miniconda2/envs/bandhub/bin:/home/rrs432/miniconda2/bin:/usr/lib64/qt-3.3/bin:/usr/local/bin:/usr/bin:/usr/local/sbin:/usr/sbin:/opt/ibutils/bin:/share/apps/local/bin:/share/apps/centos/7/bin:/opt/slurm/bin:/opt/dell/srvadmin/bin:/home/rrs432/.local/bin:/home/rrs432/bin)\r\n"
     ]
    }
   ],
   "source": [
    "!which ffmpeg"
   ]
  },
  {
   "cell_type": "code",
   "execution_count": 26,
   "metadata": {},
   "outputs": [
    {
     "name": "stdout",
     "output_type": "stream",
     "text": [
      "/usr/bin/sh: ffmpeg: command not found\r\n"
     ]
    }
   ],
   "source": [
    "!ffmpeg -i 'mixed.wav' -codec:a libvorbis -b:a 232k remixed.ogg"
   ]
  },
  {
   "cell_type": "code",
   "execution_count": 18,
   "metadata": {},
   "outputs": [
    {
     "name": "stdout",
     "output_type": "stream",
     "text": [
      "136dd451-e101-49a9-a7db-edef3f1ef098-0-0.ogg\t     gconcr\tpremix.ogg\r\n",
      "3258166c-a1ee-4f6a-9876-2d9325287a82-0.ogg\t     heyoh\tremixed.ogg\r\n",
      "578feca1-696d-4d49-bb75-15dc63bb5822-0-0_surubi.ogg  mixed.wav\r\n"
     ]
    }
   ],
   "source": [
    "!ls"
   ]
  },
  {
   "cell_type": "code",
   "execution_count": 20,
   "metadata": {},
   "outputs": [
    {
     "name": "stdout",
     "output_type": "stream",
     "text": [
      "(11212096,)\n",
      "(11210560,)\n"
     ]
    }
   ],
   "source": [
    "p, sr = sf.read('premixa.ogg')\n",
    "r, sr = sf.read('remixed.ogg')\n",
    "#pprint.pprint(np.shape(p)[1])\n",
    "if np.shape(p)[1] == 2:\n",
    "    p = p.sum(axis=1) / 2\n",
    "pprint.pprint(np.shape(p))\n",
    "pprint.pprint(np.shape(r))"
   ]
  },
  {
   "cell_type": "code",
   "execution_count": 21,
   "metadata": {},
   "outputs": [
    {
     "name": "stdout",
     "output_type": "stream",
     "text": [
      "1536\n",
      "11212096\n",
      "11212096\n"
     ]
    }
   ],
   "source": [
    "pLen = len(p)\n",
    "rLen = len(r)\n",
    "if pLen < rLen:\n",
    "    diff = np.zeros(rLen - pLen)\n",
    "    p = np.concatenate((p,diff),axis = 0)\n",
    "else:\n",
    "    diff = np.zeros(pLen - rLen)\n",
    "    r = np.concatenate((r,diff),axis = 0)\n",
    "pprint.pprint(len(diff))\n",
    "pprint.pprint(len(r))\n",
    "pprint.pprint(len(p))"
   ]
  },
  {
   "cell_type": "code",
   "execution_count": 22,
   "metadata": {},
   "outputs": [
    {
     "data": {
      "text/plain": [
       "False"
      ]
     },
     "execution_count": 22,
     "metadata": {},
     "output_type": "execute_result"
    }
   ],
   "source": [
    "np.allclose(p,r)"
   ]
  },
  {
   "cell_type": "code",
   "execution_count": 28,
   "metadata": {},
   "outputs": [],
   "source": [
    "path = '/scratch/rrs432/tracks'\n",
    "#os.mkdir(path)\n",
    "os.chdir(path)\n",
    "mixogg = 0.7*oggtrack1 + 0.7*oggtrack2 + 0.7*oggtrack3\n",
    "sf.write('mixed.wav', mixogg / np.max(np.abs(mixogg)), mixsr)\n",
    "#sf.write('mixed.ogg', mixogg, mixsr)"
   ]
  },
  {
   "cell_type": "code",
   "execution_count": 49,
   "metadata": {},
   "outputs": [
    {
     "name": "stdout",
     "output_type": "stream",
     "text": [
      "\u001b[0m\u001b[38;5;45m8f127b81-5d41-1b61-c028-e769fbfe85c9.ogg\u001b[0m\r\n",
      "\u001b[38;5;45md4f684e0-1989-4abd-913a-5e78edebfe32-0-0.ogg\u001b[0m\r\n",
      "\u001b[38;5;45mf-1827b0e1-9972-4c9f-bfe3-88db569ce857.ogg\u001b[0m\r\n",
      "\u001b[38;5;45mmixed.ogg\u001b[0m\r\n"
     ]
    }
   ],
   "source": [
    "ls"
   ]
  },
  {
   "cell_type": "code",
   "execution_count": 50,
   "metadata": {},
   "outputs": [
    {
     "ename": "OSError",
     "evalue": "[Errno 2] No such file or directory",
     "output_type": "error",
     "traceback": [
      "\u001b[0;31m\u001b[0m",
      "\u001b[0;31mOSError\u001b[0mTraceback (most recent call last)",
      "\u001b[0;32m<ipython-input-50-2670a447b873>\u001b[0m in \u001b[0;36m<module>\u001b[0;34m()\u001b[0m\n\u001b[0;32m----> 1\u001b[0;31m \u001b[0maudiodiff\u001b[0m\u001b[0;34m.\u001b[0m\u001b[0maudio_equal\u001b[0m\u001b[0;34m(\u001b[0m\u001b[0;34m'mixed.ogg'\u001b[0m\u001b[0;34m,\u001b[0m \u001b[0;34m'f-1827b0e1-9972-4c9f-bfe3-88db569ce857.ogg'\u001b[0m\u001b[0;34m)\u001b[0m\u001b[0;34m\u001b[0m\u001b[0m\n\u001b[0m",
      "\u001b[0;32m/home/rrs432/miniconda2/envs/bandhub/lib/python2.7/site-packages/audiodiff/__init__.pyc\u001b[0m in \u001b[0;36maudio_equal\u001b[0;34m(name1, name2, ffmpeg_bin)\u001b[0m\n\u001b[1;32m     49\u001b[0m \u001b[0;34m\u001b[0m\u001b[0m\n\u001b[1;32m     50\u001b[0m     \"\"\"\n\u001b[0;32m---> 51\u001b[0;31m     \u001b[0;32mreturn\u001b[0m \u001b[0mchecksum\u001b[0m\u001b[0;34m(\u001b[0m\u001b[0mname1\u001b[0m\u001b[0;34m,\u001b[0m \u001b[0mffmpeg_bin\u001b[0m\u001b[0;34m)\u001b[0m \u001b[0;34m==\u001b[0m \u001b[0mchecksum\u001b[0m\u001b[0;34m(\u001b[0m\u001b[0mname2\u001b[0m\u001b[0;34m,\u001b[0m \u001b[0mffmpeg_bin\u001b[0m\u001b[0;34m)\u001b[0m\u001b[0;34m\u001b[0m\u001b[0m\n\u001b[0m\u001b[1;32m     52\u001b[0m \u001b[0;34m\u001b[0m\u001b[0m\n\u001b[1;32m     53\u001b[0m \u001b[0;34m\u001b[0m\u001b[0m\n",
      "\u001b[0;32m/home/rrs432/miniconda2/envs/bandhub/lib/python2.7/site-packages/audiodiff/__init__.pyc\u001b[0m in \u001b[0;36mchecksum\u001b[0;34m(name, ffmpeg_bin)\u001b[0m\n\u001b[1;32m     84\u001b[0m     \u001b[0;32mwith\u001b[0m \u001b[0mopen\u001b[0m\u001b[0;34m(\u001b[0m\u001b[0mos\u001b[0m\u001b[0;34m.\u001b[0m\u001b[0mdevnull\u001b[0m\u001b[0;34m,\u001b[0m \u001b[0;34m'wb'\u001b[0m\u001b[0;34m)\u001b[0m \u001b[0;32mas\u001b[0m \u001b[0mfnull\u001b[0m\u001b[0;34m:\u001b[0m\u001b[0;34m\u001b[0m\u001b[0m\n\u001b[1;32m     85\u001b[0m         proc = subprocess.Popen(args, stdout=subprocess.PIPE,\n\u001b[0;32m---> 86\u001b[0;31m                                 stderr=subprocess.PIPE)\n\u001b[0m\u001b[1;32m     87\u001b[0m         \u001b[0msha1sum\u001b[0m \u001b[0;34m=\u001b[0m \u001b[0m_compute_sha1\u001b[0m\u001b[0;34m(\u001b[0m\u001b[0mproc\u001b[0m\u001b[0;34m.\u001b[0m\u001b[0mstdout\u001b[0m\u001b[0;34m)\u001b[0m\u001b[0;34m\u001b[0m\u001b[0m\n\u001b[1;32m     88\u001b[0m         \u001b[0mproc\u001b[0m\u001b[0;34m.\u001b[0m\u001b[0mwait\u001b[0m\u001b[0;34m(\u001b[0m\u001b[0;34m)\u001b[0m\u001b[0;34m\u001b[0m\u001b[0m\n",
      "\u001b[0;32m/home/rrs432/miniconda2/envs/bandhub/lib/python2.7/subprocess.pyc\u001b[0m in \u001b[0;36m__init__\u001b[0;34m(self, args, bufsize, executable, stdin, stdout, stderr, preexec_fn, close_fds, shell, cwd, env, universal_newlines, startupinfo, creationflags)\u001b[0m\n\u001b[1;32m    388\u001b[0m                                 \u001b[0mp2cread\u001b[0m\u001b[0;34m,\u001b[0m \u001b[0mp2cwrite\u001b[0m\u001b[0;34m,\u001b[0m\u001b[0;34m\u001b[0m\u001b[0m\n\u001b[1;32m    389\u001b[0m                                 \u001b[0mc2pread\u001b[0m\u001b[0;34m,\u001b[0m \u001b[0mc2pwrite\u001b[0m\u001b[0;34m,\u001b[0m\u001b[0;34m\u001b[0m\u001b[0m\n\u001b[0;32m--> 390\u001b[0;31m                                 errread, errwrite)\n\u001b[0m\u001b[1;32m    391\u001b[0m         \u001b[0;32mexcept\u001b[0m \u001b[0mException\u001b[0m\u001b[0;34m:\u001b[0m\u001b[0;34m\u001b[0m\u001b[0m\n\u001b[1;32m    392\u001b[0m             \u001b[0;31m# Preserve original exception in case os.close raises.\u001b[0m\u001b[0;34m\u001b[0m\u001b[0;34m\u001b[0m\u001b[0m\n",
      "\u001b[0;32m/home/rrs432/miniconda2/envs/bandhub/lib/python2.7/subprocess.pyc\u001b[0m in \u001b[0;36m_execute_child\u001b[0;34m(self, args, executable, preexec_fn, close_fds, cwd, env, universal_newlines, startupinfo, creationflags, shell, to_close, p2cread, p2cwrite, c2pread, c2pwrite, errread, errwrite)\u001b[0m\n\u001b[1;32m   1023\u001b[0m                         \u001b[0;32mraise\u001b[0m\u001b[0;34m\u001b[0m\u001b[0m\n\u001b[1;32m   1024\u001b[0m                 \u001b[0mchild_exception\u001b[0m \u001b[0;34m=\u001b[0m \u001b[0mpickle\u001b[0m\u001b[0;34m.\u001b[0m\u001b[0mloads\u001b[0m\u001b[0;34m(\u001b[0m\u001b[0mdata\u001b[0m\u001b[0;34m)\u001b[0m\u001b[0;34m\u001b[0m\u001b[0m\n\u001b[0;32m-> 1025\u001b[0;31m                 \u001b[0;32mraise\u001b[0m \u001b[0mchild_exception\u001b[0m\u001b[0;34m\u001b[0m\u001b[0m\n\u001b[0m\u001b[1;32m   1026\u001b[0m \u001b[0;34m\u001b[0m\u001b[0m\n\u001b[1;32m   1027\u001b[0m \u001b[0;34m\u001b[0m\u001b[0m\n",
      "\u001b[0;31mOSError\u001b[0m: [Errno 2] No such file or directory"
     ]
    }
   ],
   "source": [
    "audiodiff.audio_equal('mixed.ogg', 'f-1827b0e1-9972-4c9f-bfe3-88db569ce857.ogg')"
   ]
  },
  {
   "cell_type": "code",
   "execution_count": 13,
   "metadata": {},
   "outputs": [
    {
     "data": {
      "text/plain": [
       "(8419264, 2)"
      ]
     },
     "execution_count": 13,
     "metadata": {},
     "output_type": "execute_result"
    }
   ],
   "source": [
    "np.shape(ogg_final)"
   ]
  },
  {
   "cell_type": "code",
   "execution_count": 48,
   "metadata": {},
   "outputs": [
    {
     "name": "stdout",
     "output_type": "stream",
     "text": [
      "u'http://bandhubwebmedia1.blob.core.windows.net/files/520bf9573004aac9f04d42db-520bfa263004aac9f04d42dd.ogg'\n"
     ]
    }
   ],
   "source": [
    "pointer = trackCol.find({'_id' : ObjectId('520bfa263004aac9f04d42dd')})\n",
    "for docs in pointer:\n",
    "    pprint.pprint(docs['audioChannels'][0]['fileUrl'])"
   ]
  },
  {
   "cell_type": "code",
   "execution_count": 49,
   "metadata": {},
   "outputs": [
    {
     "name": "stdout",
     "output_type": "stream",
     "text": [
      "u'http://bandhubwebmedia8.blob.core.windows.net/files/14c676d9-891b-4179-ab10-8e6fd86327eb-0.ogg'\n"
     ]
    }
   ],
   "source": [
    "pointer = trackCol.find({'_id' : ObjectId('549707e68cdf4b53785ab214')})\n",
    "for docs in pointer:\n",
    "    pprint.pprint(docs['audioChannels'][0]['fileUrl'])"
   ]
  },
  {
   "cell_type": "code",
   "execution_count": 50,
   "metadata": {},
   "outputs": [
    {
     "name": "stdout",
     "output_type": "stream",
     "text": [
      "u'http://bandhubwebmedia2.blob.core.windows.net/files/ca8eee7b-9c91-4853-aa1f-b84130cae7c7-0.ogg'\n"
     ]
    }
   ],
   "source": [
    "pointer = trackCol.find({'_id' : ObjectId('54970d1c8cdf4b53785ab85e')})\n",
    "for docs in pointer:\n",
    "    pprint.pprint(docs['audioChannels'][0]['fileUrl'])"
   ]
  },
  {
   "cell_type": "code",
   "execution_count": null,
   "metadata": {},
   "outputs": [],
   "source": []
  },
  {
   "cell_type": "code",
   "execution_count": 51,
   "metadata": {},
   "outputs": [
    {
     "name": "stdout",
     "output_type": "stream",
     "text": [
      "{u'_id': ObjectId('52ea92cce4b0a865287a1352'),\n",
      " u'mp4MergedNewsWebVideoUrl': u'https://bandhubmediastream.blob.core.windows.net/files/f-ff1751e2-893e-4e27-9acc-49d14a3157b3.mp4',\n",
      " u'mp4MergedVideoUrl': u'https://bandhubmediastream.blob.core.windows.net/files/f-52ea87fb080a26053f000002.mp4',\n",
      " u'oggMergedVideoUrl': u'https://bandhubmediastream.blob.core.windows.net/files/f-52ea87fb080a26053f000002.ogg',\n",
      " u'songId': ObjectId('52ea87fb080a26053f000002'),\n",
      " u'trackIds': [ObjectId('52ea88fca3c2473745000001'),\n",
      "               ObjectId('52ea8d6ca3c2473745000004')],\n",
      " u'youtubeId': u'aXdF95VBGFE'}\n"
     ]
    }
   ],
   "source": [
    "pointer = vidCol.find()[2:3]\n",
    "for docs in pointer:\n",
    "    pprint.pprint(docs)"
   ]
  },
  {
   "cell_type": "code",
   "execution_count": 24,
   "metadata": {},
   "outputs": [
    {
     "name": "stdout",
     "output_type": "stream",
     "text": [
      "{u'_id': ObjectId('520bf7af3004aac9f04d42cc'),\n",
      " u'access': 1,\n",
      " u'communityOrder': 300,\n",
      " u'dateLastModified': datetime.datetime(2013, 10, 12, 4, 25, 53, 39000),\n",
      " u'description': u'',\n",
      " u'fbImage': u'http://bandhubmediastream.blob.core.windows.net/files/ct-520bf7af3004aac9f04d42cc-5.png',\n",
      " u'fbImageTracks': [u'520bf8b63004aac9f04d42ce',\n",
      "                    u'53a7827cc6542a8b7c000006',\n",
      "                    u'53d76e02f03678007700028a',\n",
      "                    u'53dd7ecca4135c842a004b54'],\n",
      " u'hasRecordedTracks': True,\n",
      " u'inCommunity': True,\n",
      " u'isFeatured': False,\n",
      " u'masterSongId': ObjectId('522a1cc26310675e3200004e'),\n",
      " u'migratedToAzure': True,\n",
      " u'mp4MergedMobileVideoUrl': u'http://bandhubmediastream.blob.core.windows.net/files/m-f-5b5f21ea-2d44-46b3-99e3-25cdede0a3fd.mp4',\n",
      " u'mp4MergedVideoUrl': u'http://bandhubmediastream.blob.core.windows.net/files/f-ec9545b5-3acd-43d6-8f7b-3754fc2cc7db.mp4',\n",
      " u'musicbrainzMetadataId': ObjectId('544a0452e4b0031ed66d0aba'),\n",
      " u'musicbrainzMetadataLookup': True,\n",
      " u'newMusicbrainzMetadataId': ObjectId('544a0452e4b0031ed66d0aba'),\n",
      " u'newMusicbrainzMetadataLookup': True,\n",
      " u'newSearchIndexChecked': True,\n",
      " u'numberOfComments': 15,\n",
      " u'numberOfViews': 774,\n",
      " u'oggMergedVideoUrl': u'http://bandhubmediastream.blob.core.windows.net/files/f-520bf7af3004aac9f04d42cc.ogg',\n",
      " u'oldSettings': [{u'audioChannels': [{u'compressorState': 0,\n",
      "                                       u'compressorValue': 0,\n",
      "                                       u'echoState': 0,\n",
      "                                       u'echoValue': 0,\n",
      "                                       u'mute': False,\n",
      "                                       u'noiseGateState': 0,\n",
      "                                       u'noiseGateValue': -100,\n",
      "                                       u'reverbState': 0,\n",
      "                                       u'reverbValue': 0,\n",
      "                                       u'solo': False,\n",
      "                                       u'visualEQState': 0,\n",
      "                                       u'visualEQValues': [0,\n",
      "                                                           0,\n",
      "                                                           0,\n",
      "                                                           0,\n",
      "                                                           0,\n",
      "                                                           0,\n",
      "                                                           0,\n",
      "                                                           0,\n",
      "                                                           0,\n",
      "                                                           0],\n",
      "                                       u'volume': 0.5832720398902893}],\n",
      "                   u'brightnessState': 0,\n",
      "                   u'brightnessValue': 0,\n",
      "                   u'contrastState': 0,\n",
      "                   u'contrastValue': 1,\n",
      "                   u'hueState': 0,\n",
      "                   u'hueValue': 0,\n",
      "                   u'mute': False,\n",
      "                   u'saturationState': 0,\n",
      "                   u'saturationValue': 1,\n",
      "                   u'solo': False,\n",
      "                   u'volume': 0.5832720398902893},\n",
      "                  {u'audioChannels': [{u'compressorState': 0,\n",
      "                                       u'compressorValue': 0,\n",
      "                                       u'echoState': 0,\n",
      "                                       u'echoValue': 0,\n",
      "                                       u'mute': False,\n",
      "                                       u'noiseGateState': 0,\n",
      "                                       u'noiseGateValue': -100,\n",
      "                                       u'reverbState': 1,\n",
      "                                       u'reverbValue': 11.43043154761905,\n",
      "                                       u'solo': False,\n",
      "                                       u'visualEQState': 0,\n",
      "                                       u'visualEQValues': [0,\n",
      "                                                           0,\n",
      "                                                           0,\n",
      "                                                           0,\n",
      "                                                           0,\n",
      "                                                           0,\n",
      "                                                           0,\n",
      "                                                           0,\n",
      "                                                           0,\n",
      "                                                           0],\n",
      "                                       u'volume': 1}],\n",
      "                   u'brightnessState': 0,\n",
      "                   u'brightnessValue': 0,\n",
      "                   u'contrastState': 0,\n",
      "                   u'contrastValue': 1,\n",
      "                   u'hueState': 0,\n",
      "                   u'hueValue': 0,\n",
      "                   u'mute': False,\n",
      "                   u'saturationState': 0,\n",
      "                   u'saturationValue': 1,\n",
      "                   u'solo': False,\n",
      "                   u'volume': 1}],\n",
      " u'owner': u'kari',\n",
      " u'parentVersionsOption': 2,\n",
      " u'publishedTracksState': [{u'imagePreview320': u'http://bandhubmediastream.blob.core.windows.net/files/A6DD3DC6-E7F7-4066-B904-54EF7CB1500A-320x240.jpg',\n",
      "                            u'imagePreview80': u'http://bandhubmediastream.blob.core.windows.net/files/A6DD3DC6-E7F7-4066-B904-54EF7CB1500A-80x60.jpg',\n",
      "                            u'owner': u'kari'},\n",
      "                           {u'imagePreview320': u'http://bandhubmediastream.blob.core.windows.net/files/66472FCC-AF48-4459-AD02-C3B7F3890751-320x240.png',\n",
      "                            u'imagePreview80': u'http://bandhubmediastream.blob.core.windows.net/files/66472FCC-AF48-4459-AD02-C3B7F3890751-80x60.png',\n",
      "                            u'owner': u'iCymbal'},\n",
      "                           {u'imagePreview320': u'http://bandhubmediastream.blob.core.windows.net/files/04712f95-b438-44fd-ab9e-c2be3434919c-320x240.png',\n",
      "                            u'imagePreview80': u'http://bandhubmediastream.blob.core.windows.net/files/04712f95-b438-44fd-ab9e-c2be3434919c-80x60.png',\n",
      "                            u'owner': u'SteveB1881'},\n",
      "                           {u'imagePreview320': u'http://bandhubmediastream.blob.core.windows.net/files/7762f0a0-00bd-460a-83d6-2e681afc6de0-320x240.png',\n",
      "                            u'imagePreview80': u'http://bandhubmediastream.blob.core.windows.net/files/7762f0a0-00bd-460a-83d6-2e681afc6de0-80x60.png',\n",
      "                            u'owner': u'Paul'}],\n",
      " u'publishingCollabVideo': False,\n",
      " u'publishingInStudioMode': False,\n",
      " u'searchIndexChecked': True,\n",
      " u'seenByOthers': True,\n",
      " u'settings': {u'520bf8b63004aac9f04d42ce': {u'audioChannels': [{u'compressorState': 0,\n",
      "                                                                 u'compressorValue': 0,\n",
      "                                                                 u'echoState': 0,\n",
      "                                                                 u'echoValue': 0,\n",
      "                                                                 u'mute': False,\n",
      "                                                                 u'noiseGateState': 0,\n",
      "                                                                 u'noiseGateValue': -100,\n",
      "                                                                 u'reverbState': 1,\n",
      "                                                                 u'reverbValue': 11.43043154761905,\n",
      "                                                                 u'solo': False,\n",
      "                                                                 u'visualEQState': 0,\n",
      "                                                                 u'visualEQValues': [0,\n",
      "                                                                                     0,\n",
      "                                                                                     0,\n",
      "                                                                                     0,\n",
      "                                                                                     0,\n",
      "                                                                                     0,\n",
      "                                                                                     0,\n",
      "                                                                                     0,\n",
      "                                                                                     0,\n",
      "                                                                                     0],\n",
      "                                                                 u'volume': 1}],\n",
      "                                             u'audioFileUrl': u'http://bandhubwebmedia1.blob.core.windows.net/files/520bf7af3004aac9f04d42cc-520bf8b63004aac9f04d42ce.ogg',\n",
      "                                             u'compressorValue': 0,\n",
      "                                             u'effectsAudioUrl': u'http://bandhubwebmedia18.blob.core.windows.net/files/3c0fc263-751b-4be8-bb6f-1daaf6307277.ogg',\n",
      "                                             u'effectsAudioUrl_np': u'https://bandhubwebmedia17.blob.core.windows.net/files/520bf8b63004aac9f04d42ce-508ef5437d862bfe9df86a40f4ca90458222ca7d-43f80d23-53bb-4ad2-bb47-44455358fd40.ogg',\n",
      "                                             u'effectsFilePartsInfo': [{u'audioPartUrl': u'https://bandhubwebmedia18.blob.core.windows.net/files/520bf8b63004aac9f04d42ce-718bec51-1a29-38a7-d9ed-144f34d0a70d-000.ogg',\n",
      "                                                                        u'partIndex': 0,\n",
      "                                                                        u'startSecs': 0},\n",
      "                                                                       {u'audioPartUrl': u'https://bandhubwebmedia19.blob.core.windows.net/files/520bf8b63004aac9f04d42ce-718bec51-1a29-38a7-d9ed-144f34d0a70d-001.ogg',\n",
      "                                                                        u'partIndex': 1,\n",
      "                                                                        u'startSecs': 16},\n",
      "                                                                       {u'audioPartUrl': u'https://bandhubwebmedia0.blob.core.windows.net/files/520bf8b63004aac9f04d42ce-718bec51-1a29-38a7-d9ed-144f34d0a70d-002.ogg',\n",
      "                                                                        u'partIndex': 2,\n",
      "                                                                        u'startSecs': 32},\n",
      "                                                                       {u'audioPartUrl': u'https://bandhubwebmedia1.blob.core.windows.net/files/520bf8b63004aac9f04d42ce-718bec51-1a29-38a7-d9ed-144f34d0a70d-003.ogg',\n",
      "                                                                        u'partIndex': 3,\n",
      "                                                                        u'startSecs': 48},\n",
      "                                                                       {u'audioPartUrl': u'https://bandhubwebmedia2.blob.core.windows.net/files/520bf8b63004aac9f04d42ce-718bec51-1a29-38a7-d9ed-144f34d0a70d-004.ogg',\n",
      "                                                                        u'partIndex': 4,\n",
      "                                                                        u'startSecs': 64},\n",
      "                                                                       {u'audioPartUrl': u'https://bandhubwebmedia3.blob.core.windows.net/files/520bf8b63004aac9f04d42ce-718bec51-1a29-38a7-d9ed-144f34d0a70d-005.ogg',\n",
      "                                                                        u'partIndex': 5,\n",
      "                                                                        u'startSecs': 80},\n",
      "                                                                       {u'audioPartUrl': u'https://bandhubwebmedia4.blob.core.windows.net/files/520bf8b63004aac9f04d42ce-718bec51-1a29-38a7-d9ed-144f34d0a70d-006.ogg',\n",
      "                                                                        u'partIndex': 6,\n",
      "                                                                        u'startSecs': 96},\n",
      "                                                                       {u'audioPartUrl': u'https://bandhubwebmedia5.blob.core.windows.net/files/520bf8b63004aac9f04d42ce-718bec51-1a29-38a7-d9ed-144f34d0a70d-007.ogg',\n",
      "                                                                        u'partIndex': 7,\n",
      "                                                                        u'startSecs': 112},\n",
      "                                                                       {u'audioPartUrl': u'https://bandhubwebmedia6.blob.core.windows.net/files/520bf8b63004aac9f04d42ce-718bec51-1a29-38a7-d9ed-144f34d0a70d-008.ogg',\n",
      "                                                                        u'partIndex': 8,\n",
      "                                                                        u'startSecs': 128},\n",
      "                                                                       {u'audioPartUrl': u'https://bandhubwebmedia7.blob.core.windows.net/files/520bf8b63004aac9f04d42ce-718bec51-1a29-38a7-d9ed-144f34d0a70d-009.ogg',\n",
      "                                                                        u'partIndex': 9,\n",
      "                                                                        u'startSecs': 144},\n",
      "                                                                       {u'audioPartUrl': u'https://bandhubwebmedia8.blob.core.windows.net/files/520bf8b63004aac9f04d42ce-718bec51-1a29-38a7-d9ed-144f34d0a70d-010.ogg',\n",
      "                                                                        u'partIndex': 10,\n",
      "                                                                        u'startSecs': 160},\n",
      "                                                                       {u'audioPartUrl': u'https://bandhubwebmedia9.blob.core.windows.net/files/520bf8b63004aac9f04d42ce-718bec51-1a29-38a7-d9ed-144f34d0a70d-011.ogg',\n",
      "                                                                        u'partIndex': 11,\n",
      "                                                                        u'startSecs': 176},\n",
      "                                                                       {u'audioPartUrl': u'https://bandhubwebmedia10.blob.core.windows.net/files/520bf8b63004aac9f04d42ce-718bec51-1a29-38a7-d9ed-144f34d0a70d-012.ogg',\n",
      "                                                                        u'partIndex': 12,\n",
      "                                                                        u'startSecs': 192},\n",
      "                                                                       {u'audioPartUrl': u'https://bandhubwebmedia11.blob.core.windows.net/files/520bf8b63004aac9f04d42ce-718bec51-1a29-38a7-d9ed-144f34d0a70d-013.ogg',\n",
      "                                                                        u'partIndex': 13,\n",
      "                                                                        u'startSecs': 208}],\n",
      "                                             u'mute': False,\n",
      "                                             u'panValue': 0.09,\n",
      "                                             u'reverbValue': 0.39,\n",
      "                                             u'solo': False,\n",
      "                                             u'targetHash': u'508ef5437d862bfe9df86a40f4ca90458222ca7d',\n",
      "                                             u'visualEQValues': [0,\n",
      "                                                                 0,\n",
      "                                                                 0,\n",
      "                                                                 0,\n",
      "                                                                 0,\n",
      "                                                                 0,\n",
      "                                                                 0,\n",
      "                                                                 0,\n",
      "                                                                 0,\n",
      "                                                                 0],\n",
      "                                             u'volume': 1},\n",
      "               u'53a7827cc6542a8b7c000006': {u'audioChannels': [{u'audioFileUrl': u'http://bandhubwebmedia1.blob.core.windows.net/files/47e94bdc-2b5b-4665-b54a-b8f5e3fdc041-0.ogg'}],\n",
      "                                             u'compressorValue': 0,\n",
      "                                             u'effectsAudioUrl': u'http://bandhubwebmedia9.blob.core.windows.net/files/6b81eeb1-6615-4974-be2d-a27df95bd006.ogg',\n",
      "                                             u'effectsAudioUrl_np': u'http://bandhubwebmedia8.blob.core.windows.net/files/53a7827cc6542a8b7c000006-e138a2e6245b838a848c83569d563137c89f4037-a4604f09-535a-40ea-98b2-72a715ebe669.ogg',\n",
      "                                             u'effectsFilePartsInfo': [{u'audioPartUrl': u'http://bandhubwebmedia10.blob.core.windows.net/files/53a7827cc6542a8b7c000006-e138a2e6245b838a848c83569d563137c89f4037-a4604f09-535a-40ea-98b2-72a715ebe669-001.ogg',\n",
      "                                                                        u'partIndex': 0,\n",
      "                                                                        u'startSecs': 0},\n",
      "                                                                       {u'audioPartUrl': u'http://bandhubwebmedia11.blob.core.windows.net/files/53a7827cc6542a8b7c000006-e138a2e6245b838a848c83569d563137c89f4037-a4604f09-535a-40ea-98b2-72a715ebe669-002.ogg',\n",
      "                                                                        u'partIndex': 1,\n",
      "                                                                        u'startSecs': 20},\n",
      "                                                                       {u'audioPartUrl': u'http://bandhubwebmedia12.blob.core.windows.net/files/53a7827cc6542a8b7c000006-e138a2e6245b838a848c83569d563137c89f4037-a4604f09-535a-40ea-98b2-72a715ebe669-003.ogg',\n",
      "                                                                        u'partIndex': 2,\n",
      "                                                                        u'startSecs': 40},\n",
      "                                                                       {u'audioPartUrl': u'http://bandhubwebmedia13.blob.core.windows.net/files/53a7827cc6542a8b7c000006-e138a2e6245b838a848c83569d563137c89f4037-a4604f09-535a-40ea-98b2-72a715ebe669-004.ogg',\n",
      "                                                                        u'partIndex': 3,\n",
      "                                                                        u'startSecs': 60},\n",
      "                                                                       {u'audioPartUrl': u'http://bandhubwebmedia14.blob.core.windows.net/files/53a7827cc6542a8b7c000006-e138a2e6245b838a848c83569d563137c89f4037-a4604f09-535a-40ea-98b2-72a715ebe669-005.ogg',\n",
      "                                                                        u'partIndex': 4,\n",
      "                                                                        u'startSecs': 80},\n",
      "                                                                       {u'audioPartUrl': u'http://bandhubwebmedia15.blob.core.windows.net/files/53a7827cc6542a8b7c000006-e138a2e6245b838a848c83569d563137c89f4037-a4604f09-535a-40ea-98b2-72a715ebe669-006.ogg',\n",
      "                                                                        u'partIndex': 5,\n",
      "                                                                        u'startSecs': 100},\n",
      "                                                                       {u'audioPartUrl': u'http://bandhubwebmedia16.blob.core.windows.net/files/53a7827cc6542a8b7c000006-e138a2e6245b838a848c83569d563137c89f4037-a4604f09-535a-40ea-98b2-72a715ebe669-007.ogg',\n",
      "                                                                        u'partIndex': 6,\n",
      "                                                                        u'startSecs': 120},\n",
      "                                                                       {u'audioPartUrl': u'http://bandhubwebmedia17.blob.core.windows.net/files/53a7827cc6542a8b7c000006-e138a2e6245b838a848c83569d563137c89f4037-a4604f09-535a-40ea-98b2-72a715ebe669-008.ogg',\n",
      "                                                                        u'partIndex': 7,\n",
      "                                                                        u'startSecs': 140},\n",
      "                                                                       {u'audioPartUrl': u'http://bandhubwebmedia18.blob.core.windows.net/files/53a7827cc6542a8b7c000006-e138a2e6245b838a848c83569d563137c89f4037-a4604f09-535a-40ea-98b2-72a715ebe669-009.ogg',\n",
      "                                                                        u'partIndex': 8,\n",
      "                                                                        u'startSecs': 160},\n",
      "                                                                       {u'audioPartUrl': u'http://bandhubwebmedia19.blob.core.windows.net/files/53a7827cc6542a8b7c000006-e138a2e6245b838a848c83569d563137c89f4037-a4604f09-535a-40ea-98b2-72a715ebe669-010.ogg',\n",
      "                                                                        u'partIndex': 9,\n",
      "                                                                        u'startSecs': 180},\n",
      "                                                                       {u'audioPartUrl': u'http://bandhubwebmedia0.blob.core.windows.net/files/53a7827cc6542a8b7c000006-e138a2e6245b838a848c83569d563137c89f4037-a4604f09-535a-40ea-98b2-72a715ebe669-011.ogg',\n",
      "                                                                        u'partIndex': 10,\n",
      "                                                                        u'startSecs': 200},\n",
      "                                                                       {u'audioPartUrl': u'http://bandhubwebmedia1.blob.core.windows.net/files/53a7827cc6542a8b7c000006-e138a2e6245b838a848c83569d563137c89f4037-a4604f09-535a-40ea-98b2-72a715ebe669-012.ogg',\n",
      "                                                                        u'partIndex': 11,\n",
      "                                                                        u'startSecs': 220}],\n",
      "                                             u'mute': False,\n",
      "                                             u'panValue': 0,\n",
      "                                             u'reverbValue': 0,\n",
      "                                             u'solo': False,\n",
      "                                             u'targetHash': u'e138a2e6245b838a848c83569d563137c89f4037',\n",
      "                                             u'visualEQValues': [0,\n",
      "                                                                 0,\n",
      "                                                                 0,\n",
      "                                                                 0,\n",
      "                                                                 0,\n",
      "                                                                 0,\n",
      "                                                                 0,\n",
      "                                                                 0,\n",
      "                                                                 0,\n",
      "                                                                 0],\n",
      "                                             u'volume': 0.52},\n",
      "               u'53d768c7f03678007700026e': {u'audioChannels': [{u'audioFileUrl': u'http://bandhubwebmedia8.blob.core.windows.net/files/49b1a80c-723a-4070-a9d3-118d3a22c385-0-0.ogg'}],\n",
      "                                             u'mute': False,\n",
      "                                             u'solo': False,\n",
      "                                             u'volume': 1},\n",
      "               u'53d76e02f03678007700028a': {u'audioChannels': [{u'audioFileUrl': u'http://bandhubwebmedia9.blob.core.windows.net/files/a1a65ce7-3690-4355-a76b-825c20156392-0-0.ogg'}],\n",
      "                                             u'compressorValue': 0,\n",
      "                                             u'effectsAudioUrl': u'http://bandhubwebmedia8.blob.core.windows.net/files/15abb05f-ba8b-4b95-95c5-f49e1201962a.ogg',\n",
      "                                             u'effectsAudioUrl_np': u'http://bandhubwebmedia7.blob.core.windows.net/files/53d76e02f03678007700028a-e138a2e6245b838a848c83569d563137c89f4037-1d3a933b-5f38-437b-8576-5c1c08658286.ogg',\n",
      "                                             u'effectsFilePartsInfo': [{u'audioPartUrl': u'http://bandhubwebmedia9.blob.core.windows.net/files/53d76e02f03678007700028a-e138a2e6245b838a848c83569d563137c89f4037-1d3a933b-5f38-437b-8576-5c1c08658286-001.ogg',\n",
      "                                                                        u'partIndex': 0,\n",
      "                                                                        u'startSecs': 0},\n",
      "                                                                       {u'audioPartUrl': u'http://bandhubwebmedia10.blob.core.windows.net/files/53d76e02f03678007700028a-e138a2e6245b838a848c83569d563137c89f4037-1d3a933b-5f38-437b-8576-5c1c08658286-002.ogg',\n",
      "                                                                        u'partIndex': 1,\n",
      "                                                                        u'startSecs': 15},\n",
      "                                                                       {u'audioPartUrl': u'http://bandhubwebmedia11.blob.core.windows.net/files/53d76e02f03678007700028a-e138a2e6245b838a848c83569d563137c89f4037-1d3a933b-5f38-437b-8576-5c1c08658286-003.ogg',\n",
      "                                                                        u'partIndex': 2,\n",
      "                                                                        u'startSecs': 30},\n",
      "                                                                       {u'audioPartUrl': u'http://bandhubwebmedia12.blob.core.windows.net/files/53d76e02f03678007700028a-e138a2e6245b838a848c83569d563137c89f4037-1d3a933b-5f38-437b-8576-5c1c08658286-004.ogg',\n",
      "                                                                        u'partIndex': 3,\n",
      "                                                                        u'startSecs': 45},\n",
      "                                                                       {u'audioPartUrl': u'http://bandhubwebmedia13.blob.core.windows.net/files/53d76e02f03678007700028a-e138a2e6245b838a848c83569d563137c89f4037-1d3a933b-5f38-437b-8576-5c1c08658286-005.ogg',\n",
      "                                                                        u'partIndex': 4,\n",
      "                                                                        u'startSecs': 60},\n",
      "                                                                       {u'audioPartUrl': u'http://bandhubwebmedia14.blob.core.windows.net/files/53d76e02f03678007700028a-e138a2e6245b838a848c83569d563137c89f4037-1d3a933b-5f38-437b-8576-5c1c08658286-006.ogg',\n",
      "                                                                        u'partIndex': 5,\n",
      "                                                                        u'startSecs': 75},\n",
      "                                                                       {u'audioPartUrl': u'http://bandhubwebmedia15.blob.core.windows.net/files/53d76e02f03678007700028a-e138a2e6245b838a848c83569d563137c89f4037-1d3a933b-5f38-437b-8576-5c1c08658286-007.ogg',\n",
      "                                                                        u'partIndex': 6,\n",
      "                                                                        u'startSecs': 90},\n",
      "                                                                       {u'audioPartUrl': u'http://bandhubwebmedia16.blob.core.windows.net/files/53d76e02f03678007700028a-e138a2e6245b838a848c83569d563137c89f4037-1d3a933b-5f38-437b-8576-5c1c08658286-008.ogg',\n",
      "                                                                        u'partIndex': 7,\n",
      "                                                                        u'startSecs': 105},\n",
      "                                                                       {u'audioPartUrl': u'http://bandhubwebmedia17.blob.core.windows.net/files/53d76e02f03678007700028a-e138a2e6245b838a848c83569d563137c89f4037-1d3a933b-5f38-437b-8576-5c1c08658286-009.ogg',\n",
      "                                                                        u'partIndex': 8,\n",
      "                                                                        u'startSecs': 120},\n",
      "                                                                       {u'audioPartUrl': u'http://bandhubwebmedia18.blob.core.windows.net/files/53d76e02f03678007700028a-e138a2e6245b838a848c83569d563137c89f4037-1d3a933b-5f38-437b-8576-5c1c08658286-010.ogg',\n",
      "                                                                        u'partIndex': 9,\n",
      "                                                                        u'startSecs': 135},\n",
      "                                                                       {u'audioPartUrl': u'http://bandhubwebmedia19.blob.core.windows.net/files/53d76e02f03678007700028a-e138a2e6245b838a848c83569d563137c89f4037-1d3a933b-5f38-437b-8576-5c1c08658286-011.ogg',\n",
      "                                                                        u'partIndex': 10,\n",
      "                                                                        u'startSecs': 150},\n",
      "                                                                       {u'audioPartUrl': u'http://bandhubwebmedia0.blob.core.windows.net/files/53d76e02f03678007700028a-e138a2e6245b838a848c83569d563137c89f4037-1d3a933b-5f38-437b-8576-5c1c08658286-012.ogg',\n",
      "                                                                        u'partIndex': 11,\n",
      "                                                                        u'startSecs': 165},\n",
      "                                                                       {u'audioPartUrl': u'http://bandhubwebmedia1.blob.core.windows.net/files/53d76e02f03678007700028a-e138a2e6245b838a848c83569d563137c89f4037-1d3a933b-5f38-437b-8576-5c1c08658286-013.ogg',\n",
      "                                                                        u'partIndex': 12,\n",
      "                                                                        u'startSecs': 180},\n",
      "                                                                       {u'audioPartUrl': u'http://bandhubwebmedia2.blob.core.windows.net/files/53d76e02f03678007700028a-e138a2e6245b838a848c83569d563137c89f4037-1d3a933b-5f38-437b-8576-5c1c08658286-014.ogg',\n",
      "                                                                        u'partIndex': 13,\n",
      "                                                                        u'startSecs': 195},\n",
      "                                                                       {u'audioPartUrl': u'http://bandhubwebmedia3.blob.core.windows.net/files/53d76e02f03678007700028a-e138a2e6245b838a848c83569d563137c89f4037-1d3a933b-5f38-437b-8576-5c1c08658286-015.ogg',\n",
      "                                                                        u'partIndex': 14,\n",
      "                                                                        u'startSecs': 210},\n",
      "                                                                       {u'audioPartUrl': u'http://bandhubwebmedia4.blob.core.windows.net/files/53d76e02f03678007700028a-e138a2e6245b838a848c83569d563137c89f4037-1d3a933b-5f38-437b-8576-5c1c08658286-016.ogg',\n",
      "                                                                        u'partIndex': 15,\n",
      "                                                                        u'startSecs': 225}],\n",
      "                                             u'mute': False,\n",
      "                                             u'panValue': 0,\n",
      "                                             u'reverbValue': 0,\n",
      "                                             u'solo': False,\n",
      "                                             u'targetHash': u'e138a2e6245b838a848c83569d563137c89f4037',\n",
      "                                             u'visualEQValues': [0,\n",
      "                                                                 0,\n",
      "                                                                 0,\n",
      "                                                                 0,\n",
      "                                                                 0,\n",
      "                                                                 0,\n",
      "                                                                 0,\n",
      "                                                                 0,\n",
      "                                                                 0,\n",
      "                                                                 0],\n",
      "                                             u'volume': 1},\n",
      "               u'53dc747fa4135c842a00005f': {u'audioChannels': [{u'audioFileUrl': u'http://bandhubwebmedia7.blob.core.windows.net/files/97ad580a-b79d-4b02-a28d-61964e2e00b9-0-0.ogg'}],\n",
      "                                             u'mute': False,\n",
      "                                             u'solo': False,\n",
      "                                             u'volume': 1},\n",
      "               u'53dd0a6ca4135c842a00255b': {u'audioChannels': [{u'audioFileUrl': u'http://bandhubwebmedia6.blob.core.windows.net/files/9526e7d9-d63d-46e0-88ad-3fc51f10d4e0-0-0.ogg'}],\n",
      "                                             u'mute': False,\n",
      "                                             u'solo': False,\n",
      "                                             u'volume': 1},\n",
      "               u'53dd7cc8a4135c842a004b1e': {u'audioChannels': [{u'audioFileUrl': u'http://bandhubwebmedia6.blob.core.windows.net/files/43a0019f-3ec5-46bf-a874-c6283d52471c-0-0.ogg'}],\n",
      "                                             u'mute': False,\n",
      "                                             u'solo': False,\n",
      "                                             u'volume': 1},\n",
      "               u'53dd7ecca4135c842a004b54': {u'audioChannels': [{u'audioFileUrl': u'http://bandhubwebmedia0.blob.core.windows.net/files/2447bad3-85a5-42cc-b78c-9be45e326745-0-0.ogg'}],\n",
      "                                             u'compressorValue': 0,\n",
      "                                             u'effectsAudioUrl': u'http://bandhubwebmedia0.blob.core.windows.net/files/b223b169-3569-4866-be4a-bd5252ce7396.ogg',\n",
      "                                             u'effectsAudioUrl_np': u'http://bandhubwebmedia19.blob.core.windows.net/files/53dd7ecca4135c842a004b54-e138a2e6245b838a848c83569d563137c89f4037-926701a9-f653-4658-913e-135f2f1c47e0.ogg',\n",
      "                                             u'effectsFilePartsInfo': [{u'audioPartUrl': u'http://bandhubwebmedia1.blob.core.windows.net/files/53dd7ecca4135c842a004b54-e138a2e6245b838a848c83569d563137c89f4037-926701a9-f653-4658-913e-135f2f1c47e0-001.ogg',\n",
      "                                                                        u'partIndex': 0,\n",
      "                                                                        u'startSecs': 0},\n",
      "                                                                       {u'audioPartUrl': u'http://bandhubwebmedia2.blob.core.windows.net/files/53dd7ecca4135c842a004b54-e138a2e6245b838a848c83569d563137c89f4037-926701a9-f653-4658-913e-135f2f1c47e0-002.ogg',\n",
      "                                                                        u'partIndex': 1,\n",
      "                                                                        u'startSecs': 21},\n",
      "                                                                       {u'audioPartUrl': u'http://bandhubwebmedia3.blob.core.windows.net/files/53dd7ecca4135c842a004b54-e138a2e6245b838a848c83569d563137c89f4037-926701a9-f653-4658-913e-135f2f1c47e0-003.ogg',\n",
      "                                                                        u'partIndex': 2,\n",
      "                                                                        u'startSecs': 42},\n",
      "                                                                       {u'audioPartUrl': u'http://bandhubwebmedia4.blob.core.windows.net/files/53dd7ecca4135c842a004b54-e138a2e6245b838a848c83569d563137c89f4037-926701a9-f653-4658-913e-135f2f1c47e0-004.ogg',\n",
      "                                                                        u'partIndex': 3,\n",
      "                                                                        u'startSecs': 63},\n",
      "                                                                       {u'audioPartUrl': u'http://bandhubwebmedia5.blob.core.windows.net/files/53dd7ecca4135c842a004b54-e138a2e6245b838a848c83569d563137c89f4037-926701a9-f653-4658-913e-135f2f1c47e0-005.ogg',\n",
      "                                                                        u'partIndex': 4,\n",
      "                                                                        u'startSecs': 84},\n",
      "                                                                       {u'audioPartUrl': u'http://bandhubwebmedia6.blob.core.windows.net/files/53dd7ecca4135c842a004b54-e138a2e6245b838a848c83569d563137c89f4037-926701a9-f653-4658-913e-135f2f1c47e0-006.ogg',\n",
      "                                                                        u'partIndex': 5,\n",
      "                                                                        u'startSecs': 105},\n",
      "                                                                       {u'audioPartUrl': u'http://bandhubwebmedia7.blob.core.windows.net/files/53dd7ecca4135c842a004b54-e138a2e6245b838a848c83569d563137c89f4037-926701a9-f653-4658-913e-135f2f1c47e0-007.ogg',\n",
      "                                                                        u'partIndex': 6,\n",
      "                                                                        u'startSecs': 126},\n",
      "                                                                       {u'audioPartUrl': u'http://bandhubwebmedia8.blob.core.windows.net/files/53dd7ecca4135c842a004b54-e138a2e6245b838a848c83569d563137c89f4037-926701a9-f653-4658-913e-135f2f1c47e0-008.ogg',\n",
      "                                                                        u'partIndex': 7,\n",
      "                                                                        u'startSecs': 147},\n",
      "                                                                       {u'audioPartUrl': u'http://bandhubwebmedia9.blob.core.windows.net/files/53dd7ecca4135c842a004b54-e138a2e6245b838a848c83569d563137c89f4037-926701a9-f653-4658-913e-135f2f1c47e0-009.ogg',\n",
      "                                                                        u'partIndex': 8,\n",
      "                                                                        u'startSecs': 168},\n",
      "                                                                       {u'audioPartUrl': u'http://bandhubwebmedia10.blob.core.windows.net/files/53dd7ecca4135c842a004b54-e138a2e6245b838a848c83569d563137c89f4037-926701a9-f653-4658-913e-135f2f1c47e0-010.ogg',\n",
      "                                                                        u'partIndex': 9,\n",
      "                                                                        u'startSecs': 189},\n",
      "                                                                       {u'audioPartUrl': u'http://bandhubwebmedia11.blob.core.windows.net/files/53dd7ecca4135c842a004b54-e138a2e6245b838a848c83569d563137c89f4037-926701a9-f653-4658-913e-135f2f1c47e0-011.ogg',\n",
      "                                                                        u'partIndex': 10,\n",
      "                                                                        u'startSecs': 210}],\n",
      "                                             u'mute': False,\n",
      "                                             u'panValue': 0,\n",
      "                                             u'reverbValue': 0,\n",
      "                                             u'solo': False,\n",
      "                                             u'targetHash': u'e138a2e6245b838a848c83569d563137c89f4037',\n",
      "                                             u'visualEQValues': [0,\n",
      "                                                                 0,\n",
      "                                                                 0,\n",
      "                                                                 0,\n",
      "                                                                 0,\n",
      "                                                                 0,\n",
      "                                                                 0,\n",
      "                                                                 0,\n",
      "                                                                 0,\n",
      "                                                                 0],\n",
      "                                             u'volume': 1}},\n",
      " u'songId': u'520bf7af3004aac9f04d42cc',\n",
      " u'subTitle': u'',\n",
      " u'title': u'Put your records on',\n",
      " u'trackIDs': [ObjectId('520bf8b63004aac9f04d42ce'),\n",
      "               ObjectId('53a7827cc6542a8b7c000006'),\n",
      "               ObjectId('53d768c7f03678007700026e'),\n",
      "               ObjectId('53d76e02f03678007700028a'),\n",
      "               ObjectId('53dc747fa4135c842a00005f'),\n",
      "               ObjectId('53dd0a6ca4135c842a00255b'),\n",
      "               ObjectId('53dd7cc8a4135c842a004b1e'),\n",
      "               ObjectId('53dd7ecca4135c842a004b54')],\n",
      " u'trackSubmissionsOption': 1,\n",
      " u'versionsOption': 2}\n"
     ]
    }
   ],
   "source": [
    "pointer = songCol.find()[10:11]\n",
    "for docs in pointer:\n",
    "    if docs['access'] == 1:\n",
    "        pprint.pprint(docs)\n",
    "    else:\n",
    "        pprint.pprint(\"Not public\")"
   ]
  },
  {
   "cell_type": "code",
   "execution_count": 25,
   "metadata": {},
   "outputs": [
    {
     "name": "stdout",
     "output_type": "stream",
     "text": [
      "{u'_id': ObjectId('52ea92cce4b0a865287a1352'),\n",
      " u'mp4MergedNewsWebVideoUrl': u'https://bandhubmediastream.blob.core.windows.net/files/f-ff1751e2-893e-4e27-9acc-49d14a3157b3.mp4',\n",
      " u'mp4MergedVideoUrl': u'https://bandhubmediastream.blob.core.windows.net/files/f-52ea87fb080a26053f000002.mp4',\n",
      " u'oggMergedVideoUrl': u'https://bandhubmediastream.blob.core.windows.net/files/f-52ea87fb080a26053f000002.ogg',\n",
      " u'songId': ObjectId('52ea87fb080a26053f000002'),\n",
      " u'trackIds': [ObjectId('52ea88fca3c2473745000001'),\n",
      "               ObjectId('52ea8d6ca3c2473745000004')],\n",
      " u'youtubeId': u'aXdF95VBGFE'}\n"
     ]
    }
   ],
   "source": [
    "pointer = vidCol.find()[2:3]\n",
    "for docs in pointer:\n",
    "    pprint.pprint(docs)"
   ]
  },
  {
   "cell_type": "code",
   "execution_count": null,
   "metadata": {},
   "outputs": [],
   "source": [
    "masterLen = max(oggtracks)\n",
    "diff = 0\n",
    "if((np.shape(oggtrack1)[0]) < (np.shape(oggtrack2)[0])):\n",
    "    mixogg = np.zeros(np.shape(oggtrack2)[0])\n",
    "    diff = np.zeros(np.shape(oggtrack2)[0] - np.shape(oggtrack1)[0])\n",
    "    oggtrack1 = np.concatenate((oggtrack1, diff), axis=0)\n",
    "else:\n",
    "    mixogg = np.zeros(np.shape(oggtrack1)[0])\n",
    "    diff = np.zeros(np.shape(oggtrack1)[0] - np.shape(oggtrack2)[0])\n",
    "    oggtrack2 = np.concatenate((oggtrack2, diff), axis=0)\n",
    "if((np.shape(oggtrack1)[0]) < (np.shape(oggtrack3)[0])):\n",
    "    mixogg = np.zeros(np.shape(oggtrack3)[0])\n",
    "    diff = np.zeros(np.shape(oggtrack3)[0] - np.shape(oggtrack1)[0])\n",
    "    oggtrack1 = np.concatenate((oggtrack1, diff), axis=0)\n",
    "else:\n",
    "    mixogg = np.zeros(np.shape(oggtrack1)[0])\n",
    "    diff = np.zeros(np.shape(oggtrack1)[0] - np.shape(oggtrack3)[0])\n",
    "    oggtrack3 = np.concatenate((oggtrack3, diff), axis=0) \n",
    "#pprint.pprint(np.shape(diff))\n",
    "pprint.pprint(np.shape(oggtrack1))\n",
    "pprint.pprint(np.shape(oggtrack2))\n",
    "pprint.pprint(np.shape(oggtrack3))"
   ]
  },
  {
   "cell_type": "code",
   "execution_count": 5,
   "metadata": {},
   "outputs": [],
   "source": [
    "data = pd.read_hdf('BandhubDatasetCopy.h5')"
   ]
  },
  {
   "cell_type": "code",
   "execution_count": 12,
   "metadata": {},
   "outputs": [
    {
     "data": {
      "text/plain": [
       "trackId                                               54357096e18d72165e42ba85\n",
       "songId                                                542fcd68e4251e5e66ec1cb2\n",
       "masterOwner                                                             Brandx\n",
       "trackOwner                                                              Brandx\n",
       "artist                                                             Iron Maiden\n",
       "title                                                      back in the village\n",
       "views                                                                      800\n",
       "instrument                                                                 NaN\n",
       "contentTags                                                               null\n",
       "audioURL                     http://bandhubwebmedia4.blob.core.windows.net/...\n",
       "cleanProcessedAudioURL       http://bandhubwebmedia5.blob.core.windows.net/...\n",
       "processedAudioURL                                                          NaN\n",
       "startTime                                                                    0\n",
       "trackDuration                                                          305.376\n",
       "audioSampleRate                                                              0\n",
       "trackVolume                                                               0.59\n",
       "compressorValue                                                              0\n",
       "panValue                                                                 -0.62\n",
       "echoValue                                                                    0\n",
       "noiseGateValue                                                               0\n",
       "reverbValue                                                                  0\n",
       "solo                                                                     False\n",
       "trackVideo                   http://bandhubmediastream.blob.core.windows.ne...\n",
       "fromYouTube                                                              False\n",
       "isFinished                                                                True\n",
       "isPublished                                                               True\n",
       "hasPublishedTracks                                                        True\n",
       "mixedAudio                   http://bandhubwebmedia2.blob.core.windows.net/...\n",
       "mixedVideo                   http://bandhubmediastream.blob.core.windows.ne...\n",
       "musicBrainzID                                         54e84af6e4b0b9f15058dd8e\n",
       "newMusicBrainzID                                      55ad795b5a11481a90f76e70\n",
       "publicSongCollectionIndex                                                20001\n",
       "Name: 0, dtype: object"
      ]
     },
     "execution_count": 12,
     "metadata": {},
     "output_type": "execute_result"
    }
   ],
   "source": [
    "data.iloc[2]"
   ]
  },
  {
   "cell_type": "code",
   "execution_count": null,
   "metadata": {},
   "outputs": [],
   "source": [
    "path = '/home/rrs432/'\n",
    "#os.mkdir(path)\n",
    "os.chdir(path)"
   ]
  }
 ],
 "metadata": {
  "kernelspec": {
   "display_name": "Python 2",
   "language": "python",
   "name": "python2"
  },
  "language_info": {
   "codemirror_mode": {
    "name": "ipython",
    "version": 2
   },
   "file_extension": ".py",
   "mimetype": "text/x-python",
   "name": "python",
   "nbconvert_exporter": "python",
   "pygments_lexer": "ipython2",
   "version": "2.7.14"
  }
 },
 "nbformat": 4,
 "nbformat_minor": 2
}
