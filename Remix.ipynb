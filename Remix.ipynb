{
 "cells": [
  {
   "cell_type": "code",
   "execution_count": 1,
   "metadata": {},
   "outputs": [
    {
     "name": "stderr",
     "output_type": "stream",
     "text": [
      "/home/rrs432/miniconda2/envs/bandhub/lib/python2.7/site-packages/pydub/utils.py:165: RuntimeWarning: Couldn't find ffmpeg or avconv - defaulting to ffmpeg, but may not work\n",
      "  warn(\"Couldn't find ffmpeg or avconv - defaulting to ffmpeg, but may not work\", RuntimeWarning)\n"
     ]
    }
   ],
   "source": [
    "import pymongo\n",
    "import pandas as pd\n",
    "#from pandas import Series\n",
    "import numpy as np\n",
    "import soundfile as sf\n",
    "#import matplotlib.pyplot as plt\n",
    "#from collections import Counter\n",
    "from bson.objectid import ObjectId\n",
    "import json\n",
    "import pprint\n",
    "from pydub import AudioSegment\n",
    "import urllib\n",
    "import os\n",
    "import requests\n",
    "import ffmpy\n",
    "import subprocess"
   ]
  },
  {
   "cell_type": "code",
   "execution_count": 6,
   "metadata": {},
   "outputs": [],
   "source": [
    "client = pymongo.MongoClient('localhost',27017)\n",
    "#client = pymongo.MongoClient('localhost',32768)\n",
    "db = client.get_database('b=bandhub')"
   ]
  },
  {
   "cell_type": "code",
   "execution_count": 7,
   "metadata": {},
   "outputs": [
    {
     "data": {
      "text/plain": [
       "[425706, 198169, 915582, 494867]"
      ]
     },
     "execution_count": 7,
     "metadata": {},
     "output_type": "execute_result"
    }
   ],
   "source": [
    "songCol = db.get_collection('songsStream')\n",
    "vidCol = db.get_collection('mergedVideos')\n",
    "trackCol = db.get_collection('tracksStream')\n",
    "postCol = db.get_collection('posts')\n",
    "[songCol.count(), vidCol.count(), trackCol.count(), postCol.count()]"
   ]
  },
  {
   "cell_type": "code",
   "execution_count": 17,
   "metadata": {},
   "outputs": [
    {
     "name": "stdout",
     "output_type": "stream",
     "text": [
      "ObjectId('546f05de4e5d9e60267e62da')\n"
     ]
    }
   ],
   "source": [
    "TwoTrackMixes = []\n",
    "#zeroTrackMixes = 0\n",
    "pubTracks = postCol.find({'songAccess':{'$exists': True}}, {'participantsInfo':1 ,'songAccess':1, '_id':1})\n",
    "for docs in pubTracks:\n",
    "    if(docs['songAccess'] == 1):\n",
    "        if(len(docs['participantsInfo']['publishedTracks']) == 2):\n",
    "            TwoTrackMixes.append(docs['_id'])\n",
    "#pprint.pprint(len(TwoTrackMixes))\n",
    "\n",
    "remix_test1 = TwoTrackMixes[0]\n",
    "pprint.pprint(remix_test1)"
   ]
  },
  {
   "cell_type": "code",
   "execution_count": 11,
   "metadata": {},
   "outputs": [
    {
     "name": "stdout",
     "output_type": "stream",
     "text": [
      "ObjectId('524774cbbf9d3bda1e000019')\n"
     ]
    }
   ],
   "source": [
    "ThreeTrackMixes = []\n",
    "masterSongIDs = []\n",
    "#zeroTrackMixes = 0\n",
    "pubTracks = postCol.find({'songAccess':{'$exists': True}}, {'participantsInfo':1 ,'songAccess':1, 'objectId':1})\n",
    "for docs in pubTracks:\n",
    "    if(docs['songAccess'] == 1):\n",
    "        if(len(docs['participantsInfo']['publishedTracks']) == 3):\n",
    "            #ThreeTrackMixes.append(docs['objectId'])\n",
    "            ThreeTrackMixes.append(docs['_id'])\n",
    "            masterSongIDs.append(docs['objectId'])\n",
    "#pprint.pprint(len(TwoTrackMixes))\n",
    "\n",
    "remix_test = ThreeTrackMixes[37]\n",
    "songID = masterSongIDs[37]\n",
    "pprint.pprint(songID)"
   ]
  },
  {
   "cell_type": "code",
   "execution_count": 12,
   "metadata": {},
   "outputs": [
    {
     "name": "stdout",
     "output_type": "stream",
     "text": [
      "[ObjectId('52477674bf9d3bda1e00001c'),\n",
      " ObjectId('52477890bf9d3bda1e00001e'),\n",
      " ObjectId('53e7bbd6658a3a966ba074aa')]\n"
     ]
    }
   ],
   "source": [
    "pub_t = []\n",
    "rmt1 = postCol.find({'_id': remix_test})\n",
    "count = 0\n",
    "for docs in rmt1:\n",
    "    if docs['songAccess'] == 1:\n",
    "        #pprint.pprint(docs)\n",
    "        #pprint.pprint(docs['participantsInfo']['publishedTracks'])\n",
    "        count = len(docs['participantsInfo']['publishedTracks'])\n",
    "        #pprint.pprint(docs['participantsInfo']['publishedTracks'])\n",
    "        for i in range(count):\n",
    "            pub_t.append(docs['participantsInfo']['publishedTracks'][i]['_id'])\n",
    "        #pprint.pprint(\"Not public\")\n",
    "pprint.pprint(pub_t)"
   ]
  },
  {
   "cell_type": "code",
   "execution_count": 45,
   "metadata": {},
   "outputs": [
    {
     "name": "stdout",
     "output_type": "stream",
     "text": [
      "{u'_id': ObjectId('524774cbbf9d3bda1e000019'),\n",
      " u'access': 1,\n",
      " u'communityOrder': 390,\n",
      " u'dateCreated': datetime.datetime(2013, 9, 29, 0, 31, 7),\n",
      " u'dateLastModified': datetime.datetime(2014, 3, 29, 7, 39, 26, 795000),\n",
      " u'description': u'',\n",
      " u'fbImage': u'http://bandhubmediastream.blob.core.windows.net/files/ct-524774cbbf9d3bda1e000019-2.png',\n",
      " u'fbImageTracks': [u'52477674bf9d3bda1e00001c',\n",
      "                    u'52477890bf9d3bda1e00001e',\n",
      "                    u'53e7bbd6658a3a966ba074aa'],\n",
      " u'hasPublishedTracks': True,\n",
      " u'hasRecordedTracks': True,\n",
      " u'isFeatured': False,\n",
      " u'masterSongId': ObjectId('524774cbbf9d3bda1e000019'),\n",
      " u'masterSongOwner': u'kari',\n",
      " u'migratedToAzure': True,\n",
      " u'mp4MergedMobileVideoUrl': u'http://bandhubmediastream.blob.core.windows.net/files/m-f-c1655efa-58ef-4e61-aac4-450d7d750a24.mp4',\n",
      " u'mp4MergedVideoUrl': u'http://bandhubmediastream.blob.core.windows.net/files/f-524774cbbf9d3bda1e000019.mp4',\n",
      " u'newMusicbrainzMetadataId': ObjectId('5696fa8a5a11481a904cb513'),\n",
      " u'newMusicbrainzMetadataLookup': True,\n",
      " u'newSearchIndexChecked': True,\n",
      " u'numberOfComments': 5,\n",
      " u'numberOfViews': 80,\n",
      " u'oggMergedVideoUrl': u'http://bandhubmediastream.blob.core.windows.net/files/f-524774cbbf9d3bda1e000019.ogg',\n",
      " u'oldSettings': [{u'audioChannels': [{u'compressorState': 0,\n",
      "                                       u'compressorValue': 0,\n",
      "                                       u'echoState': 0,\n",
      "                                       u'echoValue': 0,\n",
      "                                       u'mute': False,\n",
      "                                       u'noiseGateState': 0,\n",
      "                                       u'noiseGateValue': -100,\n",
      "                                       u'panState': 0,\n",
      "                                       u'panValue': 0,\n",
      "                                       u'reverbState': 0,\n",
      "                                       u'reverbValue': 0,\n",
      "                                       u'solo': False,\n",
      "                                       u'visualEQState': 0,\n",
      "                                       u'visualEQValues': [0,\n",
      "                                                           0,\n",
      "                                                           0,\n",
      "                                                           0,\n",
      "                                                           0,\n",
      "                                                           0,\n",
      "                                                           0,\n",
      "                                                           0,\n",
      "                                                           0,\n",
      "                                                           0],\n",
      "                                       u'volume': 0.699999988079071}],\n",
      "                   u'mute': False,\n",
      "                   u'solo': False,\n",
      "                   u'volume': 0.699999988079071},\n",
      "                  {u'audioChannels': [{u'compressorState': 0,\n",
      "                                       u'compressorValue': 0,\n",
      "                                       u'echoState': 1,\n",
      "                                       u'echoValue': 0.07454427083333333,\n",
      "                                       u'mute': False,\n",
      "                                       u'noiseGateState': 0,\n",
      "                                       u'noiseGateValue': -100,\n",
      "                                       u'panState': 0,\n",
      "                                       u'panValue': 0,\n",
      "                                       u'reverbState': 1,\n",
      "                                       u'reverbValue': 33.43563988095239,\n",
      "                                       u'solo': False,\n",
      "                                       u'visualEQState': 0,\n",
      "                                       u'visualEQValues': [0,\n",
      "                                                           0,\n",
      "                                                           0,\n",
      "                                                           0,\n",
      "                                                           0,\n",
      "                                                           0,\n",
      "                                                           0,\n",
      "                                                           0,\n",
      "                                                           0,\n",
      "                                                           0],\n",
      "                                       u'volume': 1}],\n",
      "                   u'mute': False,\n",
      "                   u'solo': False,\n",
      "                   u'volume': 1}],\n",
      " u'owner': u'kari',\n",
      " u'parentVersionsOption': 2,\n",
      " u'publishedTracksState': [{u'imagePreview320': u'http://img.youtube.com/vi/rHFOH152fKI/2.jpg',\n",
      "                            u'imagePreview80': u'http://img.youtube.com/vi/rHFOH152fKI/2.jpg',\n",
      "                            u'owner': u''},\n",
      "                           {u'imagePreview320': u'http://bandhubmediastream.blob.core.windows.net/files/F5563DBC-164F-4C13-8BAB-A12B58DB7AFE-320x240.png',\n",
      "                            u'imagePreview80': u'http://bandhubmediastream.blob.core.windows.net/files/F5563DBC-164F-4C13-8BAB-A12B58DB7AFE-80x60.png',\n",
      "                            u'owner': u'kari'},\n",
      "                           {u'imagePreview320': u'http://bandhubmediastream.blob.core.windows.net/files/4028BFD9-DFA4-4354-A221-EA698D89935A-320x240.png',\n",
      "                            u'imagePreview80': u'http://bandhubmediastream.blob.core.windows.net/files/4028BFD9-DFA4-4354-A221-EA698D89935A-80x60.png',\n",
      "                            u'owner': u'rachel2ruth'}],\n",
      " u'searchIndexChecked': True,\n",
      " u'seenByOthers': True,\n",
      " u'settings': {u'52477674bf9d3bda1e00001c': {u'audioChannels': [{u'compressorState': 0,\n",
      "                                                                 u'compressorValue': 0,\n",
      "                                                                 u'echoState': 0,\n",
      "                                                                 u'echoValue': 0,\n",
      "                                                                 u'mute': False,\n",
      "                                                                 u'noiseGateState': 0,\n",
      "                                                                 u'noiseGateValue': -100,\n",
      "                                                                 u'panState': 0,\n",
      "                                                                 u'panValue': 0,\n",
      "                                                                 u'reverbState': 0,\n",
      "                                                                 u'reverbValue': 0,\n",
      "                                                                 u'solo': False,\n",
      "                                                                 u'visualEQState': 0,\n",
      "                                                                 u'visualEQValues': [0,\n",
      "                                                                                     0,\n",
      "                                                                                     0,\n",
      "                                                                                     0,\n",
      "                                                                                     0,\n",
      "                                                                                     0,\n",
      "                                                                                     0,\n",
      "                                                                                     0,\n",
      "                                                                                     0,\n",
      "                                                                                     0],\n",
      "                                                                 u'volume': 0.699999988079071}],\n",
      "                                             u'audioFileUrl': u'http://bandhubwebmedia0.blob.core.windows.net/files/524774cbbf9d3bda1e000019-52477674bf9d3bda1e00001c.m4a',\n",
      "                                             u'mute': False,\n",
      "                                             u'solo': False,\n",
      "                                             u'volume': 0.7},\n",
      "               u'52477890bf9d3bda1e00001e': {u'audioChannels': [{u'compressorState': 0,\n",
      "                                                                 u'compressorValue': 0,\n",
      "                                                                 u'echoState': 1,\n",
      "                                                                 u'echoValue': 0.07454427083333333,\n",
      "                                                                 u'mute': False,\n",
      "                                                                 u'noiseGateState': 0,\n",
      "                                                                 u'noiseGateValue': -100,\n",
      "                                                                 u'panState': 0,\n",
      "                                                                 u'panValue': 0,\n",
      "                                                                 u'reverbState': 1,\n",
      "                                                                 u'reverbValue': 33.43563988095239,\n",
      "                                                                 u'solo': False,\n",
      "                                                                 u'visualEQState': 0,\n",
      "                                                                 u'visualEQValues': [0,\n",
      "                                                                                     0,\n",
      "                                                                                     0,\n",
      "                                                                                     0,\n",
      "                                                                                     0,\n",
      "                                                                                     0,\n",
      "                                                                                     0,\n",
      "                                                                                     0,\n",
      "                                                                                     0,\n",
      "                                                                                     0],\n",
      "                                                                 u'volume': 1}],\n",
      "                                             u'audioFileUrl': u'http://bandhubwebmedia1.blob.core.windows.net/files/524774cbbf9d3bda1e000019-52477890bf9d3bda1e00001e.m4a',\n",
      "                                             u'compressorState': 1,\n",
      "                                             u'compressorValue': -15.196,\n",
      "                                             u'effectsAudioUrl': u'http://bandhubwebmedia0.blob.core.windows.net/files/91bbcaf8-2409-4eaf-93a9-a729ebe93274.ogg',\n",
      "                                             u'effectsAudioUrl_np': u'http://bandhubwebmedia2.blob.core.windows.net/files/cb5fbdd7-5635-4aa5-9763-b3a7ce53bd3f.ogg',\n",
      "                                             u'effectsFilePartsInfo': [{u'audioPartUrl': u'http://bandhubwebmedia3.blob.core.windows.net/files/cb5fbdd7-5635-4aa5-9763-b3a7ce53bd3f-001.ogg',\n",
      "                                                                        u'partIndex': 0,\n",
      "                                                                        u'startSecs': 0},\n",
      "                                                                       {u'audioPartUrl': u'http://bandhubwebmedia4.blob.core.windows.net/files/cb5fbdd7-5635-4aa5-9763-b3a7ce53bd3f-002.ogg',\n",
      "                                                                        u'partIndex': 1,\n",
      "                                                                        u'startSecs': 17},\n",
      "                                                                       {u'audioPartUrl': u'http://bandhubwebmedia5.blob.core.windows.net/files/cb5fbdd7-5635-4aa5-9763-b3a7ce53bd3f-003.ogg',\n",
      "                                                                        u'partIndex': 2,\n",
      "                                                                        u'startSecs': 34},\n",
      "                                                                       {u'audioPartUrl': u'http://bandhubwebmedia6.blob.core.windows.net/files/cb5fbdd7-5635-4aa5-9763-b3a7ce53bd3f-004.ogg',\n",
      "                                                                        u'partIndex': 3,\n",
      "                                                                        u'startSecs': 51},\n",
      "                                                                       {u'audioPartUrl': u'http://bandhubwebmedia7.blob.core.windows.net/files/cb5fbdd7-5635-4aa5-9763-b3a7ce53bd3f-005.ogg',\n",
      "                                                                        u'partIndex': 4,\n",
      "                                                                        u'startSecs': 68},\n",
      "                                                                       {u'audioPartUrl': u'http://bandhubwebmedia8.blob.core.windows.net/files/cb5fbdd7-5635-4aa5-9763-b3a7ce53bd3f-006.ogg',\n",
      "                                                                        u'partIndex': 5,\n",
      "                                                                        u'startSecs': 85},\n",
      "                                                                       {u'audioPartUrl': u'http://bandhubwebmedia9.blob.core.windows.net/files/cb5fbdd7-5635-4aa5-9763-b3a7ce53bd3f-007.ogg',\n",
      "                                                                        u'partIndex': 6,\n",
      "                                                                        u'startSecs': 102},\n",
      "                                                                       {u'audioPartUrl': u'http://bandhubwebmedia0.blob.core.windows.net/files/cb5fbdd7-5635-4aa5-9763-b3a7ce53bd3f-008.ogg',\n",
      "                                                                        u'partIndex': 7,\n",
      "                                                                        u'startSecs': 119},\n",
      "                                                                       {u'audioPartUrl': u'http://bandhubwebmedia1.blob.core.windows.net/files/cb5fbdd7-5635-4aa5-9763-b3a7ce53bd3f-009.ogg',\n",
      "                                                                        u'partIndex': 8,\n",
      "                                                                        u'startSecs': 136},\n",
      "                                                                       {u'audioPartUrl': u'http://bandhubwebmedia2.blob.core.windows.net/files/cb5fbdd7-5635-4aa5-9763-b3a7ce53bd3f-010.ogg',\n",
      "                                                                        u'partIndex': 9,\n",
      "                                                                        u'startSecs': 153},\n",
      "                                                                       {u'audioPartUrl': u'http://bandhubwebmedia3.blob.core.windows.net/files/cb5fbdd7-5635-4aa5-9763-b3a7ce53bd3f-011.ogg',\n",
      "                                                                        u'partIndex': 10,\n",
      "                                                                        u'startSecs': 170}],\n",
      "                                             u'mute': False,\n",
      "                                             u'panState': 1,\n",
      "                                             u'panValue': 0.01,\n",
      "                                             u'reverbState': 1,\n",
      "                                             u'reverbValue': 0.289,\n",
      "                                             u'solo': False,\n",
      "                                             u'visualEQState': 1,\n",
      "                                             u'visualEQValues': [0,\n",
      "                                                                 0,\n",
      "                                                                 0,\n",
      "                                                                 0,\n",
      "                                                                 0,\n",
      "                                                                 0,\n",
      "                                                                 0,\n",
      "                                                                 0,\n",
      "                                                                 0,\n",
      "                                                                 0],\n",
      "                                             u'volume': 1},\n",
      "               u'53e7b9bf658a3a966ba07375': {u'audioChannels': [{u'audioFileUrl': u'http://bandhubwebmedia3.blob.core.windows.net/files/f48be761-5238-4900-835b-f60c3723ea7f-0.ogg'}],\n",
      "                                             u'mute': False,\n",
      "                                             u'solo': False,\n",
      "                                             u'volume': 0.7},\n",
      "               u'53e7ba93658a3a966ba0738f': {u'audioChannels': [{u'audioFileUrl': u'http://bandhubwebmedia5.blob.core.windows.net/files/aa0aa423-763c-48c2-b71c-7581e1168a2f-0.ogg'}],\n",
      "                                             u'mute': False,\n",
      "                                             u'solo': False,\n",
      "                                             u'volume': 0.7},\n",
      "               u'53e7bada658a3a966ba073aa': {u'audioChannels': [{u'audioFileUrl': u'http://bandhubwebmedia6.blob.core.windows.net/files/a04e2c9a-d12c-46e2-aec9-19ea4f18e873-0.ogg'}],\n",
      "                                             u'mute': False,\n",
      "                                             u'solo': False,\n",
      "                                             u'volume': 0.7},\n",
      "               u'53e7bbd6658a3a966ba074aa': {u'audioChannels': [{u'audioFileUrl': u'http://bandhubwebmedia7.blob.core.windows.net/files/842ba326-b8cc-4630-91cd-039f2bd2936a-0.ogg'}],\n",
      "                                             u'compressorState': 1,\n",
      "                                             u'compressorValue': 0,\n",
      "                                             u'effectsAudioUrl': u'http://bandhubwebmedia6.blob.core.windows.net/files/2385b914-2fa2-4eab-bc0d-e9d0de9b2515.ogg',\n",
      "                                             u'effectsAudioUrl_np': u'http://bandhubwebmedia4.blob.core.windows.net/files/32f0d6e3-97f3-427e-98ae-5d83ac3ad54f.ogg',\n",
      "                                             u'effectsFilePartsInfo': [{u'audioPartUrl': u'http://bandhubwebmedia5.blob.core.windows.net/files/32f0d6e3-97f3-427e-98ae-5d83ac3ad54f-001.ogg',\n",
      "                                                                        u'partIndex': 0,\n",
      "                                                                        u'startSecs': 0},\n",
      "                                                                       {u'audioPartUrl': u'http://bandhubwebmedia6.blob.core.windows.net/files/32f0d6e3-97f3-427e-98ae-5d83ac3ad54f-002.ogg',\n",
      "                                                                        u'partIndex': 1,\n",
      "                                                                        u'startSecs': 21},\n",
      "                                                                       {u'audioPartUrl': u'http://bandhubwebmedia7.blob.core.windows.net/files/32f0d6e3-97f3-427e-98ae-5d83ac3ad54f-003.ogg',\n",
      "                                                                        u'partIndex': 2,\n",
      "                                                                        u'startSecs': 42},\n",
      "                                                                       {u'audioPartUrl': u'http://bandhubwebmedia8.blob.core.windows.net/files/32f0d6e3-97f3-427e-98ae-5d83ac3ad54f-004.ogg',\n",
      "                                                                        u'partIndex': 3,\n",
      "                                                                        u'startSecs': 63},\n",
      "                                                                       {u'audioPartUrl': u'http://bandhubwebmedia9.blob.core.windows.net/files/32f0d6e3-97f3-427e-98ae-5d83ac3ad54f-005.ogg',\n",
      "                                                                        u'partIndex': 4,\n",
      "                                                                        u'startSecs': 84},\n",
      "                                                                       {u'audioPartUrl': u'http://bandhubwebmedia0.blob.core.windows.net/files/32f0d6e3-97f3-427e-98ae-5d83ac3ad54f-006.ogg',\n",
      "                                                                        u'partIndex': 5,\n",
      "                                                                        u'startSecs': 105},\n",
      "                                                                       {u'audioPartUrl': u'http://bandhubwebmedia1.blob.core.windows.net/files/32f0d6e3-97f3-427e-98ae-5d83ac3ad54f-007.ogg',\n",
      "                                                                        u'partIndex': 6,\n",
      "                                                                        u'startSecs': 126},\n",
      "                                                                       {u'audioPartUrl': u'http://bandhubwebmedia2.blob.core.windows.net/files/32f0d6e3-97f3-427e-98ae-5d83ac3ad54f-008.ogg',\n",
      "                                                                        u'partIndex': 7,\n",
      "                                                                        u'startSecs': 147},\n",
      "                                                                       {u'audioPartUrl': u'http://bandhubwebmedia3.blob.core.windows.net/files/32f0d6e3-97f3-427e-98ae-5d83ac3ad54f-009.ogg',\n",
      "                                                                        u'partIndex': 8,\n",
      "                                                                        u'startSecs': 168},\n",
      "                                                                       {u'audioPartUrl': u'http://bandhubwebmedia4.blob.core.windows.net/files/32f0d6e3-97f3-427e-98ae-5d83ac3ad54f-010.ogg',\n",
      "                                                                        u'partIndex': 9,\n",
      "                                                                        u'startSecs': 189}],\n",
      "                                             u'mute': False,\n",
      "                                             u'panState': 1,\n",
      "                                             u'panValue': 0,\n",
      "                                             u'reverbState': 1,\n",
      "                                             u'reverbValue': 0.361,\n",
      "                                             u'solo': False,\n",
      "                                             u'visualEQState': 1,\n",
      "                                             u'visualEQValues': [0,\n",
      "                                                                 0,\n",
      "                                                                 0,\n",
      "                                                                 0,\n",
      "                                                                 0,\n",
      "                                                                 0,\n",
      "                                                                 0,\n",
      "                                                                 0,\n",
      "                                                                 0,\n",
      "                                                                 0],\n",
      "                                             u'volume': 0.78}},\n",
      " u'songId': u'524774cbbf9d3bda1e000019',\n",
      " u'subTitle': u'',\n",
      " u'title': u'The Nearness of You',\n",
      " u'trackIDs': [ObjectId('52477674bf9d3bda1e00001c'),\n",
      "               ObjectId('52477890bf9d3bda1e00001e'),\n",
      "               ObjectId('53e7b9bf658a3a966ba07375'),\n",
      "               ObjectId('53e7ba93658a3a966ba0738f'),\n",
      "               ObjectId('53e7bada658a3a966ba073aa'),\n",
      "               ObjectId('53e7bbd6658a3a966ba074aa')],\n",
      " u'trackInvitationIds': [ObjectId('53e54130664a711727ebbaff')],\n",
      " u'trackSubmissionsOption': 2,\n",
      " u'userIdsWithAccess': [ObjectId('53d407457211935c45000043')],\n",
      " u'versionsOption': 2}\n",
      "[0.7, 1, 0.78]\n",
      "[u'http://bandhubwebmedia6.blob.core.windows.net/files/e701ac78-3fae-4132-b94a-b2bd75f71bc9.ogg',\n",
      " u'http://bandhubwebmedia0.blob.core.windows.net/files/91bbcaf8-2409-4eaf-93a9-a729ebe93274.ogg',\n",
      " u'http://bandhubwebmedia6.blob.core.windows.net/files/2385b914-2fa2-4eab-bc0d-e9d0de9b2515.ogg']\n"
     ]
    }
   ],
   "source": [
    "songLookUp = songCol.find({'masterSongId' : songID})\n",
    "pub_t_vol = []\n",
    "ogg_paths = []\n",
    "#pprint.pprint(songLookUp.count())\n",
    "for docs in songLookUp:\n",
    "    pprint.pprint(docs)\n",
    "    for i in range(count):\n",
    "        #pprint.pprint(docs['settings'][str(pub_t[i])]['volume'])\n",
    "        #pprint.pprint(str(pub_t[i]))\n",
    "        #pprint.pprint(docs['settings'][str(pub_t[i])]['volume'])\n",
    "        pub_t_vol.append(docs['settings'][str(pub_t[i])]['volume'])\n",
    "        #pprint.pprint(docs['settings'][str(pub_t[i])])\n",
    "        if('effectsAudioUrl' in docs['settings'][str(pub_t[i])]): \n",
    "            ogg_paths.append(docs['settings'][str(pub_t[i])]['effectsAudioUrl'])\n",
    "        else:\n",
    "            gettrack = trackCol.find({'_id' : pub_t[i]})\n",
    "            for tdocs in gettrack:\n",
    "                ogg_paths.append(tdocs['audioChannels'][0]['fileUrl'])\n",
    "                #pprint.pprint('No Effects Audio!')\n",
    "    #print('found')\n",
    "pprint.pprint(pub_t_vol)\n",
    "pprint.pprint(ogg_paths)"
   ]
  },
  {
   "cell_type": "code",
   "execution_count": 35,
   "metadata": {},
   "outputs": [
    {
     "name": "stdout",
     "output_type": "stream",
     "text": [
      "[u'e701ac78-3fae-4132-b94a-b2bd75f71bc9.ogg',\n",
      " u'91bbcaf8-2409-4eaf-93a9-a729ebe93274.ogg',\n",
      " u'2385b914-2fa2-4eab-bc0d-e9d0de9b2515.ogg']\n",
      "[0, 0, 0]\n"
     ]
    }
   ],
   "source": [
    "#ogg_paths = []\n",
    "track_filenames = []\n",
    "start_times = []\n",
    "for i in range(count):\n",
    "    gettrack = trackCol.find({'_id' : pub_t[i]})\n",
    "    for docs in gettrack:\n",
    "        #trackVideo = docs['videoFileUrl']\n",
    "        #pprint.pprint(docs['audioChannels'][0]['fileUrl'])\n",
    "        #ogg_paths.append(docs['audioChannels'][0]['fileUrl'])\n",
    "        start_times.append(docs['startTimeValue'])\n",
    "        #pprint.pprint(docs)\n",
    "#pprint.pprint(ogg_path)\n",
    "for file in ogg_paths:\n",
    "    filePath = file.split('/')\n",
    "    track_filenames.append(filePath[- 1])\n",
    "    #print fileName\n",
    "pprint.pprint(track_filenames)\n",
    "pprint.pprint(start_times)"
   ]
  },
  {
   "cell_type": "code",
   "execution_count": 36,
   "metadata": {},
   "outputs": [
    {
     "name": "stdout",
     "output_type": "stream",
     "text": [
      "Download successful\n"
     ]
    }
   ],
   "source": [
    "path = '/scratch/rrs432/tracks'\n",
    "#os.mkdir(path)\n",
    "os.chdir(path)\n",
    "\n",
    "for i in range(count):\n",
    "    r = requests.get(ogg_paths[i])\n",
    "    filename = ogg_paths[i].rpartition('/')[2]\n",
    "    with open(filename, 'wb') as fd:\n",
    "        for chunk in r.iter_content(chunk_size=128):\n",
    "            fd.write(chunk)\n",
    "print('Download successful')"
   ]
  },
  {
   "cell_type": "code",
   "execution_count": 37,
   "metadata": {},
   "outputs": [
    {
     "name": "stdout",
     "output_type": "stream",
     "text": [
      "u'http://bandhubmediastream.blob.core.windows.net/files/f-91bced26-7277-49e8-ae1b-dc52c117d677.ogg'\n"
     ]
    }
   ],
   "source": [
    "pointer = vidCol.find({'songId': songID})\n",
    "for songdocs in pointer:\n",
    "    premix = songdocs['oggMergedVideoUrl']\n",
    "pprint.pprint(premix)"
   ]
  },
  {
   "cell_type": "code",
   "execution_count": 38,
   "metadata": {},
   "outputs": [
    {
     "name": "stdout",
     "output_type": "stream",
     "text": [
      "BandHub Mix Download successful\n"
     ]
    }
   ],
   "source": [
    "path = '/scratch/rrs432/tracks'\n",
    "#os.mkdir(path)\n",
    "os.chdir(path)\n",
    "\n",
    "pointer = vidCol.find({'songId': songID})\n",
    "for songdocs in pointer:\n",
    "    premix = songdocs['oggMergedVideoUrl']\n",
    "\n",
    "r = requests.get(premix)\n",
    "filename = premix.rpartition('/')[2]\n",
    "with open(filename, 'wb') as fd:\n",
    "    for chunk in r.iter_content(chunk_size=128):\n",
    "        fd.write(chunk)\n",
    "print('BandHub Mix Download successful')"
   ]
  },
  {
   "cell_type": "code",
   "execution_count": 39,
   "metadata": {},
   "outputs": [
    {
     "name": "stdout",
     "output_type": "stream",
     "text": [
      "\u001b[0m\u001b[38;5;45m2385b914-2fa2-4eab-bc0d-e9d0de9b2515.ogg\u001b[0m\r\n",
      "\u001b[38;5;45m91bbcaf8-2409-4eaf-93a9-a729ebe93274.ogg\u001b[0m\r\n",
      "\u001b[38;5;45me701ac78-3fae-4132-b94a-b2bd75f71bc9.ogg\u001b[0m\r\n",
      "\u001b[38;5;45mf-91bced26-7277-49e8-ae1b-dc52c117d677.ogg\u001b[0m\r\n",
      "\u001b[38;5;27mgconcr\u001b[0m/\r\n",
      "\u001b[38;5;27mheyoh\u001b[0m/\r\n"
     ]
    }
   ],
   "source": [
    "ls"
   ]
  },
  {
   "cell_type": "code",
   "execution_count": 40,
   "metadata": {},
   "outputs": [
    {
     "name": "stdout",
     "output_type": "stream",
     "text": [
      "(9134400,)\n",
      "(9137536,)\n",
      "(9140288,)\n",
      "[9134400, 9137536, 9140288]\n"
     ]
    }
   ],
   "source": [
    "oggTracks = []\n",
    "trackLens = []\n",
    "samRates = []\n",
    "for i in range(count):\n",
    "    oggTrack, samRate = sf.read('/scratch/rrs432/tracks/'+track_filenames[i])\n",
    "    samRates.append(samRate)\n",
    "    trackLens.append(len(oggTrack))\n",
    "    \n",
    "    #pprint.pprint(np.shape(oggTracks[i])[1])\n",
    "    if len(oggTrack.shape) == 2:\n",
    "        oggTracks.append([np.mean(x) for x in oggTrack])\n",
    "    else:\n",
    "        oggTracks.append(oggTrack)\n",
    "    \n",
    "    pprint.pprint(np.shape(oggTracks[i]))\n",
    "#pprint.pprint(oggTracks[0][0:100])\n",
    "pprint.pprint(trackLens)\n",
    "#pprint.pprint(len(oggTracks[2]))\n",
    "#pprint.pprint(np.shape(samRates))"
   ]
  },
  {
   "cell_type": "code",
   "execution_count": 183,
   "metadata": {},
   "outputs": [],
   "source": [
    "# for i in range(count):\n",
    "#     oggTrack, samRate = sf.read('/scratch/rrs432/tracks/'+track_filenames[i])\n",
    "#     pprint.pprint(oggTrack[10000:10200])\n",
    "#     break\n",
    "# pprint.pprint(oggTracks[0][10000:10200])"
   ]
  },
  {
   "cell_type": "code",
   "execution_count": 41,
   "metadata": {},
   "outputs": [
    {
     "name": "stdout",
     "output_type": "stream",
     "text": [
      "44100\n"
     ]
    }
   ],
   "source": [
    "if (min(samRates) == max(samRates)):\n",
    "    mixsr = samRates[0] \n",
    "else:\n",
    "    pprint.pprint('Warning: Sample rates unequal')\n",
    "pprint.pprint(mixsr)"
   ]
  },
  {
   "cell_type": "code",
   "execution_count": 42,
   "metadata": {},
   "outputs": [
    {
     "name": "stdout",
     "output_type": "stream",
     "text": [
      "9140288\n"
     ]
    }
   ],
   "source": [
    "masterLen = max(trackLens)\n",
    "pprint.pprint(masterLen)"
   ]
  },
  {
   "cell_type": "code",
   "execution_count": 43,
   "metadata": {},
   "outputs": [
    {
     "name": "stdout",
     "output_type": "stream",
     "text": [
      "9134400\n",
      "9140288\n",
      "'Successful'\n",
      "9137536\n",
      "9140288\n",
      "'Successful'\n",
      "9140288\n",
      "'Equal'\n"
     ]
    }
   ],
   "source": [
    "for i in range(count):\n",
    "    pprint.pprint(len(oggTracks[i]))\n",
    "    if(trackLens[i] != masterLen):\n",
    "        #pprint.pprint(start_times[i])\n",
    "        if(start_times[i] == 0):\n",
    "            diff = np.zeros(masterLen - trackLens[i])\n",
    "            #pprint.pprint(len(oggTracks[i]))\n",
    "            oggTracks[i] = np.concatenate((oggTracks[i], diff), axis=0)\n",
    "            #pprint.pprint(masterLen - trackLens[i])\n",
    "            pprint.pprint(len(oggTracks[i]))\n",
    "            #pprint.pprint(len(diff))\n",
    "            if(len(oggTracks[i]) == masterLen):\n",
    "                pprint.pprint('Successful')\n",
    "            else:\n",
    "                pprint.pprint('Try again')\n",
    "        else:\n",
    "            diff = np.zeros(start_times[i]-1)\n",
    "            #pprint.pprint(len(diff))\n",
    "            oggTracks[i] = np.concatenate((diff,oggTracks[i]), axis=0)\n",
    "            diff = np.zeros(masterLen - len(oggTracks[i]))\n",
    "            oggTracks[i] = np.concatenate((oggTracks[i], diff), axis=0)\n",
    "            pprint.pprint(len(oggTracks[i]))\n",
    "    else:\n",
    "        pprint.pprint('Equal')"
   ]
  },
  {
   "cell_type": "code",
   "execution_count": 44,
   "metadata": {},
   "outputs": [],
   "source": [
    "# path = '/scratch/rrs432/tracks'\n",
    "# #os.mkdir(path)\n",
    "# os.chdir(path)\n",
    "#pprint.pprint(count)\n",
    "mixOgg = 0\n",
    "#pprint.pprint(len(pub_t_vol))\n",
    "#pprint.pprint(len(oggTracks))\n",
    "    #pprint.pprint(oggTracks[i])\n",
    "for i in range(count):\n",
    "    #pprint.pprint(pub_t_vol[i])\n",
    "    #pprint.pprint(oggTracks[i])\n",
    "    mixOgg += (pub_t_vol[i]*np.array(oggTracks[i]))\n",
    "sf.write('mixed.wav', mixOgg / np.max(np.abs(mixOgg)), mixsr)"
   ]
  },
  {
   "cell_type": "code",
   "execution_count": 174,
   "metadata": {},
   "outputs": [],
   "source": [
    "path = '/scratch/rrs432/tracks'\n",
    "os.chdir(path)"
   ]
  },
  {
   "cell_type": "code",
   "execution_count": 84,
   "metadata": {},
   "outputs": [
    {
     "name": "stdout",
     "output_type": "stream",
     "text": [
      "which: no ffmpeg in (/home/rrs432/miniconda2/envs/bandhub/bin:/share/apps/mongodb/3.4.10/bin:/home/rrs432/miniconda2/envs/bandhub/bin:/home/rrs432/miniconda2/bin:/usr/lib64/qt-3.3/bin:/usr/local/bin:/usr/bin:/usr/local/sbin:/usr/sbin:/opt/ibutils/bin:/share/apps/local/bin:/share/apps/centos/7/bin:/opt/slurm/bin:/opt/dell/srvadmin/bin:/home/rrs432/.local/bin:/home/rrs432/bin)\r\n"
     ]
    }
   ],
   "source": [
    "!which ffmpeg"
   ]
  },
  {
   "cell_type": "code",
   "execution_count": 81,
   "metadata": {},
   "outputs": [
    {
     "ename": "OSError",
     "evalue": "[Errno 2] No such file or directory",
     "output_type": "error",
     "traceback": [
      "\u001b[0;31m\u001b[0m",
      "\u001b[0;31mOSError\u001b[0mTraceback (most recent call last)",
      "\u001b[0;32m<ipython-input-81-2548a9cae7db>\u001b[0m in \u001b[0;36m<module>\u001b[0;34m()\u001b[0m\n\u001b[0;32m----> 1\u001b[0;31m \u001b[0msubprocess\u001b[0m\u001b[0;34m.\u001b[0m\u001b[0mcall\u001b[0m\u001b[0;34m(\u001b[0m\u001b[0;34m[\u001b[0m\u001b[0;34m'ffmpeg'\u001b[0m\u001b[0;34m,\u001b[0m \u001b[0;34m'-i'\u001b[0m\u001b[0;34m,\u001b[0m \u001b[0;34m'mixed.wav'\u001b[0m\u001b[0;34m,\u001b[0m \u001b[0;34m'-codec:a'\u001b[0m\u001b[0;34m,\u001b[0m \u001b[0;34m'libvorbis'\u001b[0m\u001b[0;34m,\u001b[0m \u001b[0;34m'-b:a'\u001b[0m\u001b[0;34m,\u001b[0m \u001b[0;34m'232k'\u001b[0m\u001b[0;34m,\u001b[0m \u001b[0;34m'remixed.ogg'\u001b[0m\u001b[0;34m]\u001b[0m\u001b[0;34m)\u001b[0m\u001b[0;34m\u001b[0m\u001b[0m\n\u001b[0m",
      "\u001b[0;32m/home/rrs432/miniconda2/envs/bandhub/lib/python2.7/subprocess.pyc\u001b[0m in \u001b[0;36mcall\u001b[0;34m(*popenargs, **kwargs)\u001b[0m\n\u001b[1;32m    166\u001b[0m     \u001b[0mretcode\u001b[0m \u001b[0;34m=\u001b[0m \u001b[0mcall\u001b[0m\u001b[0;34m(\u001b[0m\u001b[0;34m[\u001b[0m\u001b[0;34m\"ls\"\u001b[0m\u001b[0;34m,\u001b[0m \u001b[0;34m\"-l\"\u001b[0m\u001b[0;34m]\u001b[0m\u001b[0;34m)\u001b[0m\u001b[0;34m\u001b[0m\u001b[0m\n\u001b[1;32m    167\u001b[0m     \"\"\"\n\u001b[0;32m--> 168\u001b[0;31m     \u001b[0;32mreturn\u001b[0m \u001b[0mPopen\u001b[0m\u001b[0;34m(\u001b[0m\u001b[0;34m*\u001b[0m\u001b[0mpopenargs\u001b[0m\u001b[0;34m,\u001b[0m \u001b[0;34m**\u001b[0m\u001b[0mkwargs\u001b[0m\u001b[0;34m)\u001b[0m\u001b[0;34m.\u001b[0m\u001b[0mwait\u001b[0m\u001b[0;34m(\u001b[0m\u001b[0;34m)\u001b[0m\u001b[0;34m\u001b[0m\u001b[0m\n\u001b[0m\u001b[1;32m    169\u001b[0m \u001b[0;34m\u001b[0m\u001b[0m\n\u001b[1;32m    170\u001b[0m \u001b[0;34m\u001b[0m\u001b[0m\n",
      "\u001b[0;32m/home/rrs432/miniconda2/envs/bandhub/lib/python2.7/subprocess.pyc\u001b[0m in \u001b[0;36m__init__\u001b[0;34m(self, args, bufsize, executable, stdin, stdout, stderr, preexec_fn, close_fds, shell, cwd, env, universal_newlines, startupinfo, creationflags)\u001b[0m\n\u001b[1;32m    388\u001b[0m                                 \u001b[0mp2cread\u001b[0m\u001b[0;34m,\u001b[0m \u001b[0mp2cwrite\u001b[0m\u001b[0;34m,\u001b[0m\u001b[0;34m\u001b[0m\u001b[0m\n\u001b[1;32m    389\u001b[0m                                 \u001b[0mc2pread\u001b[0m\u001b[0;34m,\u001b[0m \u001b[0mc2pwrite\u001b[0m\u001b[0;34m,\u001b[0m\u001b[0;34m\u001b[0m\u001b[0m\n\u001b[0;32m--> 390\u001b[0;31m                                 errread, errwrite)\n\u001b[0m\u001b[1;32m    391\u001b[0m         \u001b[0;32mexcept\u001b[0m \u001b[0mException\u001b[0m\u001b[0;34m:\u001b[0m\u001b[0;34m\u001b[0m\u001b[0m\n\u001b[1;32m    392\u001b[0m             \u001b[0;31m# Preserve original exception in case os.close raises.\u001b[0m\u001b[0;34m\u001b[0m\u001b[0;34m\u001b[0m\u001b[0m\n",
      "\u001b[0;32m/home/rrs432/miniconda2/envs/bandhub/lib/python2.7/subprocess.pyc\u001b[0m in \u001b[0;36m_execute_child\u001b[0;34m(self, args, executable, preexec_fn, close_fds, cwd, env, universal_newlines, startupinfo, creationflags, shell, to_close, p2cread, p2cwrite, c2pread, c2pwrite, errread, errwrite)\u001b[0m\n\u001b[1;32m   1023\u001b[0m                         \u001b[0;32mraise\u001b[0m\u001b[0;34m\u001b[0m\u001b[0m\n\u001b[1;32m   1024\u001b[0m                 \u001b[0mchild_exception\u001b[0m \u001b[0;34m=\u001b[0m \u001b[0mpickle\u001b[0m\u001b[0;34m.\u001b[0m\u001b[0mloads\u001b[0m\u001b[0;34m(\u001b[0m\u001b[0mdata\u001b[0m\u001b[0;34m)\u001b[0m\u001b[0;34m\u001b[0m\u001b[0m\n\u001b[0;32m-> 1025\u001b[0;31m                 \u001b[0;32mraise\u001b[0m \u001b[0mchild_exception\u001b[0m\u001b[0;34m\u001b[0m\u001b[0m\n\u001b[0m\u001b[1;32m   1026\u001b[0m \u001b[0;34m\u001b[0m\u001b[0m\n\u001b[1;32m   1027\u001b[0m \u001b[0;34m\u001b[0m\u001b[0m\n",
      "\u001b[0;31mOSError\u001b[0m: [Errno 2] No such file or directory"
     ]
    }
   ],
   "source": [
    "subprocess.call(['ffmpeg', '-i', 'mixed.wav', '-codec:a', 'libvorbis', '-b:a', '232k', 'remixed.ogg'])"
   ]
  },
  {
   "cell_type": "code",
   "execution_count": 28,
   "metadata": {},
   "outputs": [
    {
     "name": "stdout",
     "output_type": "stream",
     "text": [
      "which: no ffmpeg in (/home/rrs432/miniconda2/envs/bandhub/bin:/share/apps/mongodb/3.4.10/bin:/home/rrs432/miniconda2/envs/bandhub/bin:/home/rrs432/miniconda2/bin:/usr/lib64/qt-3.3/bin:/usr/local/bin:/usr/bin:/usr/local/sbin:/usr/sbin:/opt/ibutils/bin:/share/apps/local/bin:/share/apps/centos/7/bin:/opt/slurm/bin:/opt/dell/srvadmin/bin:/home/rrs432/.local/bin:/home/rrs432/bin)\r\n"
     ]
    }
   ],
   "source": [
    "!which ffmpeg"
   ]
  },
  {
   "cell_type": "code",
   "execution_count": 26,
   "metadata": {},
   "outputs": [
    {
     "name": "stdout",
     "output_type": "stream",
     "text": [
      "/usr/bin/sh: ffmpeg: command not found\r\n"
     ]
    }
   ],
   "source": [
    "!ffmpeg -i 'mixed.wav' -codec:a libvorbis -b:a 232k remixed.ogg"
   ]
  },
  {
   "cell_type": "code",
   "execution_count": 18,
   "metadata": {},
   "outputs": [
    {
     "name": "stdout",
     "output_type": "stream",
     "text": [
      "136dd451-e101-49a9-a7db-edef3f1ef098-0-0.ogg\t     gconcr\tpremix.ogg\r\n",
      "3258166c-a1ee-4f6a-9876-2d9325287a82-0.ogg\t     heyoh\tremixed.ogg\r\n",
      "578feca1-696d-4d49-bb75-15dc63bb5822-0-0_surubi.ogg  mixed.wav\r\n"
     ]
    }
   ],
   "source": [
    "!ls"
   ]
  },
  {
   "cell_type": "code",
   "execution_count": 46,
   "metadata": {},
   "outputs": [
    {
     "name": "stdout",
     "output_type": "stream",
     "text": [
      "(9143616,)\n",
      "(9140288,)\n"
     ]
    }
   ],
   "source": [
    "p, sr = sf.read('premixa.ogg')\n",
    "r, sr = sf.read('remixed.ogg')\n",
    "#pprint.pprint(np.shape(p)[1])\n",
    "if np.shape(p)[1] == 2:\n",
    "    p = p.sum(axis=1) / 2\n",
    "pprint.pprint(np.shape(p))\n",
    "pprint.pprint(np.shape(r))"
   ]
  },
  {
   "cell_type": "code",
   "execution_count": 47,
   "metadata": {},
   "outputs": [
    {
     "name": "stdout",
     "output_type": "stream",
     "text": [
      "3328\n",
      "9143616\n",
      "9143616\n"
     ]
    }
   ],
   "source": [
    "pLen = len(p)\n",
    "rLen = len(r)\n",
    "if pLen < rLen:\n",
    "    diff = np.zeros(rLen - pLen)\n",
    "    p = np.concatenate((p,diff),axis = 0)\n",
    "else:\n",
    "    diff = np.zeros(pLen - rLen)\n",
    "    r = np.concatenate((r,diff),axis = 0)\n",
    "pprint.pprint(len(diff))\n",
    "pprint.pprint(len(r))\n",
    "pprint.pprint(len(p))"
   ]
  },
  {
   "cell_type": "code",
   "execution_count": 119,
   "metadata": {},
   "outputs": [
    {
     "ename": "ValueError",
     "evalue": "operands could not be broadcast together with shapes (5734720,) (5731200,) ",
     "output_type": "error",
     "traceback": [
      "\u001b[0;31m\u001b[0m",
      "\u001b[0;31mValueError\u001b[0mTraceback (most recent call last)",
      "\u001b[0;32m<ipython-input-119-b36080143c98>\u001b[0m in \u001b[0;36m<module>\u001b[0;34m()\u001b[0m\n\u001b[0;32m----> 1\u001b[0;31m \u001b[0mdiff\u001b[0m \u001b[0;34m=\u001b[0m \u001b[0mp\u001b[0m\u001b[0;34m-\u001b[0m\u001b[0mr\u001b[0m\u001b[0;34m\u001b[0m\u001b[0m\n\u001b[0m\u001b[1;32m      2\u001b[0m \u001b[0mpprint\u001b[0m\u001b[0;34m.\u001b[0m\u001b[0mpprint\u001b[0m\u001b[0;34m(\u001b[0m\u001b[0mdiff\u001b[0m\u001b[0;34m)\u001b[0m\u001b[0;34m\u001b[0m\u001b[0m\n",
      "\u001b[0;31mValueError\u001b[0m: operands could not be broadcast together with shapes (5734720,) (5731200,) "
     ]
    }
   ],
   "source": [
    "diff = p-r\n",
    "pprint.pprint(diff)"
   ]
  },
  {
   "cell_type": "code",
   "execution_count": 53,
   "metadata": {},
   "outputs": [
    {
     "data": {
      "text/plain": [
       "True"
      ]
     },
     "execution_count": 53,
     "metadata": {},
     "output_type": "execute_result"
    }
   ],
   "source": [
    "np.allclose(p,r,atol=1e+01)"
   ]
  },
  {
   "cell_type": "code",
   "execution_count": 49,
   "metadata": {},
   "outputs": [
    {
     "name": "stdout",
     "output_type": "stream",
     "text": [
      "\u001b[0m\u001b[38;5;45m8f127b81-5d41-1b61-c028-e769fbfe85c9.ogg\u001b[0m\r\n",
      "\u001b[38;5;45md4f684e0-1989-4abd-913a-5e78edebfe32-0-0.ogg\u001b[0m\r\n",
      "\u001b[38;5;45mf-1827b0e1-9972-4c9f-bfe3-88db569ce857.ogg\u001b[0m\r\n",
      "\u001b[38;5;45mmixed.ogg\u001b[0m\r\n"
     ]
    }
   ],
   "source": [
    "ls"
   ]
  },
  {
   "cell_type": "code",
   "execution_count": null,
   "metadata": {},
   "outputs": [],
   "source": []
  },
  {
   "cell_type": "code",
   "execution_count": 5,
   "metadata": {},
   "outputs": [],
   "source": [
    "data = pd.read_hdf('BandhubDatasetCopy.h5')"
   ]
  },
  {
   "cell_type": "code",
   "execution_count": 12,
   "metadata": {},
   "outputs": [
    {
     "data": {
      "text/plain": [
       "trackId                                               54357096e18d72165e42ba85\n",
       "songId                                                542fcd68e4251e5e66ec1cb2\n",
       "masterOwner                                                             Brandx\n",
       "trackOwner                                                              Brandx\n",
       "artist                                                             Iron Maiden\n",
       "title                                                      back in the village\n",
       "views                                                                      800\n",
       "instrument                                                                 NaN\n",
       "contentTags                                                               null\n",
       "audioURL                     http://bandhubwebmedia4.blob.core.windows.net/...\n",
       "cleanProcessedAudioURL       http://bandhubwebmedia5.blob.core.windows.net/...\n",
       "processedAudioURL                                                          NaN\n",
       "startTime                                                                    0\n",
       "trackDuration                                                          305.376\n",
       "audioSampleRate                                                              0\n",
       "trackVolume                                                               0.59\n",
       "compressorValue                                                              0\n",
       "panValue                                                                 -0.62\n",
       "echoValue                                                                    0\n",
       "noiseGateValue                                                               0\n",
       "reverbValue                                                                  0\n",
       "solo                                                                     False\n",
       "trackVideo                   http://bandhubmediastream.blob.core.windows.ne...\n",
       "fromYouTube                                                              False\n",
       "isFinished                                                                True\n",
       "isPublished                                                               True\n",
       "hasPublishedTracks                                                        True\n",
       "mixedAudio                   http://bandhubwebmedia2.blob.core.windows.net/...\n",
       "mixedVideo                   http://bandhubmediastream.blob.core.windows.ne...\n",
       "musicBrainzID                                         54e84af6e4b0b9f15058dd8e\n",
       "newMusicBrainzID                                      55ad795b5a11481a90f76e70\n",
       "publicSongCollectionIndex                                                20001\n",
       "Name: 0, dtype: object"
      ]
     },
     "execution_count": 12,
     "metadata": {},
     "output_type": "execute_result"
    }
   ],
   "source": [
    "data.iloc[2]"
   ]
  },
  {
   "cell_type": "code",
   "execution_count": null,
   "metadata": {},
   "outputs": [],
   "source": [
    "path = '/home/rrs432/'\n",
    "#os.mkdir(path)\n",
    "os.chdir(path)"
   ]
  }
 ],
 "metadata": {
  "kernelspec": {
   "display_name": "Python 2",
   "language": "python",
   "name": "python2"
  },
  "language_info": {
   "codemirror_mode": {
    "name": "ipython",
    "version": 2
   },
   "file_extension": ".py",
   "mimetype": "text/x-python",
   "name": "python",
   "nbconvert_exporter": "python",
   "pygments_lexer": "ipython2",
   "version": "2.7.14"
  }
 },
 "nbformat": 4,
 "nbformat_minor": 2
}
