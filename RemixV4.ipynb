{
 "cells": [
  {
   "cell_type": "markdown",
   "metadata": {},
   "source": [
    "# Introduction\n",
    "## Objectives\n",
    "1. The primary objective of this program is to determine whether the mixed audio can be accurately recreated using the mixing coefficients provided in the song collection of the BandHub dataset. If this is the case, the mixed audio need not be stored and can be recreated as and when required, thereby saving us significant space on the file server.\n",
    "\n",
    "2. In a handful of cases, the same mix has two mixing coefficients. One in the settings dictionary, and the other in the audioChannels list, which is within the settings dictionary. Most times these are just approximation errors. However, in some cases the differences are significant. Therefore, the secondary objective is to clarify which of these multiple mixing coefficients is more accurate.\n",
    "\n",
    "## Code Organization\n",
    "1. Imports\n",
    "2. Connect to mongoDB client\n",
    "3. Get all collections: Songs, Videos, Tracks, and Posts\n",
    "4. Function definitions\n",
    " * All functions have been elaborated on in the markdown cells above them.\n",
    "5. Main script\n",
    " * This script calls all the functions as and when required to accomplish both objectives."
   ]
  },
  {
   "cell_type": "markdown",
   "metadata": {},
   "source": [
    "### 1. Imports"
   ]
  },
  {
   "cell_type": "code",
   "execution_count": 10,
   "metadata": {},
   "outputs": [],
   "source": [
    "import pymongo\n",
    "import pandas as pd\n",
    "import numpy as np\n",
    "np.set_printoptions(threshold='nan')\n",
    "from numpy.linalg import inv\n",
    "from scipy import signal\n",
    "from scipy.io import wavfile\n",
    "import soundfile as sf\n",
    "import matplotlib.pyplot as plt\n",
    "%matplotlib inline\n",
    "from bson.objectid import ObjectId\n",
    "import json\n",
    "import pprint\n",
    "from pydub import AudioSegment\n",
    "import urllib\n",
    "import fnmatch\n",
    "import os\n",
    "import requests\n",
    "import ffmpy\n",
    "import subprocess\n",
    "import librosa\n",
    "import librosa.display\n",
    "import time\n",
    "from IPython.display import Image"
   ]
  },
  {
   "cell_type": "markdown",
   "metadata": {},
   "source": [
    "### 2. Connect to mongoDB client"
   ]
  },
  {
   "cell_type": "code",
   "execution_count": 2,
   "metadata": {},
   "outputs": [],
   "source": [
    "client = pymongo.MongoClient('localhost',27017)\n",
    "#client = pymongo.MongoClient('localhost',32768)\n",
    "db = client.get_database('b=bandhub')"
   ]
  },
  {
   "cell_type": "markdown",
   "metadata": {},
   "source": [
    "### 3. Get all collections: Songs, Videos, Tracks, and Posts"
   ]
  },
  {
   "cell_type": "code",
   "execution_count": 3,
   "metadata": {},
   "outputs": [
    {
     "data": {
      "text/plain": [
       "[425706, 198169, 915582, 494867]"
      ]
     },
     "execution_count": 3,
     "metadata": {},
     "output_type": "execute_result"
    }
   ],
   "source": [
    "songCol = db.get_collection('songsStream')\n",
    "vidCol = db.get_collection('mergedVideos')\n",
    "trackCol = db.get_collection('tracksStream')\n",
    "postCol = db.get_collection('posts')\n",
    "[songCol.count(), vidCol.count(), trackCol.count(), postCol.count()]"
   ]
  },
  {
   "cell_type": "markdown",
   "metadata": {},
   "source": [
    "### 4. Function definitions"
   ]
  },
  {
   "cell_type": "markdown",
   "metadata": {},
   "source": [
    "From this dataset, we are only concerned with tracks that have \"public\" access. This is denoted by the variable \"songAccess\", which and is set to 1 for public tracks.<br>\n",
    "Conversely, many mixes have a lot of unused public tracks. The tracks that actually make the final mix are titled \"published\" tracks. Information about the published tracks in a mix are available only in the post collection, and so this function queries the post collection to return the relevant documents.<br>\n",
    "To summarize, this generator returns the documents in the post collection that have a user-specified number (num_track) of published tracks. For our evaluation purposes, we have restricted num_track to be greater than 2."
   ]
  },
  {
   "cell_type": "code",
   "execution_count": 4,
   "metadata": {},
   "outputs": [],
   "source": [
    "def get_published_tracks(num_track):\n",
    "    \"\"\" This generator function returns all post documents with \"num_track\" published tracks, where num_track > 2.\n",
    "    ----------\n",
    "    Arguments:\n",
    "        num_track: Number of public, published tracks per mix\n",
    "\n",
    "    Returns:\n",
    "        docs: All documents from the post collection that satisfy the aforementioned condition\n",
    "    \"\"\"\n",
    "    \n",
    "    pub_tracks = postCol.find({'songAccess':{'$exists': True}}, {'participantsInfo':1 ,'songAccess':1, 'objectId':1})\n",
    "    for docs in pub_tracks:\n",
    "        if(docs['songAccess'] == 1):\n",
    "            if(len(docs['participantsInfo']['publishedTracks']) == num_track):\n",
    "                yield docs"
   ]
  },
  {
   "cell_type": "markdown",
   "metadata": {},
   "source": []
  },
  {
   "cell_type": "code",
   "execution_count": 5,
   "metadata": {},
   "outputs": [],
   "source": [
    "def get_processed_audio_ids(num_track):\n",
    "    \"\"\" This function computes a list of the post IDs & master song IDs of those mixes generated by the\n",
    "    get_published_tracks function that contain multiple mixing coefficients associated with the same mix.\n",
    "    ----------\n",
    "    Arguments:\n",
    "        num_track: Number of public, published tracks per mix\n",
    "\n",
    "    Returns:\n",
    "        pub_songs: A list of tuples containing relevant post & track IDs\n",
    "    \"\"\"\n",
    "    \n",
    "    pub_docs = [x for x in get_published_tracks(num_track)]\n",
    "    count_mixes = len(pub_docs)\n",
    "    print(\"Number of mixes with \" + str(num_track) + \" published tracks: \" + str(count_mixes))\n",
    "    missing_song_id = []\n",
    "    missing_pubtrack = []\n",
    "    index_required = []\n",
    "    pub_songs = []\n",
    "    for j in range(count_mixes):\n",
    "        pub_tracks = []\n",
    "        post_id = pub_docs[j]['_id']\n",
    "        song_id = pub_docs[j]['objectId']\n",
    "        \n",
    "        song_look_up = songCol.find({'masterSongId' : song_id})\n",
    "        \n",
    "        for i in range(num_track):\n",
    "            pub_tracks.append(pub_docs[j]['participantsInfo']['publishedTracks'][i]['_id'])\n",
    "                                \n",
    "        if song_look_up is -1:\n",
    "            missing_song_id.append(song_id)\n",
    "            pprint.pprint('Error: SongID not found in Song Collection!')\n",
    "        else:\n",
    "            for song_docs in song_look_up:\n",
    "                count_pub_track = 0\n",
    "                for i in range(len(pub_tracks)):\n",
    "                    if(str(pub_tracks[i]) not in song_docs['settings']):\n",
    "                        missing_pubtrack.append(pub_tracks[i])   \n",
    "                        break\n",
    "                    else:\n",
    "                        count_pub_track+=1\n",
    "                if count_pub_track == num_track:\n",
    "                    pub_songs.append((post_id,song_id))\n",
    "\n",
    "    return pub_songs"
   ]
  },
  {
   "cell_type": "markdown",
   "metadata": {},
   "source": [
    "This function aids in achieving the objective of identifying the mixes that contain multiple mixing coefficients, to identify which of those coefficients are better to recreate the mix. First, it sifts through all the documents returned from the get_published_tracks function. Then, it checks and keeps a track of any mixes that have missing published track information. If all the information is present, it then checks for mixes that have multiple volume fields. If such mixes are found, it rounds the track volumes associated with each of its constituent published tracks up to 2 decimal places to circumvent the approximation problem (e.g., volumes 0.987221 and 0.99 should not be considered different). The two volumes of each of these tracks are then compared, and if they are different, the post ID and the song ID of the mix are appended to a list and returned."
   ]
  },
  {
   "cell_type": "code",
   "execution_count": 6,
   "metadata": {},
   "outputs": [],
   "source": [
    "def get_processed_audio_ids_multiple_volumes(num_track):\n",
    "    \"\"\" This function computes a list of the post IDs & master song IDs of those mixes generated by the\n",
    "    get_published_tracks function that contain multiple mixing coefficients associated with the same mix.\n",
    "    ----------\n",
    "    Arguments:\n",
    "        num_track: Number of public, published tracks per mix\n",
    "\n",
    "    Returns:\n",
    "        pub_songs: A list of tuples containing relevant post & track IDs\n",
    "    \"\"\"\n",
    "    \n",
    "    pub_docs = [x for x in get_published_tracks(num_track)]\n",
    "    count_mixes = len(pub_docs)\n",
    "    print(\"Number of mixes with \" + str(num_track) + \" published tracks: \" + str(count_mixes))\n",
    "    missing_song_id = []\n",
    "    missing_pubtrack = []\n",
    "    index_required = []\n",
    "    pub_songs = []\n",
    "    for j in range(count_mixes):\n",
    "        pub_tracks = []\n",
    "        post_id = pub_docs[j]['_id']\n",
    "        song_id = pub_docs[j]['objectId']\n",
    "        \n",
    "        song_look_up = songCol.find({'masterSongId' : song_id})\n",
    "        \n",
    "        for i in range(num_track):\n",
    "            pub_tracks.append(pub_docs[j]['participantsInfo']['publishedTracks'][i]['_id'])\n",
    "                                \n",
    "        if song_look_up is -1:\n",
    "            missing_song_id.append(song_id)\n",
    "            pprint.pprint('Error: SongID not found in Song Collection!')\n",
    "        else:\n",
    "            for song_docs in song_look_up:\n",
    "                for i in range(len(pub_tracks)):\n",
    "                    if(str(pub_tracks[i]) not in song_docs['settings']):\n",
    "                        missing_pubtrack.append(pub_tracks[i])   \n",
    "                        break\n",
    "                    else:\n",
    "                        if ('volume' in song_docs['settings'][str(pub_tracks[i])]['audioChannels'][0] and 'volume' in song_docs['settings'][str(pub_tracks[i])]):\n",
    "                            if (round(song_docs['settings'][str(pub_tracks[i])]['audioChannels'][0]['volume'],2) != round(song_docs['settings'][str(pub_tracks[i])]['volume'],2)):\n",
    "                                index_required.append(j)\n",
    "                                pub_songs.append((post_id,song_id))\n",
    "                                break\n",
    "                            else:\n",
    "                                continue\n",
    "                        else:\n",
    "                            #print('Mixing coefficient missing')\n",
    "                            break\n",
    "\n",
    "    return pub_songs"
   ]
  },
  {
   "cell_type": "markdown",
   "metadata": {},
   "source": [
    "The file URLs in the dataset are of the following format:<br>\n",
    "http://bandhubwebmedia1.blob.core.windows.net/files/520c0d243262aac9f04d4351-520c0d8753294aac9f04d4353.ogg<br>\n",
    "We can see that the filename is present in this string after the last separator (/). This function strips the file name from the given file URL and returns it."
   ]
  },
  {
   "cell_type": "code",
   "execution_count": 7,
   "metadata": {},
   "outputs": [],
   "source": [
    "def get_filename(file):\n",
    "    \"\"\" This function strips the filename along with the file extension from the file URL.\n",
    "    ----------\n",
    "    Arguments:\n",
    "        file: file URL\n",
    "\n",
    "    Returns:\n",
    "        filepath: file path\n",
    "    \"\"\"\n",
    "    \n",
    "    filePath = file.split('/')\n",
    "    return filePath[- 1]"
   ]
  },
  {
   "cell_type": "markdown",
   "metadata": {},
   "source": [
    "The mixing coefficients necessary to recreate a mix are the following:\n",
    "* pub_t_vol: Track volume in the settings dictionary\n",
    "* pub_t_vol_ch: Track volume in the audioChannels list, nestled inside the settings dictionary\n",
    "* ogg_paths: File paths of the tracks on the server.\n",
    "* start_times: Track start times<br>\n",
    "Given a song ID and post ID unique to a mix, this function queries the corresponding collections and extracts the above information for every published track in the mix.<br>\n",
    "The track volumes are all rounded to 2 decimal places. The file URL is fetched from the effectsAudioURL field, which provides processed tracks (i.e., tracks with effects and processing). If not found, it is fetched from the fileURL field, which provides the raw track file.<br>\n",
    "The start times for each track are queried from the track collection."
   ]
  },
  {
   "cell_type": "code",
   "execution_count": 8,
   "metadata": {},
   "outputs": [],
   "source": [
    "def get_mixing_coeff(num_track, song_id, post_id):\n",
    "    \"\"\" This function gathers all mixing coefficients necessary to remix a song using its constituent\n",
    "    published tracks.\n",
    "    ----------\n",
    "    Arguments:\n",
    "        num_track: Number of public, published tracks per mix\n",
    "        song_id: Song ID\n",
    "        post_id: Post ID\n",
    "\n",
    "    Returns:\n",
    "        pub_t_vol: Published track volumes from the settings field in the song collection\n",
    "        pub_t_vol_ch: Published track volumes from the audioChannels field within settings in the song collection\n",
    "        ogg_paths: Processed (if available) or unprocessed file URLs of each published track\n",
    "        start_times: Start times of each published track\n",
    "    \"\"\"\n",
    "    \n",
    "    pub_t_vol = []\n",
    "    pub_t_vol_ch = []\n",
    "    ogg_paths = []\n",
    "    start_times = []\n",
    "    track_filenames = []\n",
    "    pub_tracks = []\n",
    "\n",
    "    song_doc = songCol.find({'masterSongId' : song_id})\n",
    "    post_doc = postCol.find({'_id' : post_id})\n",
    "    \n",
    "    for docs in post_doc:\n",
    "        for i in range(num_track):\n",
    "            pub_tracks.append(docs['participantsInfo']['publishedTracks'][i]['_id'])\n",
    "    \n",
    "    for docs in song_doc:    \n",
    "        for i in range(len(pub_tracks)):\n",
    "            if(str(pub_tracks[i]) in docs['settings']):\n",
    "                pub_t_vol.append(round(docs['settings'][str(pub_tracks[i])]['volume'],2))\n",
    "                if ('volume' in docs['settings'][str(pub_tracks[i])]['audioChannels'][0]):\n",
    "                    pub_t_vol_ch.append(round(docs['settings'][str(pub_tracks[i])]['audioChannels'][0]['volume'],2))\n",
    "                else:\n",
    "                    pub_t_vol_ch.append(round(docs['settings'][str(pub_tracks[i])]['volume'],2))\n",
    "            \n",
    "                gettrack = trackCol.find({'_id' : pub_tracks[i]})\n",
    "                for tdocs in gettrack:\n",
    "                    start_times.append(tdocs['startTimeValue'])\n",
    "                    if('effectsAudioUrl' in docs['settings'][str(pub_tracks[i])]):\n",
    "                        ogg_paths.append(docs['settings'][str(pub_tracks[i])]['effectsAudioUrl'])\n",
    "                    else:\n",
    "                        ogg_paths.append(tdocs['audioChannels'][0]['fileUrl'])\n",
    "            else:\n",
    "                print('Missing published track!')\n",
    "        \n",
    "    return pub_t_vol, pub_t_vol_ch, ogg_paths, start_times"
   ]
  },
  {
   "cell_type": "markdown",
   "metadata": {},
   "source": [
    "This function changes the default working directory to a user-specified folder in the user's scratch directory."
   ]
  },
  {
   "cell_type": "code",
   "execution_count": 9,
   "metadata": {},
   "outputs": [],
   "source": [
    "def set_path():\n",
    "    \"\"\" This function sets the default download path to a subfolder within the user's scratch folder.\n",
    "    \"\"\"\n",
    "\n",
    "    path = '/scratch/rrs432/tracks'\n",
    "    os.chdir(path)"
   ]
  },
  {
   "cell_type": "markdown",
   "metadata": {},
   "source": [
    "Given the file's path on the server, this function downloads the file (as is) onto the local working directory. "
   ]
  },
  {
   "cell_type": "code",
   "execution_count": 10,
   "metadata": {},
   "outputs": [],
   "source": [
    "def download_track(ogg_path):\n",
    "    \"\"\" This function downloads the track using its filepath to the default download folder.\n",
    "    ----------\n",
    "    Arguments:\n",
    "        ogg_path: file path\n",
    "    \"\"\"    \n",
    "    set_path()\n",
    "\n",
    "    r = requests.get(ogg_path)\n",
    "    filename = get_filename(ogg_path)\n",
    "    with open(filename, 'wb') as fd:\n",
    "        for chunk in r.iter_content(chunk_size=128):\n",
    "            fd.write(chunk)"
   ]
  },
  {
   "cell_type": "markdown",
   "metadata": {},
   "source": [
    "This function clears all previously downloaded songs/tracks in the current working directory."
   ]
  },
  {
   "cell_type": "code",
   "execution_count": 11,
   "metadata": {},
   "outputs": [],
   "source": [
    "def clear_downloads():\n",
    "    \"\"\" This function clears all previously downloaded songs/tracks in default download folder.\n",
    "    \"\"\"\n",
    "    ! rm -rf *.ogg *.wav"
   ]
  },
  {
   "cell_type": "markdown",
   "metadata": {},
   "source": [
    "To recreate a mix, we first multiply the track volume (which is normalized between 0 and 1) to the track data and sum these tracks and re-normalize the sum. However, this works only if all tracks start at the same time and are of the same length. Many tracks are of instruments that are not playing throughout the song. These tracks may have non-zero start times and are often much shorter than the song.<br>\n",
    "This function zero pads such tracks, both from 0 to its start time (if applicable) as well as at the end, such that all tracks are of identical length, which is the length of the longest track. Moreover, this function also convert all mono tracks to stereo."
   ]
  },
  {
   "cell_type": "code",
   "execution_count": 12,
   "metadata": {},
   "outputs": [],
   "source": [
    "def match_track_lengths(num_track,track_filenames,start_times):\n",
    "    \"\"\" This function matches the track durations by zero padding the shorter tracks as well as converts all\n",
    "    mono tracks to stereo.\n",
    "    ----------\n",
    "    Arguments:\n",
    "        num_track: Number of public, published tracks per mix\n",
    "        track_filenames: Filenames of tracks\n",
    "        start_times: Start times of tracks\n",
    "\n",
    "    Returns:\n",
    "        ogg_tracks: Length-matched, downloaded, stereo tracks\n",
    "        mixsr: Sampling rate of the tracks (Hz) \n",
    "    \"\"\"\n",
    "    \n",
    "    ogg_tracks = []\n",
    "    track_lens = []\n",
    "    sam_rate = []\n",
    "    for i in range(num_track):\n",
    "        track, fs = sf.read('/scratch/rrs432/tracks/'+track_filenames[i])\n",
    "        sam_rate.append(fs)\n",
    "        \n",
    "        #Convert mono to stereo\n",
    "        if track.ndim is not 2:\n",
    "            track = np.stack((track, track), axis = 1)\n",
    "        ogg_tracks.append(track)\n",
    "\n",
    "    if (min(sam_rate) == max(sam_rate)):\n",
    "        mixsr = sam_rate[0]\n",
    "    else:\n",
    "        mixsr = -1\n",
    "        pprint.pprint('Warning: Sample rates unequal')\n",
    "    \n",
    "    \n",
    "    for i in range(num_track):\n",
    "        if start_times[i] is not 0:\n",
    "            prepad = np.zeros(((start_times[i]-1),2))\n",
    "            ogg_tracks[i] = np.vstack((prepad, ogg_tracks[i]))\n",
    "        track_lens.append(len(ogg_tracks[i]))\n",
    "        \n",
    "    max_track_len = max(track_lens)\n",
    "    \n",
    "    for i in range(num_track):\n",
    "        postpad = np.zeros(((max_track_len - track_lens[i]),2))\n",
    "        ogg_tracks[i] = np.vstack((ogg_tracks[i], postpad))\n",
    "        pprint.pprint(np.shape(ogg_tracks[i]))\n",
    "    \n",
    "    return ogg_tracks, mixsr"
   ]
  },
  {
   "cell_type": "markdown",
   "metadata": {},
   "source": [
    "This function equates the mix durations by zero padding the shorter mix. Mix durations have to match so that their differences can be computed, which is later use in analysis tools like difference spectrograms and RMSE calculations."
   ]
  },
  {
   "cell_type": "code",
   "execution_count": 13,
   "metadata": {},
   "outputs": [],
   "source": [
    "def match_mix_lengths(mix1,mix2):\n",
    "    \"\"\" This function matches the mix durations by zero padding the shorter mix.\n",
    "    ----------\n",
    "    Arguments:\n",
    "        mix1: mix1\n",
    "        mix2: mix2\n",
    "\n",
    "    Returns:\n",
    "        mix1: Length-matched mix1\n",
    "        mix2: Length-matched mix2 \n",
    "    \"\"\"\n",
    "    if len(mix1) > len(mix2):\n",
    "        diff_mix_len = np.zeros(((len(mix1)-len(mix2)),2))\n",
    "        mix2 = np.vstack((mix2, diff_mix_len))\n",
    "    else:\n",
    "        diff_mix_len = np.zeros(((len(mix2)-len(mix1)),2))\n",
    "        mix1 = np.vstack((mix1, diff_mix_len))\n",
    "    return mix1, mix2"
   ]
  },
  {
   "cell_type": "markdown",
   "metadata": {},
   "source": [
    "This function computes the estimated mix by multiplying the track volumes with their corresponding track data and summing the results.<br>\n",
    "**Note:** In this notebook, the term *estimated mix* refers to the mix that we manually compute using the given mixing coefficients. Whereas, *bandhub_mix* refers to the mix provided by Bandhub which is coupled with the mixed video."
   ]
  },
  {
   "cell_type": "code",
   "execution_count": 14,
   "metadata": {},
   "outputs": [],
   "source": [
    "def compute_estimated_mix(num_track, vol, tracks, fs):\n",
    "    \"\"\" This function computes the estimated mix using relevant mixing coefficients.\n",
    "    ----------\n",
    "    Arguments:\n",
    "        num_track: Number of public, published tracks per mix\n",
    "        vol: Track volume\n",
    "        tracks: Track files\n",
    "        fs: Sampling rate (Hz)\n",
    "\n",
    "    Returns:\n",
    "        mix_ogg: Estimated mix file\n",
    "    \"\"\"    \n",
    "    mix_ogg = 0\n",
    "    for i in range(num_track):\n",
    "        mix_ogg += (vol[i]*np.array(tracks[i]))\n",
    "    return mix_ogg"
   ]
  },
  {
   "cell_type": "markdown",
   "metadata": {},
   "source": [
    "In most cases, the Bandhub mix is not available in the dataset as an audio file. It instead has to be stripped from the mixed video file. This process introduces a slight offset in the audio file (approximately 1024 samples).\n",
    "This function computes this offset using numpy's correlation function. The offset amount is determined by finding the time (in samples) at which the peak occurs in the correlation plot. Once accurately determined, this offset is then corrected.<br>\n",
    "Then, these corrected files are written out into the current working directory. Since all further analysis is performed using librosa, it is read back in using librosa's load function, which represents the audio files as floating point time series. "
   ]
  },
  {
   "cell_type": "code",
   "execution_count": 15,
   "metadata": {},
   "outputs": [],
   "source": [
    "def compute_offset_and_shift(estimated_mix, bandhub_mix, mixsr):\n",
    "    \"\"\" This function corrects the offset introduced into the bandhub mix by the audio stripping process.\n",
    "    ----------\n",
    "    Arguments:\n",
    "        estimated_mix: This is the remix computed using the provided mixing coefficients.\n",
    "        bandhub_mix: This is the mix provided to us by Bandhub. \n",
    "\n",
    "    Returns:\n",
    "        estimated_mix_spec: The estimated mix as a floating point time series.\n",
    "        bandhub_mix_spec: The bandhub mix as a floating point time series.\n",
    "    \"\"\"    \n",
    "    flag = 0\n",
    "    if(len(estimated_mix) < len(bandhub_mix)):\n",
    "        flag = -1\n",
    "    estimated_mix, bandhub_mix = match_mix_lengths(estimated_mix, bandhub_mix)\n",
    "    correlation = np.correlate(bandhub_mix[:mixsr,1], estimated_mix[:mixsr,1], 'full')\n",
    "    #plt.plot(correlation)\n",
    "    \n",
    "    offset = np.argmax(correlation, axis=None)\n",
    "    offset = (2*mixsr - 1)/2 - offset\n",
    "    if offset is not 0:\n",
    "        if flag is -1:\n",
    "            estimated_mix = np.roll(estimated_mix, -offset)\n",
    "        else:\n",
    "            bandhub_mix = np.roll(bandhub_mix, -offset)\n",
    "\n",
    "    sf.write('estimix.wav', estimated_mix, mixsr)\n",
    "    sf.write('bandmix.wav', bandhub_mix, mixsr)\n",
    "    \n",
    "    estimated_mix_spec, sr = librosa.load('estimix.wav', sr=mixsr)\n",
    "    bandhub_mix_spec, sr = librosa.load('bandmix.wav', sr=mixsr)\n",
    "    \n",
    "    print(np.shape(bandhub_mix_spec))\n",
    "    print(np.shape(estimated_mix_spec))\n",
    "    \n",
    "    return estimated_mix_spec,bandhub_mix_spec"
   ]
  },
  {
   "cell_type": "markdown",
   "metadata": {},
   "source": [
    "This function plots the difference spectrograms between bandhub's mix and the estimated mix.<br>\n",
    "The input arguments are the return values of librosa.load executed on bandhub's mix and the estimated mix. This information is first converted in the dB scale because we are interested in plotting dB-scaled difference spectrograms. After the conversion, the results are simply subtracted from each other and plotted. This function returns the root mean square error between the two mixes."
   ]
  },
  {
   "cell_type": "code",
   "execution_count": 16,
   "metadata": {},
   "outputs": [],
   "source": [
    "def plot_diff_spectrogram(estimated_mix_spec,bandhub_mix_spec): \n",
    "    \"\"\" This function plots difference spectograms between bandhub's mix and the estimated mix.\n",
    "    ----------\n",
    "    Arguments:\n",
    "        estimated_mix_spec: The estimated mix as a floating point time series.\n",
    "        bandhub_mix_spec: The bandhub mix as a floating point time series. \n",
    "\n",
    "    Returns:\n",
    "        rmse: The root mean square error between the estimated and bandhub mixes.\n",
    "    \"\"\"  \n",
    "    bandhub_mix_data = librosa.amplitude_to_db(librosa.stft(bandhub_mix_spec), ref=np.max)\n",
    "    estimated_mix_data = librosa.amplitude_to_db(librosa.stft(estimated_mix_spec), ref=np.max)\n",
    "    diff_mix_data = abs(np.subtract(bandhub_mix_data,estimated_mix_data))\n",
    "    rmse = round(np.mean((diff_mix_data)**2),2)\n",
    "    \n",
    "    plt.figure(figsize=(12, 3))\n",
    "    librosa.display.specshow(diff_mix_data, y_axis='linear')\n",
    "    plt.colorbar(format='%+2.0f dB')\n",
    "    plt.title('Diff Spectrogram')\n",
    "    \n",
    "    return rmse"
   ]
  },
  {
   "cell_type": "markdown",
   "metadata": {},
   "source": [
    "### 5. Main script"
   ]
  },
  {
   "cell_type": "markdown",
   "metadata": {},
   "source": [
    "In this section, the above-defined functions are called in the order required to achieve the following objectives:\n",
    " * Determine if the mixed audio can be recreated using its constituent published tracks (available in the post collection) and the mixing coefficients provided in the song collection (track volumes, start times).\n",
    " * In cases where there are multiple mixing coefficients listed for a mix, we have to determine which of them id better to recreate the mix provided by Bandhub. \n",
    " ***"
   ]
  },
  {
   "cell_type": "markdown",
   "metadata": {},
   "source": [
    "Set the current working directory to a user-specified folder in the user's scratch folder and clear all previous downloads."
   ]
  },
  {
   "cell_type": "code",
   "execution_count": 17,
   "metadata": {},
   "outputs": [],
   "source": [
    "set_path()\n",
    "clear_downloads()"
   ]
  },
  {
   "cell_type": "markdown",
   "metadata": {},
   "source": [
    "The bandhub dataset has several mixes, each with a different number of published tracks. The variable 'num_pub_track' specifies the number of published tracks in a mix, and it is used to gather all mixes with a fixed number of published tracks. This variable is titled 'num_track' in the function definitions and is the commonly used argument in the functions."
   ]
  },
  {
   "cell_type": "code",
   "execution_count": 18,
   "metadata": {},
   "outputs": [],
   "source": [
    "num_pub_track = 6"
   ]
  },
  {
   "cell_type": "markdown",
   "metadata": {},
   "source": [
    "Here we gather all the mixes that have the fixed number of published tracks (num_pub_track) defined above. They are stored in the variable titled 'proc_id' (which stands for processed ids). 'proc_id' is a list of mixes that have 'num_pub_track' published tracks, and each of these mixes is identified by a tuple comprising its post ID and song ID."
   ]
  },
  {
   "cell_type": "code",
   "execution_count": null,
   "metadata": {},
   "outputs": [
    {
     "name": "stdout",
     "output_type": "stream",
     "text": [
      "Number of mixes with 6 published tracks: 3165\n"
     ]
    }
   ],
   "source": [
    "proc_id = get_processed_audio_ids(num_pub_track)\n",
    "pprint.pprint(proc_id)"
   ]
  },
  {
   "cell_type": "markdown",
   "metadata": {},
   "source": [
    "Given a fixed number of published tracks, here we gather all the mixes that have multiple mixing coefficients. They are stored in the variable titled 'proc_id' (which stands for processed ids). 'proc_id' is a list of mixes that have multiple mixing coefficients, and each of these mixes is identified by a tuple comprising its post ID and song ID. "
   ]
  },
  {
   "cell_type": "code",
   "execution_count": 18,
   "metadata": {},
   "outputs": [
    {
     "name": "stdout",
     "output_type": "stream",
     "text": [
      "Number of mixes with 5 published tracks: 3136\n",
      "[(ObjectId('546f05dd4e5d9e60267e62d0'), ObjectId('52cf18e24988d5450e00000a'))]\n"
     ]
    }
   ],
   "source": [
    "proc_id = get_processed_audio_ids_multiple_volumes(num_pub_track)\n",
    "pprint.pprint(proc_id)"
   ]
  },
  {
   "cell_type": "markdown",
   "metadata": {},
   "source": [
    "Each mix is individually parsed and the tuple is deconstructed and stored as separate variables titled 'post_id' and 'song_id'. These variables are then used to call the 'get_mixing_coeff' function, which returns all the data required to compute the estimated mix. We store each mixing coefficient in separate variables.<br>\n",
    "The variable 'ogg_paths' stores the URL of where the files are stored on the Bandhub server. We used this variable to extract the file names of each of the constituent published tracks.<br>\n",
    "Finally, we used the song ID to fetch the video URL and download it to the current working directory. Later, we use this file to extract the mixed audio, which we refer to as *bandhub_mix*.<br>\n",
    "At this point, for a given mix, we have all the published tracks and the mixed video saved locally. We also have the mixing coefficients required to compute the estimated mix."
   ]
  },
  {
   "cell_type": "code",
   "execution_count": 19,
   "metadata": {},
   "outputs": [
    {
     "ename": "NameError",
     "evalue": "name 'proc_id' is not defined",
     "output_type": "error",
     "traceback": [
      "\u001b[0;31m\u001b[0m",
      "\u001b[0;31mNameError\u001b[0mTraceback (most recent call last)",
      "\u001b[0;32m<ipython-input-19-b11c0f234be0>\u001b[0m in \u001b[0;36m<module>\u001b[0;34m()\u001b[0m\n\u001b[0;32m----> 1\u001b[0;31m \u001b[0mpost_id\u001b[0m \u001b[0;34m=\u001b[0m \u001b[0mproc_id\u001b[0m\u001b[0;34m[\u001b[0m\u001b[0;36m5\u001b[0m\u001b[0;34m]\u001b[0m\u001b[0;34m[\u001b[0m\u001b[0;36m0\u001b[0m\u001b[0;34m]\u001b[0m\u001b[0;34m\u001b[0m\u001b[0m\n\u001b[0m\u001b[1;32m      2\u001b[0m \u001b[0msong_id\u001b[0m \u001b[0;34m=\u001b[0m \u001b[0mproc_id\u001b[0m\u001b[0;34m[\u001b[0m\u001b[0;36m5\u001b[0m\u001b[0;34m]\u001b[0m\u001b[0;34m[\u001b[0m\u001b[0;36m1\u001b[0m\u001b[0;34m]\u001b[0m\u001b[0;34m\u001b[0m\u001b[0m\n\u001b[1;32m      3\u001b[0m \u001b[0;34m\u001b[0m\u001b[0m\n\u001b[1;32m      4\u001b[0m \u001b[0mvolume_settings\u001b[0m\u001b[0;34m,\u001b[0m \u001b[0mvolume_channels\u001b[0m\u001b[0;34m,\u001b[0m \u001b[0mogg_paths\u001b[0m\u001b[0;34m,\u001b[0m \u001b[0mstart_times\u001b[0m \u001b[0;34m=\u001b[0m \u001b[0mget_mixing_coeff\u001b[0m\u001b[0;34m(\u001b[0m\u001b[0mnum_pub_track\u001b[0m\u001b[0;34m,\u001b[0m \u001b[0msong_id\u001b[0m\u001b[0;34m,\u001b[0m \u001b[0mpost_id\u001b[0m\u001b[0;34m)\u001b[0m\u001b[0;34m\u001b[0m\u001b[0m\n\u001b[1;32m      5\u001b[0m \u001b[0;34m\u001b[0m\u001b[0m\n",
      "\u001b[0;31mNameError\u001b[0m: name 'proc_id' is not defined"
     ]
    }
   ],
   "source": [
    "post_id = proc_id[5][0]\n",
    "song_id = proc_id[5][1]\n",
    "\n",
    "volume_settings, volume_channels, ogg_paths, start_times = get_mixing_coeff(num_pub_track, song_id, post_id)\n",
    "\n",
    "print(volume_settings)\n",
    "print(volume_channels)\n",
    "print('============')\n",
    "print(start_times)\n",
    "print('============')\n",
    "\n",
    "track_filenames = []\n",
    "\n",
    "for i in range(num_pub_track):\n",
    "    download_track(ogg_paths[i])\n",
    "    track_filenames.append(get_filename(ogg_paths[i]))\n",
    "    \n",
    "pointer = vidCol.find({'songId': song_id})\n",
    "for songdocs in pointer:\n",
    "    bandhub_mix = songdocs['oggMergedVideoUrl']\n",
    "\n",
    "download_track(bandhub_mix)\n",
    "\n",
    "print('Downloads complete')\n",
    "print('============')\n",
    "!ls\n",
    "print('============')"
   ]
  },
  {
   "cell_type": "markdown",
   "metadata": {},
   "source": [
    "Now that we have all the data and the required mixing coefficients, we can compute both the estimated mixes (one using the track volumes found in the settings dictionary, and the other using those found in the audioChannels list nested within the settings field). However, we must first ensure that all the tracks are of equal duration. So we call the match_track_lengths function, then compute the estimated mixes, and finally write those out as wav files to the current working directory.\n",
    "Next, we strip the audio from the mixed video download earlier and write that out as well. This step, however, introduces a slight offset in the mixed audio.\n",
    "With the completion of this step, we have all the audio files required to analyze and compare the performance of the mixing coefficients."
   ]
  },
  {
   "cell_type": "code",
   "execution_count": 112,
   "metadata": {
    "scrolled": true
   },
   "outputs": [
    {
     "name": "stdout",
     "output_type": "stream",
     "text": [
      "(10144768, 2)\n",
      "(10144768, 2)\n",
      "(10144768, 2)\n",
      "(10144768, 2)\n",
      "(10144768, 2)\n"
     ]
    }
   ],
   "source": [
    "ogg_tracks, mixsr = match_track_lengths(num_pub_track,track_filenames,start_times)\n",
    "if mixsr is -1:\n",
    "    clear_downloads()"
   ]
  },
  {
   "cell_type": "code",
   "execution_count": 113,
   "metadata": {},
   "outputs": [],
   "source": [
    "mix_ogg = compute_estimated_mix(num_pub_track, volume_settings, ogg_tracks, mixsr)\n",
    "sf.write('mixed.wav', mix_ogg / np.max(np.abs(mix_ogg)), mixsr)"
   ]
  },
  {
   "cell_type": "code",
   "execution_count": 118,
   "metadata": {},
   "outputs": [],
   "source": [
    "mix_ogg_ch = compute_estimated_mix(num_pub_track, volume_channels, ogg_tracks, mixsr)\n",
    "sf.write('mixed_ch.wav', mix_ogg_ch / np.max(np.abs(mix_ogg_ch)), mixsr)"
   ]
  },
  {
   "cell_type": "code",
   "execution_count": 114,
   "metadata": {},
   "outputs": [
    {
     "name": "stdout",
     "output_type": "stream",
     "text": [
      "Rename success!\n",
      "ERROR: Audio strip failed!\n"
     ]
    }
   ],
   "source": [
    "for premix in os.listdir('.'):\n",
    "    if fnmatch.fnmatch(premix, 'f-*'):\n",
    "        rename_cmd = ['mv', premix, 'premix.ogg']\n",
    "        sr = subprocess.call(rename_cmd)\n",
    "        if sr is 0:\n",
    "            print('Rename success!')\n",
    "            convert_cmd = ['ffmpeg', '-i', 'premix.ogg', '-vsync', '1', '-async', '1', '-vn', 'premix.wav']\n",
    "            sc = subprocess.call(convert_cmd)\n",
    "            if sc is 0:\n",
    "                print('Audio strip success!')\n",
    "            else:\n",
    "                print('ERROR: Audio strip failed!')\n",
    "        else:\n",
    "            print('ERROR: Rename failed!')"
   ]
  },
  {
   "cell_type": "markdown",
   "metadata": {},
   "source": [
    "As mentioned earlier, the audio stripping process introduces a slight offset in the mixed audio. So after reading in the bandhub_mix audio file titled 'premix.wav', we compute and compensate for this offset using both the estimated mixes and the compute_offset_and_shift function. Finally, we plot the difference spectrograms and calculate the root mean square error (rmse) between each of the estimated mixes and the bandhub mix. The estimated mix with the lower rmse is, therefore, more similar to the bandhub mix. <br>\n",
    "Executing this script over all the mixes with multiple mixing coefficients will prove which mixing coefficients to consider in the case that multiple mixing coefficients are present."
   ]
  },
  {
   "cell_type": "code",
   "execution_count": 115,
   "metadata": {},
   "outputs": [],
   "source": [
    "bandhub_mix, sr = sf.read('premix.wav')"
   ]
  },
  {
   "cell_type": "code",
   "execution_count": 116,
   "metadata": {},
   "outputs": [
    {
     "name": "stdout",
     "output_type": "stream",
     "text": [
      "(10144768,)\n",
      "(10144768,)\n",
      "RMSE for estimated mix using volume from settings: 129.8\n"
     ]
    },
    {
     "data": {
      "image/png": "[encoded data removed]",
      "text/plain": [
       "<matplotlib.figure.Figure at 0x2b0806173890>"
      ]
     },
     "metadata": {},
     "output_type": "display_data"
    }
   ],
   "source": [
    "estimated_mix, sr = sf.read('mixed.wav')\n",
    "estimated_mix_spec,bandhub_mix_spec = compute_offset_and_shift(estimated_mix, bandhub_mix, sr)\n",
    "root_mean_sq_error = plot_diff_spectrogram(estimated_mix_spec,bandhub_mix_spec)\n",
    "print('RMSE for estimated mix using volume from settings: '+str(root_mean_sq_error))"
   ]
  },
  {
   "cell_type": "code",
   "execution_count": null,
   "metadata": {},
   "outputs": [
    {
     "name": "stdout",
     "output_type": "stream",
     "text": [
      "(10144768,)\n",
      "(10144768,)\n"
     ]
    }
   ],
   "source": [
    "estimated_mix_ch, sr = sf.read('mixed_ch.wav')\n",
    "estimated_mix_ch_spec,bandhub_mix_spec = compute_offset_and_shift(estimated_mix_ch, bandhub_mix, sr)\n",
    "root_mean_sq_error = plot_diff_spectrogram(estimated_mix_ch_spec,bandhub_mix_spec)\n",
    "print('RMSE for estimated mix using volume from channels: '+str(root_mean_sq_error))"
   ]
  },
  {
   "cell_type": "markdown",
   "metadata": {},
   "source": [
    "## RMSE Distributions\n",
    "![alt-text-1](pnt3-500.png \"RMSE Distribution of 500 mixes with 3 published tracks\") \n",
    "![alt-text-2](pnt5-500.png \"RMSE Distribution of 500 mixes with 5 published tracks\")"
   ]
  },
  {
   "cell_type": "code",
   "execution_count": null,
   "metadata": {},
   "outputs": [],
   "source": []
  }
 ],
 "metadata": {
  "kernelspec": {
   "display_name": "Python 2",
   "language": "python",
   "name": "python2"
  },
  "language_info": {
   "codemirror_mode": {
    "name": "ipython",
    "version": 2
   },
   "file_extension": ".py",
   "mimetype": "text/x-python",
   "name": "python",
   "nbconvert_exporter": "python",
   "pygments_lexer": "ipython2",
   "version": "2.7.14"
  }
 },
 "nbformat": 4,
 "nbformat_minor": 2
}
